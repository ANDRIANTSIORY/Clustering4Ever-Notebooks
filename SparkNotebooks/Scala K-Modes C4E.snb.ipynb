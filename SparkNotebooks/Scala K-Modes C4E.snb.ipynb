{
  "metadata" : {
    "id" : "0231e0eb-10f7-4474-b003-10f507627bf7",
    "name" : "Scala K-Modes C4E",
    "user_save_timestamp" : "1970-01-01T01:00:00.000Z",
    "auto_save_timestamp" : "1970-01-01T01:00:00.000Z",
    "language_info" : {
      "name" : "scala",
      "file_extension" : "scala",
      "codemirror_mode" : "text/x-scala"
    },
    "trusted" : true,
    "sparkNotebook" : null,
    "customLocalRepo" : "${HOME}/.ivy2",
    "customRepos" : [
      "clustering4ever % default % http://dl.bintray.com/clustering4ever/Clustering4Ever % maven"
    ],
    "customDeps" : [
      "com.github.haifengl:smile-scala_2.11:1.5.0",
      "org.apache.sanselan % sanselan % 0.97-incubator",
      "clustering4ever % clustering4ever_2.11 % 0.3.7"
    ],
    "customImports" : null,
    "customArgs" : null,
    "customSparkConf" : null,
    "customVars" : null
  },
  "cells" : [
    {
      "metadata" : {
        "id" : "7D3630EE3422445087CE8DDA73ECCFC5"
      },
      "cell_type" : "markdown",
      "source" : "# [Clustering4Ever](https://github.com/Clustering4Ever/Clustering4Ever) on [SparkNotebook](http://spark-notebook.io/) by [LIPN](https://lipn.univ-paris13.fr/) [A3](https://lipn.univ-paris13.fr/accueil/equipe/a3/) team"
    },
    {
      "metadata" : {
        "id" : "9BE3CBFDDB324D29914085C97E53D087"
      },
      "cell_type" : "markdown",
      "source" : "# Scala _K_-Modes"
    },
    {
      "metadata" : {
        "trusted" : true,
        "input_collapsed" : false,
        "collapsed" : false,
        "id" : "2723CA508CC84A868DB0D63A7DB41C03"
      },
      "cell_type" : "code",
      "source" : [
        "import smile.plot._\n",
        "import clustering4ever.scala.clustering.kmodes.KModes\n",
        "import clustering4ever.math.distances.binary.{Hamming, Vari, MeanMahanttan}\n",
        "import _root_.scala.io.Source\n",
        "import smile.feature.Standardizer\n",
        "import smile.data.NumericAttribute\n",
        "import smile.data.Attribute.Type._\n",
        "import smile.plot._\n",
        "import smile.projection._\n",
        "import smile.manifold._\n",
        "import java.awt.Color"
      ],
      "outputs" : [
        {
          "name" : "stdout",
          "output_type" : "stream",
          "text" : "import smile.plot._\nimport clustering4ever.scala.clustering.kmodes.KModes\nimport clustering4ever.math.distances.binary.{Hamming, Vari, MeanMahanttan}\nimport _root_.scala.io.Source\nimport smile.feature.Standardizer\nimport smile.data.NumericAttribute\nimport smile.data.Attribute.Type._\nimport smile.plot._\nimport smile.projection._\nimport smile.manifold._\nimport java.awt.Color\n"
        },
        {
          "metadata" : { },
          "data" : {
            "text/html" : ""
          },
          "output_type" : "execute_result",
          "execution_count" : 1,
          "time" : "Took: 0.803s, at 2018-04-11 19:12"
        }
      ]
    },
    {
      "metadata" : {
        "id" : "4F491750B428478880CDE2D355C8F6AB"
      },
      "cell_type" : "markdown",
      "source" : "## Download dataset Digits"
    },
    {
      "metadata" : {
        "trusted" : true,
        "input_collapsed" : false,
        "collapsed" : false,
        "id" : "82D63794E5FC4BAB88918A51F289EC92"
      },
      "cell_type" : "code",
      "source" : [
        ":sh wget -P /tmp/ http://www.clustering4ever.org/Datasets/Digits/digits.csv\n",
        ":sh wget -P /tmp/ http://www.clustering4ever.org/Datasets/Digits/labels"
      ],
      "outputs" : [
        {
          "name" : "stdout",
          "output_type" : "stream",
          "text" : "--2018-04-11 19:12:06--  http://www.clustering4ever.org/Datasets/Digits/digits.csv\nResolving www.clustering4ever.org (www.clustering4ever.org)... 62.210.16.62\nConnecting to www.clustering4ever.org (www.clustering4ever.org)|62.210.16.62|:80... connected.\nHTTP request sent, awaiting response... 200 OK\nLength: 959999 (937K) [text/csv]\nSaving to: ‘/tmp/digits.csv’\n\n     0K .......... .......... .......... .......... ..........  5%  242K 4s\n    50K .......... .......... .......... .......... .......... 10%  240K 3s\n   100K .......... .......... .......... .......... .......... 16%  243K 3s\n   150K .......... .......... .......... .......... .......... 21%  243K 3s\n   200K .......... .......... .......... .......... .......... 26%  236K 3s\n   250K .......... .......... .......... .......... .......... 32%  243K 3s\n   300K .......... .......... .......... .......... .......... 37%  243K 2s\n   350K .......... .......... .......... .......... .......... 42%  237K 2s\n   400K .......... .......... .......... .......... .......... 48%  243K 2s\n   450K .......... .......... .......... .......... .......... 53%  237K 2s\n   500K .......... .......... .......... .......... .......... 58%  243K 2s\n   550K .......... .......... .......... .......... .......... 64%  242K 1s\n   600K .......... .......... .......... .......... .......... 69%  237K 1s\n   650K .......... .......... .......... .......... .......... 74%  243K 1s\n   700K .......... .......... .......... .......... .......... 80%  152K 1s\n   750K .......... .......... .......... .......... .......... 85%  142K 1s\n   800K .......... .......... .......... .......... .......... 90%  185K 0s\n   850K .......... .......... .......... .......... .......... 96%  244K 0s\n   900K .......... .......... .......... .......              100%  236K=4.2s\n\n2018-04-11 19:12:11 (222 KB/s) - ‘/tmp/digits.csv’ saved [959999/959999]\n\n:sh: Scheme missing.\n--2018-04-11 19:12:11--  http://wget/\nResolving wget (wget)... failed: Name or service not known.\nwget: unable to resolve host address ‘wget’\n--2018-04-11 19:12:11--  http://www.clustering4ever.org/Datasets/Digits/labels\nConnecting to www.clustering4ever.org (www.clustering4ever.org)|62.210.16.62|:80... connected.\nHTTP request sent, awaiting response... 200 OK\nLength: 4200 (4.1K)\nSaving to: ‘/tmp/labels’\n\n     0K ....                                                  100%  387K=0.01s\n\n2018-04-11 19:12:11 (387 KB/s) - ‘/tmp/labels’ saved [4200/4200]\n\nFINISHED --2018-04-11 19:12:11--\nTotal wall clock time: 4.3s\nDownloaded: 2 files, 942K in 4.2s (222 KB/s)\njava.lang.RuntimeException: Nonzero exit value: 4\n  at scala.sys.package$.error(package.scala:27)\n  at scala.sys.process.ProcessBuilderImpl$AbstractBuilder.slurp(ProcessBuilderImpl.scala:132)\n  at scala.sys.process.ProcessBuilderImpl$AbstractBuilder.$bang$bang(ProcessBuilderImpl.scala:103)\n  ... 73 elided\n"
        }
      ]
    },
    {
      "metadata" : {
        "id" : "4BEB170294834C8B92F180754CF0F42F"
      },
      "cell_type" : "markdown",
      "source" : "## Import data as Array[Array[Int]]"
    },
    {
      "metadata" : {
        "trusted" : true,
        "input_collapsed" : false,
        "collapsed" : false,
        "id" : "063B66723A63401CBC2F0A23BE2C2E18"
      },
      "cell_type" : "code",
      "source" : [
        "val path = \"/tmp/digits.csv\"\n",
        "val pathLabels = \"/tmp/labels\"\n",
        "val data = Source.fromFile(path).getLines.map(_.split(\",\").map(_.toInt)).toArray\n",
        "val goundTrueLabels = Source.fromFile(pathLabels).getLines.map(_.toInt).toArray"
      ],
      "outputs" : [
        {
          "name" : "stdout",
          "output_type" : "stream",
          "text" : "path: String = /tmp/digits.csv\npathLabels: String = /tmp/labels\ndata: Array[Array[Int]] = Array(Array(0, 1, 1, 1, 1, 1, 1, 1, 1, 1, 1, 1, 0, 0, 0, 1, 1, 1, 1, 1, 1, 1, 1, 1, 1, 1, 1, 1, 0, 0, 1, 1, 1, 1, 1, 0, 0, 0, 1, 1, 1, 1, 1, 1, 0, 1, 1, 1, 1, 0, 0, 0, 0, 0, 1, 1, 1, 1, 1, 0, 1, 1, 1, 1, 0, 0, 0, 0, 0, 1, 1, 1, 1, 1, 0, 1, 1, 1, 1, 0, 0, 0, 0, 0, 1, 1, 1, 1, 1, 0, 1, 1, 1, 1, 0, 0, 0, 0, 0, 0, 1, 1, 1, 1, 1, 1, 1, 1, 1, 0, 0, 0, 0, 0, 0, 1, 1, 1, 1, 1, 1, 1, 1, 1, 0, 0, 0, 0, 0, 0, 1, 1, 1, 1, 1, 1, 1, 1, 1, 0, 0, 0, 0, 0, 0, 1, 1, 1, 1, 1, 1, 1, 1, 1, 0, 0, 0, 0, 0, 1, 1, 1, 1, 1, 1, 1, 1, 1, 1, 0, 0, 0, 0, 0, 1, 1, 1, 1, 1, 0, 1, 1, 1, 1, 0, 0, 0, 0, 0, 1, 1, 1, 1, 1, 0, 1, 1, 1, 1, 1, 1, 0, 0, 1, 1, 1, 1, 1, 0, 0, 1, 1, 1, 1, 1, 1, 1, 1, 1, 1, 1, 1, 1, 0, 0, 0, 0, 1, 1, 1, 1, 1,..."
        },
        {
          "metadata" : { },
          "data" : {
            "text/html" : ""
          },
          "output_type" : "execute_result",
          "execution_count" : 3,
          "time" : "Took: 0.952s, at 2018-04-11 19:12"
        }
      ]
    },
    {
      "metadata" : {
        "id" : "DB906BE4458347E98566175F44A41B25"
      },
      "cell_type" : "markdown",
      "source" : "## Parameters "
    },
    {
      "metadata" : {
        "trusted" : true,
        "input_collapsed" : false,
        "collapsed" : false,
        "id" : "7B7F65B92A1849639D25B8260E8FC13D"
      },
      "cell_type" : "code",
      "source" : [
        "val k = 10\n",
        "val iterMax = 100\n",
        "val epsilon = 0.001\n",
        "val metric1 = new Hamming\n",
        "val metric2 = new MeanMahanttan\n",
        "val metric3 = new Vari"
      ],
      "outputs" : [
        {
          "name" : "stdout",
          "output_type" : "stream",
          "text" : "k: Int = 10\niterMax: Int = 100\nepsilon: Double = 0.001\nmetric1: clustering4ever.math.distances.binary.Hamming = clustering4ever.math.distances.binary.Hamming@57d32a69\nmetric2: clustering4ever.math.distances.binary.MeanMahanttan = clustering4ever.math.distances.binary.MeanMahanttan@6dba0bad\nmetric3: clustering4ever.math.distances.binary.Vari = clustering4ever.math.distances.binary.Vari@48add3f0\n"
        },
        {
          "metadata" : { },
          "data" : {
            "text/html" : ""
          },
          "output_type" : "execute_result",
          "execution_count" : 4,
          "time" : "Took: 0.621s, at 2018-04-11 19:12"
        }
      ]
    },
    {
      "metadata" : {
        "id" : "351DECE0EB4B4DAE8395D89284DABB26"
      },
      "cell_type" : "markdown",
      "source" : "## Run the algorithm"
    },
    {
      "metadata" : {
        "trusted" : true,
        "input_collapsed" : false,
        "collapsed" : false,
        "id" : "294D274BC10945F999626F121BA54C2F"
      },
      "cell_type" : "code",
      "source" : [
        "val model = KModes.run(data, k, epsilon, iterMax, metric1)\n",
        "val clusterized = data.map( v => (model.predict(v), v) )"
      ],
      "outputs" : [
        {
          "name" : "stdout",
          "output_type" : "stream",
          "text" : "model: clustering4ever.scala.clustering.kmodes.KModesModel = clustering4ever.scala.clustering.kmodes.KModesModel@16d3c4b7\nclusterized: Array[(model.ClusterID, Array[Int])] = Array((4,Array(0, 1, 1, 1, 1, 1, 1, 1, 1, 1, 1, 1, 0, 0, 0, 1, 1, 1, 1, 1, 1, 1, 1, 1, 1, 1, 1, 1, 0, 0, 1, 1, 1, 1, 1, 0, 0, 0, 1, 1, 1, 1, 1, 1, 0, 1, 1, 1, 1, 0, 0, 0, 0, 0, 1, 1, 1, 1, 1, 0, 1, 1, 1, 1, 0, 0, 0, 0, 0, 1, 1, 1, 1, 1, 0, 1, 1, 1, 1, 0, 0, 0, 0, 0, 1, 1, 1, 1, 1, 0, 1, 1, 1, 1, 0, 0, 0, 0, 0, 0, 1, 1, 1, 1, 1, 1, 1, 1, 1, 0, 0, 0, 0, 0, 0, 1, 1, 1, 1, 1, 1, 1, 1, 1, 0, 0, 0, 0, 0, 0, 1, 1, 1, 1, 1, 1, 1, 1, 1, 0, 0, 0, 0, 0, 0, 1, 1, 1, 1, 1, 1, 1, 1, 1, 0, 0, 0, 0, 0, 1, 1, 1, 1, 1, 1, 1, 1, 1, 1, 0, 0, 0, 0, 0, 1, 1, 1, 1, 1, 0, 1, 1, 1, 1, 0, 0, 0, 0, 0, 1, 1, 1, 1, 1, 0, 1, 1, 1, 1, 1, 1, 0, 0,..."
        },
        {
          "metadata" : { },
          "data" : {
            "text/html" : ""
          },
          "output_type" : "execute_result",
          "execution_count" : 5,
          "time" : "Took: 1.700s, at 2018-04-11 19:12"
        }
      ]
    },
    {
      "metadata" : {
        "id" : "75D83A1152AE494A8943132E772C517F"
      },
      "cell_type" : "markdown",
      "source" : "### Transform binary data into a grid to visualize it. Here a 15 x 16 grid for digits data"
    },
    {
      "metadata" : {
        "trusted" : true,
        "input_collapsed" : false,
        "collapsed" : false,
        "id" : "9DD362D187534AC58D796A2476EFA040"
      },
      "cell_type" : "code",
      "source" : [
        "val centroids = model.centroids.toArray\n",
        "val formatedCentroids = centroids.map(_._2).map(_.map(_.toDouble).grouped(15).toArray)"
      ],
      "outputs" : [
        {
          "name" : "stdout",
          "output_type" : "stream",
          "text" : "centroids: Array[(Int, Array[Int])] = Array((8,Array(0, 0, 1, 1, 1, 1, 1, 1, 1, 1, 1, 1, 1, 1, 0, 0, 1, 1, 1, 1, 1, 1, 1, 1, 1, 1, 1, 1, 1, 0, 1, 1, 1, 1, 1, 1, 1, 1, 1, 1, 1, 1, 1, 1, 1, 1, 1, 1, 1, 1, 1, 0, 0, 0, 1, 1, 1, 1, 1, 1, 1, 1, 1, 1, 1, 1, 0, 0, 0, 1, 1, 1, 1, 1, 1, 1, 1, 1, 1, 1, 1, 1, 1, 1, 1, 1, 1, 1, 1, 1, 0, 1, 1, 1, 1, 1, 1, 1, 1, 1, 1, 1, 1, 1, 1, 0, 0, 1, 1, 1, 1, 1, 1, 1, 1, 1, 1, 1, 1, 0, 0, 0, 0, 0, 0, 0, 0, 1, 1, 1, 1, 1, 1, 1, 0, 0, 0, 0, 0, 0, 0, 0, 0, 1, 1, 1, 1, 1, 1, 0, 0, 0, 0, 0, 0, 0, 0, 0, 0, 1, 1, 1, 1, 1, 0, 0, 0, 0, 0, 0, 0, 0, 0, 0, 1, 1, 1, 1, 1, 0, 0, 0, 0, 0, 0, 0, 0, 0, 1, 1, 1, 1, 1, 1, 0, 0, 0, 0, 0, 0, 0, 0, 1, 1, 1, 1, 1, 1, 1, 0, 0, 0, 0, 0, 0, 0, 0, 1, 1, 1, 1, 1, 1, 0, 0, 0, 0, 0, 0, 0, 0, 0, 1, 1, 1, 1, 1, 0, 0, 0)), (2,Array(0, 1, 1, 1, 1..."
        },
        {
          "metadata" : { },
          "data" : {
            "text/html" : ""
          },
          "output_type" : "execute_result",
          "execution_count" : 6,
          "time" : "Took: 0.841s, at 2018-04-11 19:12"
        }
      ]
    },
    {
      "metadata" : {
        "id" : "5550C9C24D804A41969553DB880FA709"
      },
      "cell_type" : "markdown",
      "source" : "### Visualize centroids"
    },
    {
      "metadata" : {
        "trusted" : true,
        "input_collapsed" : false,
        "collapsed" : false,
        "id" : "C0BE5A643DED41CB89B4004FFEF51F3F"
      },
      "cell_type" : "code",
      "source" : [
        "formatedCentroids.foreach( centroid => hexmap(centroid, Array(Palette.BLACK, Palette.LIGHT_GRAY)))"
      ],
      "outputs" : [
        {
          "metadata" : { },
          "data" : {
            "text/html" : ""
          },
          "output_type" : "execute_result",
          "execution_count" : 8,
          "time" : "Took: 2.693s, at 2018-04-11 19:19"
        }
      ]
    },
    {
      "metadata" : {
        "id" : "4D1745D0A92E46C9A9D17FE199E2B3D7"
      },
      "cell_type" : "markdown",
      "source" : "<p align=\"center\">\n<img src =\"http://www.clustering4ever.org/SparkNotebooksPictures/digits-centers-1.png\" width=\"300\" />\n<img src =\"http://www.clustering4ever.org/SparkNotebooksPictures/digits-centers-2.png\" width=\"300\" />\n<img src =\"http://www.clustering4ever.org/SparkNotebooksPictures/digits-centers-3.png\" width=\"300\" />\n<img src =\"http://www.clustering4ever.org/SparkNotebooksPictures/digits-centers-4.png\" width=\"160\" />\n</p>"
    },
    {
      "metadata" : {
        "id" : "44CE1D500444471AA391D7A8CDA4C01F"
      },
      "cell_type" : "markdown",
      "source" : "## Standardize data and apply a PCA on it"
    },
    {
      "metadata" : {
        "trusted" : true,
        "input_collapsed" : false,
        "collapsed" : false,
        "id" : "D9F740AA5DC14DAA85D06F16F35272D3"
      },
      "cell_type" : "code",
      "source" : [
        "val types = for( i <- (0 until data.head.size).toArray ) yield(new NumericAttribute(i.toString))\n",
        "\n",
        "val standardize = new Standardizer\n",
        "\n",
        "val dataAsDouble = data.map(_.map(_.toDouble))\n",
        "\n",
        "standardize.learn(types.toArray, dataAsDouble)\n",
        "\n",
        "val standardizedData = clusterized.map{ case (clusterID, v) => (clusterID, v.map(_.toDouble)) }"
      ],
      "outputs" : [
        {
          "name" : "stdout",
          "output_type" : "stream",
          "text" : "types: Array[smile.data.NumericAttribute] = Array(NUMERIC[0], NUMERIC[1], NUMERIC[2], NUMERIC[3], NUMERIC[4], NUMERIC[5], NUMERIC[6], NUMERIC[7], NUMERIC[8], NUMERIC[9], NUMERIC[10], NUMERIC[11], NUMERIC[12], NUMERIC[13], NUMERIC[14], NUMERIC[15], NUMERIC[16], NUMERIC[17], NUMERIC[18], NUMERIC[19], NUMERIC[20], NUMERIC[21], NUMERIC[22], NUMERIC[23], NUMERIC[24], NUMERIC[25], NUMERIC[26], NUMERIC[27], NUMERIC[28], NUMERIC[29], NUMERIC[30], NUMERIC[31], NUMERIC[32], NUMERIC[33], NUMERIC[34], NUMERIC[35], NUMERIC[36], NUMERIC[37], NUMERIC[38], NUMERIC[39], NUMERIC[40], NUMERIC[41], NUMERIC[42], NUMERIC[43], NUMERIC[44], NUMERIC[45], NUMERIC[46], NUMERIC[47], NUMERIC[48], NUMERIC[49], NUMERIC[50], NUMERIC[51], NUMERIC[52], NUMERIC[53], NUMERIC[54], NUMERIC[55], NUMERIC[56], NUMERIC[57], NUM..."
        },
        {
          "metadata" : { },
          "data" : {
            "text/html" : ""
          },
          "output_type" : "execute_result",
          "execution_count" : 9,
          "time" : "Took: 1.041s, at 2018-04-11 19:24"
        }
      ]
    },
    {
      "metadata" : {
        "trusted" : true,
        "input_collapsed" : false,
        "collapsed" : false,
        "id" : "A072ED82DAEF4354894B1ACA8B0CCC44"
      },
      "cell_type" : "code",
      "source" : [
        "val readyToPca = standardizedData.map(_._2)\n",
        "\n",
        "val pcaModel = pca(readyToPca)\n",
        "\n",
        "pcaModel.setProjection(3)\n",
        "\n",
        "val pcaizedData = standardizedData.map{ case (clusterID, v) => (clusterID, pcaModel.project(v)) }"
      ],
      "outputs" : [
        {
          "name" : "stdout",
          "output_type" : "stream",
          "text" : "readyToPca: Array[Array[Double]] = Array(Array(0.0, 1.0, 1.0, 1.0, 1.0, 1.0, 1.0, 1.0, 1.0, 1.0, 1.0, 1.0, 0.0, 0.0, 0.0, 1.0, 1.0, 1.0, 1.0, 1.0, 1.0, 1.0, 1.0, 1.0, 1.0, 1.0, 1.0, 1.0, 0.0, 0.0, 1.0, 1.0, 1.0, 1.0, 1.0, 0.0, 0.0, 0.0, 1.0, 1.0, 1.0, 1.0, 1.0, 1.0, 0.0, 1.0, 1.0, 1.0, 1.0, 0.0, 0.0, 0.0, 0.0, 0.0, 1.0, 1.0, 1.0, 1.0, 1.0, 0.0, 1.0, 1.0, 1.0, 1.0, 0.0, 0.0, 0.0, 0.0, 0.0, 1.0, 1.0, 1.0, 1.0, 1.0, 0.0, 1.0, 1.0, 1.0, 1.0, 0.0, 0.0, 0.0, 0.0, 0.0, 1.0, 1.0, 1.0, 1.0, 1.0, 0.0, 1.0, 1.0, 1.0, 1.0, 0.0, 0.0, 0.0, 0.0, 0.0, 0.0, 1.0, 1.0, 1.0, 1.0, 1.0, 1.0, 1.0, 1.0, 1.0, 0.0, 0.0, 0.0, 0.0, 0.0, 0.0, 1.0, 1.0, 1.0, 1.0, 1.0, 1.0, 1.0, 1.0, 1.0, 0.0, 0.0, 0.0, 0.0, 0.0, 0.0, 1.0, 1.0, 1.0, 1.0, 1.0, 1.0, 1.0, 1.0, 1.0, 0.0, 0.0, 0.0, 0.0, 0.0, 0.0, 1.0, 1.0, 1.0, 1.0, 1.0, ..."
        },
        {
          "metadata" : { },
          "data" : {
            "text/html" : ""
          },
          "output_type" : "execute_result",
          "execution_count" : 10,
          "time" : "Took: 2.585s, at 2018-04-11 19:24"
        }
      ]
    },
    {
      "metadata" : {
        "trusted" : true,
        "input_collapsed" : false,
        "collapsed" : false,
        "id" : "7B84A761EE9A49DAA52B2E48BC936981"
      },
      "cell_type" : "code",
      "source" : [
        "val pureData = pcaizedData.map(_._2)\n",
        "val labels = pcaizedData.map(_._1)\n",
        "val pcizedCentroids = centroids.map{ case (_, centroid) =>  (Int.MaxValue, pcaModel.project(standardize.transform(centroid.map(_.toDouble)))) }"
      ],
      "outputs" : [
        {
          "name" : "stdout",
          "output_type" : "stream",
          "text" : "pureData: Array[Array[Double]] = Array(Array(0.8581670566923537, 4.491446006457944, 1.3492074366872653), Array(0.3812071416844144, 3.2096660209117225, 0.030868635243768594), Array(2.040289609732212, 3.281287381274164, 0.5883708950800963), Array(0.6009966267867405, 3.1202592201212456, 1.039892669726206), Array(2.188639715061769, 3.017027197526276, 0.15057016702522696), Array(0.33402248854777394, -1.0384366071886362, -0.9078965691317149), Array(2.0582940809526598, 4.122284171373905, 1.9544274974383697), Array(1.5809368270391944, 3.7739566822936377, 1.2726865712592756), Array(1.8419422874284388, 4.275665793297685, 1.8050967388646428), Array(1.2835788275741016, 3.3133122571689695, 1.8535870004193489), Array(1.563510656399107, 3.079184695975594, 0.9349226924825416), Array(2.0847380739786225,..."
        },
        {
          "metadata" : { },
          "data" : {
            "text/html" : ""
          },
          "output_type" : "execute_result",
          "execution_count" : 11,
          "time" : "Took: 0.611s, at 2018-04-11 19:24"
        }
      ]
    },
    {
      "metadata" : {
        "trusted" : true,
        "input_collapsed" : false,
        "collapsed" : false,
        "id" : "24A032582F064CC9813146E65BD507C3"
      },
      "cell_type" : "code",
      "source" : [
        "plot(pureData, labels, '.', Palette.COLORS)"
      ],
      "outputs" : [
        {
          "name" : "stdout",
          "output_type" : "stream",
          "text" : "res15: smile.plot.Window = Window(javax.swing.JFrame[frame0,460,53,1000x1000,invalid,layout=java.awt.BorderLayout,title=Smile Plot 21,resizable,normal,defaultCloseOperation=DISPOSE_ON_CLOSE,rootPane=javax.swing.JRootPane[,5,25,990x970,invalid,layout=javax.swing.JRootPane$RootLayout,alignmentX=0.0,alignmentY=0.0,border=,flags=16777673,maximumSize=,minimumSize=,preferredSize=],rootPaneCheckingEnabled=true],smile.plot.PlotCanvas[,0,0,0x0,invalid,layout=java.awt.BorderLayout,alignmentX=0.0,alignmentY=0.0,border=,flags=9,maximumSize=,minimumSize=,preferredSize=])\n"
        },
        {
          "metadata" : { },
          "data" : {
            "text/html" : "Window(javax.swing.JFrame[frame0,460,53,1000x1000,layout=java.awt.BorderLayout,title=Smile Plot 21,resizable,normal,defaultCloseOperation=DISPOSE_ON_CLOSE,rootPane=javax.swing.JRootPane[,0,34,1000x966,layout=javax.swing.JRootPane$RootLayout,alignmentX=0.0,alignmentY=0.0,border=,flags=16777675,maximumSize=,minimumSize=,preferredSize=],rootPaneCheckingEnabled=true],smile.plot.PlotCanvas[,0,0,1000x966,layout=java.awt.BorderLayout,alignmentX=0.0,alignmentY=0.0,border=,flags=11,maximumSize=,minimumSize=,preferredSize=])"
          },
          "output_type" : "execute_result",
          "execution_count" : 12,
          "time" : "Took: 0.688s, at 2018-04-11 19:24"
        }
      ]
    },
    {
      "metadata" : {
        "id" : "F2DA199C58C6459D81458F4A34A9FC0E"
      },
      "cell_type" : "markdown",
      "source" : "<p align=\"center\">\n<img src =\"http://www.clustering4ever.org/SparkNotebooksPictures/digits-pca3.png\" width=\"500\" />\n</p>"
    },
    {
      "metadata" : {
        "trusted" : true,
        "input_collapsed" : false,
        "collapsed" : false,
        "id" : "D0B4468AD5314C098EC9C51AED2DFA13"
      },
      "cell_type" : "code",
      "source" : [
        "val window = plot(pureData, labels, '.', Palette.COLORS)\n",
        "window.canvas.points(\"centroid\", pcizedCentroids.map(_._2), 'Q', Color.BLACK)"
      ],
      "outputs" : [
        {
          "name" : "stdout",
          "output_type" : "stream",
          "text" : "window: smile.plot.Window = Window(javax.swing.JFrame[frame1,460,53,1000x1000,invalid,layout=java.awt.BorderLayout,title=Smile Plot 22,resizable,normal,defaultCloseOperation=DISPOSE_ON_CLOSE,rootPane=javax.swing.JRootPane[,5,25,990x970,invalid,layout=javax.swing.JRootPane$RootLayout,alignmentX=0.0,alignmentY=0.0,border=,flags=16777673,maximumSize=,minimumSize=,preferredSize=],rootPaneCheckingEnabled=true],smile.plot.PlotCanvas[,0,0,0x0,invalid,layout=java.awt.BorderLayout,alignmentX=0.0,alignmentY=0.0,border=,flags=9,maximumSize=,minimumSize=,preferredSize=])\nres17: smile.plot.ScatterPlot = smile.plot.ScatterPlot@392bcc56\n"
        },
        {
          "metadata" : { },
          "data" : {
            "text/html" : "smile.plot.ScatterPlot@392bcc56"
          },
          "output_type" : "execute_result",
          "execution_count" : 13,
          "time" : "Took: 0.696s, at 2018-04-11 19:25"
        }
      ]
    },
    {
      "metadata" : {
        "id" : "8C65FA084E1B4C748B4D60002C07AE4D"
      },
      "cell_type" : "markdown",
      "source" : "## Visualization with t-sne"
    },
    {
      "metadata" : {
        "trusted" : true,
        "input_collapsed" : false,
        "collapsed" : false,
        "id" : "C93A5C822CB24619B8D89804171B93D6"
      },
      "cell_type" : "code",
      "source" : [
        "val sne = tsne(readyToPca, 3)"
      ],
      "outputs" : [
        {
          "name" : "stderr",
          "output_type" : "stream",
          "text" : "The cell was cancelled.\n"
        }
      ]
    },
    {
      "metadata" : {
        "trusted" : true,
        "input_collapsed" : false,
        "collapsed" : false,
        "id" : "E6A33F4229C5498F9A9C25C56EB1DACC"
      },
      "cell_type" : "code",
      "source" : [
        "plot(sne.getCoordinates, labels, '.', Palette.COLORS)"
      ],
      "outputs" : [
        {
          "name" : "stderr",
          "output_type" : "stream",
          "text" : "The cell was cancelled.\n"
        }
      ]
    },
    {
      "metadata" : {
        "id" : "5580D2527AF84F359660B358796B1CD7"
      },
      "cell_type" : "markdown",
      "source" : "## Include centroids "
    },
    {
      "metadata" : {
        "trusted" : true,
        "input_collapsed" : false,
        "collapsed" : false,
        "id" : "EE07C78BFAA04C119F848AFA8BDECFAA"
      },
      "cell_type" : "code",
      "source" : [
        "val readyTsneCentroids = centroids.map{ case (_, centroid) =>  (Int.MaxValue, standardize.transform(centroid.map(_.toDouble))) }\n",
        "\n",
        "val readyToTsne = readyToPca ++ readyTsneCentroids.map(_._2)"
      ],
      "outputs" : [
        {
          "name" : "stdout",
          "output_type" : "stream",
          "text" : "readyTsneCentroids: Array[(Int, Array[Double])] = Array((2147483647,Array(-0.4691973206300246, -0.724769091822159, 0.9947636535218598, 0.7311989859280826, 0.5818236344745712, 0.4731577041265375, 0.4050460242033411, 0.3752743814604061, 0.3838921816267829, 0.45004943939012954, 0.5440847285433487, 0.7135679682293894, 0.9789711063317041, 1.3373502079861348, -0.4818399603409751, -0.6701124716326963, 0.9433525261840586, 0.6889766255545046, 0.5386811852615968, 0.4419949476766309, 0.36391836974993397, 0.30373202063736837, 0.2784733628071156, 0.3076416819747157, 0.3577255499568549, 0.42899948314926056, 0.5502546049722432, 0.7040158872382919, 0.9653501780098116, -0.6646353033940223, 1.4165151032000982, 0.866566690088696, 0.6622910964242819, 0.5502546049722432, 0.4620448429462271, 0.45004943939012..."
        },
        {
          "metadata" : { },
          "data" : {
            "text/html" : ""
          },
          "output_type" : "execute_result",
          "execution_count" : 15,
          "time" : "Took: 0.698s, at 2018-04-11 19:26"
        }
      ]
    },
    {
      "metadata" : {
        "trusted" : true,
        "input_collapsed" : false,
        "collapsed" : false,
        "id" : "F2CFDB9BA525483887B286C3FAB73934"
      },
      "cell_type" : "code",
      "source" : [
        "val sne2 = tsne(readyToTsne, 3)"
      ],
      "outputs" : [
        {
          "name" : "stdout",
          "output_type" : "stream",
          "text" : "sne2: smile.manifold.TSNE = smile.manifold.TSNE@b91ff6e\n"
        },
        {
          "metadata" : { },
          "data" : {
            "text/html" : ""
          },
          "output_type" : "execute_result",
          "execution_count" : 16,
          "time" : "Took: 33.050s, at 2018-04-11 19:27"
        }
      ]
    },
    {
      "metadata" : {
        "trusted" : true,
        "input_collapsed" : false,
        "collapsed" : false,
        "id" : "EBCB80FB919E4364862FA7877D678EC8"
      },
      "cell_type" : "code",
      "source" : [
        "val dataTsne = sne2.getCoordinates.take(data.size)\n",
        "val dataCentroids = sne2.getCoordinates.takeRight(10)\n",
        "\n",
        "val window = plot(dataTsne, labels, '.', Palette.COLORS)\n",
        "window.canvas.points(\"centroid\", dataCentroids, 'Q', Color.BLACK)"
      ],
      "outputs" : [
        {
          "name" : "stdout",
          "output_type" : "stream",
          "text" : "dataTsne: Array[Array[Double]] = Array(Array(14.396752073331363, 9.879109095512822, -22.360007207972252), Array(11.940270306033522, 14.424498267916109, -21.431903045632883), Array(16.332437227650704, 6.891276928239341, -18.189229593295675), Array(12.22939752520155, 9.091118347304327, -17.4977518639024), Array(13.893204243005089, 15.789059888290014, -17.883220431042098), Array(15.960542745465082, -9.977646618905384, 8.21187843704317), Array(18.602964420559054, 10.736824078733123, -19.729141087616046), Array(13.698158948391539, 13.21930096709109, -21.77021247297912), Array(17.429646240389015, 11.06220760651238, -22.373584301931164), Array(17.338462227307133, 8.461468738319118, -18.586800326265774), Array(17.503768032295397, 13.2625406674949, -17.98575768121122), Array(14.921059753154296, ..."
        },
        {
          "metadata" : { },
          "data" : {
            "text/html" : "smile.plot.ScatterPlot@6610d408"
          },
          "output_type" : "execute_result",
          "execution_count" : 17,
          "time" : "Took: 0.683s, at 2018-04-11 19:27"
        }
      ]
    },
    {
      "metadata" : {
        "id" : "1B2D48C2E63B48A79213DB580DD3C116"
      },
      "cell_type" : "markdown",
      "source" : "<p align=\"center\">\n<img src =\"http://www.clustering4ever.org/SparkNotebooksPictures/digits-tsne3.png\" width=\"500\" />\n</p>"
    }
  ],
  "nbformat" : 4
}