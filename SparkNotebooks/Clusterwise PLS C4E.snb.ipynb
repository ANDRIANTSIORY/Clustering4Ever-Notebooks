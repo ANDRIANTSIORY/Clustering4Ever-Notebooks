{
  "metadata" : {
    "id" : "fb4e17bc-b2a5-443a-adb8-594809ccc4da",
    "name" : "Clusterwise PLS C4E",
    "user_save_timestamp" : "1970-01-01T07:00:00.000Z",
    "auto_save_timestamp" : "1970-01-01T07:00:00.000Z",
    "language_info" : {
      "name" : "scala",
      "file_extension" : "scala",
      "codemirror_mode" : "text/x-scala"
    },
    "trusted" : true,
    "sparkNotebook" : null,
    "customLocalRepo" : null,
    "customRepos" : [
      "clustering4ever % default % http://dl.bintray.com/clustering4ever/Clustering4Ever % maven"
    ],
    "customDeps" : [
      "clustering4ever % clustering4ever_2.11 % 0.6.3"
    ],
    "customImports" : null,
    "customArgs" : null,
    "customSparkConf" : {
      "spark.driver.memory" : "5g"
    },
    "customVars" : null
  },
  "cells" : [
    {
      "metadata" : {
        "id" : "7AEB05514E2F4E01A85FBB6EF6F89F7A"
      },
      "cell_type" : "markdown",
      "source" : "# [Clustering4Ever](https://github.com/Clustering4Ever/Clustering4Ever) on [SparkNotebook](http://spark-notebook.io/) by [LIPN](https://lipn.univ-paris13.fr/) [A3](https://lipn.univ-paris13.fr/accueil/equipe/a3/) team"
    },
    {
      "metadata" : {
        "id" : "EAFAEFF8A91E452E9315A7C3829D11FF"
      },
      "cell_type" : "markdown",
      "source" : "# Clusterwise PLS"
    },
    {
      "metadata" : {
        "trusted" : true,
        "input_collapsed" : false,
        "collapsed" : false,
        "id" : "361882DDBB324A1B9EECEC7B86ACF36B"
      },
      "cell_type" : "code",
      "source" : [
        "import clustering4ever.spark.clustering.clusterwise.{Clusterwise, ClusterwiseCore, PLS, ClusterwiseModel}\n",
        "import scala.collection.{mutable, immutable}"
      ],
      "outputs" : [
        {
          "name" : "stdout",
          "output_type" : "stream",
          "text" : "import clustering4ever.spark.clustering.clusterwise.{Clusterwise, ClusterwiseCore, PLS, ClusterwiseModel}\nimport scala.collection.{mutable, immutable}\n"
        },
        {
          "metadata" : { },
          "data" : {
            "text/html" : ""
          },
          "output_type" : "execute_result",
          "execution_count" : 1,
          "time" : "Took: 1.132s, at 2018-09-06 07:44"
        }
      ]
    },
    {
      "metadata" : {
        "trusted" : true,
        "input_collapsed" : false,
        "collapsed" : false,
        "id" : "7B869CA697E844FE97C92C1A0D8505F7"
      },
      "cell_type" : "code",
      "source" : [
        ":sh wget -P /tmp/ http://www.clustering4ever.org/Datasets/Clusterwise/simdata.csv"
      ],
      "outputs" : [
        {
          "name" : "stdout",
          "output_type" : "stream",
          "text" : "--2018-09-06 07:44:18--  http://www.clustering4ever.org/Datasets/Clusterwise/simdata.csv\nResolving www.clustering4ever.org (www.clustering4ever.org)... 62.210.16.62\nConnecting to www.clustering4ever.org (www.clustering4ever.org)|62.210.16.62|:80... connected.\nHTTP request sent, awaiting response... 200 OK\nLength: 61840 (60K) [text/csv]\nSaving to: ‘/tmp/simdata.csv.6’\n\n     0K .......... .......... .......... .......... .......... 82%  542K 0s\n    50K ..........                                            100%  559K=0.1s\n\n2018-09-06 07:44:18 (545 KB/s) - ‘/tmp/simdata.csv.6’ saved [61840/61840]\n\n\nimport sys.process._\n"
        },
        {
          "metadata" : { },
          "data" : {
            "text/plain" : ""
          },
          "output_type" : "execute_result",
          "execution_count" : 2,
          "time" : "Took: 1.961s, at 2018-09-06 07:44"
        }
      ]
    },
    {
      "metadata" : {
        "trusted" : true,
        "input_collapsed" : false,
        "collapsed" : false,
        "id" : "58083E2F2A81418288F6A1EC36218173"
      },
      "cell_type" : "code",
      "source" : [
        "val dataXY = scala.io.Source.fromFile(\"/tmp/simdata.csv\")\n",
        "  .getLines\n",
        "  .toSeq\n",
        "  .map(_.split(',').map(_.toDouble))\n",
        "  .map( a => (mutable.ArrayBuffer(a.take(10):_*), mutable.ArrayBuffer(a.takeRight(3):_*)) )\n",
        "  .zipWithIndex\n",
        "  .map{ case(xy,idx) => (idx, xy) }\n",
        "  .toBuffer"
      ],
      "outputs" : [
        {
          "name" : "stdout",
          "output_type" : "stream",
          "text" : "dataXY: scala.collection.mutable.Buffer[(Int, (scala.collection.mutable.ArrayBuffer[Double], scala.collection.mutable.ArrayBuffer[Double]))] = ArrayBuffer((0,(ArrayBuffer(4.058845733, 6.405834969, 4.943772245, 4.191393637, 5.691694039, 6.18161279, 6.182385889, 5.982450545, 6.139507172, 7.42310638),ArrayBuffer(6.508480628, 6.009293422, 6.61563233))), (1,(ArrayBuffer(5.102442757, 4.716437077, 4.692925255, 4.839302826, 4.02386069, 2.158591158, 2.901072862, 2.816463237, 3.501312504, 3.084936398),ArrayBuffer(5.238588818, 5.070952054, 5.370006441))), (2,(ArrayBuffer(4.766958169, 4.838583906, 6.485887384, 4.404467358, 5.211054103, 4.865929818, 5.278244008, 4.604447037, 4.98848043, 4.768183695),ArrayBuffer(5.917350113, 5.666997815, 6.045082662))), (3,(ArrayBuffer(6.138171718, 4.494158628, 3.410..."
        },
        {
          "metadata" : { },
          "data" : {
            "text/html" : ""
          },
          "output_type" : "execute_result",
          "execution_count" : 3,
          "time" : "Took: 1.345s, at 2018-09-06 07:44"
        }
      ]
    },
    {
      "metadata" : {
        "id" : "A4805598BDAA4F648643F86933261DD8"
      },
      "cell_type" : "markdown",
      "source" : "## Run a full Clusterwise\n### Parameters"
    },
    {
      "metadata" : {
        "trusted" : true,
        "input_collapsed" : false,
        "collapsed" : false,
        "id" : "A95C7BF846A342BF8504D9FCAECEC04F"
      },
      "cell_type" : "code",
      "source" : [
        "val init = 20\n",
        "val nbCV = 10\n",
        "val g = 4\n",
        "val h = 2\n",
        "val sizeBloc = 10\n",
        "val kPred = 25\n",
        "val nbLaunch = 1\n",
        "val standardization = true\n",
        "val withY = false"
      ],
      "outputs" : [
        {
          "name" : "stdout",
          "output_type" : "stream",
          "text" : "init: Int = 20\nnbCV: Int = 10\ng: Int = 4\nh: Int = 2\nsizeBloc: Int = 10\nkPred: Int = 25\nnbLaunch: Int = 1\nstandardization: Boolean = true\nwithY: Boolean = false\n"
        },
        {
          "metadata" : { },
          "data" : {
            "text/html" : ""
          },
          "output_type" : "execute_result",
          "execution_count" : 4,
          "time" : "Took: 0.686s, at 2018-09-06 07:44"
        }
      ]
    },
    {
      "metadata" : {
        "trusted" : true,
        "input_collapsed" : false,
        "collapsed" : false,
        "id" : "9AC6DDB5C3514697BC44611695E8BA27"
      },
      "cell_type" : "code",
      "source" : [
        "val t0 = System.currentTimeMillis\n",
        "val (sqrmseCalAndVal, _) = Clusterwise.run(sc, dataXY, g, h, nbCV, init, kPred, withY, standardization, sizeBloc)\n",
        "val t1 = System.currentTimeMillis\n",
        "\n",
        "(t1 - t0) / 1000D"
      ],
      "outputs" : [
        {
          "name" : "stdout",
          "output_type" : "stream",
          "text" : "t0: Long = 1536212662253\nsqrmseCalAndVal: Array[(Double, Double)] = Array((0.10898153264509004,33.390457071885265), (0.09871288933651311,25.953280443936347), (0.09877619885832029,23.10516150190445), (0.10683534322685499,30.056511196789533), (0.0997937328223847,20.856128054233917), (0.10976706786168289,29.361546615989724), (0.09894486907269856,30.075362325927326), (0.11483264499933633,26.535323832259355), (0.09718350695711457,24.994988180042924), (0.10571966544172433,26.48731091975559))\nt1: Long = 1536212682079\nres6: Double = 19.826\n"
        },
        {
          "metadata" : { },
          "data" : {
            "text/html" : "19.826"
          },
          "output_type" : "execute_result",
          "execution_count" : 5,
          "time" : "Took: 20.812s, at 2018-09-06 07:44"
        }
      ]
    },
    {
      "metadata" : {
        "trusted" : true,
        "input_collapsed" : false,
        "collapsed" : false,
        "presentation" : {
          "tabs_state" : "{\n  \"tab_id\": \"#tab222763607-0\"\n}",
          "pivot_chart_state" : "{\n  \"hiddenAttributes\": [],\n  \"menuLimit\": 200,\n  \"cols\": [],\n  \"rows\": [],\n  \"vals\": [],\n  \"exclusions\": {},\n  \"inclusions\": {},\n  \"unusedAttrsVertical\": 85,\n  \"autoSortUnusedAttrs\": false,\n  \"inclusionsInfo\": {},\n  \"aggregatorName\": \"Count\",\n  \"rendererName\": \"Table\"\n}"
        },
        "id" : "1381098728D4439C8A4992CE8B0780E2"
      },
      "cell_type" : "code",
      "source" : [
        "sqrmseCalAndVal"
      ],
      "outputs" : [
        {
          "name" : "stdout",
          "output_type" : "stream",
          "text" : "res8: Array[(Double, Double)] = Array((0.10898153264509004,33.390457071885265), (0.09871288933651311,25.953280443936347), (0.09877619885832029,23.10516150190445), (0.10683534322685499,30.056511196789533), (0.0997937328223847,20.856128054233917), (0.10976706786168289,29.361546615989724), (0.09894486907269856,30.075362325927326), (0.11483264499933633,26.535323832259355), (0.09718350695711457,24.994988180042924), (0.10571966544172433,26.48731091975559))\n"
        },
        {
          "metadata" : { },
          "data" : {
            "text/html" : "<div>\n      <script data-this=\"{&quot;dataId&quot;:&quot;anon5e86b0bf9ae944bf9264ff3165dae160&quot;,&quot;dataInit&quot;:[],&quot;genId&quot;:&quot;222763607&quot;}\" type=\"text/x-scoped-javascript\">/*<![CDATA[*/req(['../javascripts/notebook/playground','../javascripts/notebook/magic/tabs'], \n      function(playground, _magictabs) {\n        // data ==> data-this (in observable.js's scopedEval) ==> this in JS => { dataId, dataInit, ... }\n        // this ==> scope (in observable.js's scopedEval) ==> this.parentElement ==> div.container below (toHtml)\n\n        playground.call(data,\n                        this\n                        ,\n                        {\n    \"f\": _magictabs,\n    \"o\": {}\n  }\n  \n                        \n                        \n                      );\n      }\n    );/*]]>*/</script>\n    <div>\n      <div>\n        <ul class=\"nav nav-tabs\" id=\"ul222763607\"><li>\n              <a href=\"#tab222763607-0\"><i class=\"fa fa-table\"/></a>\n            </li><li>\n              <a href=\"#tab222763607-1\"><i class=\"fa fa-dot-circle-o\"/></a>\n            </li><li>\n              <a href=\"#tab222763607-2\"><i class=\"fa fa-line-chart\"/></a>\n            </li><li>\n              <a href=\"#tab222763607-3\"><i class=\"fa fa-bar-chart\"/></a>\n            </li><li>\n              <a href=\"#tab222763607-4\"><i class=\"fa fa-cubes\"/></a>\n            </li></ul>\n\n        <div class=\"tab-content\" id=\"tab222763607\"><div class=\"tab-pane\" id=\"tab222763607-0\">\n            <div>\n      <script data-this=\"{&quot;dataId&quot;:&quot;anon52b772e77645162c6216332cd5f6d8f0&quot;,&quot;dataInit&quot;:[{&quot;_1&quot;:0.10898153264509004,&quot;_2&quot;:33.390457071885265},{&quot;_1&quot;:0.09871288933651311,&quot;_2&quot;:25.953280443936347},{&quot;_1&quot;:0.09877619885832029,&quot;_2&quot;:23.10516150190445},{&quot;_1&quot;:0.10683534322685499,&quot;_2&quot;:30.056511196789533},{&quot;_1&quot;:0.0997937328223847,&quot;_2&quot;:20.856128054233917},{&quot;_1&quot;:0.10976706786168289,&quot;_2&quot;:29.361546615989724},{&quot;_1&quot;:0.09894486907269856,&quot;_2&quot;:30.075362325927326},{&quot;_1&quot;:0.11483264499933633,&quot;_2&quot;:26.535323832259355},{&quot;_1&quot;:0.09718350695711457,&quot;_2&quot;:24.994988180042924},{&quot;_1&quot;:0.10571966544172433,&quot;_2&quot;:26.48731091975559}],&quot;genId&quot;:&quot;678063275&quot;}\" type=\"text/x-scoped-javascript\">/*<![CDATA[*/req(['../javascripts/notebook/playground','../javascripts/notebook/magic/tableChart'], \n      function(playground, _magictableChart) {\n        // data ==> data-this (in observable.js's scopedEval) ==> this in JS => { dataId, dataInit, ... }\n        // this ==> scope (in observable.js's scopedEval) ==> this.parentElement ==> div.container below (toHtml)\n\n        playground.call(data,\n                        this\n                        ,\n                        {\n    \"f\": _magictableChart,\n    \"o\": {\"headers\":[\"_1\",\"_2\"],\"width\":600,\"height\":400}\n  }\n  \n                        \n                        \n                      );\n      }\n    );/*]]>*/</script>\n    <div>\n      <span class=\"chart-total-item-count\"><p data-bind=\"text: value\"><script data-this=\"{&quot;valueId&quot;:&quot;anon561088e13824b487bf0e6060dee1d333&quot;,&quot;initialValue&quot;:&quot;10&quot;}\" type=\"text/x-scoped-javascript\">/*<![CDATA[*/\nreq(\n['observable', 'knockout'],\nfunction (O, ko) {\n  ko.applyBindings({\n      value: O.makeObservable(valueId, initialValue)\n    },\n    this\n  );\n});\n        /*]]>*/</script></p> entries total</span>\n      <span class=\"chart-sampling-warning\"><p data-bind=\"text: value\"><script data-this=\"{&quot;valueId&quot;:&quot;anon3e9444b87a9752d592d739bde0f48956&quot;,&quot;initialValue&quot;:&quot;&quot;}\" type=\"text/x-scoped-javascript\">/*<![CDATA[*/\nreq(\n['observable', 'knockout'],\nfunction (O, ko) {\n  ko.applyBindings({\n      value: O.makeObservable(valueId, initialValue)\n    },\n    this\n  );\n});\n        /*]]>*/</script></p></span>\n      <div>\n      </div>\n    </div></div>\n            </div><div class=\"tab-pane\" id=\"tab222763607-1\">\n            <div>\n      <script data-this=\"{&quot;dataId&quot;:&quot;anon765822f59d10cf279b8b14120f1d6971&quot;,&quot;dataInit&quot;:[{&quot;_1&quot;:0.10898153264509004,&quot;_2&quot;:33.390457071885265},{&quot;_1&quot;:0.09871288933651311,&quot;_2&quot;:25.953280443936347},{&quot;_1&quot;:0.09877619885832029,&quot;_2&quot;:23.10516150190445},{&quot;_1&quot;:0.10683534322685499,&quot;_2&quot;:30.056511196789533},{&quot;_1&quot;:0.0997937328223847,&quot;_2&quot;:20.856128054233917},{&quot;_1&quot;:0.10976706786168289,&quot;_2&quot;:29.361546615989724},{&quot;_1&quot;:0.09894486907269856,&quot;_2&quot;:30.075362325927326},{&quot;_1&quot;:0.11483264499933633,&quot;_2&quot;:26.535323832259355},{&quot;_1&quot;:0.09718350695711457,&quot;_2&quot;:24.994988180042924},{&quot;_1&quot;:0.10571966544172433,&quot;_2&quot;:26.48731091975559}],&quot;genId&quot;:&quot;819249596&quot;}\" type=\"text/x-scoped-javascript\">/*<![CDATA[*/req(['../javascripts/notebook/playground','../javascripts/notebook/magic/scatterChart'], \n      function(playground, _magicscatterChart) {\n        // data ==> data-this (in observable.js's scopedEval) ==> this in JS => { dataId, dataInit, ... }\n        // this ==> scope (in observable.js's scopedEval) ==> this.parentElement ==> div.container below (toHtml)\n\n        playground.call(data,\n                        this\n                        ,\n                        {\n    \"f\": _magicscatterChart,\n    \"o\": {\"x\":\"_1\",\"y\":\"_2\",\"width\":600,\"height\":400}\n  }\n  \n                        \n                        \n                      );\n      }\n    );/*]]>*/</script>\n    <div>\n      <span class=\"chart-total-item-count\"><p data-bind=\"text: value\"><script data-this=\"{&quot;valueId&quot;:&quot;anonb4959fe3e7a1d8c6fef6c2b2f225c79f&quot;,&quot;initialValue&quot;:&quot;10&quot;}\" type=\"text/x-scoped-javascript\">/*<![CDATA[*/\nreq(\n['observable', 'knockout'],\nfunction (O, ko) {\n  ko.applyBindings({\n      value: O.makeObservable(valueId, initialValue)\n    },\n    this\n  );\n});\n        /*]]>*/</script></p> entries total</span>\n      <span class=\"chart-sampling-warning\"><p data-bind=\"text: value\"><script data-this=\"{&quot;valueId&quot;:&quot;anon843dd05dc9259ebcd2ceb8d7fe2883a5&quot;,&quot;initialValue&quot;:&quot;&quot;}\" type=\"text/x-scoped-javascript\">/*<![CDATA[*/\nreq(\n['observable', 'knockout'],\nfunction (O, ko) {\n  ko.applyBindings({\n      value: O.makeObservable(valueId, initialValue)\n    },\n    this\n  );\n});\n        /*]]>*/</script></p></span>\n      <div>\n      </div>\n    </div></div>\n            </div><div class=\"tab-pane\" id=\"tab222763607-2\">\n            <div>\n      <script data-this=\"{&quot;dataId&quot;:&quot;anon4fe32f7bbed6ab0505fac2859b325597&quot;,&quot;dataInit&quot;:[{&quot;_1&quot;:0.10898153264509004,&quot;_2&quot;:33.390457071885265},{&quot;_1&quot;:0.09871288933651311,&quot;_2&quot;:25.953280443936347},{&quot;_1&quot;:0.09877619885832029,&quot;_2&quot;:23.10516150190445},{&quot;_1&quot;:0.10683534322685499,&quot;_2&quot;:30.056511196789533},{&quot;_1&quot;:0.0997937328223847,&quot;_2&quot;:20.856128054233917},{&quot;_1&quot;:0.10976706786168289,&quot;_2&quot;:29.361546615989724},{&quot;_1&quot;:0.09894486907269856,&quot;_2&quot;:30.075362325927326},{&quot;_1&quot;:0.11483264499933633,&quot;_2&quot;:26.535323832259355},{&quot;_1&quot;:0.09718350695711457,&quot;_2&quot;:24.994988180042924},{&quot;_1&quot;:0.10571966544172433,&quot;_2&quot;:26.48731091975559}],&quot;genId&quot;:&quot;1561859351&quot;}\" type=\"text/x-scoped-javascript\">/*<![CDATA[*/req(['../javascripts/notebook/playground','../javascripts/notebook/magic/lineChart'], \n      function(playground, _magiclineChart) {\n        // data ==> data-this (in observable.js's scopedEval) ==> this in JS => { dataId, dataInit, ... }\n        // this ==> scope (in observable.js's scopedEval) ==> this.parentElement ==> div.container below (toHtml)\n\n        playground.call(data,\n                        this\n                        ,\n                        {\n    \"f\": _magiclineChart,\n    \"o\": {\"x\":\"_1\",\"y\":\"_2\",\"width\":600,\"height\":400}\n  }\n  \n                        \n                        \n                      );\n      }\n    );/*]]>*/</script>\n    <div>\n      <span class=\"chart-total-item-count\"><p data-bind=\"text: value\"><script data-this=\"{&quot;valueId&quot;:&quot;anonc7d12c8b871b296a7ccca5e130bd3aa0&quot;,&quot;initialValue&quot;:&quot;10&quot;}\" type=\"text/x-scoped-javascript\">/*<![CDATA[*/\nreq(\n['observable', 'knockout'],\nfunction (O, ko) {\n  ko.applyBindings({\n      value: O.makeObservable(valueId, initialValue)\n    },\n    this\n  );\n});\n        /*]]>*/</script></p> entries total</span>\n      <span class=\"chart-sampling-warning\"><p data-bind=\"text: value\"><script data-this=\"{&quot;valueId&quot;:&quot;anon0271c2f6b5aeede6d0e7cb0eb2254178&quot;,&quot;initialValue&quot;:&quot;&quot;}\" type=\"text/x-scoped-javascript\">/*<![CDATA[*/\nreq(\n['observable', 'knockout'],\nfunction (O, ko) {\n  ko.applyBindings({\n      value: O.makeObservable(valueId, initialValue)\n    },\n    this\n  );\n});\n        /*]]>*/</script></p></span>\n      <div>\n      </div>\n    </div></div>\n            </div><div class=\"tab-pane\" id=\"tab222763607-3\">\n            <div>\n      <script data-this=\"{&quot;dataId&quot;:&quot;anon51f5b62a11f94cce617c102d5d8e9323&quot;,&quot;dataInit&quot;:[{&quot;_1&quot;:0.10898153264509004,&quot;_2&quot;:33.390457071885265},{&quot;_1&quot;:0.09871288933651311,&quot;_2&quot;:25.953280443936347},{&quot;_1&quot;:0.09877619885832029,&quot;_2&quot;:23.10516150190445},{&quot;_1&quot;:0.10683534322685499,&quot;_2&quot;:30.056511196789533},{&quot;_1&quot;:0.0997937328223847,&quot;_2&quot;:20.856128054233917},{&quot;_1&quot;:0.10976706786168289,&quot;_2&quot;:29.361546615989724},{&quot;_1&quot;:0.09894486907269856,&quot;_2&quot;:30.075362325927326},{&quot;_1&quot;:0.11483264499933633,&quot;_2&quot;:26.535323832259355},{&quot;_1&quot;:0.09718350695711457,&quot;_2&quot;:24.994988180042924},{&quot;_1&quot;:0.10571966544172433,&quot;_2&quot;:26.48731091975559}],&quot;genId&quot;:&quot;1560155015&quot;}\" type=\"text/x-scoped-javascript\">/*<![CDATA[*/req(['../javascripts/notebook/playground','../javascripts/notebook/magic/barChart'], \n      function(playground, _magicbarChart) {\n        // data ==> data-this (in observable.js's scopedEval) ==> this in JS => { dataId, dataInit, ... }\n        // this ==> scope (in observable.js's scopedEval) ==> this.parentElement ==> div.container below (toHtml)\n\n        playground.call(data,\n                        this\n                        ,\n                        {\n    \"f\": _magicbarChart,\n    \"o\": {\"x\":\"_1\",\"y\":\"_2\",\"width\":600,\"height\":400}\n  }\n  \n                        \n                        \n                      );\n      }\n    );/*]]>*/</script>\n    <div>\n      <span class=\"chart-total-item-count\"><p data-bind=\"text: value\"><script data-this=\"{&quot;valueId&quot;:&quot;anonde7529dac919fa8967fed152f967d2f7&quot;,&quot;initialValue&quot;:&quot;10&quot;}\" type=\"text/x-scoped-javascript\">/*<![CDATA[*/\nreq(\n['observable', 'knockout'],\nfunction (O, ko) {\n  ko.applyBindings({\n      value: O.makeObservable(valueId, initialValue)\n    },\n    this\n  );\n});\n        /*]]>*/</script></p> entries total</span>\n      <span class=\"chart-sampling-warning\"><p data-bind=\"text: value\"><script data-this=\"{&quot;valueId&quot;:&quot;anon723838b54c174e77de6f5023f2a9eeb7&quot;,&quot;initialValue&quot;:&quot;&quot;}\" type=\"text/x-scoped-javascript\">/*<![CDATA[*/\nreq(\n['observable', 'knockout'],\nfunction (O, ko) {\n  ko.applyBindings({\n      value: O.makeObservable(valueId, initialValue)\n    },\n    this\n  );\n});\n        /*]]>*/</script></p></span>\n      <div>\n      </div>\n    </div></div>\n            </div><div class=\"tab-pane\" id=\"tab222763607-4\">\n            <div>\n      <script data-this=\"{&quot;dataId&quot;:&quot;anond689b2e7c81fb40fa3f244ef540e3bdf&quot;,&quot;dataInit&quot;:[{&quot;_1&quot;:0.10898153264509004,&quot;_2&quot;:33.390457071885265},{&quot;_1&quot;:0.09871288933651311,&quot;_2&quot;:25.953280443936347},{&quot;_1&quot;:0.09877619885832029,&quot;_2&quot;:23.10516150190445},{&quot;_1&quot;:0.10683534322685499,&quot;_2&quot;:30.056511196789533},{&quot;_1&quot;:0.0997937328223847,&quot;_2&quot;:20.856128054233917},{&quot;_1&quot;:0.10976706786168289,&quot;_2&quot;:29.361546615989724},{&quot;_1&quot;:0.09894486907269856,&quot;_2&quot;:30.075362325927326},{&quot;_1&quot;:0.11483264499933633,&quot;_2&quot;:26.535323832259355},{&quot;_1&quot;:0.09718350695711457,&quot;_2&quot;:24.994988180042924},{&quot;_1&quot;:0.10571966544172433,&quot;_2&quot;:26.48731091975559}],&quot;genId&quot;:&quot;2018839472&quot;}\" type=\"text/x-scoped-javascript\">/*<![CDATA[*/req(['../javascripts/notebook/playground','../javascripts/notebook/magic/pivotChart'], \n      function(playground, _magicpivotChart) {\n        // data ==> data-this (in observable.js's scopedEval) ==> this in JS => { dataId, dataInit, ... }\n        // this ==> scope (in observable.js's scopedEval) ==> this.parentElement ==> div.container below (toHtml)\n\n        playground.call(data,\n                        this\n                        ,\n                        {\n    \"f\": _magicpivotChart,\n    \"o\": {\"width\":600,\"height\":400,\"derivedAttributes\":{},\"extraOptions\":{}}\n  }\n  \n                        \n                        \n                      );\n      }\n    );/*]]>*/</script>\n    <div>\n      <span class=\"chart-total-item-count\"><p data-bind=\"text: value\"><script data-this=\"{&quot;valueId&quot;:&quot;anona6ad229ee577d87d97905d08fb9d460d&quot;,&quot;initialValue&quot;:&quot;10&quot;}\" type=\"text/x-scoped-javascript\">/*<![CDATA[*/\nreq(\n['observable', 'knockout'],\nfunction (O, ko) {\n  ko.applyBindings({\n      value: O.makeObservable(valueId, initialValue)\n    },\n    this\n  );\n});\n        /*]]>*/</script></p> entries total</span>\n      <span class=\"chart-sampling-warning\"><p data-bind=\"text: value\"><script data-this=\"{&quot;valueId&quot;:&quot;anon97d719b4918a5dd7786aee191e89fc45&quot;,&quot;initialValue&quot;:&quot;&quot;}\" type=\"text/x-scoped-javascript\">/*<![CDATA[*/\nreq(\n['observable', 'knockout'],\nfunction (O, ko) {\n  ko.applyBindings({\n      value: O.makeObservable(valueId, initialValue)\n    },\n    this\n  );\n});\n        /*]]>*/</script></p></span>\n      <div>\n      </div>\n    </div></div>\n            </div></div>\n      </div>\n    </div></div>"
          },
          "output_type" : "execute_result",
          "execution_count" : 6,
          "time" : "Took: 0.896s, at 2018-09-06 07:44"
        }
      ]
    },
    {
      "metadata" : {
        "id" : "9A8AE5A7B5804845840378FA0199B622"
      },
      "cell_type" : "markdown",
      "source" : "## Run one Initialization of Clusterwise"
    },
    {
      "metadata" : {
        "trusted" : true,
        "input_collapsed" : false,
        "collapsed" : false,
        "id" : "02626FA95FF049AC8B4750A03184B3FA"
      },
      "cell_type" : "code",
      "source" : [
        "val (dsPerClass, predFitted, coIntercept, coXYcoef, critReg, mapsRegCrit, classedReg) = ClusterwiseCore.plsPerDot(dataXY, h, g)"
      ],
      "outputs" : [
        {
          "name" : "stdout",
          "output_type" : "stream",
          "text" : "dsPerClass: Seq[Array[(Int, (Seq[Double], Seq[Double], Int))]] = Vector(Array((4,(ArrayBuffer(5.375353406, 4.35623841, 4.635715716, 5.089608082, 3.678189181, 2.518132309, 4.754494191, 3.027216847, 3.052088737, 2.954102358),ArrayBuffer(5.283920633, 5.374257821, 5.319942963),0)), (10,(ArrayBuffer(3.004767498, 4.15832073, 6.432996097, 4.082413998, 3.831950687, 4.079528542, 3.470887844, 4.210125703, 3.577345581, 3.468564244),ArrayBuffer(4.88271408, 4.864995913, 5.308147136),0)), (15,(ArrayBuffer(4.477782704, 2.736233577, 5.778969593, 4.972204919, 2.616411534, 4.341730326, 4.376018276, 4.262769283, 4.617405358, 5.320670415),ArrayBuffer(5.36235246, 5.482023255, 5.41603065),0)), (25,(ArrayBuffer(0.203745367, 0.389915379, 4.548775312, 1.681588474, 1.624633559, 3.851717771, 4.919608323, 4.446490..."
        },
        {
          "metadata" : { },
          "data" : {
            "text/html" : ""
          },
          "output_type" : "execute_result",
          "execution_count" : 7,
          "time" : "Took: 4.306s, at 2018-09-06 07:44"
        }
      ]
    },
    {
      "metadata" : {
        "id" : "3D58F1DB38584A34960577E6BCC1F9B8"
      },
      "cell_type" : "markdown",
      "source" : "## Run one PLS regression"
    },
    {
      "metadata" : {
        "trusted" : true,
        "input_collapsed" : false,
        "collapsed" : false,
        "id" : "A6182A530F1A4843AAD6C09B7F20119A"
      },
      "cell_type" : "code",
      "source" : [
        "val inputX = mutable.ArrayBuffer(dataXY.map{ case (id, (x, y)) => (id, x) }:_*)\n",
        "val inputY = mutable.ArrayBuffer(dataXY.map{ case (id, (x, y)) => y }:_*)\n",
        "\n",
        "PLS.runPLS[mutable.ArrayBuffer[Double]](inputX, inputY, 2)._2"
      ],
      "outputs" : [
        {
          "name" : "stdout",
          "output_type" : "stream",
          "text" : "inputX: scala.collection.mutable.ArrayBuffer[(Int, scala.collection.mutable.ArrayBuffer[Double])] = ArrayBuffer((0,ArrayBuffer(4.058845733, 6.405834969, 4.943772245, 4.191393637, 5.691694039, 6.18161279, 6.182385889, 5.982450545, 6.139507172, 7.42310638)), (1,ArrayBuffer(5.102442757, 4.716437077, 4.692925255, 4.839302826, 4.02386069, 2.158591158, 2.901072862, 2.816463237, 3.501312504, 3.084936398)), (2,ArrayBuffer(4.766958169, 4.838583906, 6.485887384, 4.404467358, 5.211054103, 4.865929818, 5.278244008, 4.604447037, 4.98848043, 4.768183695)), (3,ArrayBuffer(6.138171718, 4.494158628, 3.410581785, 5.131981446, 5.551559701, 4.294727934, 5.917064075, 5.219849604, 5.133860522, 4.03092709)), (4,ArrayBuffer(5.375353406, 4.35623841, 4.635715716, 5.089608082, 3.678189181, 2.518132309, 4.75449419..."
        },
        {
          "metadata" : { },
          "data" : {
            "text/html" : "0.06979240528901356   0.06789620944460527    0.06930445371520205    \n0.08067757263085021   0.07970448849559086    0.07974774446651722    \n-0.07847738832689169  -0.08644739058771864   -0.0748970917978408    \n0.08511456892838887   0.08420743469638495    0.08409775190792484    \n0.09009642524949013   0.08958130237869746    0.08888651763257115    \n0.14068789390390152   0.1435177674030875     0.13770796553300962    \n0.13098330500261812   0.13316536912040206    0.1283447562823357     \n8.524690943149948E-5  -0.003144389803075201  0.0010531588356896757  \n0.11855232562338051   0.12009478549140792    0.11629398491749238    \n0.10618779161310123   0.10710533264884624    0.10430424557462933    "
          },
          "output_type" : "execute_result",
          "execution_count" : 8,
          "time" : "Took: 0.926s, at 2018-09-06 07:44"
        }
      ]
    }
  ],
  "nbformat" : 4
}