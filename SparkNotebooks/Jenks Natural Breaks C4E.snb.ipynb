{
  "metadata" : {
    "id" : "4b2bd907-5c2e-4930-bd49-a58d5a037535",
    "name" : "Jenks Natural Breaks",
    "user_save_timestamp" : "1970-01-01T01:00:00.000Z",
    "auto_save_timestamp" : "1970-01-01T01:00:00.000Z",
    "language_info" : {
      "name" : "scala",
      "file_extension" : "scala",
      "codemirror_mode" : "text/x-scala"
    },
    "trusted" : true,
    "sparkNotebook" : null,
    "customLocalRepo" : null,
    "customRepos" : null,
    "customDeps" : [
      "com.github.haifengl:smile-scala_2.11:1.5.0",
      "clustering4ever % clustering4ever_2.11 % 0.6.3"
    ],
    "customImports" : null,
    "customArgs" : null,
    "customSparkConf" : null,
    "customVars" : null
  },
  "cells" : [
    {
      "metadata" : {
        "id" : "BE172624139A4A01951B826AE7AF0CD3"
      },
      "cell_type" : "markdown",
      "source" : "# [Clustering4Ever](https://github.com/Clustering4Ever/Clustering4Ever) on [SparkNotebook](http://spark-notebook.io/) by [LIPN](https://lipn.univ-paris13.fr/) [A3](https://lipn.univ-paris13.fr/accueil/equipe/a3/) team"
    },
    {
      "metadata" : {
        "id" : "D84F486CFB7440A584CC263619A18662"
      },
      "cell_type" : "markdown",
      "source" : "# Jenks Natural Breaks"
    },
    {
      "metadata" : {
        "trusted" : true,
        "input_collapsed" : false,
        "collapsed" : false,
        "id" : "742D2962FB7D44B19D04F3A315F2BA3C"
      },
      "cell_type" : "code",
      "source" : [
        "import clustering4ever.scala.clustering.JenksNaturalBreaks\n",
        "import scala.collection.mutable"
      ],
      "outputs" : [
        {
          "name" : "stdout",
          "output_type" : "stream",
          "text" : "import clustering4ever.scala.clustering.JenksNaturalBreaks\nimport scala.collection.mutable\n"
        },
        {
          "metadata" : { },
          "data" : {
            "text/html" : ""
          },
          "output_type" : "execute_result",
          "execution_count" : 34,
          "time" : "Took: 0.366s, at 2018-09-06 08:58"
        }
      ]
    },
    {
      "metadata" : {
        "trusted" : true,
        "input_collapsed" : false,
        "collapsed" : false,
        "id" : "D4419D13D8884D118B394790BFF2325F"
      },
      "cell_type" : "code",
      "source" : [
        "val gs = Array.fill(10000)(scala.util.Random.nextDouble).sorted"
      ],
      "outputs" : [
        {
          "name" : "stdout",
          "output_type" : "stream",
          "text" : "gs: Array[Double] = Array(1.769594491318749E-4, 2.368644160626321E-4, 3.413167471856271E-4, 4.7366870740472855E-4, 5.684397756194892E-4, 6.60702753608855E-4, 8.349335453823326E-4, 8.740519603234187E-4, 0.001045948582251599, 0.0010509841960606447, 0.0011789053732530475, 0.001230253524338698, 0.0012755587969718318, 0.0014366958801482754, 0.0014643287995926846, 0.0015077520312735126, 0.0015117624824160236, 0.001590950515674594, 0.0019314035330857404, 0.001964581086112527, 0.002182841956384296, 0.002243518266972444, 0.0022459337200767537, 0.002306876493176291, 0.0023757853379888783, 0.002382500467267956, 0.00253084135945969, 0.002570911584936053, 0.002720805608989907, 0.0029369897326769756, 0.0029849919114092183, 0.0031708745893334056, 0.003274762484662741, 0.0035019929982161857, 0.00357565..."
        },
        {
          "metadata" : { },
          "data" : {
            "text/html" : ""
          },
          "output_type" : "execute_result",
          "execution_count" : 35,
          "time" : "Took: 0.395s, at 2018-09-06 08:58"
        }
      ]
    },
    {
      "metadata" : {
        "trusted" : true,
        "input_collapsed" : false,
        "collapsed" : false,
        "presentation" : {
          "tabs_state" : "{\n  \"tab_id\": \"#tab1961620904-0\"\n}",
          "pivot_chart_state" : "{\n  \"hiddenAttributes\": [],\n  \"menuLimit\": 200,\n  \"cols\": [],\n  \"rows\": [],\n  \"vals\": [],\n  \"exclusions\": {},\n  \"inclusions\": {},\n  \"unusedAttrsVertical\": 85,\n  \"autoSortUnusedAttrs\": false,\n  \"inclusionsInfo\": {},\n  \"aggregatorName\": \"Count\",\n  \"rendererName\": \"Table\"\n}"
        },
        "id" : "1B0F3F60873A42959F2E58D499677814"
      },
      "cell_type" : "code",
      "source" : [
        "val breaks = 5\n",
        "\n",
        "val jnb = JenksNaturalBreaks.jenksBrks(gs, breaks).zipWithIndex"
      ],
      "outputs" : [
        {
          "name" : "stdout",
          "output_type" : "stream",
          "text" : "breaks: Int = 5\njnb: scala.collection.immutable.Vector[(Double, Int)] = Vector((1.769594491318749E-4,0), (0.25756638879399196,1), (0.5058109164665113,2), (0.7513608876712619,3), (0.9999497468331985,4))\n"
        },
        {
          "metadata" : { },
          "data" : {
            "text/html" : ""
          },
          "output_type" : "execute_result",
          "execution_count" : 36,
          "time" : "Took: 1.645s, at 2018-09-06 08:58"
        }
      ]
    },
    {
      "metadata" : {
        "id" : "2955FB64C45747EA8C9BB2A4B480BF16"
      },
      "cell_type" : "markdown",
      "source" : "# Fill clusters"
    },
    {
      "metadata" : {
        "trusted" : true,
        "input_collapsed" : false,
        "collapsed" : false,
        "id" : "AC7968B361D84B0F8AF459DB829F0CA4"
      },
      "cell_type" : "code",
      "source" : [
        "val values = Array.fill(breaks - 1)(mutable.ArrayBuffer.empty[Double])\n",
        "\n",
        "gs.foreach( v => values(jnb.find(_._1 > v).getOrElse((0D, breaks - 1))._2 - 1) += v )"
      ],
      "outputs" : [
        {
          "name" : "stdout",
          "output_type" : "stream",
          "text" : "values: Array[scala.collection.mutable.ArrayBuffer[Double]] = Array(ArrayBuffer(1.769594491318749E-4, 2.368644160626321E-4, 3.413167471856271E-4, 4.7366870740472855E-4, 5.684397756194892E-4, 6.60702753608855E-4, 8.349335453823326E-4, 8.740519603234187E-4, 0.001045948582251599, 0.0010509841960606447, 0.0011789053732530475, 0.001230253524338698, 0.0012755587969718318, 0.0014366958801482754, 0.0014643287995926846, 0.0015077520312735126, 0.0015117624824160236, 0.001590950515674594, 0.0019314035330857404, 0.001964581086112527, 0.002182841956384296, 0.002243518266972444, 0.0022459337200767537, 0.002306876493176291, 0.0023757853379888783, 0.002382500467267956, 0.00253084135945969, 0.002570911584936053, 0.002720805608989907, 0.0029369897326769756, 0.0029849919114092183, 0.0031708745893334056, 0..."
        },
        {
          "metadata" : { },
          "data" : {
            "text/html" : ""
          },
          "output_type" : "execute_result",
          "execution_count" : 37,
          "time" : "Took: 0.610s, at 2018-09-06 08:58"
        }
      ]
    },
    {
      "metadata" : {
        "trusted" : true,
        "input_collapsed" : false,
        "collapsed" : false,
        "presentation" : {
          "tabs_state" : "{\n  \"tab_id\": \"#tab1866827592-0\"\n}",
          "pivot_chart_state" : "{\n  \"hiddenAttributes\": [],\n  \"menuLimit\": 200,\n  \"cols\": [],\n  \"rows\": [],\n  \"vals\": [],\n  \"exclusions\": {},\n  \"inclusions\": {},\n  \"unusedAttrsVertical\": 85,\n  \"autoSortUnusedAttrs\": false,\n  \"inclusionsInfo\": {},\n  \"aggregatorName\": \"Count\",\n  \"rendererName\": \"Table\"\n}"
        },
        "id" : "A60646F4CC75485D819BEA37BAA88CB3"
      },
      "cell_type" : "code",
      "source" : [
        "values.map(_.size)"
      ],
      "outputs" : [
        {
          "name" : "stdout",
          "output_type" : "stream",
          "text" : "res65: Array[Int] = Array(2555, 2353, 2508, 2584)\n"
        },
        {
          "metadata" : { },
          "data" : {
            "text/html" : "<div>\n      <script data-this=\"{&quot;dataId&quot;:&quot;anon9cea35314a59f000933671c97924b720&quot;,&quot;dataInit&quot;:[],&quot;genId&quot;:&quot;1866827592&quot;}\" type=\"text/x-scoped-javascript\">/*<![CDATA[*/req(['../javascripts/notebook/playground','../javascripts/notebook/magic/tabs'], \n      function(playground, _magictabs) {\n        // data ==> data-this (in observable.js's scopedEval) ==> this in JS => { dataId, dataInit, ... }\n        // this ==> scope (in observable.js's scopedEval) ==> this.parentElement ==> div.container below (toHtml)\n\n        playground.call(data,\n                        this\n                        ,\n                        {\n    \"f\": _magictabs,\n    \"o\": {}\n  }\n  \n                        \n                        \n                      );\n      }\n    );/*]]>*/</script>\n    <div>\n      <div>\n        <ul class=\"nav nav-tabs\" id=\"ul1866827592\"><li>\n              <a href=\"#tab1866827592-0\"><i class=\"fa fa-table\"/></a>\n            </li><li>\n              <a href=\"#tab1866827592-1\"><i class=\"fa fa-dot-circle-o\"/></a>\n            </li><li>\n              <a href=\"#tab1866827592-2\"><i class=\"fa fa-line-chart\"/></a>\n            </li><li>\n              <a href=\"#tab1866827592-3\"><i class=\"fa fa-bar-chart\"/></a>\n            </li><li>\n              <a href=\"#tab1866827592-4\"><i class=\"fa fa-cubes\"/></a>\n            </li></ul>\n\n        <div class=\"tab-content\" id=\"tab1866827592\"><div class=\"tab-pane\" id=\"tab1866827592-0\">\n            <div>\n      <script data-this=\"{&quot;dataId&quot;:&quot;anon445deb68e0c813e7034720c4df16ef17&quot;,&quot;dataInit&quot;:[{&quot;_1&quot;:0,&quot;_2&quot;:2555},{&quot;_1&quot;:1,&quot;_2&quot;:2353},{&quot;_1&quot;:2,&quot;_2&quot;:2508},{&quot;_1&quot;:3,&quot;_2&quot;:2584}],&quot;genId&quot;:&quot;673956689&quot;}\" type=\"text/x-scoped-javascript\">/*<![CDATA[*/req(['../javascripts/notebook/playground','../javascripts/notebook/magic/tableChart'], \n      function(playground, _magictableChart) {\n        // data ==> data-this (in observable.js's scopedEval) ==> this in JS => { dataId, dataInit, ... }\n        // this ==> scope (in observable.js's scopedEval) ==> this.parentElement ==> div.container below (toHtml)\n\n        playground.call(data,\n                        this\n                        ,\n                        {\n    \"f\": _magictableChart,\n    \"o\": {\"headers\":[\"_1\",\"_2\"],\"width\":600,\"height\":400}\n  }\n  \n                        \n                        \n                      );\n      }\n    );/*]]>*/</script>\n    <div>\n      <span class=\"chart-total-item-count\"><p data-bind=\"text: value\"><script data-this=\"{&quot;valueId&quot;:&quot;anon9a7895e399c91c82837c66887793e424&quot;,&quot;initialValue&quot;:&quot;4&quot;}\" type=\"text/x-scoped-javascript\">/*<![CDATA[*/\nreq(\n['observable', 'knockout'],\nfunction (O, ko) {\n  ko.applyBindings({\n      value: O.makeObservable(valueId, initialValue)\n    },\n    this\n  );\n});\n        /*]]>*/</script></p> entries total</span>\n      <span class=\"chart-sampling-warning\"><p data-bind=\"text: value\"><script data-this=\"{&quot;valueId&quot;:&quot;anone7eba82a04257ccdd5aa8bf892f0d2b8&quot;,&quot;initialValue&quot;:&quot;&quot;}\" type=\"text/x-scoped-javascript\">/*<![CDATA[*/\nreq(\n['observable', 'knockout'],\nfunction (O, ko) {\n  ko.applyBindings({\n      value: O.makeObservable(valueId, initialValue)\n    },\n    this\n  );\n});\n        /*]]>*/</script></p></span>\n      <div>\n      </div>\n    </div></div>\n            </div><div class=\"tab-pane\" id=\"tab1866827592-1\">\n            <div>\n      <script data-this=\"{&quot;dataId&quot;:&quot;anonf4051d40ac54d2832e1c59bf3fea7c67&quot;,&quot;dataInit&quot;:[{&quot;_1&quot;:0,&quot;_2&quot;:2555},{&quot;_1&quot;:1,&quot;_2&quot;:2353},{&quot;_1&quot;:2,&quot;_2&quot;:2508},{&quot;_1&quot;:3,&quot;_2&quot;:2584}],&quot;genId&quot;:&quot;2058306880&quot;}\" type=\"text/x-scoped-javascript\">/*<![CDATA[*/req(['../javascripts/notebook/playground','../javascripts/notebook/magic/scatterChart'], \n      function(playground, _magicscatterChart) {\n        // data ==> data-this (in observable.js's scopedEval) ==> this in JS => { dataId, dataInit, ... }\n        // this ==> scope (in observable.js's scopedEval) ==> this.parentElement ==> div.container below (toHtml)\n\n        playground.call(data,\n                        this\n                        ,\n                        {\n    \"f\": _magicscatterChart,\n    \"o\": {\"x\":\"_1\",\"y\":\"_2\",\"width\":600,\"height\":400}\n  }\n  \n                        \n                        \n                      );\n      }\n    );/*]]>*/</script>\n    <div>\n      <span class=\"chart-total-item-count\"><p data-bind=\"text: value\"><script data-this=\"{&quot;valueId&quot;:&quot;anonba33ec7a45f853619e9e710de09916c7&quot;,&quot;initialValue&quot;:&quot;4&quot;}\" type=\"text/x-scoped-javascript\">/*<![CDATA[*/\nreq(\n['observable', 'knockout'],\nfunction (O, ko) {\n  ko.applyBindings({\n      value: O.makeObservable(valueId, initialValue)\n    },\n    this\n  );\n});\n        /*]]>*/</script></p> entries total</span>\n      <span class=\"chart-sampling-warning\"><p data-bind=\"text: value\"><script data-this=\"{&quot;valueId&quot;:&quot;anon5231a6a845cd46344fbdd8c67014153a&quot;,&quot;initialValue&quot;:&quot;&quot;}\" type=\"text/x-scoped-javascript\">/*<![CDATA[*/\nreq(\n['observable', 'knockout'],\nfunction (O, ko) {\n  ko.applyBindings({\n      value: O.makeObservable(valueId, initialValue)\n    },\n    this\n  );\n});\n        /*]]>*/</script></p></span>\n      <div>\n      </div>\n    </div></div>\n            </div><div class=\"tab-pane\" id=\"tab1866827592-2\">\n            <div>\n      <script data-this=\"{&quot;dataId&quot;:&quot;anoned96930610dc7a7b00ca0c28c2494e37&quot;,&quot;dataInit&quot;:[{&quot;_1&quot;:0,&quot;_2&quot;:2555},{&quot;_1&quot;:1,&quot;_2&quot;:2353},{&quot;_1&quot;:2,&quot;_2&quot;:2508},{&quot;_1&quot;:3,&quot;_2&quot;:2584}],&quot;genId&quot;:&quot;1435302482&quot;}\" type=\"text/x-scoped-javascript\">/*<![CDATA[*/req(['../javascripts/notebook/playground','../javascripts/notebook/magic/lineChart'], \n      function(playground, _magiclineChart) {\n        // data ==> data-this (in observable.js's scopedEval) ==> this in JS => { dataId, dataInit, ... }\n        // this ==> scope (in observable.js's scopedEval) ==> this.parentElement ==> div.container below (toHtml)\n\n        playground.call(data,\n                        this\n                        ,\n                        {\n    \"f\": _magiclineChart,\n    \"o\": {\"x\":\"_1\",\"y\":\"_2\",\"width\":600,\"height\":400}\n  }\n  \n                        \n                        \n                      );\n      }\n    );/*]]>*/</script>\n    <div>\n      <span class=\"chart-total-item-count\"><p data-bind=\"text: value\"><script data-this=\"{&quot;valueId&quot;:&quot;anon08a77dc711201473c7846268ad84d354&quot;,&quot;initialValue&quot;:&quot;4&quot;}\" type=\"text/x-scoped-javascript\">/*<![CDATA[*/\nreq(\n['observable', 'knockout'],\nfunction (O, ko) {\n  ko.applyBindings({\n      value: O.makeObservable(valueId, initialValue)\n    },\n    this\n  );\n});\n        /*]]>*/</script></p> entries total</span>\n      <span class=\"chart-sampling-warning\"><p data-bind=\"text: value\"><script data-this=\"{&quot;valueId&quot;:&quot;anon7d9400ff284abc5c78f6f498bc337972&quot;,&quot;initialValue&quot;:&quot;&quot;}\" type=\"text/x-scoped-javascript\">/*<![CDATA[*/\nreq(\n['observable', 'knockout'],\nfunction (O, ko) {\n  ko.applyBindings({\n      value: O.makeObservable(valueId, initialValue)\n    },\n    this\n  );\n});\n        /*]]>*/</script></p></span>\n      <div>\n      </div>\n    </div></div>\n            </div><div class=\"tab-pane\" id=\"tab1866827592-3\">\n            <div>\n      <script data-this=\"{&quot;dataId&quot;:&quot;anon0e457aa22c947f9bee48d10027eb12d7&quot;,&quot;dataInit&quot;:[{&quot;_1&quot;:0,&quot;_2&quot;:2555},{&quot;_1&quot;:1,&quot;_2&quot;:2353},{&quot;_1&quot;:2,&quot;_2&quot;:2508},{&quot;_1&quot;:3,&quot;_2&quot;:2584}],&quot;genId&quot;:&quot;1412003601&quot;}\" type=\"text/x-scoped-javascript\">/*<![CDATA[*/req(['../javascripts/notebook/playground','../javascripts/notebook/magic/barChart'], \n      function(playground, _magicbarChart) {\n        // data ==> data-this (in observable.js's scopedEval) ==> this in JS => { dataId, dataInit, ... }\n        // this ==> scope (in observable.js's scopedEval) ==> this.parentElement ==> div.container below (toHtml)\n\n        playground.call(data,\n                        this\n                        ,\n                        {\n    \"f\": _magicbarChart,\n    \"o\": {\"x\":\"_1\",\"y\":\"_2\",\"width\":600,\"height\":400}\n  }\n  \n                        \n                        \n                      );\n      }\n    );/*]]>*/</script>\n    <div>\n      <span class=\"chart-total-item-count\"><p data-bind=\"text: value\"><script data-this=\"{&quot;valueId&quot;:&quot;anon7bae5fb42fb630591aab78cc3e065821&quot;,&quot;initialValue&quot;:&quot;4&quot;}\" type=\"text/x-scoped-javascript\">/*<![CDATA[*/\nreq(\n['observable', 'knockout'],\nfunction (O, ko) {\n  ko.applyBindings({\n      value: O.makeObservable(valueId, initialValue)\n    },\n    this\n  );\n});\n        /*]]>*/</script></p> entries total</span>\n      <span class=\"chart-sampling-warning\"><p data-bind=\"text: value\"><script data-this=\"{&quot;valueId&quot;:&quot;anon264c8c9fab8f30ab37580b0b374d6b93&quot;,&quot;initialValue&quot;:&quot;&quot;}\" type=\"text/x-scoped-javascript\">/*<![CDATA[*/\nreq(\n['observable', 'knockout'],\nfunction (O, ko) {\n  ko.applyBindings({\n      value: O.makeObservable(valueId, initialValue)\n    },\n    this\n  );\n});\n        /*]]>*/</script></p></span>\n      <div>\n      </div>\n    </div></div>\n            </div><div class=\"tab-pane\" id=\"tab1866827592-4\">\n            <div>\n      <script data-this=\"{&quot;dataId&quot;:&quot;anon22a6aa35f4f83f6a1ef55fe319f3b312&quot;,&quot;dataInit&quot;:[{&quot;_1&quot;:0,&quot;_2&quot;:2555},{&quot;_1&quot;:1,&quot;_2&quot;:2353},{&quot;_1&quot;:2,&quot;_2&quot;:2508},{&quot;_1&quot;:3,&quot;_2&quot;:2584}],&quot;genId&quot;:&quot;1910326636&quot;}\" type=\"text/x-scoped-javascript\">/*<![CDATA[*/req(['../javascripts/notebook/playground','../javascripts/notebook/magic/pivotChart'], \n      function(playground, _magicpivotChart) {\n        // data ==> data-this (in observable.js's scopedEval) ==> this in JS => { dataId, dataInit, ... }\n        // this ==> scope (in observable.js's scopedEval) ==> this.parentElement ==> div.container below (toHtml)\n\n        playground.call(data,\n                        this\n                        ,\n                        {\n    \"f\": _magicpivotChart,\n    \"o\": {\"width\":600,\"height\":400,\"derivedAttributes\":{},\"extraOptions\":{}}\n  }\n  \n                        \n                        \n                      );\n      }\n    );/*]]>*/</script>\n    <div>\n      <span class=\"chart-total-item-count\"><p data-bind=\"text: value\"><script data-this=\"{&quot;valueId&quot;:&quot;anon5966149a071ebca044834ea3ce1b6ddb&quot;,&quot;initialValue&quot;:&quot;4&quot;}\" type=\"text/x-scoped-javascript\">/*<![CDATA[*/\nreq(\n['observable', 'knockout'],\nfunction (O, ko) {\n  ko.applyBindings({\n      value: O.makeObservable(valueId, initialValue)\n    },\n    this\n  );\n});\n        /*]]>*/</script></p> entries total</span>\n      <span class=\"chart-sampling-warning\"><p data-bind=\"text: value\"><script data-this=\"{&quot;valueId&quot;:&quot;anonf575617576986ebe4c213fd31f7be60f&quot;,&quot;initialValue&quot;:&quot;&quot;}\" type=\"text/x-scoped-javascript\">/*<![CDATA[*/\nreq(\n['observable', 'knockout'],\nfunction (O, ko) {\n  ko.applyBindings({\n      value: O.makeObservable(valueId, initialValue)\n    },\n    this\n  );\n});\n        /*]]>*/</script></p></span>\n      <div>\n      </div>\n    </div></div>\n            </div></div>\n      </div>\n    </div></div>"
          },
          "output_type" : "execute_result",
          "execution_count" : 40,
          "time" : "Took: 0.554s, at 2018-09-06 09:06"
        }
      ]
    }
  ],
  "nbformat" : 4
}