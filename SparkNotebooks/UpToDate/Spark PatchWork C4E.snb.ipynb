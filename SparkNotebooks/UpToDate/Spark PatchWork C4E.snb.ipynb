{
  "metadata" : {
    "id" : "a7e06d53-0cd6-4b3a-8c94-af2f1363e5db",
    "name" : "Spark PatchWork C4E",
    "user_save_timestamp" : "2018-04-04T17:17:57.904Z",
    "auto_save_timestamp" : "1970-01-01T01:00:00.000Z",
    "language_info" : {
      "name" : "scala",
      "file_extension" : "scala",
      "codemirror_mode" : "text/x-scala"
    },
    "trusted" : true,
    "sparkNotebook" : null,
    "customLocalRepo" : null,
    "customRepos" : null,
    "customDeps" : [
      "org.clustering4ever % clustering4ever_2.11 % 0.7.0",
      "com.github.haifengl:smile-scala_2.11:1.5.0"
    ],
    "customImports" : null,
    "customArgs" : null,
    "customSparkConf" : {
      "spark.driver.memory" : "50g",
      "spark.master" : "local[*]"
    },
    "customVars" : null
  },
  "cells" : [
    {
      "metadata" : {
        "id" : "56E473B68DE547C884E92C173F0C2CC7"
      },
      "cell_type" : "markdown",
      "source" : "# [Clustering4Ever](https://github.com/Clustering4Ever/Clustering4Ever) on [SparkNotebook](http://spark-notebook.io/) by [LIPN](https://lipn.univ-paris13.fr/) [A3](https://lipn.univ-paris13.fr/accueil/equipe/a3/) team"
    },
    {
      "metadata" : {
        "id" : "9BE3CBFDDB324D29914085C97E53D087"
      },
      "cell_type" : "markdown",
      "source" : "# Scala _K_-Means"
    },
    {
      "metadata" : {
        "trusted" : true,
        "input_collapsed" : false,
        "collapsed" : false,
        "id" : "2723CA508CC84A868DB0D63A7DB41C03"
      },
      "cell_type" : "code",
      "source" : [
        "import smile.plot._\n",
        "import scala.io.Source\n",
        "import scala.collection.{immutable, mutable, parallel}\n",
        "import clustering4ever.spark.clustering.patchwork.PatchWork\n",
        "import clustering4ever.scala.indexes.ExternalIndexes\n",
        "import clustering4ever.scala.indexes.NmiNormalizationNature._\n",
        "// import clustering4ever.scala.clusterizables.RealClusterizable\n",
        "// import clustering4ever.scala.vectorizables.RealVector"
      ],
      "outputs" : [
        {
          "name" : "stdout",
          "output_type" : "stream",
          "text" : "import smile.plot._\nimport scala.io.Source\nimport scala.collection.{immutable, mutable, parallel}\nimport clustering4ever.spark.clustering.patchwork.PatchWork\nimport clustering4ever.scala.indexes.ExternalIndexes\nimport clustering4ever.scala.indexes.NmiNormalizationNature._\n"
        },
        {
          "metadata" : { },
          "data" : {
            "text/html" : ""
          },
          "output_type" : "execute_result",
          "execution_count" : 1,
          "time" : "Took: 1.166s, at 2018-10-27 20:37"
        }
      ]
    },
    {
      "metadata" : {
        "id" : "C001456FD09A4F8697712D9D1DF3EB17"
      },
      "cell_type" : "markdown",
      "source" : "## Download dataset Aggregation"
    },
    {
      "metadata" : {
        "trusted" : true,
        "input_collapsed" : false,
        "output_stream_collapsed" : true,
        "collapsed" : false,
        "id" : "ADF3A07D58F74656A91E11A1FF13920B"
      },
      "cell_type" : "code",
      "source" : [
        ":sh wget -P /tmp/ http://www.clustering4ever.org/Datasets/Aggregation/aggregation.csv\n",
        ":sh wget -P /tmp/ http://www.clustering4ever.org/Datasets/Aggregation/labels"
      ],
      "outputs" : [
        {
          "name" : "stdout",
          "output_type" : "stream",
          "text" : "--2018-10-27 20:37:11--  http://www.clustering4ever.org/Datasets/Aggregation/aggregation.csv\nResolving www.clustering4ever.org (www.clustering4ever.org)... 62.210.16.62\nConnecting to www.clustering4ever.org (www.clustering4ever.org)|62.210.16.62|:80... connected.\nHTTP request sent, awaiting response... 200 OK\nLength: 8063 (7.9K) [text/csv]\nSaving to: ‘/tmp/aggregation.csv.3’\n\n     0K .......                                               100% 1010M=0s\n\n2018-10-27 20:37:11 (1010 MB/s) - ‘/tmp/aggregation.csv.3’ saved [8063/8063]\n\n:sh: Scheme missing.\n--2018-10-27 20:37:11--  http://wget/\nResolving wget (wget)... failed: Name or service not known.\nwget: unable to resolve host address ‘wget’\n--2018-10-27 20:37:11--  http://www.clustering4ever.org/Datasets/Aggregation/labels\nReusing existing connection to www.clustering4ever.org:80.\nHTTP request sent, awaiting response... 200 OK\nLength: 1576 (1.5K)\nSaving to: ‘/tmp/labels.4’\n\n     0K .                                                     100%  259M=0s\n\n2018-10-27 20:37:11 (259 MB/s) - ‘/tmp/labels.4’ saved [1576/1576]\n\nFINISHED --2018-10-27 20:37:11--\nTotal wall clock time: 0.04s\nDownloaded: 2 files, 9.4K in 0s (686 MB/s)\njava.lang.RuntimeException: Nonzero exit value: 4\n  at scala.sys.package$.error(package.scala:27)\n  at scala.sys.process.ProcessBuilderImpl$AbstractBuilder.slurp(ProcessBuilderImpl.scala:132)\n  at scala.sys.process.ProcessBuilderImpl$AbstractBuilder.$bang$bang(ProcessBuilderImpl.scala:103)\n  ... 67 elided\n"
        }
      ]
    },
    {
      "metadata" : {
        "id" : "4BEB170294834C8B92F180754CF0F42F"
      },
      "cell_type" : "markdown",
      "source" : "## Import data as ParArray[ArrayBuffer[Double]]"
    },
    {
      "metadata" : {
        "trusted" : true,
        "input_collapsed" : false,
        "output_stream_collapsed" : true,
        "collapsed" : false,
        "id" : "063B66723A63401CBC2F0A23BE2C2E18"
      },
      "cell_type" : "code",
      "source" : [
        "val datasetSize = 1000000\n",
        "val dim = 2\n",
        "val path = \"/tmp/aggregation.csv\"\n",
        "val useAggregationDS = true\n",
        "\n",
        "// val rawData = if( useAggregationDS ) Source.fromFile(path).getLines.map( x => mutable.ArrayBuffer(x.split(\",\").map(_.toDouble):_*) ).toBuffer\n",
        "//   else mutable.ArrayBuffer.fill(datasetSize)(mutable.ArrayBuffer.fill(dim)(scala.util.Random.nextDouble))\n",
        "\n",
        "// val parData = rawData.zipWithIndex.par.map{ case (v, id) => new RealClusterizable(id.toLong, new RealVector(v)) }\n",
        "\n",
        "// val groundTruePath = \"/tmp/labels\"\n",
        "\n",
        "val rdd = sc.parallelize(Source.fromFile(path).getLines.map( x => mutable.ArrayBuffer(x.split(\",\").map(_.toDouble):_*) ).toSeq).cache\n",
        "// val rdd = sc.parallelize(mutable.ArrayBuffer.fill(datasetSize)(mutable.ArrayBuffer.fill(dim)(scala.util.Random.nextDouble))).cache\n",
        "val rdd2 = rdd.map(_.toArray).cache\n",
        "\n",
        "rdd.count\n",
        "rdd2.count"
      ],
      "outputs" : [
        {
          "name" : "stdout",
          "output_type" : "stream",
          "text" : "datasetSize: Int = 1000000\ndim: Int = 2\npath: String = /tmp/aggregation.csv\nuseAggregationDS: Boolean = true\nrdd: org.apache.spark.rdd.RDD[scala.collection.mutable.ArrayBuffer[Double]] = ParallelCollectionRDD[0] at parallelize at <console>:89\nrdd2: org.apache.spark.rdd.RDD[Array[Double]] = MapPartitionsRDD[1] at map at <console>:91\nres4: Long = 788\n"
        },
        {
          "metadata" : { },
          "data" : {
            "text/html" : "788"
          },
          "output_type" : "execute_result",
          "execution_count" : 3,
          "time" : "Took: 2.932s, at 2018-10-27 20:37"
        }
      ]
    },
    {
      "metadata" : {
        "id" : "DB906BE4458347E98566175F44A41B25"
      },
      "cell_type" : "markdown",
      "source" : "## Parameters "
    },
    {
      "metadata" : {
        "trusted" : true,
        "input_collapsed" : false,
        "output_stream_collapsed" : true,
        "collapsed" : false,
        "id" : "7B7F65B92A1849639D25B8260E8FC13D"
      },
      "cell_type" : "code",
      "source" : [
        "// val epsilon = Array(0.1, 0.1)\n",
        "val epsilon = Array(1.5, 1.5)\n",
        "val minPts = 1\n",
        "val minCellInCluster = 20\n",
        "val ratio = 0.0"
      ],
      "outputs" : [
        {
          "name" : "stdout",
          "output_type" : "stream",
          "text" : "epsilon: Array[Double] = Array(1.5, 1.5)\nminPts: Int = 1\nminCellInCluster: Int = 20\nratio: Double = 0.0\n"
        },
        {
          "metadata" : { },
          "data" : {
            "text/html" : ""
          },
          "output_type" : "execute_result",
          "execution_count" : 4,
          "time" : "Took: 0.856s, at 2018-10-27 20:37"
        }
      ]
    },
    {
      "metadata" : {
        "id" : "351DECE0EB4B4DAE8395D89284DABB26"
      },
      "cell_type" : "markdown",
      "source" : "## Run and measure the algorithm time"
    },
    {
      "metadata" : {
        "trusted" : true,
        "input_collapsed" : false,
        "output_stream_collapsed" : true,
        "collapsed" : false,
        "id" : "E0B0CE109550473CB05B52300F210055"
      },
      "cell_type" : "code",
      "source" : [
        "val t1 = System.nanoTime\n",
        "// for( i <- 0 until 10 ) new PatchWork(epsilon, minPts, ratio, minCellInCluster).run(rdd2)\n",
        "val model = new PatchWork(epsilon, minPts, ratio, minCellInCluster).run(rdd2)\n",
        "val t2 = System.nanoTime\n",
        "\n",
        "(t2 - t1) / 1000000000D"
      ],
      "outputs" : [
        {
          "name" : "stdout",
          "output_type" : "stream",
          "text" : "t1: Long = 5783952865474\nmodel: clustering4ever.spark.clustering.patchwork.PatchWorkModel = clustering4ever.spark.clustering.patchwork.PatchWorkModel@10a97085\nt2: Long = 5784052820016\nres19: Double = 0.099954542\n"
        },
        {
          "metadata" : { },
          "data" : {
            "text/html" : "0.099954542"
          },
          "output_type" : "execute_result",
          "execution_count" : 13,
          "time" : "Took: 0.949s, at 2018-10-27 20:38"
        }
      ]
    },
    {
      "metadata" : {
        "id" : "6A954C0583E94F068A5132A6C0F21E7B"
      },
      "cell_type" : "markdown",
      "source" : "## Different ways to apply model to datasets"
    },
    {
      "metadata" : {
        "trusted" : true,
        "input_collapsed" : false,
        "collapsed" : false,
        "id" : "0D623084528448368CE5DD7203E951C7"
      },
      "cell_type" : "code",
      "source" : [
        "val clusterized1 = rdd2.map( v => (model.predict(v).getID, v) ).collect"
      ],
      "outputs" : [
        {
          "name" : "stdout",
          "output_type" : "stream",
          "text" : "clusterized1: Array[(Int, Array[Double])] = Array((1,Array(15.55, 28.65)), (1,Array(14.9, 27.55)), (1,Array(14.45, 28.35)), (1,Array(14.15, 28.8)), (1,Array(13.75, 28.05)), (1,Array(13.35, 28.45)), (1,Array(13.0, 29.15)), (1,Array(13.45, 27.5)), (1,Array(13.6, 26.5)), (1,Array(12.8, 27.35)), (1,Array(12.4, 27.85)), (1,Array(12.3, 28.4)), (1,Array(12.2, 28.65)), (1,Array(13.4, 25.1)), (1,Array(12.95, 25.95)), (1,Array(12.9, 26.5)), (1,Array(11.85, 27.0)), (1,Array(11.35, 28.0)), (1,Array(11.15, 28.7)), (1,Array(11.25, 27.4)), (1,Array(10.75, 27.7)), (1,Array(10.5, 28.35)), (1,Array(9.65, 28.45)), (1,Array(10.25, 27.25)), (1,Array(10.75, 26.55)), (1,Array(11.7, 26.35)), (1,Array(11.6, 25.9)), (1,Array(11.9, 25.05)), (1,Array(12.6, 24.05)), (1,Array(11.9, 24.5)), (1,Array(11.1, 25.2)), (1,..."
        },
        {
          "metadata" : { },
          "data" : {
            "text/html" : ""
          },
          "output_type" : "execute_result",
          "execution_count" : 16,
          "time" : "Took: 0.678s, at 2018-10-27 20:39"
        }
      ]
    },
    {
      "metadata" : {
        "id" : "AC0E30557C3B40758B75BEC5F1BE16BC"
      },
      "cell_type" : "markdown",
      "source" : "## Plot clustering results"
    },
    {
      "metadata" : {
        "trusted" : true,
        "input_collapsed" : false,
        "output_stream_collapsed" : true,
        "collapsed" : false,
        "id" : "91CDE8F5A41D411883B74E3086181EDE"
      },
      "cell_type" : "code",
      "source" : [
        "val rawData = clusterized1.map(_._2.toArray).toArray\n",
        "val labels = clusterized1.map(_._1).toArray\n",
        "plot(rawData, labels, '*', Palette.COLORS)"
      ],
      "outputs" : [
        {
          "name" : "stdout",
          "output_type" : "stream",
          "text" : "rawData: Array[Array[Double]] = Array(Array(15.55, 28.65), Array(14.9, 27.55), Array(14.45, 28.35), Array(14.15, 28.8), Array(13.75, 28.05), Array(13.35, 28.45), Array(13.0, 29.15), Array(13.45, 27.5), Array(13.6, 26.5), Array(12.8, 27.35), Array(12.4, 27.85), Array(12.3, 28.4), Array(12.2, 28.65), Array(13.4, 25.1), Array(12.95, 25.95), Array(12.9, 26.5), Array(11.85, 27.0), Array(11.35, 28.0), Array(11.15, 28.7), Array(11.25, 27.4), Array(10.75, 27.7), Array(10.5, 28.35), Array(9.65, 28.45), Array(10.25, 27.25), Array(10.75, 26.55), Array(11.7, 26.35), Array(11.6, 25.9), Array(11.9, 25.05), Array(12.6, 24.05), Array(11.9, 24.5), Array(11.1, 25.2), Array(10.55, 25.15), Array(10.05, 25.95), Array(9.35, 26.6), Array(9.3, 27.25), Array(9.2, 27.8), Array(7.5, 28.25), Array(8.55, 27.45), Ar..."
        },
        {
          "metadata" : { },
          "data" : {
            "text/html" : "Window(javax.swing.JFrame[frame0,460,37,1000x1000,layout=java.awt.BorderLayout,title=Smile Plot 1,resizable,normal,defaultCloseOperation=DISPOSE_ON_CLOSE,rootPane=javax.swing.JRootPane[,0,37,1000x963,layout=javax.swing.JRootPane$RootLayout,alignmentX=0.0,alignmentY=0.0,border=,flags=16777675,maximumSize=,minimumSize=,preferredSize=],rootPaneCheckingEnabled=true],smile.plot.PlotCanvas[,0,0,1000x963,layout=java.awt.BorderLayout,alignmentX=0.0,alignmentY=0.0,border=,flags=11,maximumSize=,minimumSize=,preferredSize=])"
          },
          "output_type" : "execute_result",
          "execution_count" : 17,
          "time" : "Took: 1.194s, at 2018-10-27 20:39"
        }
      ]
    },
    {
      "metadata" : {
        "id" : "9EE3B763C0FF4A8F8FF0DF73013CD883"
      },
      "cell_type" : "markdown",
      "source" : "## Inspect performance metrics"
    },
    {
      "metadata" : {
        "trusted" : true,
        "input_collapsed" : false,
        "output_stream_collapsed" : true,
        "collapsed" : false,
        "id" : "5D532CFB855D4B94BDF51A5D80A719A1"
      },
      "cell_type" : "code",
      "source" : [
        "val trueLabels = Source.fromFile(groundTruePath).getLines.map(_.toInt).toBuffer.toParArray\n",
        "\n",
        "val (_, trueLabelsFrom0) = ExternalIndexes.prepareLabels(trueLabels)\n",
        "\n",
        "val predicts = clusterized22.map(_.clusterID.get).toParArray\n",
        "\n",
        "val nmi = ExternalIndexes.nmi(trueLabelsFrom0, predicts, SQRT)\n",
        "\n",
        "nmi"
      ],
      "outputs" : [
        {
          "name" : "stdout",
          "output_type" : "stream",
          "text" : "<console>:83: error: not found: value groundTruePath\n       val trueLabels = Source.fromFile(groundTruePath).getLines.map(_.toInt).toBuffer.toParArray\n                                        ^\n<console>:87: error: not found: value clusterized22\n       val predicts = clusterized22.map(_.clusterID.get).toParArray\n                      ^\n"
        }
      ]
    },
    {
      "metadata" : {
        "trusted" : true,
        "input_collapsed" : false,
        "collapsed" : false,
        "id" : "62EC3A86C9E944A4854CA1F2909FD1C4"
      },
      "cell_type" : "code",
      "source" : [
        "val v = mutable.ArrayBuffer.fill(30)(scala.util.Random.nextDouble)\n",
        "val range = (0 until 10000)\n",
        "val t1 = System.nanoTime\n",
        "for( i <- range ) v.zipWithIndex.map{ case (v, idx) => v / idx.toDouble }\n",
        "val t2 = System.nanoTime\n",
        "for( i <- range ) mutable.ArrayBuffer((0 until v.size).map{ idx => v(idx) / idx.toDouble }:_*)\n",
        "val t3 = System.nanoTime\n",
        "\n",
        "\n",
        "(t3 - t2) / (t2 - t1).toDouble"
      ],
      "outputs" : [
        {
          "name" : "stdout",
          "output_type" : "stream",
          "text" : "v: scala.collection.mutable.ArrayBuffer[Double] = ArrayBuffer(0.993718068641032, 0.48368518252656645, 0.564895158520323, 0.8273605776024493, 0.6487522194690977, 0.8632550374991614, 0.8295695610039237, 0.26604752834765877, 0.9137423336666955, 0.973097170195876, 0.9740415849320366, 0.7707337627707871, 0.05447315635676453, 0.9681138454632979, 0.5804585123201909, 0.8474334519717482, 0.6037207049419462, 0.1970604901339723, 0.3713699849074692, 0.9305946302867912, 0.7358481672945889, 0.1881468082834984, 0.02383491357293477, 0.6650416442176781, 0.8307948711250103, 0.36709866188655094, 0.9920281764290136, 0.8406818869326529, 0.6549790917047208, 0.8504850394499323)\nrange: scala.collection.immutable.Range = Range(0, 1, 2, 3, 4, 5, 6, 7, 8, 9, 10, 11, 12, 13, 14, 15, 16, 17, 18, 19, 20, 21, 22, 23,..."
        },
        {
          "metadata" : { },
          "data" : {
            "text/html" : "0.8194022149048333"
          },
          "output_type" : "execute_result",
          "execution_count" : 10,
          "time" : "Took: 1.163s, at 2018-09-12 15:13"
        }
      ]
    },
    {
      "metadata" : {
        "trusted" : true,
        "input_collapsed" : false,
        "collapsed" : false,
        "presentation" : {
          "tabs_state" : "{\n  \"tab_id\": \"#tab213559043-0\"\n}",
          "pivot_chart_state" : "{\n  \"hiddenAttributes\": [],\n  \"menuLimit\": 200,\n  \"cols\": [],\n  \"rows\": [],\n  \"vals\": [],\n  \"exclusions\": {},\n  \"inclusions\": {},\n  \"unusedAttrsVertical\": 85,\n  \"autoSortUnusedAttrs\": false,\n  \"inclusionsInfo\": {},\n  \"aggregatorName\": \"Count\",\n  \"rendererName\": \"Table\"\n}"
        },
        "id" : "56908C53CEE541FB832AA5C43ED31333"
      },
      "cell_type" : "code",
      "source" : [
        "Array.concat(Array(1), Array(2))"
      ],
      "outputs" : [
        {
          "name" : "stdout",
          "output_type" : "stream",
          "text" : "res18: Array[Int] = Array(1, 2)\n"
        },
        {
          "metadata" : { },
          "data" : {
            "text/html" : "<div>\n      <script data-this=\"{&quot;dataId&quot;:&quot;anondff346b823718e0a253c65f2cb51fd6e&quot;,&quot;dataInit&quot;:[],&quot;genId&quot;:&quot;213559043&quot;}\" type=\"text/x-scoped-javascript\">/*<![CDATA[*/req(['../javascripts/notebook/playground','../javascripts/notebook/magic/tabs'], \n      function(playground, _magictabs) {\n        // data ==> data-this (in observable.js's scopedEval) ==> this in JS => { dataId, dataInit, ... }\n        // this ==> scope (in observable.js's scopedEval) ==> this.parentElement ==> div.container below (toHtml)\n\n        playground.call(data,\n                        this\n                        ,\n                        {\n    \"f\": _magictabs,\n    \"o\": {}\n  }\n  \n                        \n                        \n                      );\n      }\n    );/*]]>*/</script>\n    <div>\n      <div>\n        <ul class=\"nav nav-tabs\" id=\"ul213559043\"><li>\n              <a href=\"#tab213559043-0\"><i class=\"fa fa-table\"/></a>\n            </li><li>\n              <a href=\"#tab213559043-1\"><i class=\"fa fa-dot-circle-o\"/></a>\n            </li><li>\n              <a href=\"#tab213559043-2\"><i class=\"fa fa-line-chart\"/></a>\n            </li><li>\n              <a href=\"#tab213559043-3\"><i class=\"fa fa-bar-chart\"/></a>\n            </li><li>\n              <a href=\"#tab213559043-4\"><i class=\"fa fa-cubes\"/></a>\n            </li></ul>\n\n        <div class=\"tab-content\" id=\"tab213559043\"><div class=\"tab-pane\" id=\"tab213559043-0\">\n            <div>\n      <script data-this=\"{&quot;dataId&quot;:&quot;anona261c4b7a3444fa84cc94adfb9e633f2&quot;,&quot;dataInit&quot;:[{&quot;_1&quot;:0,&quot;_2&quot;:1},{&quot;_1&quot;:1,&quot;_2&quot;:2}],&quot;genId&quot;:&quot;382733283&quot;}\" type=\"text/x-scoped-javascript\">/*<![CDATA[*/req(['../javascripts/notebook/playground','../javascripts/notebook/magic/tableChart'], \n      function(playground, _magictableChart) {\n        // data ==> data-this (in observable.js's scopedEval) ==> this in JS => { dataId, dataInit, ... }\n        // this ==> scope (in observable.js's scopedEval) ==> this.parentElement ==> div.container below (toHtml)\n\n        playground.call(data,\n                        this\n                        ,\n                        {\n    \"f\": _magictableChart,\n    \"o\": {\"headers\":[\"_1\",\"_2\"],\"width\":600,\"height\":400}\n  }\n  \n                        \n                        \n                      );\n      }\n    );/*]]>*/</script>\n    <div>\n      <span class=\"chart-total-item-count\"><p data-bind=\"text: value\"><script data-this=\"{&quot;valueId&quot;:&quot;anon0b7a1bd356d974577ee7a4fe5153dfab&quot;,&quot;initialValue&quot;:&quot;2&quot;}\" type=\"text/x-scoped-javascript\">/*<![CDATA[*/\nreq(\n['observable', 'knockout'],\nfunction (O, ko) {\n  ko.applyBindings({\n      value: O.makeObservable(valueId, initialValue)\n    },\n    this\n  );\n});\n        /*]]>*/</script></p> entries total</span>\n      <span class=\"chart-sampling-warning\"><p data-bind=\"text: value\"><script data-this=\"{&quot;valueId&quot;:&quot;anonaa033e5095ec5fed56a528dfd317e42e&quot;,&quot;initialValue&quot;:&quot;&quot;}\" type=\"text/x-scoped-javascript\">/*<![CDATA[*/\nreq(\n['observable', 'knockout'],\nfunction (O, ko) {\n  ko.applyBindings({\n      value: O.makeObservable(valueId, initialValue)\n    },\n    this\n  );\n});\n        /*]]>*/</script></p></span>\n      <div>\n      </div>\n    </div></div>\n            </div><div class=\"tab-pane\" id=\"tab213559043-1\">\n            <div>\n      <script data-this=\"{&quot;dataId&quot;:&quot;anon07da69ca990c751c0c0c63cce3c394fe&quot;,&quot;dataInit&quot;:[{&quot;_1&quot;:0,&quot;_2&quot;:1},{&quot;_1&quot;:1,&quot;_2&quot;:2}],&quot;genId&quot;:&quot;2030325526&quot;}\" type=\"text/x-scoped-javascript\">/*<![CDATA[*/req(['../javascripts/notebook/playground','../javascripts/notebook/magic/scatterChart'], \n      function(playground, _magicscatterChart) {\n        // data ==> data-this (in observable.js's scopedEval) ==> this in JS => { dataId, dataInit, ... }\n        // this ==> scope (in observable.js's scopedEval) ==> this.parentElement ==> div.container below (toHtml)\n\n        playground.call(data,\n                        this\n                        ,\n                        {\n    \"f\": _magicscatterChart,\n    \"o\": {\"x\":\"_1\",\"y\":\"_2\",\"width\":600,\"height\":400}\n  }\n  \n                        \n                        \n                      );\n      }\n    );/*]]>*/</script>\n    <div>\n      <span class=\"chart-total-item-count\"><p data-bind=\"text: value\"><script data-this=\"{&quot;valueId&quot;:&quot;anon86f766b4f1c3f8472fbcdff168ec19aa&quot;,&quot;initialValue&quot;:&quot;2&quot;}\" type=\"text/x-scoped-javascript\">/*<![CDATA[*/\nreq(\n['observable', 'knockout'],\nfunction (O, ko) {\n  ko.applyBindings({\n      value: O.makeObservable(valueId, initialValue)\n    },\n    this\n  );\n});\n        /*]]>*/</script></p> entries total</span>\n      <span class=\"chart-sampling-warning\"><p data-bind=\"text: value\"><script data-this=\"{&quot;valueId&quot;:&quot;anone10b794c79c78b84d5ed80c0eb867099&quot;,&quot;initialValue&quot;:&quot;&quot;}\" type=\"text/x-scoped-javascript\">/*<![CDATA[*/\nreq(\n['observable', 'knockout'],\nfunction (O, ko) {\n  ko.applyBindings({\n      value: O.makeObservable(valueId, initialValue)\n    },\n    this\n  );\n});\n        /*]]>*/</script></p></span>\n      <div>\n      </div>\n    </div></div>\n            </div><div class=\"tab-pane\" id=\"tab213559043-2\">\n            <div>\n      <script data-this=\"{&quot;dataId&quot;:&quot;anonf28d1a1d7fe4d5a3d40a40b1591ae2cb&quot;,&quot;dataInit&quot;:[{&quot;_1&quot;:0,&quot;_2&quot;:1},{&quot;_1&quot;:1,&quot;_2&quot;:2}],&quot;genId&quot;:&quot;859717048&quot;}\" type=\"text/x-scoped-javascript\">/*<![CDATA[*/req(['../javascripts/notebook/playground','../javascripts/notebook/magic/lineChart'], \n      function(playground, _magiclineChart) {\n        // data ==> data-this (in observable.js's scopedEval) ==> this in JS => { dataId, dataInit, ... }\n        // this ==> scope (in observable.js's scopedEval) ==> this.parentElement ==> div.container below (toHtml)\n\n        playground.call(data,\n                        this\n                        ,\n                        {\n    \"f\": _magiclineChart,\n    \"o\": {\"x\":\"_1\",\"y\":\"_2\",\"width\":600,\"height\":400}\n  }\n  \n                        \n                        \n                      );\n      }\n    );/*]]>*/</script>\n    <div>\n      <span class=\"chart-total-item-count\"><p data-bind=\"text: value\"><script data-this=\"{&quot;valueId&quot;:&quot;anon107fed8f898cf83772291fb93f162094&quot;,&quot;initialValue&quot;:&quot;2&quot;}\" type=\"text/x-scoped-javascript\">/*<![CDATA[*/\nreq(\n['observable', 'knockout'],\nfunction (O, ko) {\n  ko.applyBindings({\n      value: O.makeObservable(valueId, initialValue)\n    },\n    this\n  );\n});\n        /*]]>*/</script></p> entries total</span>\n      <span class=\"chart-sampling-warning\"><p data-bind=\"text: value\"><script data-this=\"{&quot;valueId&quot;:&quot;anon9c397ac64939aa318e8e7f55b29b83d5&quot;,&quot;initialValue&quot;:&quot;&quot;}\" type=\"text/x-scoped-javascript\">/*<![CDATA[*/\nreq(\n['observable', 'knockout'],\nfunction (O, ko) {\n  ko.applyBindings({\n      value: O.makeObservable(valueId, initialValue)\n    },\n    this\n  );\n});\n        /*]]>*/</script></p></span>\n      <div>\n      </div>\n    </div></div>\n            </div><div class=\"tab-pane\" id=\"tab213559043-3\">\n            <div>\n      <script data-this=\"{&quot;dataId&quot;:&quot;anon932da5e256e13bc6d7e8f85958bad265&quot;,&quot;dataInit&quot;:[{&quot;_1&quot;:0,&quot;_2&quot;:1},{&quot;_1&quot;:1,&quot;_2&quot;:2}],&quot;genId&quot;:&quot;1873119086&quot;}\" type=\"text/x-scoped-javascript\">/*<![CDATA[*/req(['../javascripts/notebook/playground','../javascripts/notebook/magic/barChart'], \n      function(playground, _magicbarChart) {\n        // data ==> data-this (in observable.js's scopedEval) ==> this in JS => { dataId, dataInit, ... }\n        // this ==> scope (in observable.js's scopedEval) ==> this.parentElement ==> div.container below (toHtml)\n\n        playground.call(data,\n                        this\n                        ,\n                        {\n    \"f\": _magicbarChart,\n    \"o\": {\"x\":\"_1\",\"y\":\"_2\",\"width\":600,\"height\":400}\n  }\n  \n                        \n                        \n                      );\n      }\n    );/*]]>*/</script>\n    <div>\n      <span class=\"chart-total-item-count\"><p data-bind=\"text: value\"><script data-this=\"{&quot;valueId&quot;:&quot;anonccdce0ae52045a2722b61f98a0810b7d&quot;,&quot;initialValue&quot;:&quot;2&quot;}\" type=\"text/x-scoped-javascript\">/*<![CDATA[*/\nreq(\n['observable', 'knockout'],\nfunction (O, ko) {\n  ko.applyBindings({\n      value: O.makeObservable(valueId, initialValue)\n    },\n    this\n  );\n});\n        /*]]>*/</script></p> entries total</span>\n      <span class=\"chart-sampling-warning\"><p data-bind=\"text: value\"><script data-this=\"{&quot;valueId&quot;:&quot;anond38490d380271cec97b67120f5b83bcd&quot;,&quot;initialValue&quot;:&quot;&quot;}\" type=\"text/x-scoped-javascript\">/*<![CDATA[*/\nreq(\n['observable', 'knockout'],\nfunction (O, ko) {\n  ko.applyBindings({\n      value: O.makeObservable(valueId, initialValue)\n    },\n    this\n  );\n});\n        /*]]>*/</script></p></span>\n      <div>\n      </div>\n    </div></div>\n            </div><div class=\"tab-pane\" id=\"tab213559043-4\">\n            <div>\n      <script data-this=\"{&quot;dataId&quot;:&quot;anonc026e4e19e6c4273ca25bef747283b0e&quot;,&quot;dataInit&quot;:[{&quot;_1&quot;:0,&quot;_2&quot;:1},{&quot;_1&quot;:1,&quot;_2&quot;:2}],&quot;genId&quot;:&quot;309180717&quot;}\" type=\"text/x-scoped-javascript\">/*<![CDATA[*/req(['../javascripts/notebook/playground','../javascripts/notebook/magic/pivotChart'], \n      function(playground, _magicpivotChart) {\n        // data ==> data-this (in observable.js's scopedEval) ==> this in JS => { dataId, dataInit, ... }\n        // this ==> scope (in observable.js's scopedEval) ==> this.parentElement ==> div.container below (toHtml)\n\n        playground.call(data,\n                        this\n                        ,\n                        {\n    \"f\": _magicpivotChart,\n    \"o\": {\"width\":600,\"height\":400,\"derivedAttributes\":{},\"extraOptions\":{}}\n  }\n  \n                        \n                        \n                      );\n      }\n    );/*]]>*/</script>\n    <div>\n      <span class=\"chart-total-item-count\"><p data-bind=\"text: value\"><script data-this=\"{&quot;valueId&quot;:&quot;anon0375ba3748526e4039e47c47f5c0dd04&quot;,&quot;initialValue&quot;:&quot;2&quot;}\" type=\"text/x-scoped-javascript\">/*<![CDATA[*/\nreq(\n['observable', 'knockout'],\nfunction (O, ko) {\n  ko.applyBindings({\n      value: O.makeObservable(valueId, initialValue)\n    },\n    this\n  );\n});\n        /*]]>*/</script></p> entries total</span>\n      <span class=\"chart-sampling-warning\"><p data-bind=\"text: value\"><script data-this=\"{&quot;valueId&quot;:&quot;anonc0ff654a452798edb3d9d09e953fa94a&quot;,&quot;initialValue&quot;:&quot;&quot;}\" type=\"text/x-scoped-javascript\">/*<![CDATA[*/\nreq(\n['observable', 'knockout'],\nfunction (O, ko) {\n  ko.applyBindings({\n      value: O.makeObservable(valueId, initialValue)\n    },\n    this\n  );\n});\n        /*]]>*/</script></p></span>\n      <div>\n      </div>\n    </div></div>\n            </div></div>\n      </div>\n    </div></div>"
          },
          "output_type" : "execute_result",
          "execution_count" : 11,
          "time" : "Took: 1.196s, at 2018-09-12 15:13"
        }
      ]
    }
  ],
  "nbformat" : 4
}