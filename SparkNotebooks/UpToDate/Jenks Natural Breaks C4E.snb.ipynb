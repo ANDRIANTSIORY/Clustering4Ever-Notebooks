{
  "metadata" : {
    "id" : "4b2bd907-5c2e-4930-bd49-a58d5a037535",
    "name" : "Jenks Natural Breaks",
    "user_save_timestamp" : "1970-01-01T01:00:00.000Z",
    "auto_save_timestamp" : "1970-01-01T01:00:00.000Z",
    "language_info" : {
      "name" : "scala",
      "file_extension" : "scala",
      "codemirror_mode" : "text/x-scala"
    },
    "trusted" : true,
    "sparkNotebook" : null,
    "customLocalRepo" : null,
    "customRepos" : [
      "clustering4ever % default % http://dl.bintray.com/clustering4ever/Clustering4Ever % maven"
    ],
    "customDeps" : [
      "com.github.haifengl:smile-scala_2.11:1.5.0",
      "clustering4ever % clustering4ever_2.11 % 0.6.4"
    ],
    "customImports" : null,
    "customArgs" : null,
    "customSparkConf" : null,
    "customVars" : null
  },
  "cells" : [
    {
      "metadata" : {
        "id" : "BE172624139A4A01951B826AE7AF0CD3"
      },
      "cell_type" : "markdown",
      "source" : "# [Clustering4Ever](https://github.com/Clustering4Ever/Clustering4Ever) on [SparkNotebook](http://spark-notebook.io/) by [LIPN](https://lipn.univ-paris13.fr/) [A3](https://lipn.univ-paris13.fr/accueil/equipe/a3/) team"
    },
    {
      "metadata" : {
        "id" : "D84F486CFB7440A584CC263619A18662"
      },
      "cell_type" : "markdown",
      "source" : "# Jenks Natural Breaks"
    },
    {
      "metadata" : {
        "trusted" : true,
        "input_collapsed" : false,
        "collapsed" : false,
        "id" : "742D2962FB7D44B19D04F3A315F2BA3C"
      },
      "cell_type" : "code",
      "source" : [
        "import clustering4ever.scala.clustering.JenksNaturalBreaks\n",
        "import scala.collection.mutable"
      ],
      "outputs" : [
        {
          "name" : "stdout",
          "output_type" : "stream",
          "text" : "import clustering4ever.scala.clustering.JenksNaturalBreaks\nimport scala.collection.mutable\n"
        },
        {
          "metadata" : { },
          "data" : {
            "text/html" : ""
          },
          "output_type" : "execute_result",
          "execution_count" : 1,
          "time" : "Took: 0.842s, at 2018-09-07 14:19"
        }
      ]
    },
    {
      "metadata" : {
        "trusted" : true,
        "input_collapsed" : false,
        "collapsed" : false,
        "id" : "D4419D13D8884D118B394790BFF2325F"
      },
      "cell_type" : "code",
      "source" : [
        "val gs = Array.fill(10000)(scala.util.Random.nextDouble).sorted"
      ],
      "outputs" : [
        {
          "name" : "stdout",
          "output_type" : "stream",
          "text" : "gs: Array[Double] = Array(9.39702406499432E-6, 1.3687383091043337E-4, 1.4714213249211738E-4, 4.3707023556183167E-4, 5.937419007280287E-4, 8.39906750353614E-4, 9.932733827613394E-4, 0.0010217608247474752, 0.0010226834935554985, 0.0010255416828877095, 0.0010668346334772316, 0.0010779229432031912, 0.0010928231208645611, 0.001275222840581236, 0.0013946583125939993, 0.0016956878372154094, 0.0017293315462142411, 0.0017396260787542195, 0.0020405729117305427, 0.0022200412489716825, 0.00225205595346345, 0.002341710923194573, 0.0023522292111574084, 0.00257407502851692, 0.0026012216825839207, 0.0028026824694465935, 0.002866304391968666, 0.0028890793327358555, 0.002918572330988245, 0.0030486361160845243, 0.003071882918874058, 0.0031425023148650144, 0.00315688881702203, 0.003307555785624694, 0.00336..."
        },
        {
          "metadata" : { },
          "data" : {
            "text/html" : ""
          },
          "output_type" : "execute_result",
          "execution_count" : 2,
          "time" : "Took: 0.863s, at 2018-09-07 14:19"
        }
      ]
    },
    {
      "metadata" : {
        "trusted" : true,
        "input_collapsed" : false,
        "collapsed" : false,
        "presentation" : {
          "tabs_state" : "{\n  \"tab_id\": \"#tab1961620904-0\"\n}",
          "pivot_chart_state" : "{\n  \"hiddenAttributes\": [],\n  \"menuLimit\": 200,\n  \"cols\": [],\n  \"rows\": [],\n  \"vals\": [],\n  \"exclusions\": {},\n  \"inclusions\": {},\n  \"unusedAttrsVertical\": 85,\n  \"autoSortUnusedAttrs\": false,\n  \"inclusionsInfo\": {},\n  \"aggregatorName\": \"Count\",\n  \"rendererName\": \"Table\"\n}"
        },
        "id" : "1B0F3F60873A42959F2E58D499677814"
      },
      "cell_type" : "code",
      "source" : [
        "val breaks = 5\n",
        "\n",
        "val jnb = JenksNaturalBreaks.jenksBrks(gs, breaks).zipWithIndex"
      ],
      "outputs" : [
        {
          "name" : "stdout",
          "output_type" : "stream",
          "text" : "breaks: Int = 5\njnb: scala.collection.immutable.Vector[(Double, Int)] = Vector((9.39702406499432E-6,0), (0.25436082657006887,1), (0.5041313372035665,2), (0.7522472986352524,3), (0.9999135094070463,4))\n"
        },
        {
          "metadata" : { },
          "data" : {
            "text/html" : ""
          },
          "output_type" : "execute_result",
          "execution_count" : 3,
          "time" : "Took: 1.891s, at 2018-09-07 14:19"
        }
      ]
    },
    {
      "metadata" : {
        "id" : "2955FB64C45747EA8C9BB2A4B480BF16"
      },
      "cell_type" : "markdown",
      "source" : "# Fill clusters"
    },
    {
      "metadata" : {
        "trusted" : true,
        "input_collapsed" : false,
        "collapsed" : false,
        "id" : "AC7968B361D84B0F8AF459DB829F0CA4"
      },
      "cell_type" : "code",
      "source" : [
        "val values = Array.fill(breaks - 1)(mutable.ArrayBuffer.empty[Double])\n",
        "\n",
        "gs.foreach( v => values(jnb.find(_._1 > v).getOrElse((0D, breaks - 1))._2 - 1) += v )"
      ],
      "outputs" : [
        {
          "name" : "stdout",
          "output_type" : "stream",
          "text" : "values: Array[scala.collection.mutable.ArrayBuffer[Double]] = Array(ArrayBuffer(9.39702406499432E-6, 1.3687383091043337E-4, 1.4714213249211738E-4, 4.3707023556183167E-4, 5.937419007280287E-4, 8.39906750353614E-4, 9.932733827613394E-4, 0.0010217608247474752, 0.0010226834935554985, 0.0010255416828877095, 0.0010668346334772316, 0.0010779229432031912, 0.0010928231208645611, 0.001275222840581236, 0.0013946583125939993, 0.0016956878372154094, 0.0017293315462142411, 0.0017396260787542195, 0.0020405729117305427, 0.0022200412489716825, 0.00225205595346345, 0.002341710923194573, 0.0023522292111574084, 0.00257407502851692, 0.0026012216825839207, 0.0028026824694465935, 0.002866304391968666, 0.0028890793327358555, 0.002918572330988245, 0.0030486361160845243, 0.003071882918874058, 0.00314250231486501..."
        },
        {
          "metadata" : { },
          "data" : {
            "text/html" : ""
          },
          "output_type" : "execute_result",
          "execution_count" : 4,
          "time" : "Took: 1.235s, at 2018-09-07 14:19"
        }
      ]
    },
    {
      "metadata" : {
        "trusted" : true,
        "input_collapsed" : false,
        "collapsed" : false,
        "presentation" : {
          "tabs_state" : "{\n  \"tab_id\": \"#tab865138198-0\"\n}",
          "pivot_chart_state" : "{\n  \"hiddenAttributes\": [],\n  \"menuLimit\": 200,\n  \"cols\": [],\n  \"rows\": [],\n  \"vals\": [],\n  \"exclusions\": {},\n  \"inclusions\": {},\n  \"unusedAttrsVertical\": 85,\n  \"autoSortUnusedAttrs\": false,\n  \"inclusionsInfo\": {},\n  \"aggregatorName\": \"Count\",\n  \"rendererName\": \"Table\"\n}"
        },
        "id" : "BED8A1C4C41D41ACAE96090CBC000A24"
      },
      "cell_type" : "code",
      "source" : [
        "jnb"
      ],
      "outputs" : [
        {
          "name" : "stdout",
          "output_type" : "stream",
          "text" : "res10: scala.collection.immutable.Vector[(Double, Int)] = Vector((9.39702406499432E-6,0), (0.25436082657006887,1), (0.5041313372035665,2), (0.7522472986352524,3), (0.9999135094070463,4))\n"
        },
        {
          "metadata" : { },
          "data" : {
            "text/html" : "<div>\n      <script data-this=\"{&quot;dataId&quot;:&quot;anon115dbe06a7a8403dd5d8eecb884bf0c1&quot;,&quot;dataInit&quot;:[],&quot;genId&quot;:&quot;865138198&quot;}\" type=\"text/x-scoped-javascript\">/*<![CDATA[*/req(['../javascripts/notebook/playground','../javascripts/notebook/magic/tabs'], \n      function(playground, _magictabs) {\n        // data ==> data-this (in observable.js's scopedEval) ==> this in JS => { dataId, dataInit, ... }\n        // this ==> scope (in observable.js's scopedEval) ==> this.parentElement ==> div.container below (toHtml)\n\n        playground.call(data,\n                        this\n                        ,\n                        {\n    \"f\": _magictabs,\n    \"o\": {}\n  }\n  \n                        \n                        \n                      );\n      }\n    );/*]]>*/</script>\n    <div>\n      <div>\n        <ul class=\"nav nav-tabs\" id=\"ul865138198\"><li>\n              <a href=\"#tab865138198-0\"><i class=\"fa fa-table\"/></a>\n            </li><li>\n              <a href=\"#tab865138198-1\"><i class=\"fa fa-dot-circle-o\"/></a>\n            </li><li>\n              <a href=\"#tab865138198-2\"><i class=\"fa fa-line-chart\"/></a>\n            </li><li>\n              <a href=\"#tab865138198-3\"><i class=\"fa fa-bar-chart\"/></a>\n            </li><li>\n              <a href=\"#tab865138198-4\"><i class=\"fa fa-cubes\"/></a>\n            </li></ul>\n\n        <div class=\"tab-content\" id=\"tab865138198\"><div class=\"tab-pane\" id=\"tab865138198-0\">\n            <div>\n      <script data-this=\"{&quot;dataId&quot;:&quot;anon8484052b844578e6db4d6c3d8cbb4ecb&quot;,&quot;dataInit&quot;:[{&quot;_1&quot;:0.00000939702406499432,&quot;_2&quot;:0},{&quot;_1&quot;:0.25436082657006887,&quot;_2&quot;:1},{&quot;_1&quot;:0.5041313372035665,&quot;_2&quot;:2},{&quot;_1&quot;:0.7522472986352524,&quot;_2&quot;:3},{&quot;_1&quot;:0.9999135094070463,&quot;_2&quot;:4}],&quot;genId&quot;:&quot;271530696&quot;}\" type=\"text/x-scoped-javascript\">/*<![CDATA[*/req(['../javascripts/notebook/playground','../javascripts/notebook/magic/tableChart'], \n      function(playground, _magictableChart) {\n        // data ==> data-this (in observable.js's scopedEval) ==> this in JS => { dataId, dataInit, ... }\n        // this ==> scope (in observable.js's scopedEval) ==> this.parentElement ==> div.container below (toHtml)\n\n        playground.call(data,\n                        this\n                        ,\n                        {\n    \"f\": _magictableChart,\n    \"o\": {\"headers\":[\"_1\",\"_2\"],\"width\":600,\"height\":400}\n  }\n  \n                        \n                        \n                      );\n      }\n    );/*]]>*/</script>\n    <div>\n      <span class=\"chart-total-item-count\"><p data-bind=\"text: value\"><script data-this=\"{&quot;valueId&quot;:&quot;anon820cc636aaf890a2c83a545e972bcf16&quot;,&quot;initialValue&quot;:&quot;5&quot;}\" type=\"text/x-scoped-javascript\">/*<![CDATA[*/\nreq(\n['observable', 'knockout'],\nfunction (O, ko) {\n  ko.applyBindings({\n      value: O.makeObservable(valueId, initialValue)\n    },\n    this\n  );\n});\n        /*]]>*/</script></p> entries total</span>\n      <span class=\"chart-sampling-warning\"><p data-bind=\"text: value\"><script data-this=\"{&quot;valueId&quot;:&quot;anon47a351f0fa85152917849d9bdd2ce22d&quot;,&quot;initialValue&quot;:&quot;&quot;}\" type=\"text/x-scoped-javascript\">/*<![CDATA[*/\nreq(\n['observable', 'knockout'],\nfunction (O, ko) {\n  ko.applyBindings({\n      value: O.makeObservable(valueId, initialValue)\n    },\n    this\n  );\n});\n        /*]]>*/</script></p></span>\n      <div>\n      </div>\n    </div></div>\n            </div><div class=\"tab-pane\" id=\"tab865138198-1\">\n            <div>\n      <script data-this=\"{&quot;dataId&quot;:&quot;anon597c9daf69ee052fcb8fc05c04a793dc&quot;,&quot;dataInit&quot;:[{&quot;_1&quot;:0.00000939702406499432,&quot;_2&quot;:0},{&quot;_1&quot;:0.25436082657006887,&quot;_2&quot;:1},{&quot;_1&quot;:0.5041313372035665,&quot;_2&quot;:2},{&quot;_1&quot;:0.7522472986352524,&quot;_2&quot;:3},{&quot;_1&quot;:0.9999135094070463,&quot;_2&quot;:4}],&quot;genId&quot;:&quot;284353933&quot;}\" type=\"text/x-scoped-javascript\">/*<![CDATA[*/req(['../javascripts/notebook/playground','../javascripts/notebook/magic/scatterChart'], \n      function(playground, _magicscatterChart) {\n        // data ==> data-this (in observable.js's scopedEval) ==> this in JS => { dataId, dataInit, ... }\n        // this ==> scope (in observable.js's scopedEval) ==> this.parentElement ==> div.container below (toHtml)\n\n        playground.call(data,\n                        this\n                        ,\n                        {\n    \"f\": _magicscatterChart,\n    \"o\": {\"x\":\"_1\",\"y\":\"_2\",\"width\":600,\"height\":400}\n  }\n  \n                        \n                        \n                      );\n      }\n    );/*]]>*/</script>\n    <div>\n      <span class=\"chart-total-item-count\"><p data-bind=\"text: value\"><script data-this=\"{&quot;valueId&quot;:&quot;anon81504af55762749f5af62450e1f6354d&quot;,&quot;initialValue&quot;:&quot;5&quot;}\" type=\"text/x-scoped-javascript\">/*<![CDATA[*/\nreq(\n['observable', 'knockout'],\nfunction (O, ko) {\n  ko.applyBindings({\n      value: O.makeObservable(valueId, initialValue)\n    },\n    this\n  );\n});\n        /*]]>*/</script></p> entries total</span>\n      <span class=\"chart-sampling-warning\"><p data-bind=\"text: value\"><script data-this=\"{&quot;valueId&quot;:&quot;anon4fb689f7c9db7dfee0864742036e9274&quot;,&quot;initialValue&quot;:&quot;&quot;}\" type=\"text/x-scoped-javascript\">/*<![CDATA[*/\nreq(\n['observable', 'knockout'],\nfunction (O, ko) {\n  ko.applyBindings({\n      value: O.makeObservable(valueId, initialValue)\n    },\n    this\n  );\n});\n        /*]]>*/</script></p></span>\n      <div>\n      </div>\n    </div></div>\n            </div><div class=\"tab-pane\" id=\"tab865138198-2\">\n            <div>\n      <script data-this=\"{&quot;dataId&quot;:&quot;anon8e8990dbc55f67bf503d7540e32e5966&quot;,&quot;dataInit&quot;:[{&quot;_1&quot;:0.00000939702406499432,&quot;_2&quot;:0},{&quot;_1&quot;:0.25436082657006887,&quot;_2&quot;:1},{&quot;_1&quot;:0.5041313372035665,&quot;_2&quot;:2},{&quot;_1&quot;:0.7522472986352524,&quot;_2&quot;:3},{&quot;_1&quot;:0.9999135094070463,&quot;_2&quot;:4}],&quot;genId&quot;:&quot;2139097353&quot;}\" type=\"text/x-scoped-javascript\">/*<![CDATA[*/req(['../javascripts/notebook/playground','../javascripts/notebook/magic/lineChart'], \n      function(playground, _magiclineChart) {\n        // data ==> data-this (in observable.js's scopedEval) ==> this in JS => { dataId, dataInit, ... }\n        // this ==> scope (in observable.js's scopedEval) ==> this.parentElement ==> div.container below (toHtml)\n\n        playground.call(data,\n                        this\n                        ,\n                        {\n    \"f\": _magiclineChart,\n    \"o\": {\"x\":\"_1\",\"y\":\"_2\",\"width\":600,\"height\":400}\n  }\n  \n                        \n                        \n                      );\n      }\n    );/*]]>*/</script>\n    <div>\n      <span class=\"chart-total-item-count\"><p data-bind=\"text: value\"><script data-this=\"{&quot;valueId&quot;:&quot;anon29aa50ef94dd37fb2c0a0761b3781932&quot;,&quot;initialValue&quot;:&quot;5&quot;}\" type=\"text/x-scoped-javascript\">/*<![CDATA[*/\nreq(\n['observable', 'knockout'],\nfunction (O, ko) {\n  ko.applyBindings({\n      value: O.makeObservable(valueId, initialValue)\n    },\n    this\n  );\n});\n        /*]]>*/</script></p> entries total</span>\n      <span class=\"chart-sampling-warning\"><p data-bind=\"text: value\"><script data-this=\"{&quot;valueId&quot;:&quot;anona6ffeb09f3c8c892d6533184debeea61&quot;,&quot;initialValue&quot;:&quot;&quot;}\" type=\"text/x-scoped-javascript\">/*<![CDATA[*/\nreq(\n['observable', 'knockout'],\nfunction (O, ko) {\n  ko.applyBindings({\n      value: O.makeObservable(valueId, initialValue)\n    },\n    this\n  );\n});\n        /*]]>*/</script></p></span>\n      <div>\n      </div>\n    </div></div>\n            </div><div class=\"tab-pane\" id=\"tab865138198-3\">\n            <div>\n      <script data-this=\"{&quot;dataId&quot;:&quot;anonc802ec74825bd1cc0f3ebf1d729b8e82&quot;,&quot;dataInit&quot;:[{&quot;_1&quot;:0.00000939702406499432,&quot;_2&quot;:0},{&quot;_1&quot;:0.25436082657006887,&quot;_2&quot;:1},{&quot;_1&quot;:0.5041313372035665,&quot;_2&quot;:2},{&quot;_1&quot;:0.7522472986352524,&quot;_2&quot;:3},{&quot;_1&quot;:0.9999135094070463,&quot;_2&quot;:4}],&quot;genId&quot;:&quot;356194834&quot;}\" type=\"text/x-scoped-javascript\">/*<![CDATA[*/req(['../javascripts/notebook/playground','../javascripts/notebook/magic/barChart'], \n      function(playground, _magicbarChart) {\n        // data ==> data-this (in observable.js's scopedEval) ==> this in JS => { dataId, dataInit, ... }\n        // this ==> scope (in observable.js's scopedEval) ==> this.parentElement ==> div.container below (toHtml)\n\n        playground.call(data,\n                        this\n                        ,\n                        {\n    \"f\": _magicbarChart,\n    \"o\": {\"x\":\"_1\",\"y\":\"_2\",\"width\":600,\"height\":400}\n  }\n  \n                        \n                        \n                      );\n      }\n    );/*]]>*/</script>\n    <div>\n      <span class=\"chart-total-item-count\"><p data-bind=\"text: value\"><script data-this=\"{&quot;valueId&quot;:&quot;anone5768b1fc75cef8098c8f265f56761d1&quot;,&quot;initialValue&quot;:&quot;5&quot;}\" type=\"text/x-scoped-javascript\">/*<![CDATA[*/\nreq(\n['observable', 'knockout'],\nfunction (O, ko) {\n  ko.applyBindings({\n      value: O.makeObservable(valueId, initialValue)\n    },\n    this\n  );\n});\n        /*]]>*/</script></p> entries total</span>\n      <span class=\"chart-sampling-warning\"><p data-bind=\"text: value\"><script data-this=\"{&quot;valueId&quot;:&quot;anonfb0a5a440f74c6108074639eb2c9bf15&quot;,&quot;initialValue&quot;:&quot;&quot;}\" type=\"text/x-scoped-javascript\">/*<![CDATA[*/\nreq(\n['observable', 'knockout'],\nfunction (O, ko) {\n  ko.applyBindings({\n      value: O.makeObservable(valueId, initialValue)\n    },\n    this\n  );\n});\n        /*]]>*/</script></p></span>\n      <div>\n      </div>\n    </div></div>\n            </div><div class=\"tab-pane\" id=\"tab865138198-4\">\n            <div>\n      <script data-this=\"{&quot;dataId&quot;:&quot;anonb65fe3533edab73fa32bc2cd10aae1bb&quot;,&quot;dataInit&quot;:[{&quot;_1&quot;:0.00000939702406499432,&quot;_2&quot;:0},{&quot;_1&quot;:0.25436082657006887,&quot;_2&quot;:1},{&quot;_1&quot;:0.5041313372035665,&quot;_2&quot;:2},{&quot;_1&quot;:0.7522472986352524,&quot;_2&quot;:3},{&quot;_1&quot;:0.9999135094070463,&quot;_2&quot;:4}],&quot;genId&quot;:&quot;1288567498&quot;}\" type=\"text/x-scoped-javascript\">/*<![CDATA[*/req(['../javascripts/notebook/playground','../javascripts/notebook/magic/pivotChart'], \n      function(playground, _magicpivotChart) {\n        // data ==> data-this (in observable.js's scopedEval) ==> this in JS => { dataId, dataInit, ... }\n        // this ==> scope (in observable.js's scopedEval) ==> this.parentElement ==> div.container below (toHtml)\n\n        playground.call(data,\n                        this\n                        ,\n                        {\n    \"f\": _magicpivotChart,\n    \"o\": {\"width\":600,\"height\":400,\"derivedAttributes\":{},\"extraOptions\":{}}\n  }\n  \n                        \n                        \n                      );\n      }\n    );/*]]>*/</script>\n    <div>\n      <span class=\"chart-total-item-count\"><p data-bind=\"text: value\"><script data-this=\"{&quot;valueId&quot;:&quot;anonb53489b4966c299e2ddc4b24d2604265&quot;,&quot;initialValue&quot;:&quot;5&quot;}\" type=\"text/x-scoped-javascript\">/*<![CDATA[*/\nreq(\n['observable', 'knockout'],\nfunction (O, ko) {\n  ko.applyBindings({\n      value: O.makeObservable(valueId, initialValue)\n    },\n    this\n  );\n});\n        /*]]>*/</script></p> entries total</span>\n      <span class=\"chart-sampling-warning\"><p data-bind=\"text: value\"><script data-this=\"{&quot;valueId&quot;:&quot;anonfd3d9fef185049cc2b3ab30f8baece9c&quot;,&quot;initialValue&quot;:&quot;&quot;}\" type=\"text/x-scoped-javascript\">/*<![CDATA[*/\nreq(\n['observable', 'knockout'],\nfunction (O, ko) {\n  ko.applyBindings({\n      value: O.makeObservable(valueId, initialValue)\n    },\n    this\n  );\n});\n        /*]]>*/</script></p></span>\n      <div>\n      </div>\n    </div></div>\n            </div></div>\n      </div>\n    </div></div>"
          },
          "output_type" : "execute_result",
          "execution_count" : 7,
          "time" : "Took: 0.739s, at 2018-09-07 14:20"
        }
      ]
    },
    {
      "metadata" : {
        "trusted" : true,
        "input_collapsed" : false,
        "collapsed" : false,
        "presentation" : {
          "tabs_state" : "{\n  \"tab_id\": \"#tab1087897888-0\"\n}",
          "pivot_chart_state" : "{\n  \"hiddenAttributes\": [],\n  \"menuLimit\": 200,\n  \"cols\": [],\n  \"rows\": [],\n  \"vals\": [],\n  \"exclusions\": {},\n  \"inclusions\": {},\n  \"unusedAttrsVertical\": 85,\n  \"autoSortUnusedAttrs\": false,\n  \"inclusionsInfo\": {},\n  \"aggregatorName\": \"Count\",\n  \"rendererName\": \"Table\"\n}"
        },
        "id" : "A60646F4CC75485D819BEA37BAA88CB3"
      },
      "cell_type" : "code",
      "source" : [
        "values.map(_.size)"
      ],
      "outputs" : [
        {
          "name" : "stdout",
          "output_type" : "stream",
          "text" : "res6: Array[Int] = Array(2495, 2446, 2496, 2563)\n"
        },
        {
          "metadata" : { },
          "data" : {
            "text/html" : "<div>\n      <script data-this=\"{&quot;dataId&quot;:&quot;anon5f90185ca1131090c18b799b68865234&quot;,&quot;dataInit&quot;:[],&quot;genId&quot;:&quot;1087897888&quot;}\" type=\"text/x-scoped-javascript\">/*<![CDATA[*/req(['../javascripts/notebook/playground','../javascripts/notebook/magic/tabs'], \n      function(playground, _magictabs) {\n        // data ==> data-this (in observable.js's scopedEval) ==> this in JS => { dataId, dataInit, ... }\n        // this ==> scope (in observable.js's scopedEval) ==> this.parentElement ==> div.container below (toHtml)\n\n        playground.call(data,\n                        this\n                        ,\n                        {\n    \"f\": _magictabs,\n    \"o\": {}\n  }\n  \n                        \n                        \n                      );\n      }\n    );/*]]>*/</script>\n    <div>\n      <div>\n        <ul class=\"nav nav-tabs\" id=\"ul1087897888\"><li>\n              <a href=\"#tab1087897888-0\"><i class=\"fa fa-table\"/></a>\n            </li><li>\n              <a href=\"#tab1087897888-1\"><i class=\"fa fa-dot-circle-o\"/></a>\n            </li><li>\n              <a href=\"#tab1087897888-2\"><i class=\"fa fa-line-chart\"/></a>\n            </li><li>\n              <a href=\"#tab1087897888-3\"><i class=\"fa fa-bar-chart\"/></a>\n            </li><li>\n              <a href=\"#tab1087897888-4\"><i class=\"fa fa-cubes\"/></a>\n            </li></ul>\n\n        <div class=\"tab-content\" id=\"tab1087897888\"><div class=\"tab-pane\" id=\"tab1087897888-0\">\n            <div>\n      <script data-this=\"{&quot;dataId&quot;:&quot;anonebd509fa53eec8e2ccbbe49ff1092379&quot;,&quot;dataInit&quot;:[{&quot;_1&quot;:0,&quot;_2&quot;:2495},{&quot;_1&quot;:1,&quot;_2&quot;:2446},{&quot;_1&quot;:2,&quot;_2&quot;:2496},{&quot;_1&quot;:3,&quot;_2&quot;:2563}],&quot;genId&quot;:&quot;198816182&quot;}\" type=\"text/x-scoped-javascript\">/*<![CDATA[*/req(['../javascripts/notebook/playground','../javascripts/notebook/magic/tableChart'], \n      function(playground, _magictableChart) {\n        // data ==> data-this (in observable.js's scopedEval) ==> this in JS => { dataId, dataInit, ... }\n        // this ==> scope (in observable.js's scopedEval) ==> this.parentElement ==> div.container below (toHtml)\n\n        playground.call(data,\n                        this\n                        ,\n                        {\n    \"f\": _magictableChart,\n    \"o\": {\"headers\":[\"_1\",\"_2\"],\"width\":600,\"height\":400}\n  }\n  \n                        \n                        \n                      );\n      }\n    );/*]]>*/</script>\n    <div>\n      <span class=\"chart-total-item-count\"><p data-bind=\"text: value\"><script data-this=\"{&quot;valueId&quot;:&quot;anonbd3af9cdc541fdc4a4933867f1645a9d&quot;,&quot;initialValue&quot;:&quot;4&quot;}\" type=\"text/x-scoped-javascript\">/*<![CDATA[*/\nreq(\n['observable', 'knockout'],\nfunction (O, ko) {\n  ko.applyBindings({\n      value: O.makeObservable(valueId, initialValue)\n    },\n    this\n  );\n});\n        /*]]>*/</script></p> entries total</span>\n      <span class=\"chart-sampling-warning\"><p data-bind=\"text: value\"><script data-this=\"{&quot;valueId&quot;:&quot;anon4ba602fe68aa8f06a65cbbf3d79019df&quot;,&quot;initialValue&quot;:&quot;&quot;}\" type=\"text/x-scoped-javascript\">/*<![CDATA[*/\nreq(\n['observable', 'knockout'],\nfunction (O, ko) {\n  ko.applyBindings({\n      value: O.makeObservable(valueId, initialValue)\n    },\n    this\n  );\n});\n        /*]]>*/</script></p></span>\n      <div>\n      </div>\n    </div></div>\n            </div><div class=\"tab-pane\" id=\"tab1087897888-1\">\n            <div>\n      <script data-this=\"{&quot;dataId&quot;:&quot;anon2c6a8b83fee5fcc86fd2029095fae86f&quot;,&quot;dataInit&quot;:[{&quot;_1&quot;:0,&quot;_2&quot;:2495},{&quot;_1&quot;:1,&quot;_2&quot;:2446},{&quot;_1&quot;:2,&quot;_2&quot;:2496},{&quot;_1&quot;:3,&quot;_2&quot;:2563}],&quot;genId&quot;:&quot;207084181&quot;}\" type=\"text/x-scoped-javascript\">/*<![CDATA[*/req(['../javascripts/notebook/playground','../javascripts/notebook/magic/scatterChart'], \n      function(playground, _magicscatterChart) {\n        // data ==> data-this (in observable.js's scopedEval) ==> this in JS => { dataId, dataInit, ... }\n        // this ==> scope (in observable.js's scopedEval) ==> this.parentElement ==> div.container below (toHtml)\n\n        playground.call(data,\n                        this\n                        ,\n                        {\n    \"f\": _magicscatterChart,\n    \"o\": {\"x\":\"_1\",\"y\":\"_2\",\"width\":600,\"height\":400}\n  }\n  \n                        \n                        \n                      );\n      }\n    );/*]]>*/</script>\n    <div>\n      <span class=\"chart-total-item-count\"><p data-bind=\"text: value\"><script data-this=\"{&quot;valueId&quot;:&quot;anon42553f15d6f2a6fb7f0fff6223b8a834&quot;,&quot;initialValue&quot;:&quot;4&quot;}\" type=\"text/x-scoped-javascript\">/*<![CDATA[*/\nreq(\n['observable', 'knockout'],\nfunction (O, ko) {\n  ko.applyBindings({\n      value: O.makeObservable(valueId, initialValue)\n    },\n    this\n  );\n});\n        /*]]>*/</script></p> entries total</span>\n      <span class=\"chart-sampling-warning\"><p data-bind=\"text: value\"><script data-this=\"{&quot;valueId&quot;:&quot;anon5bbd59aee47562274fab1635364dcc46&quot;,&quot;initialValue&quot;:&quot;&quot;}\" type=\"text/x-scoped-javascript\">/*<![CDATA[*/\nreq(\n['observable', 'knockout'],\nfunction (O, ko) {\n  ko.applyBindings({\n      value: O.makeObservable(valueId, initialValue)\n    },\n    this\n  );\n});\n        /*]]>*/</script></p></span>\n      <div>\n      </div>\n    </div></div>\n            </div><div class=\"tab-pane\" id=\"tab1087897888-2\">\n            <div>\n      <script data-this=\"{&quot;dataId&quot;:&quot;anon6a9d0350c2e7103b1d49a00501121049&quot;,&quot;dataInit&quot;:[{&quot;_1&quot;:0,&quot;_2&quot;:2495},{&quot;_1&quot;:1,&quot;_2&quot;:2446},{&quot;_1&quot;:2,&quot;_2&quot;:2496},{&quot;_1&quot;:3,&quot;_2&quot;:2563}],&quot;genId&quot;:&quot;907007343&quot;}\" type=\"text/x-scoped-javascript\">/*<![CDATA[*/req(['../javascripts/notebook/playground','../javascripts/notebook/magic/lineChart'], \n      function(playground, _magiclineChart) {\n        // data ==> data-this (in observable.js's scopedEval) ==> this in JS => { dataId, dataInit, ... }\n        // this ==> scope (in observable.js's scopedEval) ==> this.parentElement ==> div.container below (toHtml)\n\n        playground.call(data,\n                        this\n                        ,\n                        {\n    \"f\": _magiclineChart,\n    \"o\": {\"x\":\"_1\",\"y\":\"_2\",\"width\":600,\"height\":400}\n  }\n  \n                        \n                        \n                      );\n      }\n    );/*]]>*/</script>\n    <div>\n      <span class=\"chart-total-item-count\"><p data-bind=\"text: value\"><script data-this=\"{&quot;valueId&quot;:&quot;anonc1b27dfae8eecc7907879e6cc9115449&quot;,&quot;initialValue&quot;:&quot;4&quot;}\" type=\"text/x-scoped-javascript\">/*<![CDATA[*/\nreq(\n['observable', 'knockout'],\nfunction (O, ko) {\n  ko.applyBindings({\n      value: O.makeObservable(valueId, initialValue)\n    },\n    this\n  );\n});\n        /*]]>*/</script></p> entries total</span>\n      <span class=\"chart-sampling-warning\"><p data-bind=\"text: value\"><script data-this=\"{&quot;valueId&quot;:&quot;anone23a8ae050f87e02e392b113753d967d&quot;,&quot;initialValue&quot;:&quot;&quot;}\" type=\"text/x-scoped-javascript\">/*<![CDATA[*/\nreq(\n['observable', 'knockout'],\nfunction (O, ko) {\n  ko.applyBindings({\n      value: O.makeObservable(valueId, initialValue)\n    },\n    this\n  );\n});\n        /*]]>*/</script></p></span>\n      <div>\n      </div>\n    </div></div>\n            </div><div class=\"tab-pane\" id=\"tab1087897888-3\">\n            <div>\n      <script data-this=\"{&quot;dataId&quot;:&quot;anonad6267b44e38e14aaecb795a8c773d51&quot;,&quot;dataInit&quot;:[{&quot;_1&quot;:0,&quot;_2&quot;:2495},{&quot;_1&quot;:1,&quot;_2&quot;:2446},{&quot;_1&quot;:2,&quot;_2&quot;:2496},{&quot;_1&quot;:3,&quot;_2&quot;:2563}],&quot;genId&quot;:&quot;426265584&quot;}\" type=\"text/x-scoped-javascript\">/*<![CDATA[*/req(['../javascripts/notebook/playground','../javascripts/notebook/magic/barChart'], \n      function(playground, _magicbarChart) {\n        // data ==> data-this (in observable.js's scopedEval) ==> this in JS => { dataId, dataInit, ... }\n        // this ==> scope (in observable.js's scopedEval) ==> this.parentElement ==> div.container below (toHtml)\n\n        playground.call(data,\n                        this\n                        ,\n                        {\n    \"f\": _magicbarChart,\n    \"o\": {\"x\":\"_1\",\"y\":\"_2\",\"width\":600,\"height\":400}\n  }\n  \n                        \n                        \n                      );\n      }\n    );/*]]>*/</script>\n    <div>\n      <span class=\"chart-total-item-count\"><p data-bind=\"text: value\"><script data-this=\"{&quot;valueId&quot;:&quot;anondeeebfad224c154ca23f4e58020390c3&quot;,&quot;initialValue&quot;:&quot;4&quot;}\" type=\"text/x-scoped-javascript\">/*<![CDATA[*/\nreq(\n['observable', 'knockout'],\nfunction (O, ko) {\n  ko.applyBindings({\n      value: O.makeObservable(valueId, initialValue)\n    },\n    this\n  );\n});\n        /*]]>*/</script></p> entries total</span>\n      <span class=\"chart-sampling-warning\"><p data-bind=\"text: value\"><script data-this=\"{&quot;valueId&quot;:&quot;anon242d9d9547789a3ecc8c26195cbcca92&quot;,&quot;initialValue&quot;:&quot;&quot;}\" type=\"text/x-scoped-javascript\">/*<![CDATA[*/\nreq(\n['observable', 'knockout'],\nfunction (O, ko) {\n  ko.applyBindings({\n      value: O.makeObservable(valueId, initialValue)\n    },\n    this\n  );\n});\n        /*]]>*/</script></p></span>\n      <div>\n      </div>\n    </div></div>\n            </div><div class=\"tab-pane\" id=\"tab1087897888-4\">\n            <div>\n      <script data-this=\"{&quot;dataId&quot;:&quot;anon8fe91415b4860c9eacc9c8859dae2ece&quot;,&quot;dataInit&quot;:[{&quot;_1&quot;:0,&quot;_2&quot;:2495},{&quot;_1&quot;:1,&quot;_2&quot;:2446},{&quot;_1&quot;:2,&quot;_2&quot;:2496},{&quot;_1&quot;:3,&quot;_2&quot;:2563}],&quot;genId&quot;:&quot;1445969834&quot;}\" type=\"text/x-scoped-javascript\">/*<![CDATA[*/req(['../javascripts/notebook/playground','../javascripts/notebook/magic/pivotChart'], \n      function(playground, _magicpivotChart) {\n        // data ==> data-this (in observable.js's scopedEval) ==> this in JS => { dataId, dataInit, ... }\n        // this ==> scope (in observable.js's scopedEval) ==> this.parentElement ==> div.container below (toHtml)\n\n        playground.call(data,\n                        this\n                        ,\n                        {\n    \"f\": _magicpivotChart,\n    \"o\": {\"width\":600,\"height\":400,\"derivedAttributes\":{},\"extraOptions\":{}}\n  }\n  \n                        \n                        \n                      );\n      }\n    );/*]]>*/</script>\n    <div>\n      <span class=\"chart-total-item-count\"><p data-bind=\"text: value\"><script data-this=\"{&quot;valueId&quot;:&quot;anon52f0c7f442890eebd0fb335c8b10e983&quot;,&quot;initialValue&quot;:&quot;4&quot;}\" type=\"text/x-scoped-javascript\">/*<![CDATA[*/\nreq(\n['observable', 'knockout'],\nfunction (O, ko) {\n  ko.applyBindings({\n      value: O.makeObservable(valueId, initialValue)\n    },\n    this\n  );\n});\n        /*]]>*/</script></p> entries total</span>\n      <span class=\"chart-sampling-warning\"><p data-bind=\"text: value\"><script data-this=\"{&quot;valueId&quot;:&quot;anonf28ba75d690a78b3318c400bc221a68b&quot;,&quot;initialValue&quot;:&quot;&quot;}\" type=\"text/x-scoped-javascript\">/*<![CDATA[*/\nreq(\n['observable', 'knockout'],\nfunction (O, ko) {\n  ko.applyBindings({\n      value: O.makeObservable(valueId, initialValue)\n    },\n    this\n  );\n});\n        /*]]>*/</script></p></span>\n      <div>\n      </div>\n    </div></div>\n            </div></div>\n      </div>\n    </div></div>"
          },
          "output_type" : "execute_result",
          "execution_count" : 5,
          "time" : "Took: 1.006s, at 2018-09-07 14:19"
        }
      ]
    }
  ],
  "nbformat" : 4
}