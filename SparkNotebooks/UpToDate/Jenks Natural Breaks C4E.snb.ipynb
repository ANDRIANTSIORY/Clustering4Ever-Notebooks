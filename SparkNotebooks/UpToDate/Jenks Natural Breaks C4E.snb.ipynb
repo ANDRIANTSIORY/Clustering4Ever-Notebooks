{
  "metadata" : {
    "id" : "4b2bd907-5c2e-4930-bd49-a58d5a037535",
    "name" : "Jenks Natural Breaks",
    "user_save_timestamp" : "1970-01-01T01:00:00.000Z",
    "auto_save_timestamp" : "1970-01-01T01:00:00.000Z",
    "language_info" : {
      "name" : "scala",
      "file_extension" : "scala",
      "codemirror_mode" : "text/x-scala"
    },
    "trusted" : true,
    "sparkNotebook" : null,
    "customLocalRepo" : null,
    "customRepos" : [
      "clustering4ever % default % http://dl.bintray.com/clustering4ever/Clustering4Ever % maven"
    ],
    "customDeps" : [
      "com.github.haifengl:smile-scala_2.11:1.5.0",
      "clustering4ever % clustering4ever_2.11 % 0.6.8"
    ],
    "customImports" : null,
    "customArgs" : null,
    "customSparkConf" : null,
    "customVars" : null
  },
  "cells" : [
    {
      "metadata" : {
        "id" : "BE172624139A4A01951B826AE7AF0CD3"
      },
      "cell_type" : "markdown",
      "source" : "# [Clustering4Ever](https://github.com/Clustering4Ever/Clustering4Ever) on [SparkNotebook](http://spark-notebook.io/) by [LIPN](https://lipn.univ-paris13.fr/) [A3](https://lipn.univ-paris13.fr/accueil/equipe/a3/) team"
    },
    {
      "metadata" : {
        "id" : "D84F486CFB7440A584CC263619A18662"
      },
      "cell_type" : "markdown",
      "source" : "# Jenks Natural Breaks"
    },
    {
      "metadata" : {
        "trusted" : true,
        "input_collapsed" : false,
        "collapsed" : false,
        "id" : "742D2962FB7D44B19D04F3A315F2BA3C"
      },
      "cell_type" : "code",
      "source" : [
        "import clustering4ever.scala.clustering.JenksNaturalBreaks\n",
        "import scala.collection.mutable"
      ],
      "outputs" : [
        {
          "name" : "stdout",
          "output_type" : "stream",
          "text" : "import clustering4ever.scala.clustering.JenksNaturalBreaks\nimport scala.collection.mutable\n"
        },
        {
          "metadata" : { },
          "data" : {
            "text/html" : ""
          },
          "output_type" : "execute_result",
          "execution_count" : 1,
          "time" : "Took: 1.011s, at 2018-09-09 23:24"
        }
      ]
    },
    {
      "metadata" : {
        "trusted" : true,
        "input_collapsed" : false,
        "collapsed" : false,
        "id" : "D4419D13D8884D118B394790BFF2325F"
      },
      "cell_type" : "code",
      "source" : [
        "val gs = Array.fill(10000)(scala.util.Random.nextDouble).sorted"
      ],
      "outputs" : [
        {
          "name" : "stdout",
          "output_type" : "stream",
          "text" : "gs: Array[Double] = Array(1.6858732561730871E-4, 2.8604635689932767E-4, 6.296744751137506E-4, 6.584850559332445E-4, 6.99610592715727E-4, 7.628247541656696E-4, 7.900495736683499E-4, 8.173377413346339E-4, 8.79885638662814E-4, 8.897167651058524E-4, 9.797835705520619E-4, 0.0010785522752574384, 0.0012389980122746724, 0.0014699928128688589, 0.001643901792451552, 0.0016982313226279189, 0.0017250558810871786, 0.0018438583829777366, 0.00196187057675945, 0.0020053671407458395, 0.002048198429818404, 0.002147437096846061, 0.0022160733182755576, 0.002459871937728564, 0.002508323752715036, 0.0026233846816450246, 0.0027100603089452724, 0.002751508506272482, 0.0028874514938954654, 0.003027879612646056, 0.003091313440693688, 0.0033880530558357824, 0.0034470653204375923, 0.0035104291114430586, 0.00355182..."
        },
        {
          "metadata" : { },
          "data" : {
            "text/html" : ""
          },
          "output_type" : "execute_result",
          "execution_count" : 2,
          "time" : "Took: 0.988s, at 2018-09-09 23:24"
        }
      ]
    },
    {
      "metadata" : {
        "trusted" : true,
        "input_collapsed" : false,
        "collapsed" : false,
        "presentation" : {
          "tabs_state" : "{\n  \"tab_id\": \"#tab1961620904-0\"\n}",
          "pivot_chart_state" : "{\n  \"hiddenAttributes\": [],\n  \"menuLimit\": 200,\n  \"cols\": [],\n  \"rows\": [],\n  \"vals\": [],\n  \"exclusions\": {},\n  \"inclusions\": {},\n  \"unusedAttrsVertical\": 85,\n  \"autoSortUnusedAttrs\": false,\n  \"inclusionsInfo\": {},\n  \"aggregatorName\": \"Count\",\n  \"rendererName\": \"Table\"\n}"
        },
        "id" : "1B0F3F60873A42959F2E58D499677814"
      },
      "cell_type" : "code",
      "source" : [
        "val breaks = 5\n",
        "\n",
        "val jnb = JenksNaturalBreaks.jenksBrks(gs, breaks).zipWithIndex"
      ],
      "outputs" : [
        {
          "name" : "stdout",
          "output_type" : "stream",
          "text" : "breaks: Int = 5\njnb: scala.collection.immutable.Vector[(Double, Int)] = Vector((1.6858732561730871E-4,0), (0.24270759409613274,1), (0.4928303956931904,2), (0.7478184326753481,3), (0.9999382918657301,4))\n"
        },
        {
          "metadata" : { },
          "data" : {
            "text/html" : ""
          },
          "output_type" : "execute_result",
          "execution_count" : 3,
          "time" : "Took: 2.336s, at 2018-09-09 23:24"
        }
      ]
    },
    {
      "metadata" : {
        "id" : "2955FB64C45747EA8C9BB2A4B480BF16"
      },
      "cell_type" : "markdown",
      "source" : "# Fill clusters"
    },
    {
      "metadata" : {
        "trusted" : true,
        "input_collapsed" : false,
        "collapsed" : false,
        "id" : "AC7968B361D84B0F8AF459DB829F0CA4"
      },
      "cell_type" : "code",
      "source" : [
        "val values = Array.fill(breaks - 1)(mutable.ArrayBuffer.empty[Double])\n",
        "\n",
        "gs.foreach( v => values(jnb.find(_._1 > v).getOrElse((0D, breaks - 1))._2 - 1) += v )"
      ],
      "outputs" : [
        {
          "name" : "stdout",
          "output_type" : "stream",
          "text" : "values: Array[scala.collection.mutable.ArrayBuffer[Double]] = Array(ArrayBuffer(1.6858732561730871E-4, 2.8604635689932767E-4, 6.296744751137506E-4, 6.584850559332445E-4, 6.99610592715727E-4, 7.628247541656696E-4, 7.900495736683499E-4, 8.173377413346339E-4, 8.79885638662814E-4, 8.897167651058524E-4, 9.797835705520619E-4, 0.0010785522752574384, 0.0012389980122746724, 0.0014699928128688589, 0.001643901792451552, 0.0016982313226279189, 0.0017250558810871786, 0.0018438583829777366, 0.00196187057675945, 0.0020053671407458395, 0.002048198429818404, 0.002147437096846061, 0.0022160733182755576, 0.002459871937728564, 0.002508323752715036, 0.0026233846816450246, 0.0027100603089452724, 0.002751508506272482, 0.0028874514938954654, 0.003027879612646056, 0.003091313440693688, 0.0033880530558357824, 0...."
        },
        {
          "metadata" : { },
          "data" : {
            "text/html" : ""
          },
          "output_type" : "execute_result",
          "execution_count" : 4,
          "time" : "Took: 1.061s, at 2018-09-09 23:24"
        }
      ]
    },
    {
      "metadata" : {
        "trusted" : true,
        "input_collapsed" : false,
        "collapsed" : false,
        "presentation" : {
          "tabs_state" : "{\n  \"tab_id\": \"#tab1948801964-0\"\n}",
          "pivot_chart_state" : "{\n  \"hiddenAttributes\": [],\n  \"menuLimit\": 200,\n  \"cols\": [],\n  \"rows\": [],\n  \"vals\": [],\n  \"exclusions\": {},\n  \"inclusions\": {},\n  \"unusedAttrsVertical\": 85,\n  \"autoSortUnusedAttrs\": false,\n  \"inclusionsInfo\": {},\n  \"aggregatorName\": \"Count\",\n  \"rendererName\": \"Table\"\n}"
        },
        "id" : "BED8A1C4C41D41ACAE96090CBC000A24"
      },
      "cell_type" : "code",
      "source" : [
        "jnb"
      ],
      "outputs" : [
        {
          "name" : "stdout",
          "output_type" : "stream",
          "text" : "res6: scala.collection.immutable.Vector[(Double, Int)] = Vector((1.6858732561730871E-4,0), (0.24270759409613274,1), (0.4928303956931904,2), (0.7478184326753481,3), (0.9999382918657301,4))\n"
        },
        {
          "metadata" : { },
          "data" : {
            "text/html" : "<div>\n      <script data-this=\"{&quot;dataId&quot;:&quot;anon398379a0f3ceac4ee84dfcb3336e4a98&quot;,&quot;dataInit&quot;:[],&quot;genId&quot;:&quot;1948801964&quot;}\" type=\"text/x-scoped-javascript\">/*<![CDATA[*/req(['../javascripts/notebook/playground','../javascripts/notebook/magic/tabs'], \n      function(playground, _magictabs) {\n        // data ==> data-this (in observable.js's scopedEval) ==> this in JS => { dataId, dataInit, ... }\n        // this ==> scope (in observable.js's scopedEval) ==> this.parentElement ==> div.container below (toHtml)\n\n        playground.call(data,\n                        this\n                        ,\n                        {\n    \"f\": _magictabs,\n    \"o\": {}\n  }\n  \n                        \n                        \n                      );\n      }\n    );/*]]>*/</script>\n    <div>\n      <div>\n        <ul class=\"nav nav-tabs\" id=\"ul1948801964\"><li>\n              <a href=\"#tab1948801964-0\"><i class=\"fa fa-table\"/></a>\n            </li><li>\n              <a href=\"#tab1948801964-1\"><i class=\"fa fa-dot-circle-o\"/></a>\n            </li><li>\n              <a href=\"#tab1948801964-2\"><i class=\"fa fa-line-chart\"/></a>\n            </li><li>\n              <a href=\"#tab1948801964-3\"><i class=\"fa fa-bar-chart\"/></a>\n            </li><li>\n              <a href=\"#tab1948801964-4\"><i class=\"fa fa-cubes\"/></a>\n            </li></ul>\n\n        <div class=\"tab-content\" id=\"tab1948801964\"><div class=\"tab-pane\" id=\"tab1948801964-0\">\n            <div>\n      <script data-this=\"{&quot;dataId&quot;:&quot;anon0b48e83ad48773d59d9f253d17634bb0&quot;,&quot;dataInit&quot;:[{&quot;_1&quot;:0.00016858732561730871,&quot;_2&quot;:0},{&quot;_1&quot;:0.24270759409613274,&quot;_2&quot;:1},{&quot;_1&quot;:0.4928303956931904,&quot;_2&quot;:2},{&quot;_1&quot;:0.7478184326753481,&quot;_2&quot;:3},{&quot;_1&quot;:0.9999382918657301,&quot;_2&quot;:4}],&quot;genId&quot;:&quot;2145848265&quot;}\" type=\"text/x-scoped-javascript\">/*<![CDATA[*/req(['../javascripts/notebook/playground','../javascripts/notebook/magic/tableChart'], \n      function(playground, _magictableChart) {\n        // data ==> data-this (in observable.js's scopedEval) ==> this in JS => { dataId, dataInit, ... }\n        // this ==> scope (in observable.js's scopedEval) ==> this.parentElement ==> div.container below (toHtml)\n\n        playground.call(data,\n                        this\n                        ,\n                        {\n    \"f\": _magictableChart,\n    \"o\": {\"headers\":[\"_1\",\"_2\"],\"width\":600,\"height\":400}\n  }\n  \n                        \n                        \n                      );\n      }\n    );/*]]>*/</script>\n    <div>\n      <span class=\"chart-total-item-count\"><p data-bind=\"text: value\"><script data-this=\"{&quot;valueId&quot;:&quot;anon028695d350f5280dfa912b0e2759880b&quot;,&quot;initialValue&quot;:&quot;5&quot;}\" type=\"text/x-scoped-javascript\">/*<![CDATA[*/\nreq(\n['observable', 'knockout'],\nfunction (O, ko) {\n  ko.applyBindings({\n      value: O.makeObservable(valueId, initialValue)\n    },\n    this\n  );\n});\n        /*]]>*/</script></p> entries total</span>\n      <span class=\"chart-sampling-warning\"><p data-bind=\"text: value\"><script data-this=\"{&quot;valueId&quot;:&quot;anon9a0b857198e07bce74f2836ff5f7246e&quot;,&quot;initialValue&quot;:&quot;&quot;}\" type=\"text/x-scoped-javascript\">/*<![CDATA[*/\nreq(\n['observable', 'knockout'],\nfunction (O, ko) {\n  ko.applyBindings({\n      value: O.makeObservable(valueId, initialValue)\n    },\n    this\n  );\n});\n        /*]]>*/</script></p></span>\n      <div>\n      </div>\n    </div></div>\n            </div><div class=\"tab-pane\" id=\"tab1948801964-1\">\n            <div>\n      <script data-this=\"{&quot;dataId&quot;:&quot;anonccbc447d77a9e5a50bfaaa92c465df1a&quot;,&quot;dataInit&quot;:[{&quot;_1&quot;:0.00016858732561730871,&quot;_2&quot;:0},{&quot;_1&quot;:0.24270759409613274,&quot;_2&quot;:1},{&quot;_1&quot;:0.4928303956931904,&quot;_2&quot;:2},{&quot;_1&quot;:0.7478184326753481,&quot;_2&quot;:3},{&quot;_1&quot;:0.9999382918657301,&quot;_2&quot;:4}],&quot;genId&quot;:&quot;600039959&quot;}\" type=\"text/x-scoped-javascript\">/*<![CDATA[*/req(['../javascripts/notebook/playground','../javascripts/notebook/magic/scatterChart'], \n      function(playground, _magicscatterChart) {\n        // data ==> data-this (in observable.js's scopedEval) ==> this in JS => { dataId, dataInit, ... }\n        // this ==> scope (in observable.js's scopedEval) ==> this.parentElement ==> div.container below (toHtml)\n\n        playground.call(data,\n                        this\n                        ,\n                        {\n    \"f\": _magicscatterChart,\n    \"o\": {\"x\":\"_1\",\"y\":\"_2\",\"width\":600,\"height\":400}\n  }\n  \n                        \n                        \n                      );\n      }\n    );/*]]>*/</script>\n    <div>\n      <span class=\"chart-total-item-count\"><p data-bind=\"text: value\"><script data-this=\"{&quot;valueId&quot;:&quot;anon2afc4875199c191dbb19cde315da7fad&quot;,&quot;initialValue&quot;:&quot;5&quot;}\" type=\"text/x-scoped-javascript\">/*<![CDATA[*/\nreq(\n['observable', 'knockout'],\nfunction (O, ko) {\n  ko.applyBindings({\n      value: O.makeObservable(valueId, initialValue)\n    },\n    this\n  );\n});\n        /*]]>*/</script></p> entries total</span>\n      <span class=\"chart-sampling-warning\"><p data-bind=\"text: value\"><script data-this=\"{&quot;valueId&quot;:&quot;anondcfb793ad618656dd5c6989cb229385c&quot;,&quot;initialValue&quot;:&quot;&quot;}\" type=\"text/x-scoped-javascript\">/*<![CDATA[*/\nreq(\n['observable', 'knockout'],\nfunction (O, ko) {\n  ko.applyBindings({\n      value: O.makeObservable(valueId, initialValue)\n    },\n    this\n  );\n});\n        /*]]>*/</script></p></span>\n      <div>\n      </div>\n    </div></div>\n            </div><div class=\"tab-pane\" id=\"tab1948801964-2\">\n            <div>\n      <script data-this=\"{&quot;dataId&quot;:&quot;anon4c600da6f05aaaee0126d07486d0416e&quot;,&quot;dataInit&quot;:[{&quot;_1&quot;:0.00016858732561730871,&quot;_2&quot;:0},{&quot;_1&quot;:0.24270759409613274,&quot;_2&quot;:1},{&quot;_1&quot;:0.4928303956931904,&quot;_2&quot;:2},{&quot;_1&quot;:0.7478184326753481,&quot;_2&quot;:3},{&quot;_1&quot;:0.9999382918657301,&quot;_2&quot;:4}],&quot;genId&quot;:&quot;529758547&quot;}\" type=\"text/x-scoped-javascript\">/*<![CDATA[*/req(['../javascripts/notebook/playground','../javascripts/notebook/magic/lineChart'], \n      function(playground, _magiclineChart) {\n        // data ==> data-this (in observable.js's scopedEval) ==> this in JS => { dataId, dataInit, ... }\n        // this ==> scope (in observable.js's scopedEval) ==> this.parentElement ==> div.container below (toHtml)\n\n        playground.call(data,\n                        this\n                        ,\n                        {\n    \"f\": _magiclineChart,\n    \"o\": {\"x\":\"_1\",\"y\":\"_2\",\"width\":600,\"height\":400}\n  }\n  \n                        \n                        \n                      );\n      }\n    );/*]]>*/</script>\n    <div>\n      <span class=\"chart-total-item-count\"><p data-bind=\"text: value\"><script data-this=\"{&quot;valueId&quot;:&quot;anon8ed6b04d0959f1f2d3afc4fb2ffd63f1&quot;,&quot;initialValue&quot;:&quot;5&quot;}\" type=\"text/x-scoped-javascript\">/*<![CDATA[*/\nreq(\n['observable', 'knockout'],\nfunction (O, ko) {\n  ko.applyBindings({\n      value: O.makeObservable(valueId, initialValue)\n    },\n    this\n  );\n});\n        /*]]>*/</script></p> entries total</span>\n      <span class=\"chart-sampling-warning\"><p data-bind=\"text: value\"><script data-this=\"{&quot;valueId&quot;:&quot;anonbcb43652bd90c5f1785a8db9bf06919a&quot;,&quot;initialValue&quot;:&quot;&quot;}\" type=\"text/x-scoped-javascript\">/*<![CDATA[*/\nreq(\n['observable', 'knockout'],\nfunction (O, ko) {\n  ko.applyBindings({\n      value: O.makeObservable(valueId, initialValue)\n    },\n    this\n  );\n});\n        /*]]>*/</script></p></span>\n      <div>\n      </div>\n    </div></div>\n            </div><div class=\"tab-pane\" id=\"tab1948801964-3\">\n            <div>\n      <script data-this=\"{&quot;dataId&quot;:&quot;anon30bf41a03492c1dcfeb2130d7c4a8dad&quot;,&quot;dataInit&quot;:[{&quot;_1&quot;:0.00016858732561730871,&quot;_2&quot;:0},{&quot;_1&quot;:0.24270759409613274,&quot;_2&quot;:1},{&quot;_1&quot;:0.4928303956931904,&quot;_2&quot;:2},{&quot;_1&quot;:0.7478184326753481,&quot;_2&quot;:3},{&quot;_1&quot;:0.9999382918657301,&quot;_2&quot;:4}],&quot;genId&quot;:&quot;1604691976&quot;}\" type=\"text/x-scoped-javascript\">/*<![CDATA[*/req(['../javascripts/notebook/playground','../javascripts/notebook/magic/barChart'], \n      function(playground, _magicbarChart) {\n        // data ==> data-this (in observable.js's scopedEval) ==> this in JS => { dataId, dataInit, ... }\n        // this ==> scope (in observable.js's scopedEval) ==> this.parentElement ==> div.container below (toHtml)\n\n        playground.call(data,\n                        this\n                        ,\n                        {\n    \"f\": _magicbarChart,\n    \"o\": {\"x\":\"_1\",\"y\":\"_2\",\"width\":600,\"height\":400}\n  }\n  \n                        \n                        \n                      );\n      }\n    );/*]]>*/</script>\n    <div>\n      <span class=\"chart-total-item-count\"><p data-bind=\"text: value\"><script data-this=\"{&quot;valueId&quot;:&quot;anonb6c49b6e4e5dfe59a2895b6a2e66ab9b&quot;,&quot;initialValue&quot;:&quot;5&quot;}\" type=\"text/x-scoped-javascript\">/*<![CDATA[*/\nreq(\n['observable', 'knockout'],\nfunction (O, ko) {\n  ko.applyBindings({\n      value: O.makeObservable(valueId, initialValue)\n    },\n    this\n  );\n});\n        /*]]>*/</script></p> entries total</span>\n      <span class=\"chart-sampling-warning\"><p data-bind=\"text: value\"><script data-this=\"{&quot;valueId&quot;:&quot;anon1a0d7fa44c5d40babbf39547093ef729&quot;,&quot;initialValue&quot;:&quot;&quot;}\" type=\"text/x-scoped-javascript\">/*<![CDATA[*/\nreq(\n['observable', 'knockout'],\nfunction (O, ko) {\n  ko.applyBindings({\n      value: O.makeObservable(valueId, initialValue)\n    },\n    this\n  );\n});\n        /*]]>*/</script></p></span>\n      <div>\n      </div>\n    </div></div>\n            </div><div class=\"tab-pane\" id=\"tab1948801964-4\">\n            <div>\n      <script data-this=\"{&quot;dataId&quot;:&quot;anon812a879eefabb5d5d59bda316bb578e1&quot;,&quot;dataInit&quot;:[{&quot;_1&quot;:0.00016858732561730871,&quot;_2&quot;:0},{&quot;_1&quot;:0.24270759409613274,&quot;_2&quot;:1},{&quot;_1&quot;:0.4928303956931904,&quot;_2&quot;:2},{&quot;_1&quot;:0.7478184326753481,&quot;_2&quot;:3},{&quot;_1&quot;:0.9999382918657301,&quot;_2&quot;:4}],&quot;genId&quot;:&quot;1686247723&quot;}\" type=\"text/x-scoped-javascript\">/*<![CDATA[*/req(['../javascripts/notebook/playground','../javascripts/notebook/magic/pivotChart'], \n      function(playground, _magicpivotChart) {\n        // data ==> data-this (in observable.js's scopedEval) ==> this in JS => { dataId, dataInit, ... }\n        // this ==> scope (in observable.js's scopedEval) ==> this.parentElement ==> div.container below (toHtml)\n\n        playground.call(data,\n                        this\n                        ,\n                        {\n    \"f\": _magicpivotChart,\n    \"o\": {\"width\":600,\"height\":400,\"derivedAttributes\":{},\"extraOptions\":{}}\n  }\n  \n                        \n                        \n                      );\n      }\n    );/*]]>*/</script>\n    <div>\n      <span class=\"chart-total-item-count\"><p data-bind=\"text: value\"><script data-this=\"{&quot;valueId&quot;:&quot;anonb05fb8d438a651bd0b9f0ae18e86553a&quot;,&quot;initialValue&quot;:&quot;5&quot;}\" type=\"text/x-scoped-javascript\">/*<![CDATA[*/\nreq(\n['observable', 'knockout'],\nfunction (O, ko) {\n  ko.applyBindings({\n      value: O.makeObservable(valueId, initialValue)\n    },\n    this\n  );\n});\n        /*]]>*/</script></p> entries total</span>\n      <span class=\"chart-sampling-warning\"><p data-bind=\"text: value\"><script data-this=\"{&quot;valueId&quot;:&quot;anondd50b96412f056a04614fefffeea7a4b&quot;,&quot;initialValue&quot;:&quot;&quot;}\" type=\"text/x-scoped-javascript\">/*<![CDATA[*/\nreq(\n['observable', 'knockout'],\nfunction (O, ko) {\n  ko.applyBindings({\n      value: O.makeObservable(valueId, initialValue)\n    },\n    this\n  );\n});\n        /*]]>*/</script></p></span>\n      <div>\n      </div>\n    </div></div>\n            </div></div>\n      </div>\n    </div></div>"
          },
          "output_type" : "execute_result",
          "execution_count" : 5,
          "time" : "Took: 1.103s, at 2018-09-09 23:24"
        }
      ]
    },
    {
      "metadata" : {
        "trusted" : true,
        "input_collapsed" : false,
        "collapsed" : false,
        "presentation" : {
          "tabs_state" : "{\n  \"tab_id\": \"#tab407952253-0\"\n}",
          "pivot_chart_state" : "{\n  \"hiddenAttributes\": [],\n  \"menuLimit\": 200,\n  \"cols\": [],\n  \"rows\": [],\n  \"vals\": [],\n  \"exclusions\": {},\n  \"inclusions\": {},\n  \"unusedAttrsVertical\": 85,\n  \"autoSortUnusedAttrs\": false,\n  \"inclusionsInfo\": {},\n  \"aggregatorName\": \"Count\",\n  \"rendererName\": \"Table\"\n}"
        },
        "id" : "A60646F4CC75485D819BEA37BAA88CB3"
      },
      "cell_type" : "code",
      "source" : [
        "values.map(_.size)"
      ],
      "outputs" : [
        {
          "name" : "stdout",
          "output_type" : "stream",
          "text" : "res8: Array[Int] = Array(2474, 2513, 2536, 2477)\n"
        },
        {
          "metadata" : { },
          "data" : {
            "text/html" : "<div>\n      <script data-this=\"{&quot;dataId&quot;:&quot;anon82fa00f8719e44c5ef7056be9ec79c55&quot;,&quot;dataInit&quot;:[],&quot;genId&quot;:&quot;407952253&quot;}\" type=\"text/x-scoped-javascript\">/*<![CDATA[*/req(['../javascripts/notebook/playground','../javascripts/notebook/magic/tabs'], \n      function(playground, _magictabs) {\n        // data ==> data-this (in observable.js's scopedEval) ==> this in JS => { dataId, dataInit, ... }\n        // this ==> scope (in observable.js's scopedEval) ==> this.parentElement ==> div.container below (toHtml)\n\n        playground.call(data,\n                        this\n                        ,\n                        {\n    \"f\": _magictabs,\n    \"o\": {}\n  }\n  \n                        \n                        \n                      );\n      }\n    );/*]]>*/</script>\n    <div>\n      <div>\n        <ul class=\"nav nav-tabs\" id=\"ul407952253\"><li>\n              <a href=\"#tab407952253-0\"><i class=\"fa fa-table\"/></a>\n            </li><li>\n              <a href=\"#tab407952253-1\"><i class=\"fa fa-dot-circle-o\"/></a>\n            </li><li>\n              <a href=\"#tab407952253-2\"><i class=\"fa fa-line-chart\"/></a>\n            </li><li>\n              <a href=\"#tab407952253-3\"><i class=\"fa fa-bar-chart\"/></a>\n            </li><li>\n              <a href=\"#tab407952253-4\"><i class=\"fa fa-cubes\"/></a>\n            </li></ul>\n\n        <div class=\"tab-content\" id=\"tab407952253\"><div class=\"tab-pane\" id=\"tab407952253-0\">\n            <div>\n      <script data-this=\"{&quot;dataId&quot;:&quot;anonf4e5c0d224120a815178e4e73ae8545a&quot;,&quot;dataInit&quot;:[{&quot;_1&quot;:0,&quot;_2&quot;:2474},{&quot;_1&quot;:1,&quot;_2&quot;:2513},{&quot;_1&quot;:2,&quot;_2&quot;:2536},{&quot;_1&quot;:3,&quot;_2&quot;:2477}],&quot;genId&quot;:&quot;488689955&quot;}\" type=\"text/x-scoped-javascript\">/*<![CDATA[*/req(['../javascripts/notebook/playground','../javascripts/notebook/magic/tableChart'], \n      function(playground, _magictableChart) {\n        // data ==> data-this (in observable.js's scopedEval) ==> this in JS => { dataId, dataInit, ... }\n        // this ==> scope (in observable.js's scopedEval) ==> this.parentElement ==> div.container below (toHtml)\n\n        playground.call(data,\n                        this\n                        ,\n                        {\n    \"f\": _magictableChart,\n    \"o\": {\"headers\":[\"_1\",\"_2\"],\"width\":600,\"height\":400}\n  }\n  \n                        \n                        \n                      );\n      }\n    );/*]]>*/</script>\n    <div>\n      <span class=\"chart-total-item-count\"><p data-bind=\"text: value\"><script data-this=\"{&quot;valueId&quot;:&quot;anona407effa48259168b684a28eef4b6ba0&quot;,&quot;initialValue&quot;:&quot;4&quot;}\" type=\"text/x-scoped-javascript\">/*<![CDATA[*/\nreq(\n['observable', 'knockout'],\nfunction (O, ko) {\n  ko.applyBindings({\n      value: O.makeObservable(valueId, initialValue)\n    },\n    this\n  );\n});\n        /*]]>*/</script></p> entries total</span>\n      <span class=\"chart-sampling-warning\"><p data-bind=\"text: value\"><script data-this=\"{&quot;valueId&quot;:&quot;anone1bccab7ba52e4284b5280c4725ed0b6&quot;,&quot;initialValue&quot;:&quot;&quot;}\" type=\"text/x-scoped-javascript\">/*<![CDATA[*/\nreq(\n['observable', 'knockout'],\nfunction (O, ko) {\n  ko.applyBindings({\n      value: O.makeObservable(valueId, initialValue)\n    },\n    this\n  );\n});\n        /*]]>*/</script></p></span>\n      <div>\n      </div>\n    </div></div>\n            </div><div class=\"tab-pane\" id=\"tab407952253-1\">\n            <div>\n      <script data-this=\"{&quot;dataId&quot;:&quot;anond192179e0a5a606faca74839101f9e21&quot;,&quot;dataInit&quot;:[{&quot;_1&quot;:0,&quot;_2&quot;:2474},{&quot;_1&quot;:1,&quot;_2&quot;:2513},{&quot;_1&quot;:2,&quot;_2&quot;:2536},{&quot;_1&quot;:3,&quot;_2&quot;:2477}],&quot;genId&quot;:&quot;396135381&quot;}\" type=\"text/x-scoped-javascript\">/*<![CDATA[*/req(['../javascripts/notebook/playground','../javascripts/notebook/magic/scatterChart'], \n      function(playground, _magicscatterChart) {\n        // data ==> data-this (in observable.js's scopedEval) ==> this in JS => { dataId, dataInit, ... }\n        // this ==> scope (in observable.js's scopedEval) ==> this.parentElement ==> div.container below (toHtml)\n\n        playground.call(data,\n                        this\n                        ,\n                        {\n    \"f\": _magicscatterChart,\n    \"o\": {\"x\":\"_1\",\"y\":\"_2\",\"width\":600,\"height\":400}\n  }\n  \n                        \n                        \n                      );\n      }\n    );/*]]>*/</script>\n    <div>\n      <span class=\"chart-total-item-count\"><p data-bind=\"text: value\"><script data-this=\"{&quot;valueId&quot;:&quot;anonc081c5fa74834324e54274c2deff2e47&quot;,&quot;initialValue&quot;:&quot;4&quot;}\" type=\"text/x-scoped-javascript\">/*<![CDATA[*/\nreq(\n['observable', 'knockout'],\nfunction (O, ko) {\n  ko.applyBindings({\n      value: O.makeObservable(valueId, initialValue)\n    },\n    this\n  );\n});\n        /*]]>*/</script></p> entries total</span>\n      <span class=\"chart-sampling-warning\"><p data-bind=\"text: value\"><script data-this=\"{&quot;valueId&quot;:&quot;anond54d467aef86845f8ea2874390833940&quot;,&quot;initialValue&quot;:&quot;&quot;}\" type=\"text/x-scoped-javascript\">/*<![CDATA[*/\nreq(\n['observable', 'knockout'],\nfunction (O, ko) {\n  ko.applyBindings({\n      value: O.makeObservable(valueId, initialValue)\n    },\n    this\n  );\n});\n        /*]]>*/</script></p></span>\n      <div>\n      </div>\n    </div></div>\n            </div><div class=\"tab-pane\" id=\"tab407952253-2\">\n            <div>\n      <script data-this=\"{&quot;dataId&quot;:&quot;anon9a28af6440aff69d8e22701d00c27393&quot;,&quot;dataInit&quot;:[{&quot;_1&quot;:0,&quot;_2&quot;:2474},{&quot;_1&quot;:1,&quot;_2&quot;:2513},{&quot;_1&quot;:2,&quot;_2&quot;:2536},{&quot;_1&quot;:3,&quot;_2&quot;:2477}],&quot;genId&quot;:&quot;622872152&quot;}\" type=\"text/x-scoped-javascript\">/*<![CDATA[*/req(['../javascripts/notebook/playground','../javascripts/notebook/magic/lineChart'], \n      function(playground, _magiclineChart) {\n        // data ==> data-this (in observable.js's scopedEval) ==> this in JS => { dataId, dataInit, ... }\n        // this ==> scope (in observable.js's scopedEval) ==> this.parentElement ==> div.container below (toHtml)\n\n        playground.call(data,\n                        this\n                        ,\n                        {\n    \"f\": _magiclineChart,\n    \"o\": {\"x\":\"_1\",\"y\":\"_2\",\"width\":600,\"height\":400}\n  }\n  \n                        \n                        \n                      );\n      }\n    );/*]]>*/</script>\n    <div>\n      <span class=\"chart-total-item-count\"><p data-bind=\"text: value\"><script data-this=\"{&quot;valueId&quot;:&quot;anon244df4c69ba7f9b1d2497367e6b62dee&quot;,&quot;initialValue&quot;:&quot;4&quot;}\" type=\"text/x-scoped-javascript\">/*<![CDATA[*/\nreq(\n['observable', 'knockout'],\nfunction (O, ko) {\n  ko.applyBindings({\n      value: O.makeObservable(valueId, initialValue)\n    },\n    this\n  );\n});\n        /*]]>*/</script></p> entries total</span>\n      <span class=\"chart-sampling-warning\"><p data-bind=\"text: value\"><script data-this=\"{&quot;valueId&quot;:&quot;anon9b33b4aa788cc9247b0b184d4a9de63a&quot;,&quot;initialValue&quot;:&quot;&quot;}\" type=\"text/x-scoped-javascript\">/*<![CDATA[*/\nreq(\n['observable', 'knockout'],\nfunction (O, ko) {\n  ko.applyBindings({\n      value: O.makeObservable(valueId, initialValue)\n    },\n    this\n  );\n});\n        /*]]>*/</script></p></span>\n      <div>\n      </div>\n    </div></div>\n            </div><div class=\"tab-pane\" id=\"tab407952253-3\">\n            <div>\n      <script data-this=\"{&quot;dataId&quot;:&quot;anon6d9088b67f6cddc31adab994d2e9d121&quot;,&quot;dataInit&quot;:[{&quot;_1&quot;:0,&quot;_2&quot;:2474},{&quot;_1&quot;:1,&quot;_2&quot;:2513},{&quot;_1&quot;:2,&quot;_2&quot;:2536},{&quot;_1&quot;:3,&quot;_2&quot;:2477}],&quot;genId&quot;:&quot;194202689&quot;}\" type=\"text/x-scoped-javascript\">/*<![CDATA[*/req(['../javascripts/notebook/playground','../javascripts/notebook/magic/barChart'], \n      function(playground, _magicbarChart) {\n        // data ==> data-this (in observable.js's scopedEval) ==> this in JS => { dataId, dataInit, ... }\n        // this ==> scope (in observable.js's scopedEval) ==> this.parentElement ==> div.container below (toHtml)\n\n        playground.call(data,\n                        this\n                        ,\n                        {\n    \"f\": _magicbarChart,\n    \"o\": {\"x\":\"_1\",\"y\":\"_2\",\"width\":600,\"height\":400}\n  }\n  \n                        \n                        \n                      );\n      }\n    );/*]]>*/</script>\n    <div>\n      <span class=\"chart-total-item-count\"><p data-bind=\"text: value\"><script data-this=\"{&quot;valueId&quot;:&quot;anonb2c1f306a66b1751b3aa5e8846a1402d&quot;,&quot;initialValue&quot;:&quot;4&quot;}\" type=\"text/x-scoped-javascript\">/*<![CDATA[*/\nreq(\n['observable', 'knockout'],\nfunction (O, ko) {\n  ko.applyBindings({\n      value: O.makeObservable(valueId, initialValue)\n    },\n    this\n  );\n});\n        /*]]>*/</script></p> entries total</span>\n      <span class=\"chart-sampling-warning\"><p data-bind=\"text: value\"><script data-this=\"{&quot;valueId&quot;:&quot;anon5cc3555eb5826535376cb704c9378ce6&quot;,&quot;initialValue&quot;:&quot;&quot;}\" type=\"text/x-scoped-javascript\">/*<![CDATA[*/\nreq(\n['observable', 'knockout'],\nfunction (O, ko) {\n  ko.applyBindings({\n      value: O.makeObservable(valueId, initialValue)\n    },\n    this\n  );\n});\n        /*]]>*/</script></p></span>\n      <div>\n      </div>\n    </div></div>\n            </div><div class=\"tab-pane\" id=\"tab407952253-4\">\n            <div>\n      <script data-this=\"{&quot;dataId&quot;:&quot;anonc95b499587cf13483836b91610c2e488&quot;,&quot;dataInit&quot;:[{&quot;_1&quot;:0,&quot;_2&quot;:2474},{&quot;_1&quot;:1,&quot;_2&quot;:2513},{&quot;_1&quot;:2,&quot;_2&quot;:2536},{&quot;_1&quot;:3,&quot;_2&quot;:2477}],&quot;genId&quot;:&quot;1509257570&quot;}\" type=\"text/x-scoped-javascript\">/*<![CDATA[*/req(['../javascripts/notebook/playground','../javascripts/notebook/magic/pivotChart'], \n      function(playground, _magicpivotChart) {\n        // data ==> data-this (in observable.js's scopedEval) ==> this in JS => { dataId, dataInit, ... }\n        // this ==> scope (in observable.js's scopedEval) ==> this.parentElement ==> div.container below (toHtml)\n\n        playground.call(data,\n                        this\n                        ,\n                        {\n    \"f\": _magicpivotChart,\n    \"o\": {\"width\":600,\"height\":400,\"derivedAttributes\":{},\"extraOptions\":{}}\n  }\n  \n                        \n                        \n                      );\n      }\n    );/*]]>*/</script>\n    <div>\n      <span class=\"chart-total-item-count\"><p data-bind=\"text: value\"><script data-this=\"{&quot;valueId&quot;:&quot;anonb24b18283f23f117b44d77340b4b9f7f&quot;,&quot;initialValue&quot;:&quot;4&quot;}\" type=\"text/x-scoped-javascript\">/*<![CDATA[*/\nreq(\n['observable', 'knockout'],\nfunction (O, ko) {\n  ko.applyBindings({\n      value: O.makeObservable(valueId, initialValue)\n    },\n    this\n  );\n});\n        /*]]>*/</script></p> entries total</span>\n      <span class=\"chart-sampling-warning\"><p data-bind=\"text: value\"><script data-this=\"{&quot;valueId&quot;:&quot;anonf2f6f80e15381256b108c6efd87de0eb&quot;,&quot;initialValue&quot;:&quot;&quot;}\" type=\"text/x-scoped-javascript\">/*<![CDATA[*/\nreq(\n['observable', 'knockout'],\nfunction (O, ko) {\n  ko.applyBindings({\n      value: O.makeObservable(valueId, initialValue)\n    },\n    this\n  );\n});\n        /*]]>*/</script></p></span>\n      <div>\n      </div>\n    </div></div>\n            </div></div>\n      </div>\n    </div></div>"
          },
          "output_type" : "execute_result",
          "execution_count" : 6,
          "time" : "Took: 0.868s, at 2018-09-09 23:24"
        }
      ]
    }
  ],
  "nbformat" : 4
}