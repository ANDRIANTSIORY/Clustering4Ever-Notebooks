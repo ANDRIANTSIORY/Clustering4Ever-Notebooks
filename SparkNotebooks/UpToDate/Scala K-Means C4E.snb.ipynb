{
  "metadata" : {
    "id" : "5d7fa9b0-e124-41c8-8975-468b29309cca",
    "name" : "Scala K-Means C4E",
    "user_save_timestamp" : "2018-04-04T17:17:57.904Z",
    "auto_save_timestamp" : "1970-01-01T01:00:00.000Z",
    "language_info" : {
      "name" : "scala",
      "file_extension" : "scala",
      "codemirror_mode" : "text/x-scala"
    },
    "trusted" : true,
    "sparkNotebook" : null,
    "customLocalRepo" : "${HOME}/.ivy2",
    "customRepos" : [
      "clustering4ever % default % http://dl.bintray.com/clustering4ever/Clustering4Ever % maven"
    ],
    "customDeps" : [
      "clustering4ever % clustering4ever_2.11 % 0.6.7",
      "com.github.haifengl:smile-scala_2.11:1.5.0"
    ],
    "customImports" : null,
    "customArgs" : null,
    "customSparkConf" : {
      "spark.driver.memory" : "50g",
      "spark.master" : "local[*]"
    },
    "customVars" : null
  },
  "cells" : [
    {
      "metadata" : {
        "id" : "56E473B68DE547C884E92C173F0C2CC7"
      },
      "cell_type" : "markdown",
      "source" : "# [Clustering4Ever](https://github.com/Clustering4Ever/Clustering4Ever) on [SparkNotebook](http://spark-notebook.io/) by [LIPN](https://lipn.univ-paris13.fr/) [A3](https://lipn.univ-paris13.fr/accueil/equipe/a3/) team"
    },
    {
      "metadata" : {
        "id" : "9BE3CBFDDB324D29914085C97E53D087"
      },
      "cell_type" : "markdown",
      "source" : "# Scala _K_-Means"
    },
    {
      "metadata" : {
        "trusted" : true,
        "input_collapsed" : false,
        "collapsed" : false,
        "id" : "2723CA508CC84A868DB0D63A7DB41C03"
      },
      "cell_type" : "code",
      "source" : [
        "import smile.plot._\n",
        "import scala.io.Source\n",
        "import scala.collection.{immutable, mutable, parallel}\n",
        "import clustering4ever.scala.clustering.kmeans.{KMeans, KMeansModel}\n",
        "import clustering4ever.math.distances.scalar.{Euclidean, Cosine, Minkowski}\n",
        "import clustering4ever.scala.indexes.ExternalIndexes\n",
        "import clustering4ever.scala.indexes.NmiNormalizationNature._\n",
        "import clustering4ever.util.ScalaImplicits._\n",
        "import clustering4ever.scala.clusterizables.RealClusterizable\n",
        "import clustering4ever.scala.vectorizables.RealVector"
      ],
      "outputs" : [
        {
          "name" : "stdout",
          "output_type" : "stream",
          "text" : "import smile.plot._\nimport scala.io.Source\nimport scala.collection.{immutable, mutable, parallel}\nimport clustering4ever.scala.clustering.kmeans.{KMeans, KMeansModel}\nimport clustering4ever.math.distances.scalar.{Euclidean, Cosine, Minkowski}\nimport clustering4ever.scala.indexes.ExternalIndexes\nimport clustering4ever.scala.indexes.NmiNormalizationNature._\nimport clustering4ever.util.ScalaImplicits._\nimport clustering4ever.scala.clusterizables.RealClusterizable\nimport clustering4ever.scala.vectorizables.RealVector\n"
        },
        {
          "metadata" : { },
          "data" : {
            "text/html" : ""
          },
          "output_type" : "execute_result",
          "execution_count" : 1,
          "time" : "Took: 2.577s, at 2018-09-09 23:23"
        }
      ]
    },
    {
      "metadata" : {
        "id" : "C001456FD09A4F8697712D9D1DF3EB17"
      },
      "cell_type" : "markdown",
      "source" : "## Download dataset Aggregation"
    },
    {
      "metadata" : {
        "trusted" : true,
        "input_collapsed" : false,
        "collapsed" : false,
        "id" : "ADF3A07D58F74656A91E11A1FF13920B"
      },
      "cell_type" : "code",
      "source" : [
        ":sh wget -P /tmp/ http://www.clustering4ever.org/Datasets/Aggregation/aggregation.csv\n",
        ":sh wget -P /tmp/ http://www.clustering4ever.org/Datasets/Aggregation/labels"
      ],
      "outputs" : [
        {
          "name" : "stdout",
          "output_type" : "stream",
          "text" : "--2018-09-09 23:24:01--  http://www.clustering4ever.org/Datasets/Aggregation/aggregation.csv\nResolving www.clustering4ever.org (www.clustering4ever.org)... failed: Name or service not known.\nwget: unable to resolve host address ‘www.clustering4ever.org’\n:sh: Scheme missing.\n--2018-09-09 23:24:31--  http://wget/\nResolving wget (wget)... failed: Name or service not known.\nwget: unable to resolve host address ‘wget’\n--2018-09-09 23:24:31--  http://www.clustering4ever.org/Datasets/Aggregation/labels\nResolving www.clustering4ever.org (www.clustering4ever.org)... 62.210.16.62\nConnecting to www.clustering4ever.org (www.clustering4ever.org)|62.210.16.62|:80... connected.\nHTTP request sent, awaiting response... 200 OK\nLength: 1576 (1.5K)\nSaving to: ‘/tmp/labels.20’\n\n     0K .                                                     100%  154M=0s\n\n2018-09-09 23:24:31 (154 MB/s) - ‘/tmp/labels.20’ saved [1576/1576]\n\nFINISHED --2018-09-09 23:24:31--\nTotal wall clock time: 30s\nDownloaded: 1 files, 1.5K in 0s (154 MB/s)\njava.lang.RuntimeException: Nonzero exit value: 4\n  at scala.sys.package$.error(package.scala:27)\n  at scala.sys.process.ProcessBuilderImpl$AbstractBuilder.slurp(ProcessBuilderImpl.scala:132)\n  at scala.sys.process.ProcessBuilderImpl$AbstractBuilder.$bang$bang(ProcessBuilderImpl.scala:103)\n  ... 69 elided\n"
        }
      ]
    },
    {
      "metadata" : {
        "id" : "4BEB170294834C8B92F180754CF0F42F"
      },
      "cell_type" : "markdown",
      "source" : "## Import data as ParArray[ArrayBuffer[Double]]"
    },
    {
      "metadata" : {
        "trusted" : true,
        "input_collapsed" : false,
        "collapsed" : false,
        "id" : "063B66723A63401CBC2F0A23BE2C2E18"
      },
      "cell_type" : "code",
      "source" : [
        "val datasetSize = 2000000\n",
        "val dim = 100\n",
        "val path = \"/tmp/aggregation.csv\"\n",
        "val useAggregationDS = true\n",
        "\n",
        "val rawData = if( useAggregationDS ) Source.fromFile(path).getLines.map( x => mutable.ArrayBuffer(x.split(\",\").map(_.toDouble):_*) ).toBuffer\n",
        "  else mutable.ArrayBuffer.fill(datasetSize)(mutable.ArrayBuffer.fill(dim)(scala.util.Random.nextDouble))\n",
        "\n",
        "val parData = rawData.zipWithIndex.par.map{ case (v, id) => new RealClusterizable(id.toLong, new RealVector(v)) }\n",
        "\n",
        "val groundTruePath = \"/tmp/labels\""
      ],
      "outputs" : [
        {
          "name" : "stdout",
          "output_type" : "stream",
          "text" : "datasetSize: Int = 2000000\ndim: Int = 100\npath: String = /tmp/aggregation.csv\nuseAggregationDS: Boolean = true\nrawData: scala.collection.mutable.Buffer[scala.collection.mutable.ArrayBuffer[Double]] = ArrayBuffer(ArrayBuffer(15.55, 28.65), ArrayBuffer(14.9, 27.55), ArrayBuffer(14.45, 28.35), ArrayBuffer(14.15, 28.8), ArrayBuffer(13.75, 28.05), ArrayBuffer(13.35, 28.45), ArrayBuffer(13.0, 29.15), ArrayBuffer(13.45, 27.5), ArrayBuffer(13.6, 26.5), ArrayBuffer(12.8, 27.35), ArrayBuffer(12.4, 27.85), ArrayBuffer(12.3, 28.4), ArrayBuffer(12.2, 28.65), ArrayBuffer(13.4, 25.1), ArrayBuffer(12.95, 25.95), ArrayBuffer(12.9, 26.5), ArrayBuffer(11.85, 27.0), ArrayBuffer(11.35, 28.0), ArrayBuffer(11.15, 28.7), ArrayBuffer(11.25, 27.4), ArrayBuffer(10.75, 27.7), ArrayBuffer(10.5, 28.35), ArrayBuffer(..."
        },
        {
          "metadata" : { },
          "data" : {
            "text/html" : ""
          },
          "output_type" : "execute_result",
          "execution_count" : 3,
          "time" : "Took: 4.343s, at 2018-09-09 23:24"
        }
      ]
    },
    {
      "metadata" : {
        "id" : "DB906BE4458347E98566175F44A41B25"
      },
      "cell_type" : "markdown",
      "source" : "## Parameters "
    },
    {
      "metadata" : {
        "trusted" : true,
        "input_collapsed" : false,
        "collapsed" : false,
        "id" : "7B7F65B92A1849639D25B8260E8FC13D"
      },
      "cell_type" : "code",
      "source" : [
        "val k = 7\n",
        "val iterMax = 40\n",
        "val epsilon = 0.5\n",
        "// True defines the true Euclidean with square root, set it to false to avoid the square\n",
        "// val metric0 = new Euclidean[Array[Double]](true)\n",
        "val metric1 = new Euclidean[mutable.ArrayBuffer[Double]](true)\n",
        "\n",
        "// Minkowski(p) where p is the Minkowski parameter\n",
        "val metric2 = new Minkowski[mutable.ArrayBuffer[Double]](2)"
      ],
      "outputs" : [
        {
          "name" : "stdout",
          "output_type" : "stream",
          "text" : "k: Int = 7\niterMax: Int = 40\nepsilon: Double = 0.5\nmetric1: clustering4ever.math.distances.scalar.Euclidean[scala.collection.mutable.ArrayBuffer[Double]] = Euclidean distance with root applied\nmetric2: clustering4ever.math.distances.scalar.Minkowski[scala.collection.mutable.ArrayBuffer[Double]] = clustering4ever.math.distances.scalar.Minkowski@416cdee4\n"
        },
        {
          "metadata" : { },
          "data" : {
            "text/html" : ""
          },
          "output_type" : "execute_result",
          "execution_count" : 4,
          "time" : "Took: 2.124s, at 2018-09-09 23:24"
        }
      ]
    },
    {
      "metadata" : {
        "id" : "351DECE0EB4B4DAE8395D89284DABB26"
      },
      "cell_type" : "markdown",
      "source" : "## Run and measure the algorithm time"
    },
    {
      "metadata" : {
        "trusted" : true,
        "input_collapsed" : false,
        "collapsed" : false,
        "id" : "321E55E849D3414483ED121C542305CE"
      },
      "cell_type" : "code",
      "source" : [
        "val t1 = System.nanoTime\n",
        "\n",
        "val model = KMeans.run[\n",
        "              Long,\n",
        "              mutable.ArrayBuffer[Double],\n",
        "              mutable.ArrayBuffer[Double],\n",
        "              RealClusterizable[Long, mutable.ArrayBuffer[Double], mutable.ArrayBuffer[Double]],\n",
        "              Euclidean[mutable.ArrayBuffer[Double]]\n",
        "              ](\n",
        "                parData,\n",
        "                k,\n",
        "                epsilon,\n",
        "                iterMax,\n",
        "                metric1\n",
        "              )\n",
        "\n",
        "val t2 = System.nanoTime\n",
        "\n",
        "(t2 - t1) / 1000000000D"
      ],
      "outputs" : [
        {
          "name" : "stdout",
          "output_type" : "stream",
          "text" : "t1: Long = 50737379175767\nmodel: clustering4ever.scala.clustering.kmeans.KMeansModel[Long,scala.collection.mutable.ArrayBuffer[Double],scala.collection.mutable.ArrayBuffer[Double],clustering4ever.scala.clusterizables.RealClusterizable[Long,scala.collection.mutable.ArrayBuffer[Double],scala.collection.mutable.ArrayBuffer[Double]],clustering4ever.math.distances.scalar.Euclidean[scala.collection.mutable.ArrayBuffer[Double]]] = clustering4ever.scala.clustering.kmeans.KMeansModel@488f7fcf\nt2: Long = 50737674595978\nres6: Double = 0.295420211\n"
        },
        {
          "metadata" : { },
          "data" : {
            "text/html" : "0.295420211"
          },
          "output_type" : "execute_result",
          "execution_count" : 5,
          "time" : "Took: 3.143s, at 2018-09-09 23:24"
        }
      ]
    },
    {
      "metadata" : {
        "id" : "635179D825AE49408D5C33D371E21028"
      },
      "cell_type" : "markdown",
      "source" : "# Compare algorithm between ParArray and ArraySeq container"
    },
    {
      "metadata" : {
        "trusted" : true,
        "input_collapsed" : false,
        "collapsed" : false,
        "id" : "FE8508FDB1A64C8A9422836DDBF1EC3B"
      },
      "cell_type" : "code",
      "source" : [
        "val t1 = System.nanoTime\n",
        "\n",
        "KMeans.run[Long,\n",
        "    mutable.ArrayBuffer[Double],\n",
        "    mutable.ArrayBuffer[Double],\n",
        "    RealClusterizable[Long, mutable.ArrayBuffer[Double], mutable.ArrayBuffer[Double]],\n",
        "    Euclidean[mutable.ArrayBuffer[Double]]\n",
        "    ](parData, k, epsilon, iterMax, metric1)\n",
        "\n",
        "val t2 = System.nanoTime\n",
        "val seqData = parData.seq\n",
        "val t3 = System.nanoTime\n",
        "\n",
        "KMeans.run[Long,\n",
        "    mutable.ArrayBuffer[Double],\n",
        "    mutable.ArrayBuffer[Double],\n",
        "    RealClusterizable[Long, mutable.ArrayBuffer[Double], mutable.ArrayBuffer[Double]],\n",
        "    Euclidean[mutable.ArrayBuffer[Double]]\n",
        "    ](seqData, k, epsilon, iterMax, metric1)\n",
        "\n",
        "val t4 = System.nanoTime\n",
        "\n",
        "\n",
        "\n",
        "(t4 - t3).toDouble / (t2 - t1)"
      ],
      "outputs" : [
        {
          "name" : "stdout",
          "output_type" : "stream",
          "text" : "t1: Long = 50740894588218\nt2: Long = 50740936038049\nseqData: scala.collection.mutable.Seq[clustering4ever.scala.clusterizables.RealClusterizable[Long,scala.collection.mutable.ArrayBuffer[Double],scala.collection.mutable.ArrayBuffer[Double]]] = ArraySeq(RealClusterizable(0,clustering4ever.scala.vectorizables.RealVector@112154fe,None,None), RealClusterizable(1,clustering4ever.scala.vectorizables.RealVector@557886da,None,None), RealClusterizable(2,clustering4ever.scala.vectorizables.RealVector@6d7753eb,None,None), RealClusterizable(3,clustering4ever.scala.vectorizables.RealVector@78355e89,None,None), RealClusterizable(4,clustering4ever.scala.vectorizables.RealVector@632863d5,None,None), RealClusterizable(5,clustering4ever.scala.vectorizables.RealVector@7277773c,None,None), RealClusterizabl..."
        },
        {
          "metadata" : { },
          "data" : {
            "text/html" : "0.44028546220128134"
          },
          "output_type" : "execute_result",
          "execution_count" : 6,
          "time" : "Took: 3.203s, at 2018-09-09 23:24"
        }
      ]
    },
    {
      "metadata" : {
        "id" : "6A954C0583E94F068A5132A6C0F21E7B"
      },
      "cell_type" : "markdown",
      "source" : "## Different ways to apply model to datasets"
    },
    {
      "metadata" : {
        "trusted" : true,
        "input_collapsed" : false,
        "collapsed" : false,
        "id" : "0D623084528448368CE5DD7203E951C7"
      },
      "cell_type" : "code",
      "source" : [
        "val clusterized11 = rawData.map( v => (model.centerPredict(v), v) )\n",
        "val clusterized12 = model.centerPredict(rawData)\n",
        "\n",
        "val clusterized21 = parData.map( clustbl => (model.centerPredict(clustbl.vector), clustbl) )\n",
        "val clusterized22 = model.centerPredict(parData)"
      ],
      "outputs" : [
        {
          "name" : "stdout",
          "output_type" : "stream",
          "text" : "clusterized11: scala.collection.mutable.Buffer[(model.ClusterID, scala.collection.mutable.ArrayBuffer[Double])] = ArrayBuffer((6,ArrayBuffer(15.55, 28.65)), (3,ArrayBuffer(14.9, 27.55)), (3,ArrayBuffer(14.45, 28.35)), (3,ArrayBuffer(14.15, 28.8)), (3,ArrayBuffer(13.75, 28.05)), (3,ArrayBuffer(13.35, 28.45)), (3,ArrayBuffer(13.0, 29.15)), (3,ArrayBuffer(13.45, 27.5)), (3,ArrayBuffer(13.6, 26.5)), (3,ArrayBuffer(12.8, 27.35)), (3,ArrayBuffer(12.4, 27.85)), (3,ArrayBuffer(12.3, 28.4)), (3,ArrayBuffer(12.2, 28.65)), (3,ArrayBuffer(13.4, 25.1)), (3,ArrayBuffer(12.95, 25.95)), (3,ArrayBuffer(12.9, 26.5)), (3,ArrayBuffer(11.85, 27.0)), (3,ArrayBuffer(11.35, 28.0)), (3,ArrayBuffer(11.15, 28.7)), (3,ArrayBuffer(11.25, 27.4)), (3,ArrayBuffer(10.75, 27.7)), (3,ArrayBuffer(10.5, 28.35)), (3,ArrayBu..."
        },
        {
          "metadata" : { },
          "data" : {
            "text/html" : ""
          },
          "output_type" : "execute_result",
          "execution_count" : 7,
          "time" : "Took: 2.055s, at 2018-09-09 23:24"
        }
      ]
    },
    {
      "metadata" : {
        "id" : "AC0E30557C3B40758B75BEC5F1BE16BC"
      },
      "cell_type" : "markdown",
      "source" : "## Plot clustering results"
    },
    {
      "metadata" : {
        "trusted" : true,
        "input_collapsed" : false,
        "collapsed" : false,
        "id" : "91CDE8F5A41D411883B74E3086181EDE"
      },
      "cell_type" : "code",
      "source" : [
        "val rawData = clusterized22.map( rc => rc.vector.toArray ).toArray\n",
        "val labels = clusterized22.map( rc => rc.clusterID.get ).toArray\n",
        "plot(rawData, labels, '*', Palette.COLORS)"
      ],
      "outputs" : [
        {
          "name" : "stdout",
          "output_type" : "stream",
          "text" : "rawData: Array[Array[Double]] = Array(Array(15.55, 28.65), Array(14.9, 27.55), Array(14.45, 28.35), Array(14.15, 28.8), Array(13.75, 28.05), Array(13.35, 28.45), Array(13.0, 29.15), Array(13.45, 27.5), Array(13.6, 26.5), Array(12.8, 27.35), Array(12.4, 27.85), Array(12.3, 28.4), Array(12.2, 28.65), Array(13.4, 25.1), Array(12.95, 25.95), Array(12.9, 26.5), Array(11.85, 27.0), Array(11.35, 28.0), Array(11.15, 28.7), Array(11.25, 27.4), Array(10.75, 27.7), Array(10.5, 28.35), Array(9.65, 28.45), Array(10.25, 27.25), Array(10.75, 26.55), Array(11.7, 26.35), Array(11.6, 25.9), Array(11.9, 25.05), Array(12.6, 24.05), Array(11.9, 24.5), Array(11.1, 25.2), Array(10.55, 25.15), Array(10.05, 25.95), Array(9.35, 26.6), Array(9.3, 27.25), Array(9.2, 27.8), Array(7.5, 28.25), Array(8.55, 27.45), Ar..."
        },
        {
          "metadata" : { },
          "data" : {
            "text/html" : "Window(javax.swing.JFrame[frame0,460,37,1000x1000,layout=java.awt.BorderLayout,title=Smile Plot 1,resizable,normal,defaultCloseOperation=DISPOSE_ON_CLOSE,rootPane=javax.swing.JRootPane[,0,34,1000x966,layout=javax.swing.JRootPane$RootLayout,alignmentX=0.0,alignmentY=0.0,border=,flags=16777675,maximumSize=,minimumSize=,preferredSize=],rootPaneCheckingEnabled=true],smile.plot.PlotCanvas[,0,0,1000x966,layout=java.awt.BorderLayout,alignmentX=0.0,alignmentY=0.0,border=,flags=11,maximumSize=,minimumSize=,preferredSize=])"
          },
          "output_type" : "execute_result",
          "execution_count" : 8,
          "time" : "Took: 4.034s, at 2018-09-09 23:24"
        }
      ]
    },
    {
      "metadata" : {
        "id" : "9EE3B763C0FF4A8F8FF0DF73013CD883"
      },
      "cell_type" : "markdown",
      "source" : "## Inspect performance metrics"
    },
    {
      "metadata" : {
        "trusted" : true,
        "input_collapsed" : false,
        "collapsed" : false,
        "id" : "5D532CFB855D4B94BDF51A5D80A719A1"
      },
      "cell_type" : "code",
      "source" : [
        "val trueLabels = Source.fromFile(groundTruePath).getLines.map(_.toInt).toBuffer.toParArray\n",
        "\n",
        "val (_, trueLabelsFrom0) = ExternalIndexes.prepareLabels(trueLabels)\n",
        "\n",
        "val predicts = clusterized22.map(_.clusterID.get).toParArray\n",
        "\n",
        "val nmi = ExternalIndexes.nmi(trueLabelsFrom0, predicts, SQRT)\n",
        "\n",
        "nmi"
      ],
      "outputs" : [
        {
          "name" : "stdout",
          "output_type" : "stream",
          "text" : "trueLabels: scala.collection.parallel.mutable.ParArray[Int] = ParArray(2, 2, 2, 2, 2, 2, 2, 2, 2, 2, 2, 2, 2, 2, 2, 2, 2, 2, 2, 2, 2, 2, 2, 2, 2, 2, 2, 2, 2, 2, 2, 2, 2, 2, 2, 2, 2, 2, 2, 2, 2, 2, 2, 2, 2, 2, 2, 2, 2, 2, 2, 2, 2, 2, 2, 2, 2, 2, 2, 2, 2, 2, 2, 2, 2, 2, 2, 2, 2, 2, 2, 2, 2, 2, 2, 2, 2, 2, 2, 2, 2, 2, 2, 2, 2, 2, 2, 2, 2, 2, 2, 2, 2, 2, 2, 2, 2, 2, 2, 2, 2, 2, 2, 2, 2, 2, 2, 2, 2, 2, 2, 2, 2, 2, 2, 2, 2, 2, 2, 2, 2, 2, 2, 2, 2, 2, 2, 2, 2, 2, 2, 2, 2, 2, 2, 2, 2, 2, 2, 2, 2, 2, 2, 2, 2, 2, 2, 2, 2, 2, 2, 2, 2, 2, 2, 2, 2, 2, 2, 2, 2, 2, 2, 2, 2, 2, 2, 2, 2, 2, 7, 7, 7, 7, 7, 7, 7, 7, 7, 7, 7, 7, 7, 7, 7, 7, 7, 7, 7, 7, 7, 7, 7, 7, 7, 7, 7, 7, 7, 7, 7, 7, 7, 7, 4, 4, 4, 4, 4, 4, 4, 4, 4, 4, 4, 4, 4, 4, 4, 4, 4, 4, 4, 4, 4, 4, 4, 4, 4, 4, 4, 4, 4, 4, 4, 4, 4, 4, 4, 4, 4, 4, ..."
        },
        {
          "metadata" : { },
          "data" : {
            "text/html" : "0.8538856763962724"
          },
          "output_type" : "execute_result",
          "execution_count" : 9,
          "time" : "Took: 3.349s, at 2018-09-09 23:24"
        }
      ]
    }
  ],
  "nbformat" : 4
}