{
  "metadata" : {
    "id" : "00b93ee8-b27c-430b-b2cb-09bc294c2b20",
    "name" : "Scala Gradient Ascent",
    "user_save_timestamp" : "2018-04-04T17:17:57.904Z",
    "auto_save_timestamp" : "1970-01-01T01:00:00.000Z",
    "language_info" : {
      "name" : "scala",
      "file_extension" : "scala",
      "codemirror_mode" : "text/x-scala"
    },
    "trusted" : true,
    "sparkNotebook" : null,
    "customLocalRepo" : null,
    "customRepos" : null,
    "customDeps" : [
      "com.github.haifengl:smile-scala_2.11:1.5.0",
      "org.apache.sanselan % sanselan % 0.97-incubator",
      "org.clustering4ever:clustering4ever_2.11:0.7.0"
    ],
    "customImports" : null,
    "customArgs" : null,
    "customSparkConf" : null,
    "customVars" : null
  },
  "cells" : [
    {
      "metadata" : {
        "id" : "56E473B68DE547C884E92C173F0C2CC7"
      },
      "cell_type" : "markdown",
      "source" : "# [Clustering4Ever](https://github.com/Clustering4Ever/Clustering4Ever) on [SparkNotebook](http://spark-notebook.io/) by [LIPN](https://lipn.univ-paris13.fr/) [A3](https://lipn.univ-paris13.fr/accueil/equipe/a3/) team"
    },
    {
      "metadata" : {
        "id" : "9BE3CBFDDB324D29914085C97E53D087"
      },
      "cell_type" : "markdown",
      "source" : "# Scala Gradient Ascent"
    },
    {
      "metadata" : {
        "trusted" : true,
        "input_collapsed" : false,
        "collapsed" : false,
        "id" : "2723CA508CC84A868DB0D63A7DB41C03"
      },
      "cell_type" : "code",
      "source" : [
        "import smile.plot._\n",
        "import scala.io.Source\n",
        "import clustering4ever.math.distances.scalar.Euclidean\n",
        "import clustering4ever.util.ScalaImplicits._\n",
        "import clustering4ever.scala.clusterizables.SimpleRealClusterizable\n",
        "import clustering4ever.scala.vectorizables.RealVector\n",
        "import clustering4ever.scala.clustering.meanshift.GradientAscent\n",
        "import org.apache.spark.storage.StorageLevel\n",
        "import clustering4ever.scala.kernels.KernelNature\n",
        "import scala.collection.{immutable, mutable}\n",
        "import clustering4ever.scala.kernels.KernelArgs"
      ],
      "outputs" : [
        {
          "name" : "stdout",
          "output_type" : "stream",
          "text" : "import smile.plot._\nimport scala.io.Source\nimport clustering4ever.math.distances.scalar.Euclidean\nimport clustering4ever.util.ScalaImplicits._\nimport clustering4ever.scala.clusterizables.SimpleRealClusterizable\nimport clustering4ever.scala.vectorizables.RealVector\nimport clustering4ever.scala.clustering.meanshift.GradientAscent\nimport org.apache.spark.storage.StorageLevel\nimport clustering4ever.scala.kernels.KernelNature\nimport scala.collection.{immutable, mutable}\nimport clustering4ever.scala.kernels.KernelArgs\n"
        },
        {
          "metadata" : { },
          "data" : {
            "text/html" : ""
          },
          "output_type" : "execute_result",
          "execution_count" : 11,
          "time" : "Took: 0.711s, at 2018-10-27 20:27"
        }
      ]
    },
    {
      "metadata" : {
        "id" : "C001456FD09A4F8697712D9D1DF3EB17"
      },
      "cell_type" : "markdown",
      "source" : "## Download dataset Aggregation"
    },
    {
      "metadata" : {
        "trusted" : true,
        "input_collapsed" : false,
        "collapsed" : false,
        "id" : "ADF3A07D58F74656A91E11A1FF13920B"
      },
      "cell_type" : "code",
      "source" : [
        ":sh wget -P /tmp/ http://www.clustering4ever.org/Datasets/Aggregation/aggregation.csv\n",
        ":sh wget -P /tmp/ http://www.clustering4ever.org/Datasets/Aggregation/labels"
      ],
      "outputs" : [
        {
          "name" : "stdout",
          "output_type" : "stream",
          "text" : "--2018-10-27 20:26:05--  http://www.clustering4ever.org/Datasets/Aggregation/aggregation.csv\nResolving www.clustering4ever.org (www.clustering4ever.org)... 62.210.16.62\nConnecting to www.clustering4ever.org (www.clustering4ever.org)|62.210.16.62|:80... connected.\nHTTP request sent, awaiting response... 200 OK\nLength: 8063 (7.9K) [text/csv]\nSaving to: ‘/tmp/aggregation.csv.1’\n\n     0K .......                                               100% 1.35G=0s\n\n2018-10-27 20:26:05 (1.35 GB/s) - ‘/tmp/aggregation.csv.1’ saved [8063/8063]\n\n:sh: Scheme missing.\n--2018-10-27 20:26:05--  http://wget/\nResolving wget (wget)... failed: Name or service not known.\nwget: unable to resolve host address ‘wget’\n--2018-10-27 20:26:05--  http://www.clustering4ever.org/Datasets/Aggregation/labels\nReusing existing connection to www.clustering4ever.org:80.\nHTTP request sent, awaiting response... 200 OK\nLength: 1576 (1.5K)\nSaving to: ‘/tmp/labels.1’\n\n     0K .                                                     100%  340M=0s\n\n2018-10-27 20:26:05 (340 MB/s) - ‘/tmp/labels.1’ saved [1576/1576]\n\nFINISHED --2018-10-27 20:26:05--\nTotal wall clock time: 0.01s\nDownloaded: 2 files, 9.4K in 0s (922 MB/s)\njava.lang.RuntimeException: Nonzero exit value: 4\n  at scala.sys.package$.error(package.scala:27)\n  at scala.sys.process.ProcessBuilderImpl$AbstractBuilder.slurp(ProcessBuilderImpl.scala:132)\n  at scala.sys.process.ProcessBuilderImpl$AbstractBuilder.$bang$bang(ProcessBuilderImpl.scala:103)\n  ... 71 elided\n"
        }
      ]
    },
    {
      "metadata" : {
        "id" : "4BEB170294834C8B92F180754CF0F42F"
      },
      "cell_type" : "markdown",
      "source" : "## Import data as ParArray[ArrayBuffer[Double]]"
    },
    {
      "metadata" : {
        "trusted" : true,
        "input_collapsed" : false,
        "collapsed" : false,
        "id" : "063B66723A63401CBC2F0A23BE2C2E18"
      },
      "cell_type" : "code",
      "source" : [
        "val path = \"/tmp/aggregation.csv\"\n",
        "val data = Source.fromFile(path).getLines.toSeq.map( x => mutable.ArrayBuffer(x.split(\",\").map(_.toDouble):_*)).toParArray.zipWithIndex\n",
        "    .map{ case (v, id) => new SimpleRealClusterizable(id, new RealVector(v)) }\n",
        "val labelsPath = \"/tmp/labels\""
      ],
      "outputs" : [
        {
          "name" : "stdout",
          "output_type" : "stream",
          "text" : "path: String = /tmp/aggregation.csv\ndata: scala.collection.parallel.mutable.ParArray[clustering4ever.scala.clusterizables.SimpleRealClusterizable[Int,scala.collection.mutable.ArrayBuffer[Double],scala.collection.mutable.ArrayBuffer[Double]]] = ParArray(SimpleRealClusterizable(0,clustering4ever.scala.vectorizables.RealVector@1f45d20c,None,None), SimpleRealClusterizable(1,clustering4ever.scala.vectorizables.RealVector@436b2b2d,None,None), SimpleRealClusterizable(2,clustering4ever.scala.vectorizables.RealVector@6dd035,None,None), SimpleRealClusterizable(3,clustering4ever.scala.vectorizables.RealVector@7a6114f1,None,None), SimpleRealClusterizable(4,clustering4ever.scala.vectorizables.RealVector@4b857c03,None,None), SimpleRealClusterizable(5,clustering4ever.scala.vectorizables.RealVector@512..."
        },
        {
          "metadata" : { },
          "data" : {
            "text/html" : ""
          },
          "output_type" : "execute_result",
          "execution_count" : 9,
          "time" : "Took: 1.704s, at 2018-10-27 20:26"
        }
      ]
    },
    {
      "metadata" : {
        "id" : "DB906BE4458347E98566175F44A41B25"
      },
      "cell_type" : "markdown",
      "source" : "## Parameters "
    },
    {
      "metadata" : {
        "trusted" : true,
        "input_collapsed" : false,
        "collapsed" : false,
        "id" : "7B7F65B92A1849639D25B8260E8FC13D"
      },
      "cell_type" : "code",
      "source" : [
        "val metric1 = new Euclidean[mutable.ArrayBuffer[Double]](true)\n",
        "val k = 40\n",
        "val k2 = 1\n",
        "val epsilon = 0.00001\n",
        "val maxNumberIter = 50\n",
        "val kernelType = KernelNature.EuclideanKNN\n",
        "val kernelArgs = Right(new KernelArgs[mutable.ArrayBuffer[Double], Euclidean[mutable.ArrayBuffer[Double]]](kernelType, metric = Some(metric1), k = Some(k)))"
      ],
      "outputs" : [
        {
          "name" : "stdout",
          "output_type" : "stream",
          "text" : "metric1: clustering4ever.math.distances.scalar.Euclidean[scala.collection.mutable.ArrayBuffer[Double]] = Euclidean distance with root applied\nk: Int = 40\nk2: Int = 1\nepsilon: Double = 1.0E-5\nmaxNumberIter: Int = 50\nkernelType: clustering4ever.scala.kernels.KernelNature.Value = EuclideanKNN\nkernelArgs: scala.util.Right[Nothing,clustering4ever.scala.kernels.KernelArgs[scala.collection.mutable.ArrayBuffer[Double],clustering4ever.math.distances.scalar.Euclidean[scala.collection.mutable.ArrayBuffer[Double]]]] = Right(clustering4ever.scala.kernels.KernelArgs@1f5b5991)\n"
        },
        {
          "metadata" : { },
          "data" : {
            "text/html" : ""
          },
          "output_type" : "execute_result",
          "execution_count" : 16,
          "time" : "Took: 0.766s, at 2018-10-27 20:29"
        }
      ]
    },
    {
      "metadata" : {
        "id" : "351DECE0EB4B4DAE8395D89284DABB26"
      },
      "cell_type" : "markdown",
      "source" : "## Run the algorithm"
    },
    {
      "metadata" : {
        "trusted" : true,
        "input_collapsed" : false,
        "collapsed" : false,
        "id" : "4B5F70351A59459AB5A5DC7DBD18C7D7"
      },
      "cell_type" : "code",
      "source" : [
        "val t1 = System.currentTimeMillis\n",
        "val convergedDS =  GradientAscent.run(data, metric1, epsilon, maxNumberIter, kernelArgs)\n",
        "val t2 = System.currentTimeMillis\n",
        "\n",
        "(t2 - t1) / 1000D"
      ],
      "outputs" : [
        {
          "name" : "stdout",
          "output_type" : "stream",
          "text" : "t1: Long = 1540664985549\nconvergedDS: scala.collection.GenSeq[clustering4ever.scala.clusterizables.SimpleRealClusterizable[Int,scala.collection.mutable.ArrayBuffer[Double],scala.collection.mutable.ArrayBuffer[Double]]] = ParArray(SimpleRealClusterizable(0,clustering4ever.scala.vectorizables.RealVector@1f45d20c,Some(ArrayBuffer(10.29625, 26.335000000000008)),None), SimpleRealClusterizable(1,clustering4ever.scala.vectorizables.RealVector@436b2b2d,Some(ArrayBuffer(10.29625, 26.335000000000008)),None), SimpleRealClusterizable(2,clustering4ever.scala.vectorizables.RealVector@6dd035,Some(ArrayBuffer(10.29625, 26.335000000000008)),None), SimpleRealClusterizable(3,clustering4ever.scala.vectorizables.RealVector@7a6114f1,Some(ArrayBuffer(10.29625, 26.335000000000008)),None), SimpleRealClusterizab..."
        },
        {
          "metadata" : { },
          "data" : {
            "text/html" : "0.453"
          },
          "output_type" : "execute_result",
          "execution_count" : 17,
          "time" : "Took: 1.552s, at 2018-10-27 20:29"
        }
      ]
    },
    {
      "metadata" : {
        "id" : "770CC40C9DD74ABA8F3E84B4C92BF913"
      },
      "cell_type" : "markdown",
      "source" : "# Plot original and converged datsasets"
    },
    {
      "metadata" : {
        "trusted" : true,
        "input_collapsed" : false,
        "collapsed" : false,
        "id" : "0A0382CA6A1A46E08BA3BF495429959D"
      },
      "cell_type" : "code",
      "source" : [
        "plot(convergedDS.map(_.vector.toArray).toArray)\n",
        "\n",
        "plot(convergedDS.map(_.v2.get.toArray).toArray)"
      ],
      "outputs" : [
        {
          "name" : "stdout",
          "output_type" : "stream",
          "text" : "res22: smile.plot.Window = Window(javax.swing.JFrame[frame0,460,37,1000x1000,invalid,layout=java.awt.BorderLayout,title=Smile Plot 2,resizable,normal,defaultCloseOperation=DISPOSE_ON_CLOSE,rootPane=javax.swing.JRootPane[,5,25,990x970,invalid,layout=javax.swing.JRootPane$RootLayout,alignmentX=0.0,alignmentY=0.0,border=,flags=16777673,maximumSize=,minimumSize=,preferredSize=],rootPaneCheckingEnabled=true],smile.plot.PlotCanvas[,0,0,0x0,invalid,layout=java.awt.BorderLayout,alignmentX=0.0,alignmentY=0.0,border=,flags=9,maximumSize=,minimumSize=,preferredSize=])\n"
        },
        {
          "metadata" : { },
          "data" : {
            "text/html" : "Window(javax.swing.JFrame[frame0,460,37,1000x1000,layout=java.awt.BorderLayout,title=Smile Plot 2,resizable,normal,defaultCloseOperation=DISPOSE_ON_CLOSE,rootPane=javax.swing.JRootPane[,0,37,1000x963,layout=javax.swing.JRootPane$RootLayout,alignmentX=0.0,alignmentY=0.0,border=,flags=16777675,maximumSize=,minimumSize=,preferredSize=],rootPaneCheckingEnabled=true],smile.plot.PlotCanvas[,0,0,1000x963,layout=java.awt.BorderLayout,alignmentX=0.0,alignmentY=0.0,border=,flags=11,maximumSize=,minimumSize=,preferredSize=])"
          },
          "output_type" : "execute_result",
          "execution_count" : 18,
          "time" : "Took: 2.134s, at 2018-10-27 20:29"
        }
      ]
    }
  ],
  "nbformat" : 4
}