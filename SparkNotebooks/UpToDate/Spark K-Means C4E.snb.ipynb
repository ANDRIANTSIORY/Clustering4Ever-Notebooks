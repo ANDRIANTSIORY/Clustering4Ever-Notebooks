{
  "metadata" : {
    "id" : "56024ffc-7635-4422-9a66-520c90007ad0",
    "name" : "Spark K-Means C4E1",
    "user_save_timestamp" : "2018-04-04T17:17:57.904Z",
    "auto_save_timestamp" : "1970-01-01T01:00:00.000Z",
    "language_info" : {
      "name" : "scala",
      "file_extension" : "scala",
      "codemirror_mode" : "text/x-scala"
    },
    "trusted" : true,
    "sparkNotebook" : null,
    "customLocalRepo" : "${HOME}/.ivy2",
    "customRepos" : [
      "clustering4ever % default % http://dl.bintray.com/clustering4ever/Clustering4Ever % maven"
    ],
    "customDeps" : [
      "com.github.haifengl:smile-scala_2.11:1.5.0",
      "org.apache.sanselan % sanselan % 0.97-incubator",
      "clustering4ever % clustering4ever_2.11 % 0.6.9-SNAPSHOT"
    ],
    "customImports" : null,
    "customArgs" : null,
    "customSparkConf" : {
      "spark.app.name" : "Notebook",
      "spark.master" : "local[*]",
      "spark.driver.memory" : "10G"
    },
    "customVars" : null
  },
  "cells" : [
    {
      "metadata" : {
        "id" : "56E473B68DE547C884E92C173F0C2CC7"
      },
      "cell_type" : "markdown",
      "source" : "# [Clustering4Ever](https://github.com/Clustering4Ever/Clustering4Ever) on [SparkNotebook](http://spark-notebook.io/) by [LIPN](https://lipn.univ-paris13.fr/) [A3](https://lipn.univ-paris13.fr/accueil/equipe/a3/) team"
    },
    {
      "metadata" : {
        "id" : "9BE3CBFDDB324D29914085C97E53D087"
      },
      "cell_type" : "markdown",
      "source" : "# Spark _K_-Means"
    },
    {
      "metadata" : {
        "trusted" : true,
        "input_collapsed" : false,
        "collapsed" : false,
        "id" : "2723CA508CC84A868DB0D63A7DB41C03"
      },
      "cell_type" : "code",
      "source" : [
        "import smile.plot._\n",
        "import scala.io.Source\n",
        "import scala.collection.{mutable, immutable}\n",
        "import clustering4ever.spark.clustering.kmeans.KMeans\n",
        "import clustering4ever.math.distances.scalar.{Euclidean, Cosine, Minkowski}\n",
        "import clustering4ever.spark.indexes.ExternalIndexes\n",
        "import clustering4ever.scala.indexes.NmiNormalizationNature._\n",
        "import clustering4ever.util.SparkImplicits._\n",
        "import clustering4ever.scala.clusterizables.RealClusterizable\n",
        "import clustering4ever.scala.vectorizables.RealVector"
      ],
      "outputs" : [
        {
          "name" : "stdout",
          "output_type" : "stream",
          "text" : "import smile.plot._\nimport scala.io.Source\nimport scala.collection.{mutable, immutable}\nimport clustering4ever.spark.clustering.kmeans.KMeans\nimport clustering4ever.math.distances.scalar.{Euclidean, Cosine, Minkowski}\nimport clustering4ever.spark.indexes.ExternalIndexes\nimport clustering4ever.scala.indexes.NmiNormalizationNature._\nimport clustering4ever.util.SparkImplicits._\nimport clustering4ever.scala.clusterizables.RealClusterizable\nimport clustering4ever.scala.vectorizables.RealVector\n"
        },
        {
          "metadata" : { },
          "data" : {
            "text/html" : ""
          },
          "output_type" : "execute_result",
          "execution_count" : 1,
          "time" : "Took: 0.826s, at 2018-09-19 14:31"
        }
      ]
    },
    {
      "metadata" : {
        "id" : "C001456FD09A4F8697712D9D1DF3EB17"
      },
      "cell_type" : "markdown",
      "source" : "## Download dataset Aggregation"
    },
    {
      "metadata" : {
        "trusted" : true,
        "input_collapsed" : false,
        "collapsed" : false,
        "id" : "ADF3A07D58F74656A91E11A1FF13920B"
      },
      "cell_type" : "code",
      "source" : [
        ":sh wget -P /tmp/ http://www.clustering4ever.org/Datasets/Aggregation/aggregation.csv\n",
        ":sh wget -P /tmp/ http://www.clustering4ever.org/Datasets/Aggregation/labels"
      ],
      "outputs" : [
        {
          "name" : "stdout",
          "output_type" : "stream",
          "text" : "--2018-09-19 14:31:42--  http://www.clustering4ever.org/Datasets/Aggregation/aggregation.csv\nResolving www.clustering4ever.org (www.clustering4ever.org)... 62.210.16.62\nConnecting to www.clustering4ever.org (www.clustering4ever.org)|62.210.16.62|:80... connected.\nHTTP request sent, awaiting response... 200 OK\nLength: 8063 (7.9K) [text/csv]\nSaving to: ‘/tmp/aggregation.csv.2’\n\n     0K .......                                               100% 38.1K=0.2s\n\n2018-09-19 14:31:43 (38.1 KB/s) - ‘/tmp/aggregation.csv.2’ saved [8063/8063]\n\n:sh: Scheme missing.\n--2018-09-19 14:31:43--  http://wget/\nResolving wget (wget)... failed: Name or service not known.\nwget: unable to resolve host address ‘wget’\n--2018-09-19 14:31:43--  http://www.clustering4ever.org/Datasets/Aggregation/labels\nReusing existing connection to www.clustering4ever.org:80.\nHTTP request sent, awaiting response... 200 OK\nLength: 1576 (1.5K)\nSaving to: ‘/tmp/labels.11’\n\n     0K .                                                     100%  177M=0s\n\n2018-09-19 14:31:43 (177 MB/s) - ‘/tmp/labels.11’ saved [1576/1576]\n\nFINISHED --2018-09-19 14:31:43--\nTotal wall clock time: 0.5s\nDownloaded: 2 files, 9.4K in 0.2s (45.6 KB/s)\njava.lang.RuntimeException: Nonzero exit value: 4\n  at scala.sys.package$.error(package.scala:27)\n  at scala.sys.process.ProcessBuilderImpl$AbstractBuilder.slurp(ProcessBuilderImpl.scala:132)\n  at scala.sys.process.ProcessBuilderImpl$AbstractBuilder.$bang$bang(ProcessBuilderImpl.scala:103)\n  ... 69 elided\n"
        }
      ]
    },
    {
      "metadata" : {
        "id" : "4BEB170294834C8B92F180754CF0F42F"
      },
      "cell_type" : "markdown",
      "source" : "## Import data as Array[Array[Double]]"
    },
    {
      "metadata" : {
        "trusted" : true,
        "input_collapsed" : false,
        "collapsed" : false,
        "id" : "063B66723A63401CBC2F0A23BE2C2E18"
      },
      "cell_type" : "code",
      "source" : [
        "val datasetSize = 500000\n",
        "val dim = 4\n",
        "val useAggregationDS = true\n",
        "val dp = 16\n",
        "\n",
        "val path = \"/tmp/aggregation.csv\"\n",
        "val rawRdd = if( useAggregationDS ) sc.textFile(path, dp).map( x => mutable.ArrayBuffer(x.split(\",\").map(_.toDouble):_*)) else sc.parallelize(List.fill(datasetSize)(mutable.ArrayBuffer.fill(dim)(scala.util.Random.nextDouble)), dp)\n",
        "val rdd = rawRdd.zipWithIndex.map{ case (v, id) => new RealClusterizable(id, new RealVector(v)) }.cache\n",
        "val labelsPath = \"/tmp/labels\"\n",
        "\n",
        "rdd.count"
      ],
      "outputs" : [
        {
          "name" : "stdout",
          "output_type" : "stream",
          "text" : "datasetSize: Int = 500000\ndim: Int = 4\nuseAggregationDS: Boolean = true\ndp: Int = 16\npath: String = /tmp/aggregation.csv\nrawRdd: org.apache.spark.rdd.RDD[scala.collection.mutable.ArrayBuffer[Double]] = MapPartitionsRDD[2] at map at <console>:89\nrdd: org.apache.spark.rdd.RDD[clustering4ever.scala.clusterizables.RealClusterizable[Long,scala.collection.mutable.ArrayBuffer[Double],scala.collection.mutable.ArrayBuffer[Double]]] = MapPartitionsRDD[4] at map at <console>:90\nlabelsPath: String = /tmp/labels\nres4: Long = 788\n"
        },
        {
          "metadata" : { },
          "data" : {
            "text/html" : "788"
          },
          "output_type" : "execute_result",
          "execution_count" : 3,
          "time" : "Took: 2.574s, at 2018-09-19 14:31"
        }
      ]
    },
    {
      "metadata" : {
        "id" : "DB906BE4458347E98566175F44A41B25"
      },
      "cell_type" : "markdown",
      "source" : "## Parameters "
    },
    {
      "metadata" : {
        "trusted" : true,
        "input_collapsed" : false,
        "collapsed" : false,
        "id" : "7B7F65B92A1849639D25B8260E8FC13D"
      },
      "cell_type" : "code",
      "source" : [
        "val k = 7\n",
        "val iterMax = 40\n",
        "val epsilon = 0.5"
      ],
      "outputs" : [
        {
          "name" : "stdout",
          "output_type" : "stream",
          "text" : "k: Int = 7\niterMax: Int = 40\nepsilon: Double = 0.5\n"
        },
        {
          "metadata" : { },
          "data" : {
            "text/html" : ""
          },
          "output_type" : "execute_result",
          "execution_count" : 4,
          "time" : "Took: 0.786s, at 2018-09-19 14:31"
        }
      ]
    },
    {
      "metadata" : {
        "id" : "729707FBED094F888A80AB7B8B14E536"
      },
      "cell_type" : "markdown",
      "source" : "## Run and measure the algorithm time, you can give a well prepared RDD[Clusterizable] or use implicit conversion and gives RDD[Seq[Double]]"
    },
    {
      "metadata" : {
        "trusted" : true,
        "input_collapsed" : false,
        "collapsed" : false,
        "id" : "419AEFF8FD5643459DDC4497EDE74809"
      },
      "cell_type" : "code",
      "source" : [
        "val t1 = System.currentTimeMillis\n",
        "val model = KMeans.run(\n",
        "  sc,\n",
        "  rdd,\n",
        "  k,\n",
        "  epsilon,\n",
        "  iterMax\n",
        ")\n",
        "val t2 = System.currentTimeMillis\n",
        "(t2 - t1) / 1000D"
      ],
      "outputs" : [
        {
          "name" : "stdout",
          "output_type" : "stream",
          "text" : "t1: Long = 1537360307921\nmodel: clustering4ever.spark.clustering.kmeans.KMeansModel[Long,scala.collection.mutable.ArrayBuffer[Double],scala.collection.mutable.ArrayBuffer[Double],clustering4ever.scala.clusterizables.RealClusterizable[Long,scala.collection.mutable.ArrayBuffer[Double],scala.collection.mutable.ArrayBuffer[Double]],clustering4ever.math.distances.scalar.Euclidean[scala.collection.mutable.ArrayBuffer[Double]]] = clustering4ever.spark.clustering.kmeans.KMeansModel@76383067\nt2: Long = 1537360309053\nres7: Double = 1.132\n"
        },
        {
          "metadata" : { },
          "data" : {
            "text/html" : "1.132"
          },
          "output_type" : "execute_result",
          "execution_count" : 5,
          "time" : "Took: 2.267s, at 2018-09-19 14:31"
        }
      ]
    },
    {
      "metadata" : {
        "trusted" : true,
        "input_collapsed" : false,
        "collapsed" : false,
        "id" : "B36132A2EEDD4BB291A81E5374189B1F"
      },
      "cell_type" : "code",
      "source" : [
        "val clusterized = model.centerPredict(rdd)\n",
        "val lclusterized = clusterized.collect"
      ],
      "outputs" : [
        {
          "name" : "stdout",
          "output_type" : "stream",
          "text" : "clusterized: org.apache.spark.rdd.RDD[clustering4ever.scala.clusterizables.RealClusterizable[Long,scala.collection.mutable.ArrayBuffer[Double],scala.collection.mutable.ArrayBuffer[Double]]] = MapPartitionsRDD[34] at map at K-CommonsSpark.scala:154\nlclusterized: Array[clustering4ever.scala.clusterizables.RealClusterizable[Long,scala.collection.mutable.ArrayBuffer[Double],scala.collection.mutable.ArrayBuffer[Double]]] = Array(RealClusterizable(0,clustering4ever.scala.vectorizables.RealVector@76c9fb00,None,Some(3)), RealClusterizable(1,clustering4ever.scala.vectorizables.RealVector@63b7052d,None,Some(0)), RealClusterizable(2,clustering4ever.scala.vectorizables.RealVector@35926016,None,Some(0)), RealClusterizable(3,clustering4ever.scala.vectorizables.RealVector@2a51cbe4,None,Some(0)), RealC..."
        },
        {
          "metadata" : { },
          "data" : {
            "text/html" : ""
          },
          "output_type" : "execute_result",
          "execution_count" : 6,
          "time" : "Took: 0.721s, at 2018-09-19 14:31"
        }
      ]
    },
    {
      "metadata" : {
        "id" : "8764D707B7724F10B29F4ECBE2D0EF35"
      },
      "cell_type" : "markdown",
      "source" : "## Plot clustering results"
    },
    {
      "metadata" : {
        "trusted" : true,
        "input_collapsed" : false,
        "collapsed" : false,
        "id" : "73DF7E1E10D9470F873F415BBC32A860"
      },
      "cell_type" : "code",
      "source" : [
        "val rawData = lclusterized.map(_.vector.toArray).toArray\n",
        "val labels = lclusterized.map( cz => cz.clusterID.get ).toArray\n",
        "\n",
        "plot(rawData, labels, '*', Palette.COLORS)"
      ],
      "outputs" : [
        {
          "name" : "stdout",
          "output_type" : "stream",
          "text" : "java.awt.HeadlessException\n  at java.awt.GraphicsEnvironment.checkHeadless(GraphicsEnvironment.java:204)\n  at java.awt.Window.<init>(Window.java:536)\n  at java.awt.Frame.<init>(Frame.java:420)\n  at javax.swing.JFrame.<init>(JFrame.java:233)\n  at smile.plot.Window$.frame(Window.scala:49)\n  at smile.plot.Window$.apply(Window.scala:33)\n  at smile.plot.Operators$class.plot(Operators.scala:86)\n  at smile.plot.package$.plot(package.scala:23)\n  ... 69 elided\n"
        }
      ]
    },
    {
      "metadata" : {
        "id" : "F7CC2B90766B4298A8E0007A402C4F12"
      },
      "cell_type" : "markdown",
      "source" : "## Inspect performance metrics"
    },
    {
      "metadata" : {
        "trusted" : true,
        "input_collapsed" : false,
        "collapsed" : false,
        "id" : "92D74F442AAC47098E81E395C0EA2EAF"
      },
      "cell_type" : "code",
      "source" : [
        "val trueLabels = sc.parallelize(Source.fromFile(labelsPath).getLines.map(_.toInt).toSeq)\n",
        "\n",
        "val (_, trueLabelsFrom0) = ExternalIndexes.prepareLabels(trueLabels)\n",
        "\n",
        "val predicts = clusterized.map(_.clusterID.get)\n",
        "\n",
        "val trueAndPredictRDD = sc.parallelize(trueLabelsFrom0.collect.zip(predicts.collect).map{ case(gt, pred) => (gt.toInt, pred) })\n",
        "\n",
        "val nmi = ExternalIndexes.nmi(sc, trueAndPredictRDD, SQRT)\n",
        "\n",
        "nmi"
      ],
      "outputs" : [
        {
          "name" : "stdout",
          "output_type" : "stream",
          "text" : "trueLabels: org.apache.spark.rdd.RDD[Int] = ParallelCollectionRDD[35] at parallelize at <console>:100\ntrueLabelsFrom0: org.apache.spark.rdd.RDD[Long] = MapPartitionsRDD[40] at map at ExternalIndexes.scala:73\npredicts: org.apache.spark.rdd.RDD[Int] = MapPartitionsRDD[41] at map at <console>:104\ntrueAndPredictRDD: org.apache.spark.rdd.RDD[(Int, Int)] = ParallelCollectionRDD[42] at parallelize at <console>:106\nnmi: Double = 0.5988478670110992\nres12: Double = 0.5988478670110992\n"
        },
        {
          "metadata" : { },
          "data" : {
            "text/html" : "0.5988478670110992"
          },
          "output_type" : "execute_result",
          "execution_count" : 8,
          "time" : "Took: 1.464s, at 2018-09-19 14:31"
        }
      ]
    }
  ],
  "nbformat" : 4
}