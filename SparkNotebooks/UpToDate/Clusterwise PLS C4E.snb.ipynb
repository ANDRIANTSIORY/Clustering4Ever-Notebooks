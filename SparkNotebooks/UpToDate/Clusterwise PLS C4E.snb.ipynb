{
  "metadata" : {
    "id" : "fb4e17bc-b2a5-443a-adb8-594809ccc4da",
    "name" : "Clusterwise PLS C4E",
    "user_save_timestamp" : "1970-01-01T07:00:00.000Z",
    "auto_save_timestamp" : "1970-01-01T07:00:00.000Z",
    "language_info" : {
      "name" : "scala",
      "file_extension" : "scala",
      "codemirror_mode" : "text/x-scala"
    },
    "trusted" : true,
    "sparkNotebook" : null,
    "customLocalRepo" : null,
    "customRepos" : [
      "clustering4ever % default % http://dl.bintray.com/clustering4ever/Clustering4Ever % maven"
    ],
    "customDeps" : [
      "clustering4ever % clustering4ever_2.11 % 0.6.4"
    ],
    "customImports" : null,
    "customArgs" : null,
    "customSparkConf" : {
      "spark.driver.memory" : "5g",
      "spark.executor.memory" : "10g",
      "spark.executor.cores" : "2",
      "spark.master" : "local[*]"
    },
    "customVars" : null
  },
  "cells" : [
    {
      "metadata" : {
        "id" : "7AEB05514E2F4E01A85FBB6EF6F89F7A"
      },
      "cell_type" : "markdown",
      "source" : "# [Clustering4Ever](https://github.com/Clustering4Ever/Clustering4Ever) on [SparkNotebook](http://spark-notebook.io/) by [LIPN](https://lipn.univ-paris13.fr/) [A3](https://lipn.univ-paris13.fr/accueil/equipe/a3/) team"
    },
    {
      "metadata" : {
        "id" : "EAFAEFF8A91E452E9315A7C3829D11FF"
      },
      "cell_type" : "markdown",
      "source" : "# Clusterwise PLS"
    },
    {
      "metadata" : {
        "trusted" : true,
        "input_collapsed" : false,
        "collapsed" : false,
        "id" : "361882DDBB324A1B9EECEC7B86ACF36B"
      },
      "cell_type" : "code",
      "source" : [
        "import clustering4ever.spark.clustering.clusterwise.{Clusterwise, ClusterwiseCore, PLS, ClusterwiseModel}\n",
        "import scala.collection.{mutable, immutable}"
      ],
      "outputs" : [
        {
          "name" : "stdout",
          "output_type" : "stream",
          "text" : "import clustering4ever.spark.clustering.clusterwise.{Clusterwise, ClusterwiseCore, PLS, ClusterwiseModel}\nimport scala.collection.{mutable, immutable}\n"
        },
        {
          "metadata" : { },
          "data" : {
            "text/html" : ""
          },
          "output_type" : "execute_result",
          "execution_count" : 1,
          "time" : "Took: 3.024s, at 2018-09-07 13:30"
        }
      ]
    },
    {
      "metadata" : {
        "trusted" : true,
        "input_collapsed" : false,
        "collapsed" : false,
        "id" : "7B869CA697E844FE97C92C1A0D8505F7"
      },
      "cell_type" : "code",
      "source" : [
        ":sh wget -P /tmp/ http://www.clustering4ever.org/Datasets/Clusterwise/simdata.csv"
      ],
      "outputs" : [
        {
          "name" : "stdout",
          "output_type" : "stream",
          "text" : "--2018-09-07 13:30:32--  http://www.clustering4ever.org/Datasets/Clusterwise/simdata.csv\nResolving www.clustering4ever.org (www.clustering4ever.org)... 62.210.16.62\nConnecting to www.clustering4ever.org (www.clustering4ever.org)|62.210.16.62|:80... connected.\nHTTP request sent, awaiting response... 200 OK\nLength: 61840 (60K) [text/csv]\nSaving to: ‘/tmp/simdata.csv.2’\n\n     0K .......... .......... .......... .......... .......... 82% 8.96M 0s\n    50K ..........                                            100%  124M=0.006s\n\n2018-09-07 13:30:32 (10.7 MB/s) - ‘/tmp/simdata.csv.2’ saved [61840/61840]\n\n\nimport sys.process._\n"
        },
        {
          "metadata" : { },
          "data" : {
            "text/plain" : ""
          },
          "output_type" : "execute_result",
          "execution_count" : 2,
          "time" : "Took: 2.792s, at 2018-09-07 13:30"
        }
      ]
    },
    {
      "metadata" : {
        "trusted" : true,
        "input_collapsed" : false,
        "collapsed" : false,
        "id" : "58083E2F2A81418288F6A1EC36218173"
      },
      "cell_type" : "code",
      "source" : [
        "val dataXY = scala.io.Source.fromFile(\"/tmp/simdata.csv\")\n",
        "  .getLines\n",
        "  .toSeq\n",
        "  .map(_.split(',').map(_.toDouble))\n",
        "  .map( a => (mutable.ArrayBuffer(a.take(10):_*), mutable.ArrayBuffer(a.takeRight(3):_*)) )\n",
        "  .zipWithIndex\n",
        "  .map{ case(xy,idx) => (idx, xy) }\n",
        "  .toBuffer"
      ],
      "outputs" : [
        {
          "name" : "stdout",
          "output_type" : "stream",
          "text" : "dataXY: scala.collection.mutable.Buffer[(Int, (scala.collection.mutable.ArrayBuffer[Double], scala.collection.mutable.ArrayBuffer[Double]))] = ArrayBuffer((0,(ArrayBuffer(4.058845733, 6.405834969, 4.943772245, 4.191393637, 5.691694039, 6.18161279, 6.182385889, 5.982450545, 6.139507172, 7.42310638),ArrayBuffer(6.508480628, 6.009293422, 6.61563233))), (1,(ArrayBuffer(5.102442757, 4.716437077, 4.692925255, 4.839302826, 4.02386069, 2.158591158, 2.901072862, 2.816463237, 3.501312504, 3.084936398),ArrayBuffer(5.238588818, 5.070952054, 5.370006441))), (2,(ArrayBuffer(4.766958169, 4.838583906, 6.485887384, 4.404467358, 5.211054103, 4.865929818, 5.278244008, 4.604447037, 4.98848043, 4.768183695),ArrayBuffer(5.917350113, 5.666997815, 6.045082662))), (3,(ArrayBuffer(6.138171718, 4.494158628, 3.410..."
        },
        {
          "metadata" : { },
          "data" : {
            "text/html" : ""
          },
          "output_type" : "execute_result",
          "execution_count" : 3,
          "time" : "Took: 1.751s, at 2018-09-07 13:30"
        }
      ]
    },
    {
      "metadata" : {
        "id" : "A4805598BDAA4F648643F86933261DD8"
      },
      "cell_type" : "markdown",
      "source" : "## Run a full Clusterwise\n### Parameters"
    },
    {
      "metadata" : {
        "trusted" : true,
        "input_collapsed" : false,
        "collapsed" : false,
        "id" : "A95C7BF846A342BF8504D9FCAECEC04F"
      },
      "cell_type" : "code",
      "source" : [
        "val init = 20\n",
        "val nbCV = 10\n",
        "val g = 4\n",
        "val h = 2\n",
        "val sizeBloc = 10\n",
        "val kPred = 25\n",
        "val nbLaunch = 1\n",
        "val standardization = true\n",
        "val withY = false"
      ],
      "outputs" : [
        {
          "name" : "stdout",
          "output_type" : "stream",
          "text" : "init: Int = 20\nnbCV: Int = 10\ng: Int = 4\nh: Int = 2\nsizeBloc: Int = 10\nkPred: Int = 25\nnbLaunch: Int = 1\nstandardization: Boolean = true\nwithY: Boolean = false\n"
        },
        {
          "metadata" : { },
          "data" : {
            "text/html" : ""
          },
          "output_type" : "execute_result",
          "execution_count" : 4,
          "time" : "Took: 1.712s, at 2018-09-07 13:30"
        }
      ]
    },
    {
      "metadata" : {
        "trusted" : true,
        "input_collapsed" : false,
        "collapsed" : false,
        "id" : "9AC6DDB5C3514697BC44611695E8BA27"
      },
      "cell_type" : "code",
      "source" : [
        "val t0 = System.currentTimeMillis\n",
        "val (sqrmseCalAndVal, _) = Clusterwise.run(sc, dataXY, g, h, nbCV, init, kPred, withY, standardization, sizeBloc)\n",
        "val t1 = System.currentTimeMillis\n",
        "\n",
        "(t1 - t0) / 1000D"
      ],
      "outputs" : [
        {
          "name" : "stdout",
          "output_type" : "stream",
          "text" : "t0: Long = 1536319838701\nsqrmseCalAndVal: Array[(Double, Double)] = Array((0.0940799385940823,33.00121233628397), (0.09191440434453503,31.61651985189719), (0.09529592245083816,25.552908614960923), (0.09812158183745749,29.45447129907458), (0.09305115739071786,20.36060545690047), (0.10427563455967383,31.828118845478865), (0.09183282617834347,28.824748501372937), (0.08497175134177248,33.90429422743793), (0.09274565080292248,29.151690569907533), (0.0871305914881403,23.402680781896617))\nt1: Long = 1536319881294\nres6: Double = 42.593\n"
        },
        {
          "metadata" : { },
          "data" : {
            "text/html" : "42.593"
          },
          "output_type" : "execute_result",
          "execution_count" : 5,
          "time" : "Took: 44.477s, at 2018-09-07 13:31"
        }
      ]
    },
    {
      "metadata" : {
        "trusted" : true,
        "input_collapsed" : false,
        "collapsed" : false,
        "presentation" : {
          "tabs_state" : "{\n  \"tab_id\": \"#tab1038858926-0\"\n}",
          "pivot_chart_state" : "{\n  \"hiddenAttributes\": [],\n  \"menuLimit\": 200,\n  \"cols\": [],\n  \"rows\": [],\n  \"vals\": [],\n  \"exclusions\": {},\n  \"inclusions\": {},\n  \"unusedAttrsVertical\": 85,\n  \"autoSortUnusedAttrs\": false,\n  \"inclusionsInfo\": {},\n  \"aggregatorName\": \"Count\",\n  \"rendererName\": \"Table\"\n}"
        },
        "id" : "1381098728D4439C8A4992CE8B0780E2"
      },
      "cell_type" : "code",
      "source" : [
        "sqrmseCalAndVal"
      ],
      "outputs" : [
        {
          "name" : "stdout",
          "output_type" : "stream",
          "text" : "res8: Array[(Double, Double)] = Array((0.0940799385940823,33.00121233628397), (0.09191440434453503,31.61651985189719), (0.09529592245083816,25.552908614960923), (0.09812158183745749,29.45447129907458), (0.09305115739071786,20.36060545690047), (0.10427563455967383,31.828118845478865), (0.09183282617834347,28.824748501372937), (0.08497175134177248,33.90429422743793), (0.09274565080292248,29.151690569907533), (0.0871305914881403,23.402680781896617))\n"
        },
        {
          "metadata" : { },
          "data" : {
            "text/html" : "<div>\n      <script data-this=\"{&quot;dataId&quot;:&quot;anon8a6ec0d5310d62bde3b32cc6543764d2&quot;,&quot;dataInit&quot;:[],&quot;genId&quot;:&quot;1038858926&quot;}\" type=\"text/x-scoped-javascript\">/*<![CDATA[*/req(['../javascripts/notebook/playground','../javascripts/notebook/magic/tabs'], \n      function(playground, _magictabs) {\n        // data ==> data-this (in observable.js's scopedEval) ==> this in JS => { dataId, dataInit, ... }\n        // this ==> scope (in observable.js's scopedEval) ==> this.parentElement ==> div.container below (toHtml)\n\n        playground.call(data,\n                        this\n                        ,\n                        {\n    \"f\": _magictabs,\n    \"o\": {}\n  }\n  \n                        \n                        \n                      );\n      }\n    );/*]]>*/</script>\n    <div>\n      <div>\n        <ul class=\"nav nav-tabs\" id=\"ul1038858926\"><li>\n              <a href=\"#tab1038858926-0\"><i class=\"fa fa-table\"/></a>\n            </li><li>\n              <a href=\"#tab1038858926-1\"><i class=\"fa fa-dot-circle-o\"/></a>\n            </li><li>\n              <a href=\"#tab1038858926-2\"><i class=\"fa fa-line-chart\"/></a>\n            </li><li>\n              <a href=\"#tab1038858926-3\"><i class=\"fa fa-bar-chart\"/></a>\n            </li><li>\n              <a href=\"#tab1038858926-4\"><i class=\"fa fa-cubes\"/></a>\n            </li></ul>\n\n        <div class=\"tab-content\" id=\"tab1038858926\"><div class=\"tab-pane\" id=\"tab1038858926-0\">\n            <div>\n      <script data-this=\"{&quot;dataId&quot;:&quot;anone19f7744d6aa827a0ec949a2de61955d&quot;,&quot;dataInit&quot;:[{&quot;_1&quot;:0.0940799385940823,&quot;_2&quot;:33.00121233628397},{&quot;_1&quot;:0.09191440434453503,&quot;_2&quot;:31.61651985189719},{&quot;_1&quot;:0.09529592245083816,&quot;_2&quot;:25.552908614960923},{&quot;_1&quot;:0.09812158183745749,&quot;_2&quot;:29.45447129907458},{&quot;_1&quot;:0.09305115739071786,&quot;_2&quot;:20.36060545690047},{&quot;_1&quot;:0.10427563455967383,&quot;_2&quot;:31.828118845478865},{&quot;_1&quot;:0.09183282617834347,&quot;_2&quot;:28.824748501372937},{&quot;_1&quot;:0.08497175134177248,&quot;_2&quot;:33.90429422743793},{&quot;_1&quot;:0.09274565080292248,&quot;_2&quot;:29.151690569907533},{&quot;_1&quot;:0.0871305914881403,&quot;_2&quot;:23.402680781896617}],&quot;genId&quot;:&quot;1228537245&quot;}\" type=\"text/x-scoped-javascript\">/*<![CDATA[*/req(['../javascripts/notebook/playground','../javascripts/notebook/magic/tableChart'], \n      function(playground, _magictableChart) {\n        // data ==> data-this (in observable.js's scopedEval) ==> this in JS => { dataId, dataInit, ... }\n        // this ==> scope (in observable.js's scopedEval) ==> this.parentElement ==> div.container below (toHtml)\n\n        playground.call(data,\n                        this\n                        ,\n                        {\n    \"f\": _magictableChart,\n    \"o\": {\"headers\":[\"_1\",\"_2\"],\"width\":600,\"height\":400}\n  }\n  \n                        \n                        \n                      );\n      }\n    );/*]]>*/</script>\n    <div>\n      <span class=\"chart-total-item-count\"><p data-bind=\"text: value\"><script data-this=\"{&quot;valueId&quot;:&quot;anona53f22d3ea9801449a57456f4a2b98c2&quot;,&quot;initialValue&quot;:&quot;10&quot;}\" type=\"text/x-scoped-javascript\">/*<![CDATA[*/\nreq(\n['observable', 'knockout'],\nfunction (O, ko) {\n  ko.applyBindings({\n      value: O.makeObservable(valueId, initialValue)\n    },\n    this\n  );\n});\n        /*]]>*/</script></p> entries total</span>\n      <span class=\"chart-sampling-warning\"><p data-bind=\"text: value\"><script data-this=\"{&quot;valueId&quot;:&quot;anon49588f1338dc35f043bf28db14ec3b8c&quot;,&quot;initialValue&quot;:&quot;&quot;}\" type=\"text/x-scoped-javascript\">/*<![CDATA[*/\nreq(\n['observable', 'knockout'],\nfunction (O, ko) {\n  ko.applyBindings({\n      value: O.makeObservable(valueId, initialValue)\n    },\n    this\n  );\n});\n        /*]]>*/</script></p></span>\n      <div>\n      </div>\n    </div></div>\n            </div><div class=\"tab-pane\" id=\"tab1038858926-1\">\n            <div>\n      <script data-this=\"{&quot;dataId&quot;:&quot;anon06e464fb6ad8cb69d80a26f03464705d&quot;,&quot;dataInit&quot;:[{&quot;_1&quot;:0.0940799385940823,&quot;_2&quot;:33.00121233628397},{&quot;_1&quot;:0.09191440434453503,&quot;_2&quot;:31.61651985189719},{&quot;_1&quot;:0.09529592245083816,&quot;_2&quot;:25.552908614960923},{&quot;_1&quot;:0.09812158183745749,&quot;_2&quot;:29.45447129907458},{&quot;_1&quot;:0.09305115739071786,&quot;_2&quot;:20.36060545690047},{&quot;_1&quot;:0.10427563455967383,&quot;_2&quot;:31.828118845478865},{&quot;_1&quot;:0.09183282617834347,&quot;_2&quot;:28.824748501372937},{&quot;_1&quot;:0.08497175134177248,&quot;_2&quot;:33.90429422743793},{&quot;_1&quot;:0.09274565080292248,&quot;_2&quot;:29.151690569907533},{&quot;_1&quot;:0.0871305914881403,&quot;_2&quot;:23.402680781896617}],&quot;genId&quot;:&quot;1845439060&quot;}\" type=\"text/x-scoped-javascript\">/*<![CDATA[*/req(['../javascripts/notebook/playground','../javascripts/notebook/magic/scatterChart'], \n      function(playground, _magicscatterChart) {\n        // data ==> data-this (in observable.js's scopedEval) ==> this in JS => { dataId, dataInit, ... }\n        // this ==> scope (in observable.js's scopedEval) ==> this.parentElement ==> div.container below (toHtml)\n\n        playground.call(data,\n                        this\n                        ,\n                        {\n    \"f\": _magicscatterChart,\n    \"o\": {\"x\":\"_1\",\"y\":\"_2\",\"width\":600,\"height\":400}\n  }\n  \n                        \n                        \n                      );\n      }\n    );/*]]>*/</script>\n    <div>\n      <span class=\"chart-total-item-count\"><p data-bind=\"text: value\"><script data-this=\"{&quot;valueId&quot;:&quot;anonfc99d4c701a71e639a5873a4e1ac63f9&quot;,&quot;initialValue&quot;:&quot;10&quot;}\" type=\"text/x-scoped-javascript\">/*<![CDATA[*/\nreq(\n['observable', 'knockout'],\nfunction (O, ko) {\n  ko.applyBindings({\n      value: O.makeObservable(valueId, initialValue)\n    },\n    this\n  );\n});\n        /*]]>*/</script></p> entries total</span>\n      <span class=\"chart-sampling-warning\"><p data-bind=\"text: value\"><script data-this=\"{&quot;valueId&quot;:&quot;anon56e69b73b97de86ad08515841b751779&quot;,&quot;initialValue&quot;:&quot;&quot;}\" type=\"text/x-scoped-javascript\">/*<![CDATA[*/\nreq(\n['observable', 'knockout'],\nfunction (O, ko) {\n  ko.applyBindings({\n      value: O.makeObservable(valueId, initialValue)\n    },\n    this\n  );\n});\n        /*]]>*/</script></p></span>\n      <div>\n      </div>\n    </div></div>\n            </div><div class=\"tab-pane\" id=\"tab1038858926-2\">\n            <div>\n      <script data-this=\"{&quot;dataId&quot;:&quot;anonb601d7b54fb48f22d82a6f5b7c802bb9&quot;,&quot;dataInit&quot;:[{&quot;_1&quot;:0.0940799385940823,&quot;_2&quot;:33.00121233628397},{&quot;_1&quot;:0.09191440434453503,&quot;_2&quot;:31.61651985189719},{&quot;_1&quot;:0.09529592245083816,&quot;_2&quot;:25.552908614960923},{&quot;_1&quot;:0.09812158183745749,&quot;_2&quot;:29.45447129907458},{&quot;_1&quot;:0.09305115739071786,&quot;_2&quot;:20.36060545690047},{&quot;_1&quot;:0.10427563455967383,&quot;_2&quot;:31.828118845478865},{&quot;_1&quot;:0.09183282617834347,&quot;_2&quot;:28.824748501372937},{&quot;_1&quot;:0.08497175134177248,&quot;_2&quot;:33.90429422743793},{&quot;_1&quot;:0.09274565080292248,&quot;_2&quot;:29.151690569907533},{&quot;_1&quot;:0.0871305914881403,&quot;_2&quot;:23.402680781896617}],&quot;genId&quot;:&quot;1976386201&quot;}\" type=\"text/x-scoped-javascript\">/*<![CDATA[*/req(['../javascripts/notebook/playground','../javascripts/notebook/magic/lineChart'], \n      function(playground, _magiclineChart) {\n        // data ==> data-this (in observable.js's scopedEval) ==> this in JS => { dataId, dataInit, ... }\n        // this ==> scope (in observable.js's scopedEval) ==> this.parentElement ==> div.container below (toHtml)\n\n        playground.call(data,\n                        this\n                        ,\n                        {\n    \"f\": _magiclineChart,\n    \"o\": {\"x\":\"_1\",\"y\":\"_2\",\"width\":600,\"height\":400}\n  }\n  \n                        \n                        \n                      );\n      }\n    );/*]]>*/</script>\n    <div>\n      <span class=\"chart-total-item-count\"><p data-bind=\"text: value\"><script data-this=\"{&quot;valueId&quot;:&quot;anon3a22d6c4e600184a97139a95158eb818&quot;,&quot;initialValue&quot;:&quot;10&quot;}\" type=\"text/x-scoped-javascript\">/*<![CDATA[*/\nreq(\n['observable', 'knockout'],\nfunction (O, ko) {\n  ko.applyBindings({\n      value: O.makeObservable(valueId, initialValue)\n    },\n    this\n  );\n});\n        /*]]>*/</script></p> entries total</span>\n      <span class=\"chart-sampling-warning\"><p data-bind=\"text: value\"><script data-this=\"{&quot;valueId&quot;:&quot;anona887fa14251c19076ec40595b1e96ab1&quot;,&quot;initialValue&quot;:&quot;&quot;}\" type=\"text/x-scoped-javascript\">/*<![CDATA[*/\nreq(\n['observable', 'knockout'],\nfunction (O, ko) {\n  ko.applyBindings({\n      value: O.makeObservable(valueId, initialValue)\n    },\n    this\n  );\n});\n        /*]]>*/</script></p></span>\n      <div>\n      </div>\n    </div></div>\n            </div><div class=\"tab-pane\" id=\"tab1038858926-3\">\n            <div>\n      <script data-this=\"{&quot;dataId&quot;:&quot;anonca0fd4e4f86fbf256319a01637a54d7c&quot;,&quot;dataInit&quot;:[{&quot;_1&quot;:0.0940799385940823,&quot;_2&quot;:33.00121233628397},{&quot;_1&quot;:0.09191440434453503,&quot;_2&quot;:31.61651985189719},{&quot;_1&quot;:0.09529592245083816,&quot;_2&quot;:25.552908614960923},{&quot;_1&quot;:0.09812158183745749,&quot;_2&quot;:29.45447129907458},{&quot;_1&quot;:0.09305115739071786,&quot;_2&quot;:20.36060545690047},{&quot;_1&quot;:0.10427563455967383,&quot;_2&quot;:31.828118845478865},{&quot;_1&quot;:0.09183282617834347,&quot;_2&quot;:28.824748501372937},{&quot;_1&quot;:0.08497175134177248,&quot;_2&quot;:33.90429422743793},{&quot;_1&quot;:0.09274565080292248,&quot;_2&quot;:29.151690569907533},{&quot;_1&quot;:0.0871305914881403,&quot;_2&quot;:23.402680781896617}],&quot;genId&quot;:&quot;543631249&quot;}\" type=\"text/x-scoped-javascript\">/*<![CDATA[*/req(['../javascripts/notebook/playground','../javascripts/notebook/magic/barChart'], \n      function(playground, _magicbarChart) {\n        // data ==> data-this (in observable.js's scopedEval) ==> this in JS => { dataId, dataInit, ... }\n        // this ==> scope (in observable.js's scopedEval) ==> this.parentElement ==> div.container below (toHtml)\n\n        playground.call(data,\n                        this\n                        ,\n                        {\n    \"f\": _magicbarChart,\n    \"o\": {\"x\":\"_1\",\"y\":\"_2\",\"width\":600,\"height\":400}\n  }\n  \n                        \n                        \n                      );\n      }\n    );/*]]>*/</script>\n    <div>\n      <span class=\"chart-total-item-count\"><p data-bind=\"text: value\"><script data-this=\"{&quot;valueId&quot;:&quot;anonbf5545638f3bb47b19199a9bebca5f05&quot;,&quot;initialValue&quot;:&quot;10&quot;}\" type=\"text/x-scoped-javascript\">/*<![CDATA[*/\nreq(\n['observable', 'knockout'],\nfunction (O, ko) {\n  ko.applyBindings({\n      value: O.makeObservable(valueId, initialValue)\n    },\n    this\n  );\n});\n        /*]]>*/</script></p> entries total</span>\n      <span class=\"chart-sampling-warning\"><p data-bind=\"text: value\"><script data-this=\"{&quot;valueId&quot;:&quot;anone9f186676baf65983cb99cbcf9dd578d&quot;,&quot;initialValue&quot;:&quot;&quot;}\" type=\"text/x-scoped-javascript\">/*<![CDATA[*/\nreq(\n['observable', 'knockout'],\nfunction (O, ko) {\n  ko.applyBindings({\n      value: O.makeObservable(valueId, initialValue)\n    },\n    this\n  );\n});\n        /*]]>*/</script></p></span>\n      <div>\n      </div>\n    </div></div>\n            </div><div class=\"tab-pane\" id=\"tab1038858926-4\">\n            <div>\n      <script data-this=\"{&quot;dataId&quot;:&quot;anon929c892c3e71105bbc0fa62a93effc96&quot;,&quot;dataInit&quot;:[{&quot;_1&quot;:0.0940799385940823,&quot;_2&quot;:33.00121233628397},{&quot;_1&quot;:0.09191440434453503,&quot;_2&quot;:31.61651985189719},{&quot;_1&quot;:0.09529592245083816,&quot;_2&quot;:25.552908614960923},{&quot;_1&quot;:0.09812158183745749,&quot;_2&quot;:29.45447129907458},{&quot;_1&quot;:0.09305115739071786,&quot;_2&quot;:20.36060545690047},{&quot;_1&quot;:0.10427563455967383,&quot;_2&quot;:31.828118845478865},{&quot;_1&quot;:0.09183282617834347,&quot;_2&quot;:28.824748501372937},{&quot;_1&quot;:0.08497175134177248,&quot;_2&quot;:33.90429422743793},{&quot;_1&quot;:0.09274565080292248,&quot;_2&quot;:29.151690569907533},{&quot;_1&quot;:0.0871305914881403,&quot;_2&quot;:23.402680781896617}],&quot;genId&quot;:&quot;1951519017&quot;}\" type=\"text/x-scoped-javascript\">/*<![CDATA[*/req(['../javascripts/notebook/playground','../javascripts/notebook/magic/pivotChart'], \n      function(playground, _magicpivotChart) {\n        // data ==> data-this (in observable.js's scopedEval) ==> this in JS => { dataId, dataInit, ... }\n        // this ==> scope (in observable.js's scopedEval) ==> this.parentElement ==> div.container below (toHtml)\n\n        playground.call(data,\n                        this\n                        ,\n                        {\n    \"f\": _magicpivotChart,\n    \"o\": {\"width\":600,\"height\":400,\"derivedAttributes\":{},\"extraOptions\":{}}\n  }\n  \n                        \n                        \n                      );\n      }\n    );/*]]>*/</script>\n    <div>\n      <span class=\"chart-total-item-count\"><p data-bind=\"text: value\"><script data-this=\"{&quot;valueId&quot;:&quot;anonb1dacdfbb6b70588adfdea975b161239&quot;,&quot;initialValue&quot;:&quot;10&quot;}\" type=\"text/x-scoped-javascript\">/*<![CDATA[*/\nreq(\n['observable', 'knockout'],\nfunction (O, ko) {\n  ko.applyBindings({\n      value: O.makeObservable(valueId, initialValue)\n    },\n    this\n  );\n});\n        /*]]>*/</script></p> entries total</span>\n      <span class=\"chart-sampling-warning\"><p data-bind=\"text: value\"><script data-this=\"{&quot;valueId&quot;:&quot;anon99a89c97edbfa2ab5dceb5ddf56be8e6&quot;,&quot;initialValue&quot;:&quot;&quot;}\" type=\"text/x-scoped-javascript\">/*<![CDATA[*/\nreq(\n['observable', 'knockout'],\nfunction (O, ko) {\n  ko.applyBindings({\n      value: O.makeObservable(valueId, initialValue)\n    },\n    this\n  );\n});\n        /*]]>*/</script></p></span>\n      <div>\n      </div>\n    </div></div>\n            </div></div>\n      </div>\n    </div></div>"
          },
          "output_type" : "execute_result",
          "execution_count" : 6,
          "time" : "Took: 1.468s, at 2018-09-07 13:31"
        }
      ]
    },
    {
      "metadata" : {
        "id" : "9A8AE5A7B5804845840378FA0199B622"
      },
      "cell_type" : "markdown",
      "source" : "## Run one Initialization of Clusterwise"
    },
    {
      "metadata" : {
        "trusted" : true,
        "input_collapsed" : false,
        "collapsed" : false,
        "id" : "02626FA95FF049AC8B4750A03184B3FA"
      },
      "cell_type" : "code",
      "source" : [
        "val (dsPerClass, predFitted, coIntercept, coXYcoef, critReg, mapsRegCrit, classedReg) = ClusterwiseCore.plsPerDot(dataXY, h, g)"
      ],
      "outputs" : [
        {
          "name" : "stdout",
          "output_type" : "stream",
          "text" : "dsPerClass: Array[Array[(Int, (scala.collection.mutable.ArrayBuffer[Double], scala.collection.mutable.ArrayBuffer[Double], Int))]] = Array(Array((7,(ArrayBuffer(6.685955917, 6.769605686, 5.342186991, 5.360624854, 5.205307736, 8.023073865, 8.646419433, 6.845253485, 7.939636587, 7.158224572),ArrayBuffer(6.857725732, 6.853841789, 6.627549623),0)), (23,(ArrayBuffer(3.334824219, 3.671672823, 3.644531857, 4.028140891, 3.844837271, 5.629685303, 7.897636537, 7.574256116, 6.980974165, 6.821401985),ArrayBuffer(5.659282305, 5.839603903, 5.568601779),0)), (31,(ArrayBuffer(4.462004034, 3.784548524, 3.621580406, 3.258433463, 3.97468681, 6.442817084, 6.329111434, 5.895986022, 6.070395932, 6.61244443),ArrayBuffer(4.829983506, 4.67189283, 4.569898994),0)), (45,(ArrayBuffer(4.103582125, 5.396418618, 3.19..."
        },
        {
          "metadata" : { },
          "data" : {
            "text/html" : ""
          },
          "output_type" : "execute_result",
          "execution_count" : 7,
          "time" : "Took: 5.876s, at 2018-09-07 13:31"
        }
      ]
    },
    {
      "metadata" : {
        "id" : "3D58F1DB38584A34960577E6BCC1F9B8"
      },
      "cell_type" : "markdown",
      "source" : "## Run one PLS regression"
    },
    {
      "metadata" : {
        "trusted" : true,
        "input_collapsed" : false,
        "collapsed" : false,
        "id" : "A6182A530F1A4843AAD6C09B7F20119A"
      },
      "cell_type" : "code",
      "source" : [
        "val inputX = mutable.ArrayBuffer(dataXY.map{ case (id, (x, y)) => (id, x) }:_*)\n",
        "val inputY = mutable.ArrayBuffer(dataXY.map{ case (id, (x, y)) => y }:_*)\n",
        "\n",
        "PLS.runPLS[mutable.ArrayBuffer[Double]](inputX, inputY, 2)._2"
      ],
      "outputs" : [
        {
          "name" : "stdout",
          "output_type" : "stream",
          "text" : "inputX: scala.collection.mutable.ArrayBuffer[(Int, scala.collection.mutable.ArrayBuffer[Double])] = ArrayBuffer((0,ArrayBuffer(4.058845733, 6.405834969, 4.943772245, 4.191393637, 5.691694039, 6.18161279, 6.182385889, 5.982450545, 6.139507172, 7.42310638)), (1,ArrayBuffer(5.102442757, 4.716437077, 4.692925255, 4.839302826, 4.02386069, 2.158591158, 2.901072862, 2.816463237, 3.501312504, 3.084936398)), (2,ArrayBuffer(4.766958169, 4.838583906, 6.485887384, 4.404467358, 5.211054103, 4.865929818, 5.278244008, 4.604447037, 4.98848043, 4.768183695)), (3,ArrayBuffer(6.138171718, 4.494158628, 3.410581785, 5.131981446, 5.551559701, 4.294727934, 5.917064075, 5.219849604, 5.133860522, 4.03092709)), (4,ArrayBuffer(5.375353406, 4.35623841, 4.635715716, 5.089608082, 3.678189181, 2.518132309, 4.75449419..."
        },
        {
          "metadata" : { },
          "data" : {
            "text/html" : "0.06979240528901356   0.06789620944460527    0.06930445371520205    \n0.08067757263085021   0.07970448849559086    0.07974774446651722    \n-0.07847738832689169  -0.08644739058771864   -0.0748970917978408    \n0.08511456892838887   0.08420743469638495    0.08409775190792484    \n0.09009642524949013   0.08958130237869746    0.08888651763257115    \n0.14068789390390152   0.1435177674030875     0.13770796553300962    \n0.13098330500261812   0.13316536912040206    0.1283447562823357     \n8.524690943149948E-5  -0.003144389803075201  0.0010531588356896757  \n0.11855232562338051   0.12009478549140792    0.11629398491749238    \n0.10618779161310123   0.10710533264884624    0.10430424557462933    "
          },
          "output_type" : "execute_result",
          "execution_count" : 8,
          "time" : "Took: 1.198s, at 2018-09-07 13:31"
        }
      ]
    }
  ],
  "nbformat" : 4
}