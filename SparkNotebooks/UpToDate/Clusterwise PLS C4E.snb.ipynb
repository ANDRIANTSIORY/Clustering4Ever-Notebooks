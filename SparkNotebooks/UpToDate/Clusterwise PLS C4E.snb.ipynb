{
  "metadata" : {
    "id" : "fb4e17bc-b2a5-443a-adb8-594809ccc4da",
    "name" : "Clusterwise PLS C4E",
    "user_save_timestamp" : "1970-01-01T07:00:00.000Z",
    "auto_save_timestamp" : "1970-01-01T07:00:00.000Z",
    "language_info" : {
      "name" : "scala",
      "file_extension" : "scala",
      "codemirror_mode" : "text/x-scala"
    },
    "trusted" : true,
    "sparkNotebook" : null,
    "customLocalRepo" : null,
    "customRepos" : [
      "clustering4ever % default % http://dl.bintray.com/clustering4ever/Clustering4Ever % maven"
    ],
    "customDeps" : [
      "clustering4ever % clustering4ever_2.11 % 0.6.8"
    ],
    "customImports" : null,
    "customArgs" : null,
    "customSparkConf" : {
      "spark.driver.memory" : "5g",
      "spark.executor.memory" : "10g",
      "spark.executor.cores" : "2",
      "spark.master" : "local[*]"
    },
    "customVars" : null
  },
  "cells" : [
    {
      "metadata" : {
        "id" : "7AEB05514E2F4E01A85FBB6EF6F89F7A"
      },
      "cell_type" : "markdown",
      "source" : "# [Clustering4Ever](https://github.com/Clustering4Ever/Clustering4Ever) on [SparkNotebook](http://spark-notebook.io/) by [LIPN](https://lipn.univ-paris13.fr/) [A3](https://lipn.univ-paris13.fr/accueil/equipe/a3/) team"
    },
    {
      "metadata" : {
        "id" : "EAFAEFF8A91E452E9315A7C3829D11FF"
      },
      "cell_type" : "markdown",
      "source" : "# Clusterwise PLS"
    },
    {
      "metadata" : {
        "trusted" : true,
        "input_collapsed" : false,
        "collapsed" : false,
        "id" : "361882DDBB324A1B9EECEC7B86ACF36B"
      },
      "cell_type" : "code",
      "source" : [
        "import clustering4ever.spark.clustering.clusterwise.{Clusterwise, ClusterwiseCore, PLS, ClusterwiseModel}\n",
        "import scala.collection.{mutable, immutable}"
      ],
      "outputs" : [
        {
          "name" : "stdout",
          "output_type" : "stream",
          "text" : "import clustering4ever.spark.clustering.clusterwise.{Clusterwise, ClusterwiseCore, PLS, ClusterwiseModel}\nimport scala.collection.{mutable, immutable}\n"
        },
        {
          "metadata" : { },
          "data" : {
            "text/html" : ""
          },
          "output_type" : "execute_result",
          "execution_count" : 1,
          "time" : "Took: 2.085s, at 2018-09-09 23:24"
        }
      ]
    },
    {
      "metadata" : {
        "trusted" : true,
        "input_collapsed" : false,
        "collapsed" : false,
        "id" : "7B869CA697E844FE97C92C1A0D8505F7"
      },
      "cell_type" : "code",
      "source" : [
        ":sh wget -P /tmp/ http://www.clustering4ever.org/Datasets/Clusterwise/simdata.csv"
      ],
      "outputs" : [
        {
          "name" : "stdout",
          "output_type" : "stream",
          "text" : "--2018-09-09 23:24:04--  http://www.clustering4ever.org/Datasets/Clusterwise/simdata.csv\nResolving www.clustering4ever.org (www.clustering4ever.org)... 62.210.16.62\nConnecting to www.clustering4ever.org (www.clustering4ever.org)|62.210.16.62|:80... connected.\nHTTP request sent, awaiting response... 200 OK\nLength: 61840 (60K) [text/csv]\nSaving to: ‘/tmp/simdata.csv.4’\n\n     0K .......... .......... .......... .......... .......... 82%  562K 0s\n    50K ..........                                            100%  688K=0.1s\n\n2018-09-09 23:24:20 (580 KB/s) - ‘/tmp/simdata.csv.4’ saved [61840/61840]\n\n\nimport sys.process._\n"
        },
        {
          "metadata" : { },
          "data" : {
            "text/plain" : ""
          },
          "output_type" : "execute_result",
          "execution_count" : 2,
          "time" : "Took: 18.147s, at 2018-09-09 23:24"
        }
      ]
    },
    {
      "metadata" : {
        "trusted" : true,
        "input_collapsed" : false,
        "collapsed" : false,
        "id" : "58083E2F2A81418288F6A1EC36218173"
      },
      "cell_type" : "code",
      "source" : [
        "val dataXY = scala.io.Source.fromFile(\"/tmp/simdata.csv\")\n",
        "  .getLines\n",
        "  .toSeq\n",
        "  .map(_.split(',').map(_.toDouble))\n",
        "  .map( a => (mutable.ArrayBuffer(a.take(10):_*), mutable.ArrayBuffer(a.takeRight(3):_*)) )\n",
        "  .zipWithIndex\n",
        "  .map{ case(xy,idx) => (idx, xy) }\n",
        "  .toBuffer"
      ],
      "outputs" : [
        {
          "name" : "stdout",
          "output_type" : "stream",
          "text" : "dataXY: scala.collection.mutable.Buffer[(Int, (scala.collection.mutable.ArrayBuffer[Double], scala.collection.mutable.ArrayBuffer[Double]))] = ArrayBuffer((0,(ArrayBuffer(4.058845733, 6.405834969, 4.943772245, 4.191393637, 5.691694039, 6.18161279, 6.182385889, 5.982450545, 6.139507172, 7.42310638),ArrayBuffer(6.508480628, 6.009293422, 6.61563233))), (1,(ArrayBuffer(5.102442757, 4.716437077, 4.692925255, 4.839302826, 4.02386069, 2.158591158, 2.901072862, 2.816463237, 3.501312504, 3.084936398),ArrayBuffer(5.238588818, 5.070952054, 5.370006441))), (2,(ArrayBuffer(4.766958169, 4.838583906, 6.485887384, 4.404467358, 5.211054103, 4.865929818, 5.278244008, 4.604447037, 4.98848043, 4.768183695),ArrayBuffer(5.917350113, 5.666997815, 6.045082662))), (3,(ArrayBuffer(6.138171718, 4.494158628, 3.410..."
        },
        {
          "metadata" : { },
          "data" : {
            "text/html" : ""
          },
          "output_type" : "execute_result",
          "execution_count" : 3,
          "time" : "Took: 1.225s, at 2018-09-09 23:24"
        }
      ]
    },
    {
      "metadata" : {
        "id" : "A4805598BDAA4F648643F86933261DD8"
      },
      "cell_type" : "markdown",
      "source" : "## Run a full Clusterwise\n### Parameters"
    },
    {
      "metadata" : {
        "trusted" : true,
        "input_collapsed" : false,
        "collapsed" : false,
        "id" : "A95C7BF846A342BF8504D9FCAECEC04F"
      },
      "cell_type" : "code",
      "source" : [
        "val init = 20\n",
        "val nbCV = 10\n",
        "val g = 4\n",
        "val h = 2\n",
        "val sizeBloc = 10\n",
        "val kPred = 25\n",
        "val nbLaunch = 1\n",
        "val standardization = true\n",
        "val withY = false"
      ],
      "outputs" : [
        {
          "name" : "stdout",
          "output_type" : "stream",
          "text" : "init: Int = 20\nnbCV: Int = 10\ng: Int = 4\nh: Int = 2\nsizeBloc: Int = 10\nkPred: Int = 25\nnbLaunch: Int = 1\nstandardization: Boolean = true\nwithY: Boolean = false\n"
        },
        {
          "metadata" : { },
          "data" : {
            "text/html" : ""
          },
          "output_type" : "execute_result",
          "execution_count" : 4,
          "time" : "Took: 0.973s, at 2018-09-09 23:24"
        }
      ]
    },
    {
      "metadata" : {
        "trusted" : true,
        "input_collapsed" : false,
        "collapsed" : false,
        "id" : "9AC6DDB5C3514697BC44611695E8BA27"
      },
      "cell_type" : "code",
      "source" : [
        "val t0 = System.currentTimeMillis\n",
        "val (sqrmseCalAndVal, _) = Clusterwise.run(sc, dataXY, g, h, nbCV, init, kPred, withY, standardization, sizeBloc)\n",
        "val t1 = System.currentTimeMillis\n",
        "\n",
        "(t1 - t0) / 1000D"
      ],
      "outputs" : [
        {
          "name" : "stdout",
          "output_type" : "stream",
          "text" : "t0: Long = 1536528264563\nsqrmseCalAndVal: Array[(Double, Double)] = Array((0.09336894637392588,30.888236799227546), (0.09823678147012639,33.29729177243464), (0.09834304844453991,23.86461548252785), (0.10321192611544205,32.55817086649427), (0.09806886777442764,22.856434618024647), (0.09499158478542058,13.704436489341887), (0.09767443902874938,25.279629206298438), (0.09834600084995558,16.60842340317629), (0.09947564588066393,25.138932964747877), (0.09470554766874821,27.47681528284163))\nt1: Long = 1536528300258\nres6: Double = 35.695\n"
        },
        {
          "metadata" : { },
          "data" : {
            "text/html" : "35.695"
          },
          "output_type" : "execute_result",
          "execution_count" : 5,
          "time" : "Took: 37.383s, at 2018-09-09 23:25"
        }
      ]
    },
    {
      "metadata" : {
        "trusted" : true,
        "input_collapsed" : false,
        "collapsed" : false,
        "presentation" : {
          "tabs_state" : "{\n  \"tab_id\": \"#tab927731659-0\"\n}",
          "pivot_chart_state" : "{\n  \"hiddenAttributes\": [],\n  \"menuLimit\": 200,\n  \"cols\": [],\n  \"rows\": [],\n  \"vals\": [],\n  \"exclusions\": {},\n  \"inclusions\": {},\n  \"unusedAttrsVertical\": 85,\n  \"autoSortUnusedAttrs\": false,\n  \"inclusionsInfo\": {},\n  \"aggregatorName\": \"Count\",\n  \"rendererName\": \"Table\"\n}"
        },
        "id" : "1381098728D4439C8A4992CE8B0780E2"
      },
      "cell_type" : "code",
      "source" : [
        "sqrmseCalAndVal"
      ],
      "outputs" : [
        {
          "name" : "stdout",
          "output_type" : "stream",
          "text" : "res8: Array[(Double, Double)] = Array((0.09336894637392588,30.888236799227546), (0.09823678147012639,33.29729177243464), (0.09834304844453991,23.86461548252785), (0.10321192611544205,32.55817086649427), (0.09806886777442764,22.856434618024647), (0.09499158478542058,13.704436489341887), (0.09767443902874938,25.279629206298438), (0.09834600084995558,16.60842340317629), (0.09947564588066393,25.138932964747877), (0.09470554766874821,27.47681528284163))\n"
        },
        {
          "metadata" : { },
          "data" : {
            "text/html" : "<div>\n      <script data-this=\"{&quot;dataId&quot;:&quot;anonc0f20e433938abc39d09e6dd14834306&quot;,&quot;dataInit&quot;:[],&quot;genId&quot;:&quot;927731659&quot;}\" type=\"text/x-scoped-javascript\">/*<![CDATA[*/req(['../javascripts/notebook/playground','../javascripts/notebook/magic/tabs'], \n      function(playground, _magictabs) {\n        // data ==> data-this (in observable.js's scopedEval) ==> this in JS => { dataId, dataInit, ... }\n        // this ==> scope (in observable.js's scopedEval) ==> this.parentElement ==> div.container below (toHtml)\n\n        playground.call(data,\n                        this\n                        ,\n                        {\n    \"f\": _magictabs,\n    \"o\": {}\n  }\n  \n                        \n                        \n                      );\n      }\n    );/*]]>*/</script>\n    <div>\n      <div>\n        <ul class=\"nav nav-tabs\" id=\"ul927731659\"><li>\n              <a href=\"#tab927731659-0\"><i class=\"fa fa-table\"/></a>\n            </li><li>\n              <a href=\"#tab927731659-1\"><i class=\"fa fa-dot-circle-o\"/></a>\n            </li><li>\n              <a href=\"#tab927731659-2\"><i class=\"fa fa-line-chart\"/></a>\n            </li><li>\n              <a href=\"#tab927731659-3\"><i class=\"fa fa-bar-chart\"/></a>\n            </li><li>\n              <a href=\"#tab927731659-4\"><i class=\"fa fa-cubes\"/></a>\n            </li></ul>\n\n        <div class=\"tab-content\" id=\"tab927731659\"><div class=\"tab-pane\" id=\"tab927731659-0\">\n            <div>\n      <script data-this=\"{&quot;dataId&quot;:&quot;anonf2253bf45c254cf63a4be821617ef59b&quot;,&quot;dataInit&quot;:[{&quot;_1&quot;:0.09336894637392588,&quot;_2&quot;:30.888236799227546},{&quot;_1&quot;:0.09823678147012639,&quot;_2&quot;:33.29729177243464},{&quot;_1&quot;:0.09834304844453991,&quot;_2&quot;:23.86461548252785},{&quot;_1&quot;:0.10321192611544205,&quot;_2&quot;:32.55817086649427},{&quot;_1&quot;:0.09806886777442764,&quot;_2&quot;:22.856434618024647},{&quot;_1&quot;:0.09499158478542058,&quot;_2&quot;:13.704436489341887},{&quot;_1&quot;:0.09767443902874938,&quot;_2&quot;:25.279629206298438},{&quot;_1&quot;:0.09834600084995558,&quot;_2&quot;:16.60842340317629},{&quot;_1&quot;:0.09947564588066393,&quot;_2&quot;:25.138932964747877},{&quot;_1&quot;:0.09470554766874821,&quot;_2&quot;:27.47681528284163}],&quot;genId&quot;:&quot;1985633851&quot;}\" type=\"text/x-scoped-javascript\">/*<![CDATA[*/req(['../javascripts/notebook/playground','../javascripts/notebook/magic/tableChart'], \n      function(playground, _magictableChart) {\n        // data ==> data-this (in observable.js's scopedEval) ==> this in JS => { dataId, dataInit, ... }\n        // this ==> scope (in observable.js's scopedEval) ==> this.parentElement ==> div.container below (toHtml)\n\n        playground.call(data,\n                        this\n                        ,\n                        {\n    \"f\": _magictableChart,\n    \"o\": {\"headers\":[\"_1\",\"_2\"],\"width\":600,\"height\":400}\n  }\n  \n                        \n                        \n                      );\n      }\n    );/*]]>*/</script>\n    <div>\n      <span class=\"chart-total-item-count\"><p data-bind=\"text: value\"><script data-this=\"{&quot;valueId&quot;:&quot;anon8d195981be2843a87aab2b230c6475c5&quot;,&quot;initialValue&quot;:&quot;10&quot;}\" type=\"text/x-scoped-javascript\">/*<![CDATA[*/\nreq(\n['observable', 'knockout'],\nfunction (O, ko) {\n  ko.applyBindings({\n      value: O.makeObservable(valueId, initialValue)\n    },\n    this\n  );\n});\n        /*]]>*/</script></p> entries total</span>\n      <span class=\"chart-sampling-warning\"><p data-bind=\"text: value\"><script data-this=\"{&quot;valueId&quot;:&quot;anon2824444fd447b6f7eb6c41d1625a4f50&quot;,&quot;initialValue&quot;:&quot;&quot;}\" type=\"text/x-scoped-javascript\">/*<![CDATA[*/\nreq(\n['observable', 'knockout'],\nfunction (O, ko) {\n  ko.applyBindings({\n      value: O.makeObservable(valueId, initialValue)\n    },\n    this\n  );\n});\n        /*]]>*/</script></p></span>\n      <div>\n      </div>\n    </div></div>\n            </div><div class=\"tab-pane\" id=\"tab927731659-1\">\n            <div>\n      <script data-this=\"{&quot;dataId&quot;:&quot;anon3084818bd5644a5607af3b5ce4dfb1f8&quot;,&quot;dataInit&quot;:[{&quot;_1&quot;:0.09336894637392588,&quot;_2&quot;:30.888236799227546},{&quot;_1&quot;:0.09823678147012639,&quot;_2&quot;:33.29729177243464},{&quot;_1&quot;:0.09834304844453991,&quot;_2&quot;:23.86461548252785},{&quot;_1&quot;:0.10321192611544205,&quot;_2&quot;:32.55817086649427},{&quot;_1&quot;:0.09806886777442764,&quot;_2&quot;:22.856434618024647},{&quot;_1&quot;:0.09499158478542058,&quot;_2&quot;:13.704436489341887},{&quot;_1&quot;:0.09767443902874938,&quot;_2&quot;:25.279629206298438},{&quot;_1&quot;:0.09834600084995558,&quot;_2&quot;:16.60842340317629},{&quot;_1&quot;:0.09947564588066393,&quot;_2&quot;:25.138932964747877},{&quot;_1&quot;:0.09470554766874821,&quot;_2&quot;:27.47681528284163}],&quot;genId&quot;:&quot;900658618&quot;}\" type=\"text/x-scoped-javascript\">/*<![CDATA[*/req(['../javascripts/notebook/playground','../javascripts/notebook/magic/scatterChart'], \n      function(playground, _magicscatterChart) {\n        // data ==> data-this (in observable.js's scopedEval) ==> this in JS => { dataId, dataInit, ... }\n        // this ==> scope (in observable.js's scopedEval) ==> this.parentElement ==> div.container below (toHtml)\n\n        playground.call(data,\n                        this\n                        ,\n                        {\n    \"f\": _magicscatterChart,\n    \"o\": {\"x\":\"_1\",\"y\":\"_2\",\"width\":600,\"height\":400}\n  }\n  \n                        \n                        \n                      );\n      }\n    );/*]]>*/</script>\n    <div>\n      <span class=\"chart-total-item-count\"><p data-bind=\"text: value\"><script data-this=\"{&quot;valueId&quot;:&quot;anone41f10bc073d7ec7c20f893f0030a508&quot;,&quot;initialValue&quot;:&quot;10&quot;}\" type=\"text/x-scoped-javascript\">/*<![CDATA[*/\nreq(\n['observable', 'knockout'],\nfunction (O, ko) {\n  ko.applyBindings({\n      value: O.makeObservable(valueId, initialValue)\n    },\n    this\n  );\n});\n        /*]]>*/</script></p> entries total</span>\n      <span class=\"chart-sampling-warning\"><p data-bind=\"text: value\"><script data-this=\"{&quot;valueId&quot;:&quot;anonbec0058f9885e1146ada848a6673e084&quot;,&quot;initialValue&quot;:&quot;&quot;}\" type=\"text/x-scoped-javascript\">/*<![CDATA[*/\nreq(\n['observable', 'knockout'],\nfunction (O, ko) {\n  ko.applyBindings({\n      value: O.makeObservable(valueId, initialValue)\n    },\n    this\n  );\n});\n        /*]]>*/</script></p></span>\n      <div>\n      </div>\n    </div></div>\n            </div><div class=\"tab-pane\" id=\"tab927731659-2\">\n            <div>\n      <script data-this=\"{&quot;dataId&quot;:&quot;anonae3720c3427b0eb18390521097018755&quot;,&quot;dataInit&quot;:[{&quot;_1&quot;:0.09336894637392588,&quot;_2&quot;:30.888236799227546},{&quot;_1&quot;:0.09823678147012639,&quot;_2&quot;:33.29729177243464},{&quot;_1&quot;:0.09834304844453991,&quot;_2&quot;:23.86461548252785},{&quot;_1&quot;:0.10321192611544205,&quot;_2&quot;:32.55817086649427},{&quot;_1&quot;:0.09806886777442764,&quot;_2&quot;:22.856434618024647},{&quot;_1&quot;:0.09499158478542058,&quot;_2&quot;:13.704436489341887},{&quot;_1&quot;:0.09767443902874938,&quot;_2&quot;:25.279629206298438},{&quot;_1&quot;:0.09834600084995558,&quot;_2&quot;:16.60842340317629},{&quot;_1&quot;:0.09947564588066393,&quot;_2&quot;:25.138932964747877},{&quot;_1&quot;:0.09470554766874821,&quot;_2&quot;:27.47681528284163}],&quot;genId&quot;:&quot;1375397681&quot;}\" type=\"text/x-scoped-javascript\">/*<![CDATA[*/req(['../javascripts/notebook/playground','../javascripts/notebook/magic/lineChart'], \n      function(playground, _magiclineChart) {\n        // data ==> data-this (in observable.js's scopedEval) ==> this in JS => { dataId, dataInit, ... }\n        // this ==> scope (in observable.js's scopedEval) ==> this.parentElement ==> div.container below (toHtml)\n\n        playground.call(data,\n                        this\n                        ,\n                        {\n    \"f\": _magiclineChart,\n    \"o\": {\"x\":\"_1\",\"y\":\"_2\",\"width\":600,\"height\":400}\n  }\n  \n                        \n                        \n                      );\n      }\n    );/*]]>*/</script>\n    <div>\n      <span class=\"chart-total-item-count\"><p data-bind=\"text: value\"><script data-this=\"{&quot;valueId&quot;:&quot;anon251f2f50629645ee6ac98ca4ac04e74f&quot;,&quot;initialValue&quot;:&quot;10&quot;}\" type=\"text/x-scoped-javascript\">/*<![CDATA[*/\nreq(\n['observable', 'knockout'],\nfunction (O, ko) {\n  ko.applyBindings({\n      value: O.makeObservable(valueId, initialValue)\n    },\n    this\n  );\n});\n        /*]]>*/</script></p> entries total</span>\n      <span class=\"chart-sampling-warning\"><p data-bind=\"text: value\"><script data-this=\"{&quot;valueId&quot;:&quot;anone3148a8ddf87f37adf2789f437ee29d3&quot;,&quot;initialValue&quot;:&quot;&quot;}\" type=\"text/x-scoped-javascript\">/*<![CDATA[*/\nreq(\n['observable', 'knockout'],\nfunction (O, ko) {\n  ko.applyBindings({\n      value: O.makeObservable(valueId, initialValue)\n    },\n    this\n  );\n});\n        /*]]>*/</script></p></span>\n      <div>\n      </div>\n    </div></div>\n            </div><div class=\"tab-pane\" id=\"tab927731659-3\">\n            <div>\n      <script data-this=\"{&quot;dataId&quot;:&quot;anonc7a77db28051b3f861bff7d126336d09&quot;,&quot;dataInit&quot;:[{&quot;_1&quot;:0.09336894637392588,&quot;_2&quot;:30.888236799227546},{&quot;_1&quot;:0.09823678147012639,&quot;_2&quot;:33.29729177243464},{&quot;_1&quot;:0.09834304844453991,&quot;_2&quot;:23.86461548252785},{&quot;_1&quot;:0.10321192611544205,&quot;_2&quot;:32.55817086649427},{&quot;_1&quot;:0.09806886777442764,&quot;_2&quot;:22.856434618024647},{&quot;_1&quot;:0.09499158478542058,&quot;_2&quot;:13.704436489341887},{&quot;_1&quot;:0.09767443902874938,&quot;_2&quot;:25.279629206298438},{&quot;_1&quot;:0.09834600084995558,&quot;_2&quot;:16.60842340317629},{&quot;_1&quot;:0.09947564588066393,&quot;_2&quot;:25.138932964747877},{&quot;_1&quot;:0.09470554766874821,&quot;_2&quot;:27.47681528284163}],&quot;genId&quot;:&quot;1850842624&quot;}\" type=\"text/x-scoped-javascript\">/*<![CDATA[*/req(['../javascripts/notebook/playground','../javascripts/notebook/magic/barChart'], \n      function(playground, _magicbarChart) {\n        // data ==> data-this (in observable.js's scopedEval) ==> this in JS => { dataId, dataInit, ... }\n        // this ==> scope (in observable.js's scopedEval) ==> this.parentElement ==> div.container below (toHtml)\n\n        playground.call(data,\n                        this\n                        ,\n                        {\n    \"f\": _magicbarChart,\n    \"o\": {\"x\":\"_1\",\"y\":\"_2\",\"width\":600,\"height\":400}\n  }\n  \n                        \n                        \n                      );\n      }\n    );/*]]>*/</script>\n    <div>\n      <span class=\"chart-total-item-count\"><p data-bind=\"text: value\"><script data-this=\"{&quot;valueId&quot;:&quot;anon3554c4ca5fc62cffa59fcb8d065832f2&quot;,&quot;initialValue&quot;:&quot;10&quot;}\" type=\"text/x-scoped-javascript\">/*<![CDATA[*/\nreq(\n['observable', 'knockout'],\nfunction (O, ko) {\n  ko.applyBindings({\n      value: O.makeObservable(valueId, initialValue)\n    },\n    this\n  );\n});\n        /*]]>*/</script></p> entries total</span>\n      <span class=\"chart-sampling-warning\"><p data-bind=\"text: value\"><script data-this=\"{&quot;valueId&quot;:&quot;anon0877cb51e7da968c947aba7faca1d90e&quot;,&quot;initialValue&quot;:&quot;&quot;}\" type=\"text/x-scoped-javascript\">/*<![CDATA[*/\nreq(\n['observable', 'knockout'],\nfunction (O, ko) {\n  ko.applyBindings({\n      value: O.makeObservable(valueId, initialValue)\n    },\n    this\n  );\n});\n        /*]]>*/</script></p></span>\n      <div>\n      </div>\n    </div></div>\n            </div><div class=\"tab-pane\" id=\"tab927731659-4\">\n            <div>\n      <script data-this=\"{&quot;dataId&quot;:&quot;anonce6d68880330d0b742fa9bb788d5ce42&quot;,&quot;dataInit&quot;:[{&quot;_1&quot;:0.09336894637392588,&quot;_2&quot;:30.888236799227546},{&quot;_1&quot;:0.09823678147012639,&quot;_2&quot;:33.29729177243464},{&quot;_1&quot;:0.09834304844453991,&quot;_2&quot;:23.86461548252785},{&quot;_1&quot;:0.10321192611544205,&quot;_2&quot;:32.55817086649427},{&quot;_1&quot;:0.09806886777442764,&quot;_2&quot;:22.856434618024647},{&quot;_1&quot;:0.09499158478542058,&quot;_2&quot;:13.704436489341887},{&quot;_1&quot;:0.09767443902874938,&quot;_2&quot;:25.279629206298438},{&quot;_1&quot;:0.09834600084995558,&quot;_2&quot;:16.60842340317629},{&quot;_1&quot;:0.09947564588066393,&quot;_2&quot;:25.138932964747877},{&quot;_1&quot;:0.09470554766874821,&quot;_2&quot;:27.47681528284163}],&quot;genId&quot;:&quot;341425965&quot;}\" type=\"text/x-scoped-javascript\">/*<![CDATA[*/req(['../javascripts/notebook/playground','../javascripts/notebook/magic/pivotChart'], \n      function(playground, _magicpivotChart) {\n        // data ==> data-this (in observable.js's scopedEval) ==> this in JS => { dataId, dataInit, ... }\n        // this ==> scope (in observable.js's scopedEval) ==> this.parentElement ==> div.container below (toHtml)\n\n        playground.call(data,\n                        this\n                        ,\n                        {\n    \"f\": _magicpivotChart,\n    \"o\": {\"width\":600,\"height\":400,\"derivedAttributes\":{},\"extraOptions\":{}}\n  }\n  \n                        \n                        \n                      );\n      }\n    );/*]]>*/</script>\n    <div>\n      <span class=\"chart-total-item-count\"><p data-bind=\"text: value\"><script data-this=\"{&quot;valueId&quot;:&quot;anon7fb3bfff510d03e896975c67cda6ee4f&quot;,&quot;initialValue&quot;:&quot;10&quot;}\" type=\"text/x-scoped-javascript\">/*<![CDATA[*/\nreq(\n['observable', 'knockout'],\nfunction (O, ko) {\n  ko.applyBindings({\n      value: O.makeObservable(valueId, initialValue)\n    },\n    this\n  );\n});\n        /*]]>*/</script></p> entries total</span>\n      <span class=\"chart-sampling-warning\"><p data-bind=\"text: value\"><script data-this=\"{&quot;valueId&quot;:&quot;anon02012deefd48275d242ef6de8a17e333&quot;,&quot;initialValue&quot;:&quot;&quot;}\" type=\"text/x-scoped-javascript\">/*<![CDATA[*/\nreq(\n['observable', 'knockout'],\nfunction (O, ko) {\n  ko.applyBindings({\n      value: O.makeObservable(valueId, initialValue)\n    },\n    this\n  );\n});\n        /*]]>*/</script></p></span>\n      <div>\n      </div>\n    </div></div>\n            </div></div>\n      </div>\n    </div></div>"
          },
          "output_type" : "execute_result",
          "execution_count" : 6,
          "time" : "Took: 1.408s, at 2018-09-09 23:25"
        }
      ]
    },
    {
      "metadata" : {
        "id" : "9A8AE5A7B5804845840378FA0199B622"
      },
      "cell_type" : "markdown",
      "source" : "## Run one Initialization of Clusterwise"
    },
    {
      "metadata" : {
        "trusted" : true,
        "input_collapsed" : false,
        "collapsed" : false,
        "id" : "02626FA95FF049AC8B4750A03184B3FA"
      },
      "cell_type" : "code",
      "source" : [
        "val (dsPerClass, predFitted, coIntercept, coXYcoef, critReg, mapsRegCrit, classedReg) = ClusterwiseCore.plsPerDot(dataXY, h, g)"
      ],
      "outputs" : [
        {
          "name" : "stdout",
          "output_type" : "stream",
          "text" : "dsPerClass: Array[Array[(Int, (scala.collection.mutable.ArrayBuffer[Double], scala.collection.mutable.ArrayBuffer[Double], Int))]] = Array(Array((70,(ArrayBuffer(4.804698399, 4.073557687, 4.939194723, 6.015560371, 3.284348858, 4.158782281, 3.817635547, 2.622286974, 3.912305205, 3.838071775),ArrayBuffer(5.897521528, 5.812970029, 6.032929107),0)), (201,(ArrayBuffer(5.122078405, 4.960160204, 5.156022767, 5.407303303, 5.24048393, 5.780615211, 7.154840778, 3.854793891, 5.741113015, 6.300700246),ArrayBuffer(4.806422243, 4.908984488, 4.800378616),0)), (202,(ArrayBuffer(3.498637113, 2.911576557, 2.711735065, 3.619588766, 3.37542664, 5.217377925, 3.739341184, 5.566907108, 4.627331719, 5.085252666),ArrayBuffer(3.705221741, 3.72218644, 3.70863158),0)), (213,(ArrayBuffer(5.709847458, 5.09694267, 4...."
        },
        {
          "metadata" : { },
          "data" : {
            "text/html" : ""
          },
          "output_type" : "execute_result",
          "execution_count" : 7,
          "time" : "Took: 5.095s, at 2018-09-09 23:25"
        }
      ]
    },
    {
      "metadata" : {
        "id" : "3D58F1DB38584A34960577E6BCC1F9B8"
      },
      "cell_type" : "markdown",
      "source" : "## Run one PLS regression"
    },
    {
      "metadata" : {
        "trusted" : true,
        "input_collapsed" : false,
        "collapsed" : false,
        "id" : "A6182A530F1A4843AAD6C09B7F20119A"
      },
      "cell_type" : "code",
      "source" : [
        "val inputX = mutable.ArrayBuffer(dataXY.map{ case (id, (x, y)) => (id, x) }:_*)\n",
        "val inputY = mutable.ArrayBuffer(dataXY.map{ case (id, (x, y)) => y }:_*)\n",
        "\n",
        "PLS.runPLS[mutable.ArrayBuffer[Double]](inputX, inputY, 2)._2"
      ],
      "outputs" : [
        {
          "name" : "stdout",
          "output_type" : "stream",
          "text" : "inputX: scala.collection.mutable.ArrayBuffer[(Int, scala.collection.mutable.ArrayBuffer[Double])] = ArrayBuffer((0,ArrayBuffer(4.058845733, 6.405834969, 4.943772245, 4.191393637, 5.691694039, 6.18161279, 6.182385889, 5.982450545, 6.139507172, 7.42310638)), (1,ArrayBuffer(5.102442757, 4.716437077, 4.692925255, 4.839302826, 4.02386069, 2.158591158, 2.901072862, 2.816463237, 3.501312504, 3.084936398)), (2,ArrayBuffer(4.766958169, 4.838583906, 6.485887384, 4.404467358, 5.211054103, 4.865929818, 5.278244008, 4.604447037, 4.98848043, 4.768183695)), (3,ArrayBuffer(6.138171718, 4.494158628, 3.410581785, 5.131981446, 5.551559701, 4.294727934, 5.917064075, 5.219849604, 5.133860522, 4.03092709)), (4,ArrayBuffer(5.375353406, 4.35623841, 4.635715716, 5.089608082, 3.678189181, 2.518132309, 4.75449419..."
        },
        {
          "metadata" : { },
          "data" : {
            "text/html" : "0.06979240528901356   0.06789620944460527    0.06930445371520205    \n0.08067757263085021   0.07970448849559086    0.07974774446651722    \n-0.07847738832689169  -0.08644739058771864   -0.0748970917978408    \n0.08511456892838887   0.08420743469638495    0.08409775190792484    \n0.09009642524949013   0.08958130237869746    0.08888651763257115    \n0.14068789390390152   0.1435177674030875     0.13770796553300962    \n0.13098330500261812   0.13316536912040206    0.1283447562823357     \n8.524690943149948E-5  -0.003144389803075201  0.0010531588356896757  \n0.11855232562338051   0.12009478549140792    0.11629398491749238    \n0.10618779161310123   0.10710533264884624    0.10430424557462933    "
          },
          "output_type" : "execute_result",
          "execution_count" : 8,
          "time" : "Took: 1.260s, at 2018-09-09 23:25"
        }
      ]
    }
  ],
  "nbformat" : 4
}