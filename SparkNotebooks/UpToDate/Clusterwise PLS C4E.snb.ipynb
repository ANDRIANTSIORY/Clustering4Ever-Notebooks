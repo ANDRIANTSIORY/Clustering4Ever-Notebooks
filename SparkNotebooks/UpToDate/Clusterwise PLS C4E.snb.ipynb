{
  "metadata" : {
    "id" : "fb4e17bc-b2a5-443a-adb8-594809ccc4da",
    "name" : "Clusterwise PLS C4E",
    "user_save_timestamp" : "1970-01-01T07:00:00.000Z",
    "auto_save_timestamp" : "1970-01-01T07:00:00.000Z",
    "language_info" : {
      "name" : "scala",
      "file_extension" : "scala",
      "codemirror_mode" : "text/x-scala"
    },
    "trusted" : true,
    "sparkNotebook" : null,
    "customLocalRepo" : null,
    "customRepos" : null,
    "customDeps" : [
      "org.clustering4ever % clustering4ever_2.11 % 0.7.0"
    ],
    "customImports" : null,
    "customArgs" : null,
    "customSparkConf" : null,
    "customVars" : null
  },
  "cells" : [
    {
      "metadata" : {
        "id" : "7AEB05514E2F4E01A85FBB6EF6F89F7A"
      },
      "cell_type" : "markdown",
      "source" : "# [Clustering4Ever](https://github.com/Clustering4Ever/Clustering4Ever) on [SparkNotebook](http://spark-notebook.io/) by [LIPN](https://lipn.univ-paris13.fr/) [A3](https://lipn.univ-paris13.fr/accueil/equipe/a3/) team"
    },
    {
      "metadata" : {
        "id" : "EAFAEFF8A91E452E9315A7C3829D11FF"
      },
      "cell_type" : "markdown",
      "source" : "# Clusterwise PLS"
    },
    {
      "metadata" : {
        "trusted" : true,
        "input_collapsed" : false,
        "collapsed" : false,
        "id" : "361882DDBB324A1B9EECEC7B86ACF36B"
      },
      "cell_type" : "code",
      "source" : [
        "import clustering4ever.spark.clustering.clusterwise.{Clusterwise, ClusterwiseCore, PLS, ClusterwiseModel}\n",
        "import scala.collection.{mutable, immutable}"
      ],
      "outputs" : [
        {
          "name" : "stdout",
          "output_type" : "stream",
          "text" : "import clustering4ever.spark.clustering.clusterwise.{Clusterwise, ClusterwiseCore, PLS, ClusterwiseModel}\nimport scala.collection.{mutable, immutable}\n"
        },
        {
          "metadata" : { },
          "data" : {
            "text/html" : ""
          },
          "output_type" : "execute_result",
          "execution_count" : 1,
          "time" : "Took: 1.549s, at 2018-10-27 20:24"
        }
      ]
    },
    {
      "metadata" : {
        "trusted" : true,
        "input_collapsed" : false,
        "collapsed" : false,
        "id" : "7B869CA697E844FE97C92C1A0D8505F7"
      },
      "cell_type" : "code",
      "source" : [
        ":sh wget -P /tmp/ http://www.clustering4ever.org/Datasets/Clusterwise/simdata.csv"
      ],
      "outputs" : [
        {
          "name" : "stdout",
          "output_type" : "stream",
          "text" : "--2018-10-27 20:24:53--  http://www.clustering4ever.org/Datasets/Clusterwise/simdata.csv\nResolving www.clustering4ever.org (www.clustering4ever.org)... 62.210.16.62\nConnecting to www.clustering4ever.org (www.clustering4ever.org)|62.210.16.62|:80... connected.\nHTTP request sent, awaiting response... 200 OK\nLength: 61840 (60K) [text/csv]\nSaving to: ‘/tmp/simdata.csv’\n\n     0K .......... .......... .......... .......... .......... 82%  558K 0s\n    50K ..........                                            100%  919K=0.1s\n\n2018-10-27 20:24:53 (598 KB/s) - ‘/tmp/simdata.csv’ saved [61840/61840]\n\n\nimport sys.process._\n"
        },
        {
          "metadata" : { },
          "data" : {
            "text/plain" : ""
          },
          "output_type" : "execute_result",
          "execution_count" : 2,
          "time" : "Took: 2.591s, at 2018-10-27 20:24"
        }
      ]
    },
    {
      "metadata" : {
        "trusted" : true,
        "input_collapsed" : false,
        "collapsed" : false,
        "id" : "58083E2F2A81418288F6A1EC36218173"
      },
      "cell_type" : "code",
      "source" : [
        "val dataXY = scala.io.Source.fromFile(\"/tmp/simdata.csv\")\n",
        "  .getLines\n",
        "  .toSeq\n",
        "  .map(_.split(',').map(_.toDouble))\n",
        "  .map( a => (mutable.ArrayBuffer(a.take(10):_*), mutable.ArrayBuffer(a.takeRight(3):_*)) )\n",
        "  .zipWithIndex\n",
        "  .map{ case(xy,idx) => (idx, xy) }\n",
        "  .toBuffer"
      ],
      "outputs" : [
        {
          "name" : "stdout",
          "output_type" : "stream",
          "text" : "dataXY: scala.collection.mutable.Buffer[(Int, (scala.collection.mutable.ArrayBuffer[Double], scala.collection.mutable.ArrayBuffer[Double]))] = ArrayBuffer((0,(ArrayBuffer(4.058845733, 6.405834969, 4.943772245, 4.191393637, 5.691694039, 6.18161279, 6.182385889, 5.982450545, 6.139507172, 7.42310638),ArrayBuffer(6.508480628, 6.009293422, 6.61563233))), (1,(ArrayBuffer(5.102442757, 4.716437077, 4.692925255, 4.839302826, 4.02386069, 2.158591158, 2.901072862, 2.816463237, 3.501312504, 3.084936398),ArrayBuffer(5.238588818, 5.070952054, 5.370006441))), (2,(ArrayBuffer(4.766958169, 4.838583906, 6.485887384, 4.404467358, 5.211054103, 4.865929818, 5.278244008, 4.604447037, 4.98848043, 4.768183695),ArrayBuffer(5.917350113, 5.666997815, 6.045082662))), (3,(ArrayBuffer(6.138171718, 4.494158628, 3.410..."
        },
        {
          "metadata" : { },
          "data" : {
            "text/html" : ""
          },
          "output_type" : "execute_result",
          "execution_count" : 3,
          "time" : "Took: 1.812s, at 2018-10-27 20:24"
        }
      ]
    },
    {
      "metadata" : {
        "id" : "A4805598BDAA4F648643F86933261DD8"
      },
      "cell_type" : "markdown",
      "source" : "## Run a full Clusterwise\n### Parameters"
    },
    {
      "metadata" : {
        "trusted" : true,
        "input_collapsed" : false,
        "collapsed" : false,
        "id" : "A95C7BF846A342BF8504D9FCAECEC04F"
      },
      "cell_type" : "code",
      "source" : [
        "val init = 20\n",
        "val nbCV = 10\n",
        "val g = 4\n",
        "val h = 2\n",
        "val sizeBloc = 10\n",
        "val kPred = 25\n",
        "val nbLaunch = 1\n",
        "val standardization = true\n",
        "val withY = false"
      ],
      "outputs" : [
        {
          "name" : "stdout",
          "output_type" : "stream",
          "text" : "init: Int = 20\nnbCV: Int = 10\ng: Int = 4\nh: Int = 2\nsizeBloc: Int = 10\nkPred: Int = 25\nnbLaunch: Int = 1\nstandardization: Boolean = true\nwithY: Boolean = false\n"
        },
        {
          "metadata" : { },
          "data" : {
            "text/html" : ""
          },
          "output_type" : "execute_result",
          "execution_count" : 4,
          "time" : "Took: 1.096s, at 2018-10-27 20:25"
        }
      ]
    },
    {
      "metadata" : {
        "trusted" : true,
        "input_collapsed" : false,
        "collapsed" : false,
        "id" : "9AC6DDB5C3514697BC44611695E8BA27"
      },
      "cell_type" : "code",
      "source" : [
        "val t0 = System.currentTimeMillis\n",
        "val (sqrmseCalAndVal, _) = Clusterwise.run(sc, dataXY, g, h, nbCV, init, kPred, withY, standardization, sizeBloc)\n",
        "val t1 = System.currentTimeMillis\n",
        "\n",
        "(t1 - t0) / 1000D"
      ],
      "outputs" : [
        {
          "name" : "stdout",
          "output_type" : "stream",
          "text" : "t0: Long = 1540664701935\nsqrmseCalAndVal: Array[(Double, Double)] = Array((0.08780919953099083,36.929547716244116), (0.08904047776296892,30.14716689144974), (0.0900400329624282,40.99844620237713), (0.09576040628682764,18.933840620024437), (0.0874372233497459,12.182559947479097), (0.09000848512568489,30.186829133950585), (0.09613377765793411,27.320096378220793), (0.09267057641801113,31.519726568858555), (0.08335341308219436,30.20764061507312), (0.08802627837359367,26.761844329844745))\nt1: Long = 1540664729346\nres6: Double = 27.411\n"
        },
        {
          "metadata" : { },
          "data" : {
            "text/html" : "27.411"
          },
          "output_type" : "execute_result",
          "execution_count" : 5,
          "time" : "Took: 28.621s, at 2018-10-27 20:25"
        }
      ]
    },
    {
      "metadata" : {
        "trusted" : true,
        "input_collapsed" : false,
        "collapsed" : false,
        "presentation" : {
          "tabs_state" : "{\n  \"tab_id\": \"#tab1939466567-0\"\n}",
          "pivot_chart_state" : "{\n  \"hiddenAttributes\": [],\n  \"menuLimit\": 200,\n  \"cols\": [],\n  \"rows\": [],\n  \"vals\": [],\n  \"exclusions\": {},\n  \"inclusions\": {},\n  \"unusedAttrsVertical\": 85,\n  \"autoSortUnusedAttrs\": false,\n  \"inclusionsInfo\": {},\n  \"aggregatorName\": \"Count\",\n  \"rendererName\": \"Table\"\n}"
        },
        "id" : "1381098728D4439C8A4992CE8B0780E2"
      },
      "cell_type" : "code",
      "source" : [
        "sqrmseCalAndVal"
      ],
      "outputs" : [
        {
          "name" : "stdout",
          "output_type" : "stream",
          "text" : "res8: Array[(Double, Double)] = Array((0.08780919953099083,36.929547716244116), (0.08904047776296892,30.14716689144974), (0.0900400329624282,40.99844620237713), (0.09576040628682764,18.933840620024437), (0.0874372233497459,12.182559947479097), (0.09000848512568489,30.186829133950585), (0.09613377765793411,27.320096378220793), (0.09267057641801113,31.519726568858555), (0.08335341308219436,30.20764061507312), (0.08802627837359367,26.761844329844745))\n"
        },
        {
          "metadata" : { },
          "data" : {
            "text/html" : "<div>\n      <script data-this=\"{&quot;dataId&quot;:&quot;anon36e24a152b0f8f00ec89c7b1ff1e300b&quot;,&quot;dataInit&quot;:[],&quot;genId&quot;:&quot;1939466567&quot;}\" type=\"text/x-scoped-javascript\">/*<![CDATA[*/req(['../javascripts/notebook/playground','../javascripts/notebook/magic/tabs'], \n      function(playground, _magictabs) {\n        // data ==> data-this (in observable.js's scopedEval) ==> this in JS => { dataId, dataInit, ... }\n        // this ==> scope (in observable.js's scopedEval) ==> this.parentElement ==> div.container below (toHtml)\n\n        playground.call(data,\n                        this\n                        ,\n                        {\n    \"f\": _magictabs,\n    \"o\": {}\n  }\n  \n                        \n                        \n                      );\n      }\n    );/*]]>*/</script>\n    <div>\n      <div>\n        <ul class=\"nav nav-tabs\" id=\"ul1939466567\"><li>\n              <a href=\"#tab1939466567-0\"><i class=\"fa fa-table\"/></a>\n            </li><li>\n              <a href=\"#tab1939466567-1\"><i class=\"fa fa-dot-circle-o\"/></a>\n            </li><li>\n              <a href=\"#tab1939466567-2\"><i class=\"fa fa-line-chart\"/></a>\n            </li><li>\n              <a href=\"#tab1939466567-3\"><i class=\"fa fa-bar-chart\"/></a>\n            </li><li>\n              <a href=\"#tab1939466567-4\"><i class=\"fa fa-cubes\"/></a>\n            </li></ul>\n\n        <div class=\"tab-content\" id=\"tab1939466567\"><div class=\"tab-pane\" id=\"tab1939466567-0\">\n            <div>\n      <script data-this=\"{&quot;dataId&quot;:&quot;anon55c30445871f5141556cbe893f45d533&quot;,&quot;dataInit&quot;:[{&quot;_1&quot;:0.08780919953099083,&quot;_2&quot;:36.929547716244116},{&quot;_1&quot;:0.08904047776296892,&quot;_2&quot;:30.14716689144974},{&quot;_1&quot;:0.0900400329624282,&quot;_2&quot;:40.99844620237713},{&quot;_1&quot;:0.09576040628682764,&quot;_2&quot;:18.933840620024437},{&quot;_1&quot;:0.0874372233497459,&quot;_2&quot;:12.182559947479097},{&quot;_1&quot;:0.09000848512568489,&quot;_2&quot;:30.186829133950585},{&quot;_1&quot;:0.09613377765793411,&quot;_2&quot;:27.320096378220793},{&quot;_1&quot;:0.09267057641801113,&quot;_2&quot;:31.519726568858555},{&quot;_1&quot;:0.08335341308219436,&quot;_2&quot;:30.20764061507312},{&quot;_1&quot;:0.08802627837359367,&quot;_2&quot;:26.761844329844745}],&quot;genId&quot;:&quot;901538268&quot;}\" type=\"text/x-scoped-javascript\">/*<![CDATA[*/req(['../javascripts/notebook/playground','../javascripts/notebook/magic/tableChart'], \n      function(playground, _magictableChart) {\n        // data ==> data-this (in observable.js's scopedEval) ==> this in JS => { dataId, dataInit, ... }\n        // this ==> scope (in observable.js's scopedEval) ==> this.parentElement ==> div.container below (toHtml)\n\n        playground.call(data,\n                        this\n                        ,\n                        {\n    \"f\": _magictableChart,\n    \"o\": {\"headers\":[\"_1\",\"_2\"],\"width\":600,\"height\":400}\n  }\n  \n                        \n                        \n                      );\n      }\n    );/*]]>*/</script>\n    <div>\n      <span class=\"chart-total-item-count\"><p data-bind=\"text: value\"><script data-this=\"{&quot;valueId&quot;:&quot;anone6254148c9ad4160c6e2f07113d98e6e&quot;,&quot;initialValue&quot;:&quot;10&quot;}\" type=\"text/x-scoped-javascript\">/*<![CDATA[*/\nreq(\n['observable', 'knockout'],\nfunction (O, ko) {\n  ko.applyBindings({\n      value: O.makeObservable(valueId, initialValue)\n    },\n    this\n  );\n});\n        /*]]>*/</script></p> entries total</span>\n      <span class=\"chart-sampling-warning\"><p data-bind=\"text: value\"><script data-this=\"{&quot;valueId&quot;:&quot;anon8be9b48c658498770bd0697d03c49a69&quot;,&quot;initialValue&quot;:&quot;&quot;}\" type=\"text/x-scoped-javascript\">/*<![CDATA[*/\nreq(\n['observable', 'knockout'],\nfunction (O, ko) {\n  ko.applyBindings({\n      value: O.makeObservable(valueId, initialValue)\n    },\n    this\n  );\n});\n        /*]]>*/</script></p></span>\n      <div>\n      </div>\n    </div></div>\n            </div><div class=\"tab-pane\" id=\"tab1939466567-1\">\n            <div>\n      <script data-this=\"{&quot;dataId&quot;:&quot;anoncf40112857ef3902cacd4633ea5beddb&quot;,&quot;dataInit&quot;:[{&quot;_1&quot;:0.08780919953099083,&quot;_2&quot;:36.929547716244116},{&quot;_1&quot;:0.08904047776296892,&quot;_2&quot;:30.14716689144974},{&quot;_1&quot;:0.0900400329624282,&quot;_2&quot;:40.99844620237713},{&quot;_1&quot;:0.09576040628682764,&quot;_2&quot;:18.933840620024437},{&quot;_1&quot;:0.0874372233497459,&quot;_2&quot;:12.182559947479097},{&quot;_1&quot;:0.09000848512568489,&quot;_2&quot;:30.186829133950585},{&quot;_1&quot;:0.09613377765793411,&quot;_2&quot;:27.320096378220793},{&quot;_1&quot;:0.09267057641801113,&quot;_2&quot;:31.519726568858555},{&quot;_1&quot;:0.08335341308219436,&quot;_2&quot;:30.20764061507312},{&quot;_1&quot;:0.08802627837359367,&quot;_2&quot;:26.761844329844745}],&quot;genId&quot;:&quot;984957393&quot;}\" type=\"text/x-scoped-javascript\">/*<![CDATA[*/req(['../javascripts/notebook/playground','../javascripts/notebook/magic/scatterChart'], \n      function(playground, _magicscatterChart) {\n        // data ==> data-this (in observable.js's scopedEval) ==> this in JS => { dataId, dataInit, ... }\n        // this ==> scope (in observable.js's scopedEval) ==> this.parentElement ==> div.container below (toHtml)\n\n        playground.call(data,\n                        this\n                        ,\n                        {\n    \"f\": _magicscatterChart,\n    \"o\": {\"x\":\"_1\",\"y\":\"_2\",\"width\":600,\"height\":400}\n  }\n  \n                        \n                        \n                      );\n      }\n    );/*]]>*/</script>\n    <div>\n      <span class=\"chart-total-item-count\"><p data-bind=\"text: value\"><script data-this=\"{&quot;valueId&quot;:&quot;anon2d19165928ce61e8a78fc51de4fcd496&quot;,&quot;initialValue&quot;:&quot;10&quot;}\" type=\"text/x-scoped-javascript\">/*<![CDATA[*/\nreq(\n['observable', 'knockout'],\nfunction (O, ko) {\n  ko.applyBindings({\n      value: O.makeObservable(valueId, initialValue)\n    },\n    this\n  );\n});\n        /*]]>*/</script></p> entries total</span>\n      <span class=\"chart-sampling-warning\"><p data-bind=\"text: value\"><script data-this=\"{&quot;valueId&quot;:&quot;anon88d0581d7427649c7629ed61ba055a0a&quot;,&quot;initialValue&quot;:&quot;&quot;}\" type=\"text/x-scoped-javascript\">/*<![CDATA[*/\nreq(\n['observable', 'knockout'],\nfunction (O, ko) {\n  ko.applyBindings({\n      value: O.makeObservable(valueId, initialValue)\n    },\n    this\n  );\n});\n        /*]]>*/</script></p></span>\n      <div>\n      </div>\n    </div></div>\n            </div><div class=\"tab-pane\" id=\"tab1939466567-2\">\n            <div>\n      <script data-this=\"{&quot;dataId&quot;:&quot;anon198414d4af660b0a58d69f771c0a9019&quot;,&quot;dataInit&quot;:[{&quot;_1&quot;:0.08780919953099083,&quot;_2&quot;:36.929547716244116},{&quot;_1&quot;:0.08904047776296892,&quot;_2&quot;:30.14716689144974},{&quot;_1&quot;:0.0900400329624282,&quot;_2&quot;:40.99844620237713},{&quot;_1&quot;:0.09576040628682764,&quot;_2&quot;:18.933840620024437},{&quot;_1&quot;:0.0874372233497459,&quot;_2&quot;:12.182559947479097},{&quot;_1&quot;:0.09000848512568489,&quot;_2&quot;:30.186829133950585},{&quot;_1&quot;:0.09613377765793411,&quot;_2&quot;:27.320096378220793},{&quot;_1&quot;:0.09267057641801113,&quot;_2&quot;:31.519726568858555},{&quot;_1&quot;:0.08335341308219436,&quot;_2&quot;:30.20764061507312},{&quot;_1&quot;:0.08802627837359367,&quot;_2&quot;:26.761844329844745}],&quot;genId&quot;:&quot;485957540&quot;}\" type=\"text/x-scoped-javascript\">/*<![CDATA[*/req(['../javascripts/notebook/playground','../javascripts/notebook/magic/lineChart'], \n      function(playground, _magiclineChart) {\n        // data ==> data-this (in observable.js's scopedEval) ==> this in JS => { dataId, dataInit, ... }\n        // this ==> scope (in observable.js's scopedEval) ==> this.parentElement ==> div.container below (toHtml)\n\n        playground.call(data,\n                        this\n                        ,\n                        {\n    \"f\": _magiclineChart,\n    \"o\": {\"x\":\"_1\",\"y\":\"_2\",\"width\":600,\"height\":400}\n  }\n  \n                        \n                        \n                      );\n      }\n    );/*]]>*/</script>\n    <div>\n      <span class=\"chart-total-item-count\"><p data-bind=\"text: value\"><script data-this=\"{&quot;valueId&quot;:&quot;anon7b6fc24441e4201eb4abd4c88b32fda0&quot;,&quot;initialValue&quot;:&quot;10&quot;}\" type=\"text/x-scoped-javascript\">/*<![CDATA[*/\nreq(\n['observable', 'knockout'],\nfunction (O, ko) {\n  ko.applyBindings({\n      value: O.makeObservable(valueId, initialValue)\n    },\n    this\n  );\n});\n        /*]]>*/</script></p> entries total</span>\n      <span class=\"chart-sampling-warning\"><p data-bind=\"text: value\"><script data-this=\"{&quot;valueId&quot;:&quot;anondb4fe989a6397e1e309996b65ca6a7a1&quot;,&quot;initialValue&quot;:&quot;&quot;}\" type=\"text/x-scoped-javascript\">/*<![CDATA[*/\nreq(\n['observable', 'knockout'],\nfunction (O, ko) {\n  ko.applyBindings({\n      value: O.makeObservable(valueId, initialValue)\n    },\n    this\n  );\n});\n        /*]]>*/</script></p></span>\n      <div>\n      </div>\n    </div></div>\n            </div><div class=\"tab-pane\" id=\"tab1939466567-3\">\n            <div>\n      <script data-this=\"{&quot;dataId&quot;:&quot;anon615b3be5d366a99b308573dd6862c2f5&quot;,&quot;dataInit&quot;:[{&quot;_1&quot;:0.08780919953099083,&quot;_2&quot;:36.929547716244116},{&quot;_1&quot;:0.08904047776296892,&quot;_2&quot;:30.14716689144974},{&quot;_1&quot;:0.0900400329624282,&quot;_2&quot;:40.99844620237713},{&quot;_1&quot;:0.09576040628682764,&quot;_2&quot;:18.933840620024437},{&quot;_1&quot;:0.0874372233497459,&quot;_2&quot;:12.182559947479097},{&quot;_1&quot;:0.09000848512568489,&quot;_2&quot;:30.186829133950585},{&quot;_1&quot;:0.09613377765793411,&quot;_2&quot;:27.320096378220793},{&quot;_1&quot;:0.09267057641801113,&quot;_2&quot;:31.519726568858555},{&quot;_1&quot;:0.08335341308219436,&quot;_2&quot;:30.20764061507312},{&quot;_1&quot;:0.08802627837359367,&quot;_2&quot;:26.761844329844745}],&quot;genId&quot;:&quot;2116261048&quot;}\" type=\"text/x-scoped-javascript\">/*<![CDATA[*/req(['../javascripts/notebook/playground','../javascripts/notebook/magic/barChart'], \n      function(playground, _magicbarChart) {\n        // data ==> data-this (in observable.js's scopedEval) ==> this in JS => { dataId, dataInit, ... }\n        // this ==> scope (in observable.js's scopedEval) ==> this.parentElement ==> div.container below (toHtml)\n\n        playground.call(data,\n                        this\n                        ,\n                        {\n    \"f\": _magicbarChart,\n    \"o\": {\"x\":\"_1\",\"y\":\"_2\",\"width\":600,\"height\":400}\n  }\n  \n                        \n                        \n                      );\n      }\n    );/*]]>*/</script>\n    <div>\n      <span class=\"chart-total-item-count\"><p data-bind=\"text: value\"><script data-this=\"{&quot;valueId&quot;:&quot;anonc7a8004161b18929fe7a2dc8132eab75&quot;,&quot;initialValue&quot;:&quot;10&quot;}\" type=\"text/x-scoped-javascript\">/*<![CDATA[*/\nreq(\n['observable', 'knockout'],\nfunction (O, ko) {\n  ko.applyBindings({\n      value: O.makeObservable(valueId, initialValue)\n    },\n    this\n  );\n});\n        /*]]>*/</script></p> entries total</span>\n      <span class=\"chart-sampling-warning\"><p data-bind=\"text: value\"><script data-this=\"{&quot;valueId&quot;:&quot;anon1c0778e4bd4b0eaa690d39198d000785&quot;,&quot;initialValue&quot;:&quot;&quot;}\" type=\"text/x-scoped-javascript\">/*<![CDATA[*/\nreq(\n['observable', 'knockout'],\nfunction (O, ko) {\n  ko.applyBindings({\n      value: O.makeObservable(valueId, initialValue)\n    },\n    this\n  );\n});\n        /*]]>*/</script></p></span>\n      <div>\n      </div>\n    </div></div>\n            </div><div class=\"tab-pane\" id=\"tab1939466567-4\">\n            <div>\n      <script data-this=\"{&quot;dataId&quot;:&quot;anonaeebc3656d788e7f5bd032d3d72a3ac9&quot;,&quot;dataInit&quot;:[{&quot;_1&quot;:0.08780919953099083,&quot;_2&quot;:36.929547716244116},{&quot;_1&quot;:0.08904047776296892,&quot;_2&quot;:30.14716689144974},{&quot;_1&quot;:0.0900400329624282,&quot;_2&quot;:40.99844620237713},{&quot;_1&quot;:0.09576040628682764,&quot;_2&quot;:18.933840620024437},{&quot;_1&quot;:0.0874372233497459,&quot;_2&quot;:12.182559947479097},{&quot;_1&quot;:0.09000848512568489,&quot;_2&quot;:30.186829133950585},{&quot;_1&quot;:0.09613377765793411,&quot;_2&quot;:27.320096378220793},{&quot;_1&quot;:0.09267057641801113,&quot;_2&quot;:31.519726568858555},{&quot;_1&quot;:0.08335341308219436,&quot;_2&quot;:30.20764061507312},{&quot;_1&quot;:0.08802627837359367,&quot;_2&quot;:26.761844329844745}],&quot;genId&quot;:&quot;138500049&quot;}\" type=\"text/x-scoped-javascript\">/*<![CDATA[*/req(['../javascripts/notebook/playground','../javascripts/notebook/magic/pivotChart'], \n      function(playground, _magicpivotChart) {\n        // data ==> data-this (in observable.js's scopedEval) ==> this in JS => { dataId, dataInit, ... }\n        // this ==> scope (in observable.js's scopedEval) ==> this.parentElement ==> div.container below (toHtml)\n\n        playground.call(data,\n                        this\n                        ,\n                        {\n    \"f\": _magicpivotChart,\n    \"o\": {\"width\":600,\"height\":400,\"derivedAttributes\":{},\"extraOptions\":{}}\n  }\n  \n                        \n                        \n                      );\n      }\n    );/*]]>*/</script>\n    <div>\n      <span class=\"chart-total-item-count\"><p data-bind=\"text: value\"><script data-this=\"{&quot;valueId&quot;:&quot;anon644aed6d3e7a07db5e96cf8ce06f92cc&quot;,&quot;initialValue&quot;:&quot;10&quot;}\" type=\"text/x-scoped-javascript\">/*<![CDATA[*/\nreq(\n['observable', 'knockout'],\nfunction (O, ko) {\n  ko.applyBindings({\n      value: O.makeObservable(valueId, initialValue)\n    },\n    this\n  );\n});\n        /*]]>*/</script></p> entries total</span>\n      <span class=\"chart-sampling-warning\"><p data-bind=\"text: value\"><script data-this=\"{&quot;valueId&quot;:&quot;anon8d65e0686c51a22cadff30bcaf32bd4c&quot;,&quot;initialValue&quot;:&quot;&quot;}\" type=\"text/x-scoped-javascript\">/*<![CDATA[*/\nreq(\n['observable', 'knockout'],\nfunction (O, ko) {\n  ko.applyBindings({\n      value: O.makeObservable(valueId, initialValue)\n    },\n    this\n  );\n});\n        /*]]>*/</script></p></span>\n      <div>\n      </div>\n    </div></div>\n            </div></div>\n      </div>\n    </div></div>"
          },
          "output_type" : "execute_result",
          "execution_count" : 6,
          "time" : "Took: 0.978s, at 2018-10-27 20:25"
        }
      ]
    },
    {
      "metadata" : {
        "id" : "9A8AE5A7B5804845840378FA0199B622"
      },
      "cell_type" : "markdown",
      "source" : "## Run one Initialization of Clusterwise"
    },
    {
      "metadata" : {
        "trusted" : true,
        "input_collapsed" : false,
        "collapsed" : false,
        "id" : "02626FA95FF049AC8B4750A03184B3FA"
      },
      "cell_type" : "code",
      "source" : [
        "val (dsPerClass, predFitted, coIntercept, coXYcoef, critReg, mapsRegCrit, classedReg) = ClusterwiseCore.plsPerDot(dataXY, h, g)"
      ],
      "outputs" : [
        {
          "name" : "stdout",
          "output_type" : "stream",
          "text" : "dsPerClass: Array[Array[(Int, (scala.collection.mutable.ArrayBuffer[Double], scala.collection.mutable.ArrayBuffer[Double], Int))]] = Array(Array((13,(ArrayBuffer(4.134495314, 4.302751293, 4.907449247, 4.651726366, 5.351585425, 4.016572705, 6.182349135, 6.331606486, 5.988372734, 5.511762546),ArrayBuffer(6.623032057, 6.575293074, 6.473076912),0)), (18,(ArrayBuffer(6.839084225, 6.216818052, 2.76972574, 4.229632153, 4.569275396, 6.247105566, 6.015677646, 5.530191233, 5.151106324, 3.778566681),ArrayBuffer(5.139201214, 4.804874604, 4.914982244),0)), (36,(ArrayBuffer(6.089188108, 5.676148469, 5.768961068, 4.691342469, 4.154198183, 6.923805573, 7.101090268, 6.219856245, 6.257002292, 6.110535624),ArrayBuffer(5.84803088, 5.96360914, 5.754217143),0)), (53,(ArrayBuffer(6.442040933, 8.895535145, 3.3..."
        },
        {
          "metadata" : { },
          "data" : {
            "text/html" : ""
          },
          "output_type" : "execute_result",
          "execution_count" : 7,
          "time" : "Took: 4.801s, at 2018-10-27 20:25"
        }
      ]
    },
    {
      "metadata" : {
        "id" : "3D58F1DB38584A34960577E6BCC1F9B8"
      },
      "cell_type" : "markdown",
      "source" : "## Run one PLS regression"
    },
    {
      "metadata" : {
        "trusted" : true,
        "input_collapsed" : false,
        "collapsed" : false,
        "id" : "A6182A530F1A4843AAD6C09B7F20119A"
      },
      "cell_type" : "code",
      "source" : [
        "val inputX = mutable.ArrayBuffer(dataXY.map{ case (id, (x, y)) => (id, x) }:_*)\n",
        "val inputY = mutable.ArrayBuffer(dataXY.map{ case (id, (x, y)) => y }:_*)\n",
        "\n",
        "PLS.runPLS[mutable.ArrayBuffer[Double]](inputX, inputY, 2)._2"
      ],
      "outputs" : [
        {
          "name" : "stdout",
          "output_type" : "stream",
          "text" : "inputX: scala.collection.mutable.ArrayBuffer[(Int, scala.collection.mutable.ArrayBuffer[Double])] = ArrayBuffer((0,ArrayBuffer(4.058845733, 6.405834969, 4.943772245, 4.191393637, 5.691694039, 6.18161279, 6.182385889, 5.982450545, 6.139507172, 7.42310638)), (1,ArrayBuffer(5.102442757, 4.716437077, 4.692925255, 4.839302826, 4.02386069, 2.158591158, 2.901072862, 2.816463237, 3.501312504, 3.084936398)), (2,ArrayBuffer(4.766958169, 4.838583906, 6.485887384, 4.404467358, 5.211054103, 4.865929818, 5.278244008, 4.604447037, 4.98848043, 4.768183695)), (3,ArrayBuffer(6.138171718, 4.494158628, 3.410581785, 5.131981446, 5.551559701, 4.294727934, 5.917064075, 5.219849604, 5.133860522, 4.03092709)), (4,ArrayBuffer(5.375353406, 4.35623841, 4.635715716, 5.089608082, 3.678189181, 2.518132309, 4.75449419..."
        },
        {
          "metadata" : { },
          "data" : {
            "text/html" : "0.06979240528901356   0.06789620944460527    0.06930445371520205    \n0.08067757263085021   0.07970448849559086    0.07974774446651722    \n-0.07847738832689169  -0.08644739058771864   -0.0748970917978408    \n0.08511456892838887   0.08420743469638495    0.08409775190792484    \n0.09009642524949013   0.08958130237869746    0.08888651763257115    \n0.14068789390390152   0.1435177674030875     0.13770796553300962    \n0.13098330500261812   0.13316536912040206    0.1283447562823357     \n8.524690943149948E-5  -0.003144389803075201  0.0010531588356896757  \n0.11855232562338051   0.12009478549140792    0.11629398491749238    \n0.10618779161310123   0.10710533264884624    0.10430424557462933    "
          },
          "output_type" : "execute_result",
          "execution_count" : 8,
          "time" : "Took: 0.976s, at 2018-10-27 20:25"
        }
      ]
    }
  ],
  "nbformat" : 4
}