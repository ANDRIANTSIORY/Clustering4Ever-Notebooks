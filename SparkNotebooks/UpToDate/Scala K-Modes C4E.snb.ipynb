{
  "metadata" : {
    "id" : "0231e0eb-10f7-4474-b003-10f507627bf7",
    "name" : "Scala K-Modes C4E",
    "user_save_timestamp" : "1970-01-01T01:00:00.000Z",
    "auto_save_timestamp" : "1970-01-01T01:00:00.000Z",
    "language_info" : {
      "name" : "scala",
      "file_extension" : "scala",
      "codemirror_mode" : "text/x-scala"
    },
    "trusted" : true,
    "sparkNotebook" : null,
    "customLocalRepo" : null,
    "customRepos" : null,
    "customDeps" : [
      "com.github.haifengl:smile-scala_2.11:1.5.0",
      "org.apache.sanselan % sanselan % 0.97-incubator",
      "org.clustering4ever % clustering4ever_2.11 % 0.7.0"
    ],
    "customImports" : null,
    "customArgs" : null,
    "customSparkConf" : null,
    "customVars" : null
  },
  "cells" : [
    {
      "metadata" : {
        "id" : "7D3630EE3422445087CE8DDA73ECCFC5"
      },
      "cell_type" : "markdown",
      "source" : "# [Clustering4Ever](https://github.com/Clustering4Ever/Clustering4Ever) on [SparkNotebook](http://spark-notebook.io/) by [LIPN](https://lipn.univ-paris13.fr/) [A3](https://lipn.univ-paris13.fr/accueil/equipe/a3/) team"
    },
    {
      "metadata" : {
        "id" : "9BE3CBFDDB324D29914085C97E53D087"
      },
      "cell_type" : "markdown",
      "source" : "# Scala _K_-Modes"
    },
    {
      "metadata" : {
        "trusted" : true,
        "input_collapsed" : false,
        "collapsed" : false,
        "id" : "2723CA508CC84A868DB0D63A7DB41C03"
      },
      "cell_type" : "code",
      "source" : [
        "import scala.collection.mutable\n",
        "import smile.plot._\n",
        "import clustering4ever.scala.clustering.kmodes.KModes\n",
        "import clustering4ever.math.distances.binary.{Hamming, Vari, MeanMahanttan}\n",
        "import clustering4ever.scala.clusterizables.{SimpleBinaryClusterizable, BinaryClusterizable}\n",
        "import clustering4ever.scala.vectorizables.BinaryVector\n",
        "import clustering4ever.util.ScalaImplicits._\n",
        "import scala.io.Source\n",
        "import smile.feature.Standardizer\n",
        "import smile.data.NumericAttribute\n",
        "import smile.data.Attribute.Type._\n",
        "import smile.plot._\n",
        "import smile.projection._\n",
        "import smile.manifold._\n",
        "import java.awt.Color\n",
        "import clustering4ever.scala.vectorizables.BinaryVectorizable"
      ],
      "outputs" : [
        {
          "name" : "stdout",
          "output_type" : "stream",
          "text" : "import scala.collection.mutable\nimport smile.plot._\nimport clustering4ever.scala.clustering.kmodes.KModes\nimport clustering4ever.math.distances.binary.{Hamming, Vari, MeanMahanttan}\nimport clustering4ever.scala.clusterizables.{SimpleBinaryClusterizable, BinaryClusterizable}\nimport clustering4ever.scala.vectorizables.BinaryVector\nimport clustering4ever.util.ScalaImplicits._\nimport scala.io.Source\nimport smile.feature.Standardizer\nimport smile.data.NumericAttribute\nimport smile.data.Attribute.Type._\nimport smile.plot._\nimport smile.projection._\nimport smile.manifold._\nimport java.awt.Color\nimport clustering4ever.scala.vectorizables.BinaryVectorizable\n"
        },
        {
          "metadata" : { },
          "data" : {
            "text/html" : ""
          },
          "output_type" : "execute_result",
          "execution_count" : 4,
          "time" : "Took: 1.083s, at 2018-10-27 20:31"
        }
      ]
    },
    {
      "metadata" : {
        "id" : "4F491750B428478880CDE2D355C8F6AB"
      },
      "cell_type" : "markdown",
      "source" : "## Download dataset Digits"
    },
    {
      "metadata" : {
        "trusted" : true,
        "input_collapsed" : false,
        "collapsed" : false,
        "id" : "82D63794E5FC4BAB88918A51F289EC92"
      },
      "cell_type" : "code",
      "source" : [
        ":sh wget -P /tmp/ http://www.clustering4ever.org/Datasets/Digits/digits.csv\n",
        ":sh wget -P /tmp/ http://www.clustering4ever.org/Datasets/Digits/labels"
      ],
      "outputs" : [
        {
          "name" : "stdout",
          "output_type" : "stream",
          "text" : "--2018-10-27 20:30:09--  http://www.clustering4ever.org/Datasets/Digits/digits.csv\nResolving www.clustering4ever.org (www.clustering4ever.org)... 62.210.16.62\nConnecting to www.clustering4ever.org (www.clustering4ever.org)|62.210.16.62|:80... connected.\nHTTP request sent, awaiting response... 200 OK\nLength: 959999 (937K) [text/csv]\nSaving to: ‘/tmp/digits.csv’\n\n     0K .......... .......... .......... .......... ..........  5% 36.6K 24s\n    50K .......... .......... .......... .......... .......... 10% 48.5K 20s\n   100K .......... .......... .......... .......... .......... 16%  136K 15s\n   150K .......... .......... .......... .......... .......... 21% 13.9K 23s\n   200K .......... .......... .......... .......... .......... 26% 45.4K 21s\n   250K .......... .......... .......... .......... .......... 32% 93.8K 17s\n   300K .......... .......... .......... .......... .......... 37%  225K 14s\n   350K .......... .......... .......... .......... .......... 42%  196K 11s\n   400K .......... .......... .......... .......... .......... 48%  110K 10s\n   450K .......... .......... .......... .......... .......... 53% 11.3K 12s\n   500K .......... .......... .......... .......... .......... 58% 16.5K 12s\n   550K .......... .......... .......... .......... .......... 64% 81.1K 10s\n   600K .......... .......... .......... .......... .......... 69%  499K 8s\n   650K .......... .......... .......... .......... .......... 74%  151K 6s\n   700K .......... .......... .......... .......... .......... 80% 24.6K 5s\n   750K .......... .......... .......... .......... .......... 85%  123K 3s\n   800K .......... .......... .......... .......... .......... 90% 42.3K 2s\n   850K .......... .......... .......... .......... .......... 96%  126K 1s\n   900K .......... .......... .......... .......              100% 71.6K=22s\n\n2018-10-27 20:30:32 (42.7 KB/s) - ‘/tmp/digits.csv’ saved [959999/959999]\n\n:sh: Scheme missing.\n--2018-10-27 20:30:32--  http://wget/\nResolving wget (wget)... failed: Name or service not known.\nwget: unable to resolve host address ‘wget’\n--2018-10-27 20:30:32--  http://www.clustering4ever.org/Datasets/Digits/labels\nReusing existing connection to www.clustering4ever.org:80.\nHTTP request sent, awaiting response... 200 OK\nLength: 4200 (4.1K)\nSaving to: ‘/tmp/labels.2’\n\n     0K ....                                                  100% 3.24M=0.001s\n\n2018-10-27 20:30:32 (3.24 MB/s) - ‘/tmp/labels.2’ saved [4200/4200]\n\nFINISHED --2018-10-27 20:30:32--\nTotal wall clock time: 23s\nDownloaded: 2 files, 942K in 22s (42.9 KB/s)\njava.lang.RuntimeException: Nonzero exit value: 4\n  at scala.sys.package$.error(package.scala:27)\n  at scala.sys.process.ProcessBuilderImpl$AbstractBuilder.slurp(ProcessBuilderImpl.scala:132)\n  at scala.sys.process.ProcessBuilderImpl$AbstractBuilder.$bang$bang(ProcessBuilderImpl.scala:103)\n  ... 75 elided\n"
        }
      ]
    },
    {
      "metadata" : {
        "id" : "4BEB170294834C8B92F180754CF0F42F"
      },
      "cell_type" : "markdown",
      "source" : "## Import and format data with a custom class"
    },
    {
      "metadata" : {
        "trusted" : true,
        "input_collapsed" : false,
        "collapsed" : false,
        "id" : "3295F659A42849B298AA5F4EF9EA0C25"
      },
      "cell_type" : "code",
      "source" : [
        "import clustering4ever.scala.clusterizables.BinaryClusterizable\n",
        "import clustering4ever.scala.vectorizables.BinaryVectorizable\n",
        "import scala.reflect.ClassTag\n",
        "\n",
        "// class BinaryClusterizableCustom[ID: Numeric : ClassTag, O : ClassTag, V <: Seq[Int] : ClassTag](idTmp: ID, override val vectorizable: BinaryVectorizable[O, V]) extends \n",
        "//   BinaryClusterizable[ID, O, V, BinaryClusterizableCustom[ID, O, V]](idTmp, vectorizable) {\n",
        "  \n",
        "//     def setClusterID(newCID: Int): BinaryClusterizableCustom[ID,O,V] = ...\n",
        "    \n",
        "//     def setV2(newV2: V): BinaryClusterizableCustom[ID,O,V] = ...    \n",
        "// }"
      ],
      "outputs" : [
        {
          "name" : "stdout",
          "output_type" : "stream",
          "text" : "<console>:26: error: class BinaryClusterizableCustom needs to be abstract, since:\nit has 2 unimplemented members.\n/** As seen from class BinaryClusterizableCustom, the missing signatures are as follows.\n *  For convenience, these are usable as stub implementations.\n */\n  def setClusterID(newCID: Int): BinaryClusterizableCustom[ID,O,V] = ???\n  def setV2(newV2: V): BinaryClusterizableCustom[ID,O,V] = ???\n\n       class BinaryClusterizableCustom[ID: Numeric : ClassTag, O : ClassTag, V <: Seq[Int] : ClassTag](idTmp: ID, override val vectorizable: BinaryVectorizable[O, V]) extends\n             ^\n"
        }
      ]
    },
    {
      "metadata" : {
        "trusted" : true,
        "input_collapsed" : false,
        "collapsed" : false,
        "id" : "E6D9891BFAFC4D088E895915B4048356"
      },
      "cell_type" : "code",
      "source" : [
        "val datasetSize = 5000000\n",
        "val dim = 10\n",
        "val path = \"/tmp/digits.csv\"\n",
        "val useDigitsDS = true\n",
        "\n",
        "val rawData = if( useDigitsDS ) Source.fromFile(path).getLines.map( x => mutable.ArrayBuffer(x.split(\",\").map(_.toInt):_*) ).toBuffer\n",
        "  else mutable.ArrayBuffer.fill(datasetSize)(mutable.ArrayBuffer.fill(dim)(scala.util.Random.nextInt(2)))\n",
        "\n",
        "val parData = rawData.zipWithIndex.par.map{ case (v, id) => new SimpleBinaryClusterizable(id.toLong, new BinaryVector(v)) }\n",
        "\n",
        "val groundTrueLabels = \"/tmp/labels\""
      ],
      "outputs" : [
        {
          "name" : "stdout",
          "output_type" : "stream",
          "text" : "datasetSize: Int = 5000000\ndim: Int = 10\npath: String = /tmp/digits.csv\nuseDigitsDS: Boolean = true\nrawData: scala.collection.mutable.Buffer[scala.collection.mutable.ArrayBuffer[Int]] = ArrayBuffer(ArrayBuffer(0, 1, 1, 1, 1, 1, 1, 1, 1, 1, 1, 1, 0, 0, 0, 1, 1, 1, 1, 1, 1, 1, 1, 1, 1, 1, 1, 1, 0, 0, 1, 1, 1, 1, 1, 0, 0, 0, 1, 1, 1, 1, 1, 1, 0, 1, 1, 1, 1, 0, 0, 0, 0, 0, 1, 1, 1, 1, 1, 0, 1, 1, 1, 1, 0, 0, 0, 0, 0, 1, 1, 1, 1, 1, 0, 1, 1, 1, 1, 0, 0, 0, 0, 0, 1, 1, 1, 1, 1, 0, 1, 1, 1, 1, 0, 0, 0, 0, 0, 0, 1, 1, 1, 1, 1, 1, 1, 1, 1, 0, 0, 0, 0, 0, 0, 1, 1, 1, 1, 1, 1, 1, 1, 1, 0, 0, 0, 0, 0, 0, 1, 1, 1, 1, 1, 1, 1, 1, 1, 0, 0, 0, 0, 0, 0, 1, 1, 1, 1, 1, 1, 1, 1, 1, 0, 0, 0, 0, 0, 1, 1, 1, 1, 1, 1, 1, 1, 1, 1, 0, 0, 0, 0, 0, 1, 1, 1, 1, 1, 0, 1, 1, 1, 1, 0, 0, 0, 0, 0, 1, 1, 1, 1, 1, 0, 1,..."
        },
        {
          "metadata" : { },
          "data" : {
            "text/html" : ""
          },
          "output_type" : "execute_result",
          "execution_count" : 8,
          "time" : "Took: 2.266s, at 2018-10-27 20:32"
        }
      ]
    },
    {
      "metadata" : {
        "id" : "DB906BE4458347E98566175F44A41B25"
      },
      "cell_type" : "markdown",
      "source" : "## Parameters "
    },
    {
      "metadata" : {
        "trusted" : true,
        "input_collapsed" : false,
        "collapsed" : false,
        "id" : "7B7F65B92A1849639D25B8260E8FC13D"
      },
      "cell_type" : "code",
      "source" : [
        "val k = 10\n",
        "val iterMax = 100\n",
        "val epsilon = 0.1\n",
        "val metric1 = new Hamming[mutable.ArrayBuffer[Int]]"
      ],
      "outputs" : [
        {
          "name" : "stdout",
          "output_type" : "stream",
          "text" : "k: Int = 10\niterMax: Int = 100\nepsilon: Double = 0.1\nmetric1: clustering4ever.math.distances.binary.Hamming[scala.collection.mutable.ArrayBuffer[Int]] = clustering4ever.math.distances.binary.Hamming@12e91f9a\n"
        },
        {
          "metadata" : { },
          "data" : {
            "text/html" : ""
          },
          "output_type" : "execute_result",
          "execution_count" : 9,
          "time" : "Took: 0.988s, at 2018-10-27 20:34"
        }
      ]
    },
    {
      "metadata" : {
        "id" : "351DECE0EB4B4DAE8395D89284DABB26"
      },
      "cell_type" : "markdown",
      "source" : "## Run the algorithm"
    },
    {
      "metadata" : {
        "trusted" : true,
        "input_collapsed" : false,
        "collapsed" : false,
        "id" : "09AE170CE4D7478784149E3296F578F1"
      },
      "cell_type" : "code",
      "source" : [
        "val t1 = System.nanoTime\n",
        "\n",
        "val model = KModes.run(parData, k, epsilon, iterMax, metric1)\n",
        "\n",
        "val t2 = System.nanoTime\n",
        "\n",
        "(t2 - t1) / 1000000000D"
      ],
      "outputs" : [
        {
          "name" : "stdout",
          "output_type" : "stream",
          "text" : "t1: Long = 5536481210482\nmodel: clustering4ever.scala.clustering.kmodes.KModesModel[Long,scala.collection.mutable.ArrayBuffer[Int],scala.collection.mutable.ArrayBuffer[Int],clustering4ever.scala.clusterizables.SimpleBinaryClusterizable[Long,scala.collection.mutable.ArrayBuffer[Int],scala.collection.mutable.ArrayBuffer[Int]],clustering4ever.math.distances.binary.Hamming[scala.collection.mutable.ArrayBuffer[Int]]] = clustering4ever.scala.clustering.kmodes.KModesModel@f7d5338\nt2: Long = 5536706206724\nres13: Double = 0.224996242\n"
        },
        {
          "metadata" : { },
          "data" : {
            "text/html" : "0.224996242"
          },
          "output_type" : "execute_result",
          "execution_count" : 11,
          "time" : "Took: 1.667s, at 2018-10-27 20:34"
        }
      ]
    },
    {
      "metadata" : {
        "id" : "83C30B8CA5AF42118D68D3900B512E98"
      },
      "cell_type" : "markdown",
      "source" : "## Different ways to apply model to datasets"
    },
    {
      "metadata" : {
        "trusted" : true,
        "input_collapsed" : false,
        "collapsed" : false,
        "id" : "88DA1A3AF91841618BE8E016A4030DE6"
      },
      "cell_type" : "code",
      "source" : [
        "val clusterized11 = rawData.map( v => (model.centerPredict(v), v) )\n",
        "val clusterized12 = model.centerPredict(rawData)\n",
        "\n",
        "val clusterized21 = parData.map( clustbl => (model.centerPredict(clustbl.vector), clustbl) )\n",
        "val clusterized22 = model.centerPredict(parData)"
      ],
      "outputs" : [
        {
          "name" : "stdout",
          "output_type" : "stream",
          "text" : "clusterized11: scala.collection.mutable.Buffer[(model.ClusterID, scala.collection.mutable.ArrayBuffer[Int])] = ArrayBuffer((7,ArrayBuffer(0, 1, 1, 1, 1, 1, 1, 1, 1, 1, 1, 1, 0, 0, 0, 1, 1, 1, 1, 1, 1, 1, 1, 1, 1, 1, 1, 1, 0, 0, 1, 1, 1, 1, 1, 0, 0, 0, 1, 1, 1, 1, 1, 1, 0, 1, 1, 1, 1, 0, 0, 0, 0, 0, 1, 1, 1, 1, 1, 0, 1, 1, 1, 1, 0, 0, 0, 0, 0, 1, 1, 1, 1, 1, 0, 1, 1, 1, 1, 0, 0, 0, 0, 0, 1, 1, 1, 1, 1, 0, 1, 1, 1, 1, 0, 0, 0, 0, 0, 0, 1, 1, 1, 1, 1, 1, 1, 1, 1, 0, 0, 0, 0, 0, 0, 1, 1, 1, 1, 1, 1, 1, 1, 1, 0, 0, 0, 0, 0, 0, 1, 1, 1, 1, 1, 1, 1, 1, 1, 0, 0, 0, 0, 0, 0, 1, 1, 1, 1, 1, 1, 1, 1, 1, 0, 0, 0, 0, 0, 1, 1, 1, 1, 1, 1, 1, 1, 1, 1, 0, 0, 0, 0, 0, 1, 1, 1, 1, 1, 0, 1, 1, 1, 1, 0, 0, 0, 0, 0, 1, 1, 1, 1, 1, 0, 1, 1, 1, 1, 1, 1, 0, 0, 1, 1, 1, 1, 1, 0, 0, 1, 1, 1, 1, 1, 1, 1, 1, 1, 1,..."
        },
        {
          "metadata" : { },
          "data" : {
            "text/html" : ""
          },
          "output_type" : "execute_result",
          "execution_count" : 12,
          "time" : "Took: 1.518s, at 2018-10-27 20:34"
        }
      ]
    },
    {
      "metadata" : {
        "id" : "75D83A1152AE494A8943132E772C517F"
      },
      "cell_type" : "markdown",
      "source" : "### Transform binary data into a grid to visualize it. Here a 15 x 16 grid for digits data"
    },
    {
      "metadata" : {
        "trusted" : true,
        "input_collapsed" : false,
        "collapsed" : false,
        "id" : "9DD362D187534AC58D796A2476EFA040"
      },
      "cell_type" : "code",
      "source" : [
        "val centroids = model.centers.toArray\n",
        "val formatedCentroids = centroids.map(_._2.map(_.toDouble).grouped(15).map(_.toArray).toArray)"
      ],
      "outputs" : [
        {
          "name" : "stdout",
          "output_type" : "stream",
          "text" : "centroids: Array[(Int, scala.collection.mutable.ArrayBuffer[Int])] = Array((8,ArrayBuffer(0, 0, 0, 0, 1, 1, 1, 1, 1, 0, 0, 0, 0, 0, 0, 0, 0, 0, 1, 1, 1, 1, 1, 1, 0, 0, 0, 0, 0, 0, 0, 0, 0, 1, 1, 1, 1, 1, 1, 0, 0, 0, 0, 0, 0, 0, 0, 0, 1, 1, 1, 1, 1, 0, 0, 0, 0, 0, 0, 0, 0, 0, 1, 1, 1, 1, 1, 1, 0, 0, 0, 0, 0, 0, 0, 0, 0, 1, 1, 1, 1, 1, 0, 0, 0, 0, 0, 0, 0, 0, 0, 1, 1, 1, 1, 1, 1, 0, 0, 0, 0, 0, 0, 0, 0, 0, 1, 1, 1, 1, 1, 1, 1, 0, 1, 1, 1, 0, 0, 0, 0, 1, 1, 1, 1, 1, 1, 1, 1, 1, 1, 1, 1, 1, 0, 1, 1, 1, 1, 1, 1, 1, 1, 1, 1, 1, 1, 1, 1, 0, 1, 1, 1, 1, 1, 1, 1, 1, 1, 1, 1, 1, 1, 1, 1, 1, 1, 1, 1, 1, 1, 1, 0, 1, 1, 1, 1, 1, 1, 1, 1, 1, 1, 1, 1, 1, 0, 0, 0, 1, 1, 1, 1, 1, 1, 1, 1, 1, 1, 1, 1, 1, 1, 1, 1, 1, 1, 1, 1, 1, 0, 0, 1, 1, 1, 1, 1, 1, 1, 1, 1, 1, 1, 1, 0, 0, 0, 0, 0, 0, 0, 1, 1, 1, 1, 1,..."
        },
        {
          "metadata" : { },
          "data" : {
            "text/html" : ""
          },
          "output_type" : "execute_result",
          "execution_count" : 13,
          "time" : "Took: 1.177s, at 2018-10-27 20:34"
        }
      ]
    },
    {
      "metadata" : {
        "id" : "5550C9C24D804A41969553DB880FA709"
      },
      "cell_type" : "markdown",
      "source" : "### Visualize centroids"
    },
    {
      "metadata" : {
        "trusted" : true,
        "input_collapsed" : false,
        "collapsed" : false,
        "id" : "C0BE5A643DED41CB89B4004FFEF51F3F"
      },
      "cell_type" : "code",
      "source" : [
        "formatedCentroids.foreach( centroid => hexmap(centroid, Array(Palette.BLACK, Palette.LIGHT_GRAY)))"
      ],
      "outputs" : [
        {
          "metadata" : { },
          "data" : {
            "text/html" : ""
          },
          "output_type" : "execute_result",
          "execution_count" : 14,
          "time" : "Took: 1.734s, at 2018-10-27 20:34"
        }
      ]
    },
    {
      "metadata" : {
        "id" : "4D1745D0A92E46C9A9D17FE199E2B3D7"
      },
      "cell_type" : "markdown",
      "source" : "<p align=\"center\">\n<img src =\"http://www.clustering4ever.org/SparkNotebooksPictures/digits-centers-1.png\" width=\"300\" />\n<img src =\"http://www.clustering4ever.org/SparkNotebooksPictures/digits-centers-2.png\" width=\"300\" />\n<img src =\"http://www.clustering4ever.org/SparkNotebooksPictures/digits-centers-3.png\" width=\"300\" />\n<img src =\"http://www.clustering4ever.org/SparkNotebooksPictures/digits-centers-4.png\" width=\"160\" />\n</p>"
    },
    {
      "metadata" : {
        "id" : "44CE1D500444471AA391D7A8CDA4C01F"
      },
      "cell_type" : "markdown",
      "source" : "## Standardize data and apply a PCA on it"
    },
    {
      "metadata" : {
        "trusted" : true,
        "input_collapsed" : false,
        "collapsed" : false,
        "id" : "D9F740AA5DC14DAA85D06F16F35272D3"
      },
      "cell_type" : "code",
      "source" : [
        "val types = for( i <- (0 until parData.head.vector.size).toArray ) yield new NumericAttribute(i.toString)\n",
        "\n",
        "val standardize = new Standardizer\n",
        "\n",
        "val dataAsDouble = parData.map(_.vector.map(_.toDouble))\n",
        "\n",
        "standardize.learn(types.toArray, dataAsDouble.map(_.toArray).toArray)\n",
        "\n",
        "val standardizedData = clusterized22.map( cz => (cz.clusterID.get, cz.vector.map(_.toDouble).toArray) )"
      ],
      "outputs" : [
        {
          "name" : "stdout",
          "output_type" : "stream",
          "text" : "types: Array[smile.data.NumericAttribute] = Array(NUMERIC[0], NUMERIC[1], NUMERIC[2], NUMERIC[3], NUMERIC[4], NUMERIC[5], NUMERIC[6], NUMERIC[7], NUMERIC[8], NUMERIC[9], NUMERIC[10], NUMERIC[11], NUMERIC[12], NUMERIC[13], NUMERIC[14], NUMERIC[15], NUMERIC[16], NUMERIC[17], NUMERIC[18], NUMERIC[19], NUMERIC[20], NUMERIC[21], NUMERIC[22], NUMERIC[23], NUMERIC[24], NUMERIC[25], NUMERIC[26], NUMERIC[27], NUMERIC[28], NUMERIC[29], NUMERIC[30], NUMERIC[31], NUMERIC[32], NUMERIC[33], NUMERIC[34], NUMERIC[35], NUMERIC[36], NUMERIC[37], NUMERIC[38], NUMERIC[39], NUMERIC[40], NUMERIC[41], NUMERIC[42], NUMERIC[43], NUMERIC[44], NUMERIC[45], NUMERIC[46], NUMERIC[47], NUMERIC[48], NUMERIC[49], NUMERIC[50], NUMERIC[51], NUMERIC[52], NUMERIC[53], NUMERIC[54], NUMERIC[55], NUMERIC[56], NUMERIC[57], NUM..."
        },
        {
          "metadata" : { },
          "data" : {
            "text/html" : ""
          },
          "output_type" : "execute_result",
          "execution_count" : 10,
          "time" : "Took: 1.081s, at 2018-09-14 08:28"
        }
      ]
    },
    {
      "metadata" : {
        "trusted" : true,
        "input_collapsed" : false,
        "collapsed" : false,
        "id" : "A072ED82DAEF4354894B1ACA8B0CCC44"
      },
      "cell_type" : "code",
      "source" : [
        "val readyToPca = standardizedData.map(_._2).toArray\n",
        "\n",
        "val pcaModel = pca(readyToPca)\n",
        "\n",
        "pcaModel.setProjection(3)\n",
        "\n",
        "val pcaizedData = standardizedData.map{ case (clusterID, v) => (clusterID, pcaModel.project(v)) }"
      ],
      "outputs" : [
        {
          "name" : "stdout",
          "output_type" : "stream",
          "text" : "readyToPca: Array[Array[Double]] = Array(Array(0.0, 1.0, 1.0, 1.0, 1.0, 1.0, 1.0, 1.0, 1.0, 1.0, 1.0, 1.0, 0.0, 0.0, 0.0, 1.0, 1.0, 1.0, 1.0, 1.0, 1.0, 1.0, 1.0, 1.0, 1.0, 1.0, 1.0, 1.0, 0.0, 0.0, 1.0, 1.0, 1.0, 1.0, 1.0, 0.0, 0.0, 0.0, 1.0, 1.0, 1.0, 1.0, 1.0, 1.0, 0.0, 1.0, 1.0, 1.0, 1.0, 0.0, 0.0, 0.0, 0.0, 0.0, 1.0, 1.0, 1.0, 1.0, 1.0, 0.0, 1.0, 1.0, 1.0, 1.0, 0.0, 0.0, 0.0, 0.0, 0.0, 1.0, 1.0, 1.0, 1.0, 1.0, 0.0, 1.0, 1.0, 1.0, 1.0, 0.0, 0.0, 0.0, 0.0, 0.0, 1.0, 1.0, 1.0, 1.0, 1.0, 0.0, 1.0, 1.0, 1.0, 1.0, 0.0, 0.0, 0.0, 0.0, 0.0, 0.0, 1.0, 1.0, 1.0, 1.0, 1.0, 1.0, 1.0, 1.0, 1.0, 0.0, 0.0, 0.0, 0.0, 0.0, 0.0, 1.0, 1.0, 1.0, 1.0, 1.0, 1.0, 1.0, 1.0, 1.0, 0.0, 0.0, 0.0, 0.0, 0.0, 0.0, 1.0, 1.0, 1.0, 1.0, 1.0, 1.0, 1.0, 1.0, 1.0, 0.0, 0.0, 0.0, 0.0, 0.0, 0.0, 1.0, 1.0, 1.0, 1.0, 1.0, ..."
        },
        {
          "metadata" : { },
          "data" : {
            "text/html" : ""
          },
          "output_type" : "execute_result",
          "execution_count" : 13,
          "time" : "Took: 3.575s, at 2018-09-14 08:28"
        }
      ]
    },
    {
      "metadata" : {
        "trusted" : true,
        "input_collapsed" : false,
        "collapsed" : false,
        "id" : "7B84A761EE9A49DAA52B2E48BC936981"
      },
      "cell_type" : "code",
      "source" : [
        "val pureData = pcaizedData.map(_._2).toArray\n",
        "val labels = pcaizedData.map(_._1).toArray\n",
        "val pcizedCentroids = centroids.map{ case (_, centroid) =>  (Int.MaxValue, pcaModel.project(standardize.transform(centroid.map(_.toDouble).toArray))) }"
      ],
      "outputs" : [
        {
          "name" : "stdout",
          "output_type" : "stream",
          "text" : "pureData: Array[Array[Double]] = Array(Array(0.8581670566923537, 4.491446006457944, 1.3492074366872653), Array(0.3812071416844144, 3.2096660209117225, 0.030868635243768594), Array(2.040289609732212, 3.281287381274164, 0.5883708950800963), Array(0.6009966267867405, 3.1202592201212456, 1.039892669726206), Array(2.188639715061769, 3.017027197526276, 0.15057016702522696), Array(0.33402248854777394, -1.0384366071886362, -0.9078965691317149), Array(2.0582940809526598, 4.122284171373905, 1.9544274974383697), Array(1.5809368270391944, 3.7739566822936377, 1.2726865712592756), Array(1.8419422874284388, 4.275665793297685, 1.8050967388646428), Array(1.2835788275741016, 3.3133122571689695, 1.8535870004193489), Array(1.563510656399107, 3.079184695975594, 0.9349226924825416), Array(2.0847380739786225,..."
        },
        {
          "metadata" : { },
          "data" : {
            "text/html" : ""
          },
          "output_type" : "execute_result",
          "execution_count" : 14,
          "time" : "Took: 0.716s, at 2018-09-14 08:29"
        }
      ]
    },
    {
      "metadata" : {
        "trusted" : true,
        "input_collapsed" : false,
        "collapsed" : false,
        "id" : "24A032582F064CC9813146E65BD507C3"
      },
      "cell_type" : "code",
      "source" : [
        "plot(pureData, labels, '.', Palette.COLORS)"
      ],
      "outputs" : [
        {
          "name" : "stdout",
          "output_type" : "stream",
          "text" : "res19: smile.plot.Window = Window(javax.swing.JFrame[frame0,460,37,1000x1000,invalid,layout=java.awt.BorderLayout,title=Smile Plot 11,resizable,normal,defaultCloseOperation=DISPOSE_ON_CLOSE,rootPane=javax.swing.JRootPane[,5,25,990x970,invalid,layout=javax.swing.JRootPane$RootLayout,alignmentX=0.0,alignmentY=0.0,border=,flags=16777673,maximumSize=,minimumSize=,preferredSize=],rootPaneCheckingEnabled=true],smile.plot.PlotCanvas[,0,0,0x0,invalid,layout=java.awt.BorderLayout,alignmentX=0.0,alignmentY=0.0,border=,flags=9,maximumSize=,minimumSize=,preferredSize=])\n"
        },
        {
          "metadata" : { },
          "data" : {
            "text/html" : "Window(javax.swing.JFrame[frame0,460,37,1000x1000,layout=java.awt.BorderLayout,title=Smile Plot 11,resizable,normal,defaultCloseOperation=DISPOSE_ON_CLOSE,rootPane=javax.swing.JRootPane[,0,34,1000x966,layout=javax.swing.JRootPane$RootLayout,alignmentX=0.0,alignmentY=0.0,border=,flags=16777675,maximumSize=,minimumSize=,preferredSize=],rootPaneCheckingEnabled=true],smile.plot.PlotCanvas[,0,0,1000x966,layout=java.awt.BorderLayout,alignmentX=0.0,alignmentY=0.0,border=,flags=11,maximumSize=,minimumSize=,preferredSize=])"
          },
          "output_type" : "execute_result",
          "execution_count" : 15,
          "time" : "Took: 0.717s, at 2018-09-14 08:29"
        }
      ]
    },
    {
      "metadata" : {
        "id" : "F2DA199C58C6459D81458F4A34A9FC0E"
      },
      "cell_type" : "markdown",
      "source" : "<p align=\"center\">\n<img src =\"http://www.clustering4ever.org/SparkNotebooksPictures/digits-pca3.png\" width=\"500\" />\n</p>"
    },
    {
      "metadata" : {
        "trusted" : true,
        "input_collapsed" : false,
        "collapsed" : false,
        "id" : "D0B4468AD5314C098EC9C51AED2DFA13"
      },
      "cell_type" : "code",
      "source" : [
        "val window = plot(pureData, labels, '.', Palette.COLORS)\n",
        "window.canvas.points(\"centroid\", pcizedCentroids.map(_._2), 'Q', Color.BLACK)"
      ],
      "outputs" : [
        {
          "name" : "stdout",
          "output_type" : "stream",
          "text" : "window: smile.plot.Window = Window(javax.swing.JFrame[frame1,460,37,1000x1000,invalid,layout=java.awt.BorderLayout,title=Smile Plot 12,resizable,normal,defaultCloseOperation=DISPOSE_ON_CLOSE,rootPane=javax.swing.JRootPane[,0,34,1000x966,invalid,layout=javax.swing.JRootPane$RootLayout,alignmentX=0.0,alignmentY=0.0,border=,flags=16777673,maximumSize=,minimumSize=,preferredSize=],rootPaneCheckingEnabled=true],smile.plot.PlotCanvas[,0,0,0x0,invalid,layout=java.awt.BorderLayout,alignmentX=0.0,alignmentY=0.0,border=,flags=9,maximumSize=,minimumSize=,preferredSize=])\nres21: smile.plot.ScatterPlot = smile.plot.ScatterPlot@662282d\n"
        },
        {
          "metadata" : { },
          "data" : {
            "text/html" : "smile.plot.ScatterPlot@662282d"
          },
          "output_type" : "execute_result",
          "execution_count" : 16,
          "time" : "Took: 0.844s, at 2018-09-14 08:30"
        }
      ]
    },
    {
      "metadata" : {
        "id" : "8C65FA084E1B4C748B4D60002C07AE4D"
      },
      "cell_type" : "markdown",
      "source" : "## Visualization with t-sne"
    },
    {
      "metadata" : {
        "trusted" : true,
        "input_collapsed" : false,
        "collapsed" : false,
        "id" : "C93A5C822CB24619B8D89804171B93D6"
      },
      "cell_type" : "code",
      "source" : [
        "val sne = tsne(readyToPca, 3)"
      ],
      "outputs" : [
        {
          "name" : "stdout",
          "output_type" : "stream",
          "text" : "sne: smile.manifold.TSNE = smile.manifold.TSNE@571ae4eb\n"
        },
        {
          "metadata" : { },
          "data" : {
            "text/html" : ""
          },
          "output_type" : "execute_result",
          "execution_count" : 17,
          "time" : "Took: 27.716s, at 2018-09-14 08:30"
        }
      ]
    },
    {
      "metadata" : {
        "trusted" : true,
        "input_collapsed" : false,
        "collapsed" : false,
        "id" : "E6A33F4229C5498F9A9C25C56EB1DACC"
      },
      "cell_type" : "code",
      "source" : [
        "plot(sne.getCoordinates, labels, '.', Palette.COLORS)"
      ],
      "outputs" : [
        {
          "name" : "stdout",
          "output_type" : "stream",
          "text" : "res24: smile.plot.Window = Window(javax.swing.JFrame[frame2,460,37,1000x1000,invalid,layout=java.awt.BorderLayout,title=Smile Plot 13,resizable,normal,defaultCloseOperation=DISPOSE_ON_CLOSE,rootPane=javax.swing.JRootPane[,5,25,990x970,invalid,layout=javax.swing.JRootPane$RootLayout,alignmentX=0.0,alignmentY=0.0,border=,flags=16777673,maximumSize=,minimumSize=,preferredSize=],rootPaneCheckingEnabled=true],smile.plot.PlotCanvas[,0,0,0x0,invalid,layout=java.awt.BorderLayout,alignmentX=0.0,alignmentY=0.0,border=,flags=9,maximumSize=,minimumSize=,preferredSize=])\n"
        },
        {
          "metadata" : { },
          "data" : {
            "text/html" : "Window(javax.swing.JFrame[frame2,460,37,1000x1000,layout=java.awt.BorderLayout,title=Smile Plot 13,resizable,normal,defaultCloseOperation=DISPOSE_ON_CLOSE,rootPane=javax.swing.JRootPane[,0,34,1000x966,layout=javax.swing.JRootPane$RootLayout,alignmentX=0.0,alignmentY=0.0,border=,flags=16777675,maximumSize=,minimumSize=,preferredSize=],rootPaneCheckingEnabled=true],smile.plot.PlotCanvas[,0,0,1000x966,layout=java.awt.BorderLayout,alignmentX=0.0,alignmentY=0.0,border=,flags=11,maximumSize=,minimumSize=,preferredSize=])"
          },
          "output_type" : "execute_result",
          "execution_count" : 18,
          "time" : "Took: 0.640s, at 2018-09-14 08:30"
        }
      ]
    },
    {
      "metadata" : {
        "id" : "5580D2527AF84F359660B358796B1CD7"
      },
      "cell_type" : "markdown",
      "source" : "## Include centroids "
    },
    {
      "metadata" : {
        "trusted" : true,
        "input_collapsed" : false,
        "collapsed" : false,
        "id" : "EE07C78BFAA04C119F848AFA8BDECFAA"
      },
      "cell_type" : "code",
      "source" : [
        "val readyTsneCentroids = centroids.map{ case (_, centroid) =>  (Int.MaxValue, standardize.transform(centroid.map(_.toDouble).toArray)) }\n",
        "\n",
        "val readyToTsne = readyToPca ++ readyTsneCentroids.map(_._2)"
      ],
      "outputs" : [
        {
          "name" : "stdout",
          "output_type" : "stream",
          "text" : "readyTsneCentroids: Array[(Int, Array[Double])] = Array((2147483647,Array(-0.4691973206300246, -0.724769091822159, 0.9947636535218598, 0.7311989859280826, 0.5818236344745712, 0.4731577041265375, 0.4050460242033411, 0.3752743814604061, 0.3838921816267829, 0.45004943939012954, 0.5440847285433487, 0.7135679682293894, -1.0209698667667724, -0.7473734209867955, -0.4818399603409751, -0.6701124716326963, 0.9433525261840586, 0.6889766255545046, 0.5386811852615968, 0.4419949476766309, 0.36391836974993397, 0.30373202063736837, 0.2784733628071156, 0.3076416819747157, 0.3577255499568549, 0.42899948314926056, 0.5502546049722432, 0.7040158872382919, -1.0353755795234765, -0.6646353033940223, -0.7056049015940564, 0.866566690088696, 0.6622910964242819, 0.5502546049722432, 0.4620448429462271, 0.4500494393..."
        },
        {
          "metadata" : { },
          "data" : {
            "text/html" : ""
          },
          "output_type" : "execute_result",
          "execution_count" : 19,
          "time" : "Took: 0.831s, at 2018-09-14 08:31"
        }
      ]
    },
    {
      "metadata" : {
        "trusted" : true,
        "input_collapsed" : false,
        "collapsed" : false,
        "id" : "F2CFDB9BA525483887B286C3FAB73934"
      },
      "cell_type" : "code",
      "source" : [
        "val sne2 = tsne(readyToTsne, 3)"
      ],
      "outputs" : [
        {
          "name" : "stdout",
          "output_type" : "stream",
          "text" : "sne2: smile.manifold.TSNE = smile.manifold.TSNE@76a1356e\n"
        },
        {
          "metadata" : { },
          "data" : {
            "text/html" : ""
          },
          "output_type" : "execute_result",
          "execution_count" : 20,
          "time" : "Took: 33.936s, at 2018-09-14 08:31"
        }
      ]
    },
    {
      "metadata" : {
        "trusted" : true,
        "input_collapsed" : false,
        "collapsed" : false,
        "id" : "EBCB80FB919E4364862FA7877D678EC8"
      },
      "cell_type" : "code",
      "source" : [
        "val dataTsne = sne2.getCoordinates.take(parData.size)\n",
        "val dataCentroids = sne2.getCoordinates.takeRight(10)\n",
        "\n",
        "val window = plot(dataTsne, labels, '.', Palette.COLORS)\n",
        "window.canvas.points(\"centroid\", dataCentroids, 'Q', Color.BLACK)"
      ],
      "outputs" : [
        {
          "name" : "stdout",
          "output_type" : "stream",
          "text" : "dataTsne: Array[Array[Double]] = Array(Array(19.92216062072959, 19.412005136547094, -7.175012774070433), Array(22.097242482580935, 16.706418101312586, -2.439049978426416), Array(14.395494347836282, 19.67075210716432, -7.797426170260576), Array(16.296877835278764, 15.609275194936066, -6.873505871551086), Array(18.645759936282843, 16.737739477083082, -0.10628704369422831), Array(17.558370728892303, 3.832026027198662, 7.531168725287251), Array(16.93319735314301, 22.063146455829724, -4.260858500758712), Array(21.20866051579583, 18.210084879763414, -4.098606743270592), Array(19.368510468675478, 22.034118570730374, -5.220287866299489), Array(15.087276301281648, 20.50962073593671, -6.1918922998897985), Array(16.731962071207416, 20.13325035439915, -1.6920538417064932), Array(14.347332591896231,..."
        },
        {
          "metadata" : { },
          "data" : {
            "text/html" : "smile.plot.ScatterPlot@6b80be31"
          },
          "output_type" : "execute_result",
          "execution_count" : 21,
          "time" : "Took: 0.687s, at 2018-09-14 08:31"
        }
      ]
    },
    {
      "metadata" : {
        "id" : "1B2D48C2E63B48A79213DB580DD3C116"
      },
      "cell_type" : "markdown",
      "source" : "<p align=\"center\">\n<img src =\"http://www.clustering4ever.org/SparkNotebooksPictures/digits-tsne3.png\" width=\"500\" />\n</p>"
    }
  ],
  "nbformat" : 4
}