{
  "metadata" : {
    "id" : "05d3ded9-7e96-41d8-9c4a-627470d126ff",
    "name" : "Scala Kernel Gradient Ascent",
    "user_save_timestamp" : "2018-04-04T17:17:57.904Z",
    "auto_save_timestamp" : "1970-01-01T01:00:00.000Z",
    "language_info" : {
      "name" : "scala",
      "file_extension" : "scala",
      "codemirror_mode" : "text/x-scala"
    },
    "trusted" : true,
    "sparkNotebook" : null,
    "customLocalRepo" : null,
    "customRepos" : [
      "clustering4ever % default % http://dl.bintray.com/clustering4ever/Clustering4Ever % maven"
    ],
    "customDeps" : [
      "com.github.haifengl:smile-scala_2.11:1.5.0",
      "org.apache.sanselan % sanselan % 0.97-incubator",
      "clustering4ever % clustering4ever_2.11 % 0.2.6"
    ],
    "customImports" : null,
    "customArgs" : null,
    "customSparkConf" : null,
    "customVars" : null
  },
  "cells" : [
    {
      "metadata" : {
        "id" : "56E473B68DE547C884E92C173F0C2CC7"
      },
      "cell_type" : "markdown",
      "source" : "# [Clustering4Ever](https://github.com/Clustering4Ever/Clustering4Ever) on [SparkNotebook](http://spark-notebook.io/) by [LIPN](https://lipn.univ-paris13.fr/) [A3](https://lipn.univ-paris13.fr/accueil/equipe/a3/) team"
    },
    {
      "metadata" : {
        "id" : "9BE3CBFDDB324D29914085C97E53D087"
      },
      "cell_type" : "markdown",
      "source" : "# Scala Kernel Gradient Ascent"
    },
    {
      "metadata" : {
        "trusted" : true,
        "input_collapsed" : false,
        "collapsed" : false,
        "id" : "2723CA508CC84A868DB0D63A7DB41C03"
      },
      "cell_type" : "code",
      "source" : [
        "import smile.plot._\n",
        "import clustering4ever.scala.clustering.meanshift.GradientAscent\n",
        "import clustering4ever.math.distances.scalar.{Euclidean, Cosine, Minkowski}\n",
        "import scala.io.Source\n",
        "import clustering4ever.spark.indexes.ExternalIndexes\n",
        "import clustering4ever.scala.indexes.ExternalIndexes\n",
        "import clustering4ever.scala.kernels.KernelNature._"
      ],
      "outputs" : [
        {
          "name" : "stdout",
          "output_type" : "stream",
          "text" : "import smile.plot._\nimport clustering4ever.scala.clustering.meanshift.GradientAscent\nimport clustering4ever.math.distances.scalar.{Euclidean, Cosine, Minkowski}\nimport scala.io.Source\nimport clustering4ever.spark.indexes.ExternalIndexes\nimport clustering4ever.scala.indexes.ExternalIndexes\nimport clustering4ever.scala.kernels.KernelNature._\n"
        },
        {
          "metadata" : { },
          "data" : {
            "text/html" : ""
          },
          "output_type" : "execute_result",
          "execution_count" : 1,
          "time" : "Took: 0.974s, at 2018-04-07 17:33"
        }
      ]
    },
    {
      "metadata" : {
        "id" : "4BEB170294834C8B92F180754CF0F42F"
      },
      "cell_type" : "markdown",
      "source" : "## Import data as Array[(Int, Array[Double])]"
    },
    {
      "metadata" : {
        "trusted" : true,
        "input_collapsed" : false,
        "collapsed" : false,
        "id" : "063B66723A63401CBC2F0A23BE2C2E18"
      },
      "cell_type" : "code",
      "source" : [
        "val path = \"/home/KyBe/tmpDS/aggregation.csv\"\n",
        "val labelsPath = \"/home/KyBe/tmpDS/aggregationL\"\n",
        "val data = Source.fromFile(path).getLines.map(_.split(\",\").map(_.toDouble)).zipWithIndex.map(_.swap).toArray\n",
        "val labels = Source.fromFile(labelsPath).getLines.map(_.toInt).toArray"
      ],
      "outputs" : [
        {
          "name" : "stdout",
          "output_type" : "stream",
          "text" : "path: String = /home/KyBe/tmpDS/aggregation.csv\nlabelsPath: String = /home/KyBe/tmpDS/aggregationL\ndata: Array[(Int, Array[Double])] = Array((0,Array(15.55, 28.65)), (1,Array(14.9, 27.55)), (2,Array(14.45, 28.35)), (3,Array(14.15, 28.8)), (4,Array(13.75, 28.05)), (5,Array(13.35, 28.45)), (6,Array(13.0, 29.15)), (7,Array(13.45, 27.5)), (8,Array(13.6, 26.5)), (9,Array(12.8, 27.35)), (10,Array(12.4, 27.85)), (11,Array(12.3, 28.4)), (12,Array(12.2, 28.65)), (13,Array(13.4, 25.1)), (14,Array(12.95, 25.95)), (15,Array(12.9, 26.5)), (16,Array(11.85, 27.0)), (17,Array(11.35, 28.0)), (18,Array(11.15, 28.7)), (19,Array(11.25, 27.4)), (20,Array(10.75, 27.7)), (21,Array(10.5, 28.35)), (22,Array(9.65, 28.45)), (23,Array(10.25, 27.25)), (24,Array(10.75, 26.55)), (25,Array(11.7, 26.35)), (26,Array(11...."
        },
        {
          "metadata" : { },
          "data" : {
            "text/html" : ""
          },
          "output_type" : "execute_result",
          "execution_count" : 19,
          "time" : "Took: 0.482s, at 2018-04-07 17:46"
        }
      ]
    },
    {
      "metadata" : {
        "id" : "DB906BE4458347E98566175F44A41B25"
      },
      "cell_type" : "markdown",
      "source" : "## Parameters "
    },
    {
      "metadata" : {
        "trusted" : true,
        "input_collapsed" : false,
        "collapsed" : false,
        "id" : "7B7F65B92A1849639D25B8260E8FC13D"
      },
      "cell_type" : "code",
      "source" : [
        "val iterMax = 25\n",
        "val epsilon = 0.00001\n",
        "// True defines the true Euclidean with square root, set it to false to avoid the square\n",
        "val metric1 = new Euclidean(true)\n",
        "val kernel1 = Gaussian\n",
        "val kernel2 = Flat\n",
        "val kernel3 = KNN\n",
        "val kernel4 = Sigmoid\n",
        "val bandwitch = Array(\"1\")\n",
        "val knnArg = Array(\"40\")\n",
        "val sigmoidArgs = Array(\"1\",\"0\")"
      ],
      "outputs" : [
        {
          "name" : "stdout",
          "output_type" : "stream",
          "text" : "iterMax: Int = 25\nepsilon: Double = 1.0E-5\nmetric1: clustering4ever.math.distances.scalar.Euclidean = Euclidean with root applied\nmetric2: clustering4ever.math.distances.scalar.Cosine = clustering4ever.math.distances.scalar.Cosine@64d0b427\nmetric3: clustering4ever.math.distances.scalar.Minkowski = clustering4ever.math.distances.scalar.Minkowski@789d5519\nkernel1: clustering4ever.scala.kernels.KernelNature.Value = Gaussian\nkernel2: clustering4ever.scala.kernels.KernelNature.Value = Flat\nkernel3: clustering4ever.scala.kernels.KernelNature.Value = KNN\nkernel4: clustering4ever.scala.kernels.KernelNature.Value = Sigmoid\nbandwitch: Array[String] = Array(1)\nknnArg: Array[String] = Array(40)\nsigmoidArgs: Array[String] = Array(1, 0)\n"
        },
        {
          "metadata" : { },
          "data" : {
            "text/html" : ""
          },
          "output_type" : "execute_result",
          "execution_count" : 7,
          "time" : "Took: 0.623s, at 2018-04-07 17:34"
        }
      ]
    },
    {
      "metadata" : {
        "id" : "351DECE0EB4B4DAE8395D89284DABB26"
      },
      "cell_type" : "markdown",
      "source" : "## Run the algorithm"
    },
    {
      "metadata" : {
        "trusted" : true,
        "input_collapsed" : false,
        "collapsed" : false,
        "id" : "9A6D87F369D14BB7BD59256FD5E2E310"
      },
      "cell_type" : "code",
      "source" : [
        "val gradientAscentDataFlat = GradientAscent.run(data, metric1, epsilon, iterMax, kernel2, bandwitch)\n",
        "val gradientAscentDataGaussian = GradientAscent.run(data, metric1, epsilon, iterMax, kernel1, bandwitch)\n",
        "val gradientAscentDataKNN = GradientAscent.run(data, metric1, epsilon, 100, kernel3, knnArg)\n",
        "val gradientAscentDataSigmoid = GradientAscent.run(data, metric1, epsilon, iterMax, kernel4, sigmoidArgs)"
      ],
      "outputs" : [
        {
          "name" : "stdout",
          "output_type" : "stream",
          "text" : "gradientAscentDataFlat: scala.collection.parallel.mutable.ParArray[(Int, Array[Double], Array[Double], Boolean)] = ParArray((0,[D@692ea36d,[D@2e7aa1ae,true), (1,[D@362bf2f,[D@7941f21b,true), (2,[D@65681395,[D@1ee4a947,true), (3,[D@869f673,[D@7e4e0c4f,true), (4,[D@5b1f5ca8,[D@608a681d,true), (5,[D@2717d011,[D@29b58cc8,true), (6,[D@8ee7f4a,[D@3b1734ca,true), (7,[D@2219fce1,[D@27cff7a6,true), (8,[D@5ca0d83a,[D@5e931600,true), (9,[D@330017c7,[D@6baaa4c6,true), (10,[D@3111d081,[D@77f4e3b5,true), (11,[D@44796ca3,[D@7a4b6c7e,true), (12,[D@45612e6e,[D@15d8943c,true), (13,[D@1acbee50,[D@3bc249eb,true), (14,[D@771c12a3,[D@26341108,true), (15,[D@6348c2f0,[D@4a6c4263,true), (16,[D@5d72c887,[D@5b483e70,true), (17,[D@7eb228ab,[D@56e51244,true), (18,[D@1d98ceef,[D@739d892,true), (19,[D@68a14fae,[D@162..."
        },
        {
          "metadata" : { },
          "data" : {
            "text/html" : ""
          },
          "output_type" : "execute_result",
          "execution_count" : 18,
          "time" : "Took: 2.340s, at 2018-04-07 17:46"
        }
      ]
    },
    {
      "metadata" : {
        "trusted" : true,
        "input_collapsed" : false,
        "collapsed" : false,
        "id" : "912B4DEBDCB34A83AB29BD29C10EC063"
      },
      "cell_type" : "code",
      "source" : [
        "val toPlotFlat = gradientAscentDataFlat.map(_._3).toArray\n",
        "val toPlotGaussian = gradientAscentDataGaussian.map(_._3).toArray\n",
        "val toPlotKNN = gradientAscentDataKNN.map(_._3).toArray\n",
        "val toPlotSigmoid = gradientAscentDataSigmoid.map(_._3).toArray\n",
        "plot(toPlotFlat, labels, '.', Palette.COLORS)\n",
        "plot(toPlotGaussian, labels, '.', Palette.COLORS)\n",
        "plot(toPlotKNN, labels, '.', Palette.COLORS)\n",
        "plot(toPlotSigmoid, labels, '.', Palette.COLORS)"
      ],
      "outputs" : [
        {
          "name" : "stdout",
          "output_type" : "stream",
          "text" : "toPlotFlat: Array[Array[Double]] = Array(Array(15.55, 28.65), Array(13.830000000000002, 28.23), Array(13.830000000000002, 28.23), Array(13.925, 28.4125), Array(13.830000000000002, 28.23), Array(13.830000000000002, 28.23), Array(12.65, 28.5), Array(13.15, 27.839999999999996), Array(13.149999999999999, 26.316666666666666), Array(12.8875, 27.3), Array(12.425, 28.0625), Array(12.062500000000002, 28.225), Array(12.65, 28.5), Array(13.175, 25.525), Array(13.2125, 26.0125), Array(13.062499999999998, 26.575), Array(11.43, 26.640000000000004), Array(11.0, 28.03), Array(11.0, 28.03), Array(11.033333333333333, 27.316666666666674), Array(10.82, 27.74), Array(11.0, 28.03), Array(9.783333333333333, 28.2), Array(10.2625, 27.1875), Array(11.033333333333333, 27.316666666666674), Array(11.43, 26.64000000..."
        },
        {
          "metadata" : { },
          "data" : {
            "text/html" : "Window(javax.swing.JFrame[frame0,460,53,1000x1000,layout=java.awt.BorderLayout,title=Smile Plot 4,resizable,normal,defaultCloseOperation=DISPOSE_ON_CLOSE,rootPane=javax.swing.JRootPane[,0,34,1000x966,layout=javax.swing.JRootPane$RootLayout,alignmentX=0.0,alignmentY=0.0,border=,flags=16777673,maximumSize=,minimumSize=,preferredSize=],rootPaneCheckingEnabled=true],smile.plot.PlotCanvas[,0,0,1000x966,layout=java.awt.BorderLayout,alignmentX=0.0,alignmentY=0.0,border=,flags=9,maximumSize=,minimumSize=,preferredSize=])"
          },
          "output_type" : "execute_result",
          "execution_count" : 12,
          "time" : "Took: 1.744s, at 2018-04-07 17:37"
        }
      ]
    }
  ],
  "nbformat" : 4
}