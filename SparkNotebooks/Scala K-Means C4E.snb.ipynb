{
  "metadata" : {
    "id" : "5d7fa9b0-e124-41c8-8975-468b29309cca",
    "name" : "Scala K-Means C4E",
    "user_save_timestamp" : "2018-04-04T17:17:57.904Z",
    "auto_save_timestamp" : "1970-01-01T01:00:00.000Z",
    "language_info" : {
      "name" : "scala",
      "file_extension" : "scala",
      "codemirror_mode" : "text/x-scala"
    },
    "trusted" : true,
    "sparkNotebook" : null,
    "customLocalRepo" : "${HOME}/.ivy2",
    "customRepos" : [
      "clustering4ever % default % http://dl.bintray.com/clustering4ever/Clustering4Ever % maven"
    ],
    "customDeps" : [
      "clustering4ever % clustering4ever_2.11 % 0.6.4",
      "com.github.haifengl:smile-scala_2.11:1.5.0"
    ],
    "customImports" : null,
    "customArgs" : null,
    "customSparkConf" : {
      "spark.driver.memory" : "50g",
      "spark.master" : "local[*]"
    },
    "customVars" : null
  },
  "cells" : [
    {
      "metadata" : {
        "id" : "56E473B68DE547C884E92C173F0C2CC7"
      },
      "cell_type" : "markdown",
      "source" : "# [Clustering4Ever](https://github.com/Clustering4Ever/Clustering4Ever) on [SparkNotebook](http://spark-notebook.io/) by [LIPN](https://lipn.univ-paris13.fr/) [A3](https://lipn.univ-paris13.fr/accueil/equipe/a3/) team"
    },
    {
      "metadata" : {
        "id" : "9BE3CBFDDB324D29914085C97E53D087"
      },
      "cell_type" : "markdown",
      "source" : "# Scala _K_-Means"
    },
    {
      "metadata" : {
        "trusted" : true,
        "input_collapsed" : false,
        "collapsed" : false,
        "id" : "2723CA508CC84A868DB0D63A7DB41C03"
      },
      "cell_type" : "code",
      "source" : [
        "import smile.plot._\n",
        "import scala.io.Source\n",
        "import scala.collection.{immutable, mutable, parallel}\n",
        "import clustering4ever.scala.clustering.kmeans.{KMeans, KMeansModel}\n",
        "import clustering4ever.math.distances.scalar.{Euclidean, Cosine, Minkowski}\n",
        "import clustering4ever.scala.indexes.ExternalIndexes\n",
        "import clustering4ever.scala.indexes.NmiNormalizationNature._\n",
        "import clustering4ever.util.ScalaImplicits._\n",
        "import clustering4ever.scala.clusterizables.RealClusterizable\n",
        "import clustering4ever.scala.vectorizables.RealVector"
      ],
      "outputs" : [
        {
          "name" : "stdout",
          "output_type" : "stream",
          "text" : "import smile.plot._\nimport scala.io.Source\nimport scala.collection.{immutable, mutable, parallel}\nimport clustering4ever.scala.clustering.kmeans.{KMeans, KMeansModel}\nimport clustering4ever.math.distances.scalar.{Euclidean, Cosine, Minkowski}\nimport clustering4ever.scala.indexes.ExternalIndexes\nimport clustering4ever.scala.indexes.NmiNormalizationNature._\nimport clustering4ever.util.ScalaImplicits._\nimport clustering4ever.scala.clusterizables.RealClusterizable\nimport clustering4ever.scala.vectorizables.RealVector\n"
        },
        {
          "metadata" : { },
          "data" : {
            "text/html" : ""
          },
          "output_type" : "execute_result",
          "execution_count" : 1,
          "time" : "Took: 0.755s, at 2018-09-07 14:18"
        }
      ]
    },
    {
      "metadata" : {
        "id" : "C001456FD09A4F8697712D9D1DF3EB17"
      },
      "cell_type" : "markdown",
      "source" : "## Download dataset Aggregation"
    },
    {
      "metadata" : {
        "trusted" : true,
        "input_collapsed" : false,
        "collapsed" : false,
        "id" : "ADF3A07D58F74656A91E11A1FF13920B"
      },
      "cell_type" : "code",
      "source" : [
        ":sh wget -P /tmp/ http://www.clustering4ever.org/Datasets/Aggregation/aggregation.csv\n",
        ":sh wget -P /tmp/ http://www.clustering4ever.org/Datasets/Aggregation/labels"
      ],
      "outputs" : [
        {
          "name" : "stdout",
          "output_type" : "stream",
          "text" : "--2018-09-07 13:36:20--  http://www.clustering4ever.org/Datasets/Aggregation/aggregation.csv\nResolving www.clustering4ever.org (www.clustering4ever.org)... 62.210.16.62\nConnecting to www.clustering4ever.org (www.clustering4ever.org)|62.210.16.62|:80... connected.\nHTTP request sent, awaiting response... 200 OK\nLength: 8063 (7.9K) [text/csv]\nSaving to: ‘/tmp/aggregation.csv.9’\n\n     0K .......                                               100%  365M=0s\n\n2018-09-07 13:36:20 (365 MB/s) - ‘/tmp/aggregation.csv.9’ saved [8063/8063]\n\n:sh: Scheme missing.\n--2018-09-07 13:36:20--  http://wget/\nResolving wget (wget)... failed: Name or service not known.\nwget: unable to resolve host address ‘wget’\n--2018-09-07 13:36:20--  http://www.clustering4ever.org/Datasets/Aggregation/labels\nReusing existing connection to www.clustering4ever.org:80.\nHTTP request sent, awaiting response... 200 OK\nLength: 1576 (1.5K)\nSaving to: ‘/tmp/labels.10’\n\n     0K .                                                     100%  124M=0s\n\n2018-09-07 13:36:20 (124 MB/s) - ‘/tmp/labels.10’ saved [1576/1576]\n\nFINISHED --2018-09-07 13:36:20--\nTotal wall clock time: 0.4s\nDownloaded: 2 files, 9.4K in 0s (277 MB/s)\njava.lang.RuntimeException: Nonzero exit value: 4\n  at scala.sys.package$.error(package.scala:27)\n  at scala.sys.process.ProcessBuilderImpl$AbstractBuilder.slurp(ProcessBuilderImpl.scala:132)\n  at scala.sys.process.ProcessBuilderImpl$AbstractBuilder.$bang$bang(ProcessBuilderImpl.scala:103)\n  ... 69 elided\n"
        }
      ]
    },
    {
      "metadata" : {
        "id" : "4BEB170294834C8B92F180754CF0F42F"
      },
      "cell_type" : "markdown",
      "source" : "## Import data as ParArray[ArrayBuffer[Double]]"
    },
    {
      "metadata" : {
        "trusted" : true,
        "input_collapsed" : false,
        "collapsed" : false,
        "id" : "063B66723A63401CBC2F0A23BE2C2E18"
      },
      "cell_type" : "code",
      "source" : [
        "val datasetSize = 2000000\n",
        "val dim = 100\n",
        "val path = \"/tmp/aggregation.csv\"\n",
        "val useAggregationDS = false\n",
        "\n",
        "val rawData = if( useAggregationDS ) Source.fromFile(path).getLines.map( x => mutable.ArrayBuffer(x.split(\",\").map(_.toDouble):_*) ).toBuffer\n",
        "  else mutable.ArrayBuffer.fill(datasetSize)(mutable.ArrayBuffer.fill(dim)(scala.util.Random.nextDouble))\n",
        "\n",
        "val parData = rawData.zipWithIndex.par.map{ case (v, id) => new RealClusterizable(id.toLong, new RealVector(v)) }\n",
        "\n",
        "val groundTruePath = \"/tmp/labels\""
      ],
      "outputs" : [
        {
          "name" : "stdout",
          "output_type" : "stream",
          "text" : "datasetSize: Int = 2000000\ndim: Int = 100\npath: String = /tmp/aggregation.csv\nuseAggregationDS: Boolean = false\nrawData: scala.collection.mutable.Buffer[scala.collection.mutable.ArrayBuffer[Double]] = ArrayBuffer(ArrayBuffer(0.4127021608244922, 0.015072342651154869, 0.10799190350406374, 0.10970637312396847, 0.1569008905498509, 0.8597422669616767, 1.2960782260285075E-4, 0.9853396805660675, 0.2018103125715781, 0.14642448268847053, 0.8623201639574947, 0.5251123554154499, 0.5099008600171878, 0.8963921306535552, 0.42262032729746724, 0.5290781941825453, 0.3367476330990349, 0.3466161572952129, 0.8823357220995842, 0.06588807078536485, 0.10660155964586138, 0.7844106895827907, 0.18356579593947964, 0.9180716008198188, 0.025498839682826735, 0.9217484800890267, 0.49727395376698014, 0.725878583145658..."
        },
        {
          "metadata" : { },
          "data" : {
            "text/html" : ""
          },
          "output_type" : "execute_result",
          "execution_count" : 3,
          "time" : "Took: 1m3.830s, at 2018-09-07 13:37"
        }
      ]
    },
    {
      "metadata" : {
        "id" : "DB906BE4458347E98566175F44A41B25"
      },
      "cell_type" : "markdown",
      "source" : "## Parameters "
    },
    {
      "metadata" : {
        "trusted" : true,
        "input_collapsed" : false,
        "collapsed" : false,
        "id" : "7B7F65B92A1849639D25B8260E8FC13D"
      },
      "cell_type" : "code",
      "source" : [
        "val k = 7\n",
        "val iterMax = 40\n",
        "val epsilon = 0.5\n",
        "// True defines the true Euclidean with square root, set it to false to avoid the square\n",
        "// val metric0 = new Euclidean[Array[Double]](true)\n",
        "val metric1 = new Euclidean[mutable.ArrayBuffer[Double]](true)\n",
        "\n",
        "// Minkowski(p) where p is the Minkowski parameter\n",
        "val metric2 = new Minkowski[mutable.ArrayBuffer[Double]](2)"
      ],
      "outputs" : [
        {
          "name" : "stdout",
          "output_type" : "stream",
          "text" : "k: Int = 7\niterMax: Int = 40\nepsilon: Double = 0.5\nmetric1: clustering4ever.math.distances.scalar.Euclidean[scala.collection.mutable.ArrayBuffer[Double]] = Euclidean distance with root applied\nmetric2: clustering4ever.math.distances.scalar.Minkowski[scala.collection.mutable.ArrayBuffer[Double]] = clustering4ever.math.distances.scalar.Minkowski@6e6796b1\n"
        },
        {
          "metadata" : { },
          "data" : {
            "text/html" : ""
          },
          "output_type" : "execute_result",
          "execution_count" : 4,
          "time" : "Took: 0.935s, at 2018-09-07 13:37"
        }
      ]
    },
    {
      "metadata" : {
        "id" : "351DECE0EB4B4DAE8395D89284DABB26"
      },
      "cell_type" : "markdown",
      "source" : "## Run and measure the algorithm time"
    },
    {
      "metadata" : {
        "trusted" : true,
        "input_collapsed" : false,
        "collapsed" : false,
        "id" : "321E55E849D3414483ED121C542305CE"
      },
      "cell_type" : "code",
      "source" : [
        "val t1 = System.nanoTime\n",
        "\n",
        "val model = KMeans.run[\n",
        "              Long,\n",
        "              mutable.ArrayBuffer[Double],\n",
        "              mutable.ArrayBuffer[Double],\n",
        "              RealClusterizable[Long, mutable.ArrayBuffer[Double], mutable.ArrayBuffer[Double]],\n",
        "              Euclidean[mutable.ArrayBuffer[Double]]\n",
        "              ](\n",
        "                parData,\n",
        "                k,\n",
        "                epsilon,\n",
        "                iterMax,\n",
        "                metric1\n",
        "              )\n",
        "\n",
        "val t2 = System.nanoTime\n",
        "\n",
        "(t2 - t1) / 1000000000D"
      ],
      "outputs" : [
        {
          "name" : "stdout",
          "output_type" : "stream",
          "text" : "t1: Long = 15011508962559\nmodel: clustering4ever.scala.clustering.kmeans.KMeansModel[Long,scala.collection.mutable.ArrayBuffer[Double],scala.collection.mutable.ArrayBuffer[Double],clustering4ever.scala.clusterizables.RealClusterizable[Long,scala.collection.mutable.ArrayBuffer[Double],scala.collection.mutable.ArrayBuffer[Double]],clustering4ever.math.distances.scalar.Euclidean[scala.collection.mutable.ArrayBuffer[Double]]] = clustering4ever.scala.clustering.kmeans.KMeansModel@24ed7f00\nt2: Long = 15024893349045\nres6: Double = 13.384386486\n"
        },
        {
          "metadata" : { },
          "data" : {
            "text/html" : "13.384386486"
          },
          "output_type" : "execute_result",
          "execution_count" : 5,
          "time" : "Took: 14.359s, at 2018-09-07 13:37"
        }
      ]
    },
    {
      "metadata" : {
        "id" : "635179D825AE49408D5C33D371E21028"
      },
      "cell_type" : "markdown",
      "source" : "# Compare algorithm between ParArray and ArraySeq container"
    },
    {
      "metadata" : {
        "trusted" : true,
        "input_collapsed" : false,
        "collapsed" : false,
        "id" : "FE8508FDB1A64C8A9422836DDBF1EC3B"
      },
      "cell_type" : "code",
      "source" : [
        "val t1 = System.nanoTime\n",
        "\n",
        "KMeans.run[Long,\n",
        "    mutable.ArrayBuffer[Double],\n",
        "    mutable.ArrayBuffer[Double],\n",
        "    RealClusterizable[Long, mutable.ArrayBuffer[Double], mutable.ArrayBuffer[Double]],\n",
        "    Euclidean[mutable.ArrayBuffer[Double]]\n",
        "    ](parData, k, epsilon, iterMax, metric1)\n",
        "\n",
        "val t2 = System.nanoTime\n",
        "val seqData = parData.seq\n",
        "val t3 = System.nanoTime\n",
        "\n",
        "KMeans.run[Long,\n",
        "    mutable.ArrayBuffer[Double],\n",
        "    mutable.ArrayBuffer[Double],\n",
        "    RealClusterizable[Long, mutable.ArrayBuffer[Double], mutable.ArrayBuffer[Double]],\n",
        "    Euclidean[mutable.ArrayBuffer[Double]]\n",
        "    ](seqData, k, epsilon, iterMax, metric1)\n",
        "\n",
        "val t4 = System.nanoTime\n",
        "\n",
        "\n",
        "\n",
        "(t4 - t3).toDouble / (t2 - t1)"
      ],
      "outputs" : [
        {
          "name" : "stdout",
          "output_type" : "stream",
          "text" : "t1: Long = 15025863841986\nt2: Long = 15035361233137\nseqData: scala.collection.mutable.Seq[clustering4ever.scala.clusterizables.RealClusterizable[Long,scala.collection.mutable.ArrayBuffer[Double],scala.collection.mutable.ArrayBuffer[Double]]] = ArraySeq(RealClusterizable(0,clustering4ever.scala.vectorizables.RealVector@30b900c6,List(),2147483647), RealClusterizable(1,clustering4ever.scala.vectorizables.RealVector@21a0c162,List(),2147483647), RealClusterizable(2,clustering4ever.scala.vectorizables.RealVector@73721b8f,List(),2147483647), RealClusterizable(3,clustering4ever.scala.vectorizables.RealVector@4adf031a,List(),2147483647), RealClusterizable(4,clustering4ever.scala.vectorizables.RealVector@329895b7,List(),2147483647), RealClusterizable(5,clustering4ever.scala.vectorizables.RealVect..."
        },
        {
          "metadata" : { },
          "data" : {
            "text/html" : "4.393892996457886"
          },
          "output_type" : "execute_result",
          "execution_count" : 6,
          "time" : "Took: 52.197s, at 2018-09-07 13:38"
        }
      ]
    },
    {
      "metadata" : {
        "id" : "6A954C0583E94F068A5132A6C0F21E7B"
      },
      "cell_type" : "markdown",
      "source" : "## Different ways to apply model to datasets"
    },
    {
      "metadata" : {
        "trusted" : true,
        "input_collapsed" : false,
        "collapsed" : false,
        "id" : "0D623084528448368CE5DD7203E951C7"
      },
      "cell_type" : "code",
      "source" : [
        "val clusterized11 = rawData.map( v => (model.centerPredict(v), v) )\n",
        "val clusterized12 = model.centerPredict(rawData)\n",
        "\n",
        "val clusterized21 = parData.map( clustbl => (model.centerPredict(clustbl.vector), clustbl) )\n",
        "val clusterized22 = model.centerPredict(parData)"
      ],
      "outputs" : [
        {
          "name" : "stdout",
          "output_type" : "stream",
          "text" : "clusterized11: scala.collection.mutable.Buffer[(model.ClusterID, scala.collection.mutable.ArrayBuffer[Double])] = ArrayBuffer((0,ArrayBuffer(0.4127021608244922, 0.015072342651154869, 0.10799190350406374, 0.10970637312396847, 0.1569008905498509, 0.8597422669616767, 1.2960782260285075E-4, 0.9853396805660675, 0.2018103125715781, 0.14642448268847053, 0.8623201639574947, 0.5251123554154499, 0.5099008600171878, 0.8963921306535552, 0.42262032729746724, 0.5290781941825453, 0.3367476330990349, 0.3466161572952129, 0.8823357220995842, 0.06588807078536485, 0.10660155964586138, 0.7844106895827907, 0.18356579593947964, 0.9180716008198188, 0.025498839682826735, 0.9217484800890267, 0.49727395376698014, 0.7258785831456588, 0.3561337376802901, 0.868480895194272, 0.7921421195513476, 0.4226061713613388, 0...."
        },
        {
          "metadata" : { },
          "data" : {
            "text/html" : ""
          },
          "output_type" : "execute_result",
          "execution_count" : 7,
          "time" : "Took: 1m11.928s, at 2018-09-07 13:39"
        }
      ]
    },
    {
      "metadata" : {
        "id" : "AC0E30557C3B40758B75BEC5F1BE16BC"
      },
      "cell_type" : "markdown",
      "source" : "## Plot clustering results"
    },
    {
      "metadata" : {
        "trusted" : true,
        "input_collapsed" : false,
        "collapsed" : false,
        "id" : "91CDE8F5A41D411883B74E3086181EDE"
      },
      "cell_type" : "code",
      "source" : [
        "val rawData = clusterized22.map( rc => rc.vector.toArray ).toArray\n",
        "val labels = clusterized22.map( rc => rc.clusterID ).toArray\n",
        "plot(rawData, labels, '*', Palette.COLORS)"
      ],
      "outputs" : [
        {
          "name" : "stdout",
          "output_type" : "stream",
          "text" : "java.lang.IllegalArgumentException: Invalid data dimension: 100\n  at smile.plot.ScatterPlot.plot(ScatterPlot.java:514)\n  at smile.plot.ScatterPlot.plot(ScatterPlot.java:484)\n  at smile.plot.Operators$class.plot(Operators.scala:85)\n  at smile.plot.package$.plot(package.scala:23)\n  ... 69 elided\n"
        }
      ]
    },
    {
      "metadata" : {
        "id" : "9EE3B763C0FF4A8F8FF0DF73013CD883"
      },
      "cell_type" : "markdown",
      "source" : "## Inspect performance metrics"
    },
    {
      "metadata" : {
        "trusted" : true,
        "input_collapsed" : false,
        "collapsed" : false,
        "id" : "5D532CFB855D4B94BDF51A5D80A719A1"
      },
      "cell_type" : "code",
      "source" : [
        "val trueLabels = Source.fromFile(groundTruePath).getLines.map(_.toInt).toBuffer\n",
        "\n",
        "val (_, trueLabelsFrom0) = ExternalIndexes.prepareLabels(trueLabels)\n",
        "\n",
        "val predicts = clusterized22.map(_.clusterID).seq\n",
        "\n",
        "val nmi = ExternalIndexes.nmi(trueLabelsFrom0, predicts, SQRT)\n",
        "\n",
        "nmi"
      ],
      "outputs" : [
        {
          "name" : "stdout",
          "output_type" : "stream",
          "text" : "java.lang.IllegalArgumentException: requirement failed\n  at scala.Predef$.require(Predef.scala:212)\n  at clustering4ever.scala.indexes.ExternalIndexes.mutualInformationInternal(ExternalIndexes.scala:16)\n  at clustering4ever.scala.indexes.ExternalIndexes$.nmi(ExternalIndexes.scala:64)\n  ... 69 elided\n"
        }
      ]
    }
  ],
  "nbformat" : 4
}