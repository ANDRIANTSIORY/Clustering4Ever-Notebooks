{
  "metadata" : {
    "id" : "e6ec2d81-a699-4d70-b8a4-31dcf5e5c8f6",
    "name" : "Scala K-Means C4E.snb.ipynb",
    "user_save_timestamp" : "2018-04-04T17:17:57.904Z",
    "auto_save_timestamp" : "1970-01-01T01:00:00.000Z",
    "language_info" : {
      "name" : "scala",
      "file_extension" : "scala",
      "codemirror_mode" : "text/x-scala"
    },
    "trusted" : true,
    "sparkNotebook" : null,
    "customLocalRepo" : "${HOME}/.ivy2",
    "customRepos" : [
      "clustering4ever % default % http://dl.bintray.com/clustering4ever/Clustering4Ever % maven"
    ],
    "customDeps" : [
      "com.github.haifengl:smile-scala_2.11:1.5.0",
      "org.apache.sanselan % sanselan % 0.97-incubator",
      "clustering4ever % clustering4ever_2.11 % 0.2.3"
    ],
    "customImports" : null,
    "customArgs" : null,
    "customSparkConf" : null,
    "customVars" : null
  },
  "cells" : [
    {
      "metadata" : {
        "id" : "56E473B68DE547C884E92C173F0C2CC7"
      },
      "cell_type" : "markdown",
      "source" : "# [Clustering4Ever](https://github.com/Clustering4Ever/Clustering4Ever) on [SparkNotebook](http://spark-notebook.io/) by [LIPN](https://lipn.univ-paris13.fr/) [A3](https://lipn.univ-paris13.fr/accueil/equipe/a3/) team"
    },
    {
      "metadata" : {
        "id" : "9BE3CBFDDB324D29914085C97E53D087"
      },
      "cell_type" : "markdown",
      "source" : "# Scala _K_-Means"
    },
    {
      "metadata" : {
        "trusted" : true,
        "input_collapsed" : false,
        "collapsed" : false,
        "id" : "2723CA508CC84A868DB0D63A7DB41C03"
      },
      "cell_type" : "code",
      "source" : [
        "import smile.plot._\n",
        "import clustering4ever.scala.clustering.kmeans.KMeans\n",
        "import clustering4ever.math.distances.scalar.{Euclidean, Cosine, Minkowski}\n",
        "import _root_.scala.io.Source\n",
        "import clustering4ever.spark.indexes.ExternalIndexes\n",
        "import clustering4ever.scala.indexes.ExternalIndexes"
      ],
      "outputs" : [
        {
          "name" : "stdout",
          "output_type" : "stream",
          "text" : "import smile.plot._\nimport clustering4ever.scala.clustering.kmeans.KMeans\nimport clustering4ever.math.distances.scalar.{Euclidean, Cosine, Minkowski}\nimport _root_.scala.io.Source\nimport clustering4ever.spark.indexes.ExternalIndexes\nimport clustering4ever.scala.indexes.ExternalIndexes\n"
        },
        {
          "metadata" : { },
          "data" : {
            "text/html" : ""
          },
          "output_type" : "execute_result",
          "execution_count" : 3,
          "time" : "Took: 0.685s, at 2018-04-04 17:15"
        }
      ]
    },
    {
      "metadata" : {
        "id" : "4BEB170294834C8B92F180754CF0F42F"
      },
      "cell_type" : "markdown",
      "source" : "## Import data as Array[(Int, Array[Double])]"
    },
    {
      "metadata" : {
        "trusted" : true,
        "input_collapsed" : false,
        "collapsed" : false,
        "id" : "063B66723A63401CBC2F0A23BE2C2E18"
      },
      "cell_type" : "code",
      "source" : [
        "val path = \"/home/KyBe/tmpDS/aggregation.csv\"\n",
        "val data = Source.fromFile(path).getLines.map(_.split(\",\").map(_.toDouble)).zipWithIndex.map(_.swap).toArray"
      ],
      "outputs" : [
        {
          "name" : "stdout",
          "output_type" : "stream",
          "text" : "path: String = /home/KyBe/tmpDS/aggregation.csv\ndata: Array[(Int, Array[Double])] = Array((0,Array(15.55, 28.65)), (1,Array(14.9, 27.55)), (2,Array(14.45, 28.35)), (3,Array(14.15, 28.8)), (4,Array(13.75, 28.05)), (5,Array(13.35, 28.45)), (6,Array(13.0, 29.15)), (7,Array(13.45, 27.5)), (8,Array(13.6, 26.5)), (9,Array(12.8, 27.35)), (10,Array(12.4, 27.85)), (11,Array(12.3, 28.4)), (12,Array(12.2, 28.65)), (13,Array(13.4, 25.1)), (14,Array(12.95, 25.95)), (15,Array(12.9, 26.5)), (16,Array(11.85, 27.0)), (17,Array(11.35, 28.0)), (18,Array(11.15, 28.7)), (19,Array(11.25, 27.4)), (20,Array(10.75, 27.7)), (21,Array(10.5, 28.35)), (22,Array(9.65, 28.45)), (23,Array(10.25, 27.25)), (24,Array(10.75, 26.55)), (25,Array(11.7, 26.35)), (26,Array(11.6, 25.9)), (27,Array(11.9, 25.05)), (28,Array(12.6,..."
        },
        {
          "metadata" : { },
          "data" : {
            "text/html" : ""
          },
          "output_type" : "execute_result",
          "execution_count" : 4,
          "time" : "Took: 0.884s, at 2018-04-04 17:15"
        }
      ]
    },
    {
      "metadata" : {
        "id" : "DB906BE4458347E98566175F44A41B25"
      },
      "cell_type" : "markdown",
      "source" : "## Parameters "
    },
    {
      "metadata" : {
        "trusted" : true,
        "input_collapsed" : false,
        "collapsed" : false,
        "id" : "7B7F65B92A1849639D25B8260E8FC13D"
      },
      "cell_type" : "code",
      "source" : [
        "val k = 6\n",
        "val iterMax = 100\n",
        "val epsilon = 0.001\n",
        "// True defines the true Euclidean with square root, set it to false to avoid the square\n",
        "val metric1 = new Euclidean(true)\n",
        "val metric2 = new Cosine\n",
        "// Minkowski(p) where p is the Minkowski parameter\n",
        "val metric3 = new Minkowski(4)"
      ],
      "outputs" : [
        {
          "name" : "stdout",
          "output_type" : "stream",
          "text" : "k: Int = 6\niterMax: Int = 100\nepsilon: Double = 0.001\nmetric1: clustering4ever.math.distances.scalar.Euclidean = Euclidean with root applied\nmetric2: clustering4ever.math.distances.scalar.Cosine = clustering4ever.math.distances.scalar.Cosine@4ffc1b5c\nmetric3: clustering4ever.math.distances.scalar.Minkowski = clustering4ever.math.distances.scalar.Minkowski@73c74a41\n"
        },
        {
          "metadata" : { },
          "data" : {
            "text/html" : ""
          },
          "output_type" : "execute_result",
          "execution_count" : 5,
          "time" : "Took: 0.682s, at 2018-04-04 17:15"
        }
      ]
    },
    {
      "metadata" : {
        "id" : "351DECE0EB4B4DAE8395D89284DABB26"
      },
      "cell_type" : "markdown",
      "source" : "## Run the algorithm"
    },
    {
      "metadata" : {
        "trusted" : true,
        "input_collapsed" : false,
        "collapsed" : false,
        "id" : "294D274BC10945F999626F121BA54C2F"
      },
      "cell_type" : "code",
      "source" : [
        "val model = KMeans.run(data, k, epsilon, iterMax, metric1)\n",
        "val clusterized = data.map{ case (id, v) => (model.predict(v), (id, v)) }"
      ],
      "outputs" : [
        {
          "name" : "stdout",
          "output_type" : "stream",
          "text" : "model: clustering4ever.scala.clustering.kmeans.KMeansModel = clustering4ever.scala.clustering.kmeans.KMeansModel@2cd0d06e\nclusterized: Array[(model.ClusterID, (Int, Array[Double]))] = Array((4,(0,Array(15.55, 28.65))), (1,(1,Array(14.9, 27.55))), (1,(2,Array(14.45, 28.35))), (1,(3,Array(14.15, 28.8))), (1,(4,Array(13.75, 28.05))), (1,(5,Array(13.35, 28.45))), (1,(6,Array(13.0, 29.15))), (1,(7,Array(13.45, 27.5))), (1,(8,Array(13.6, 26.5))), (1,(9,Array(12.8, 27.35))), (1,(10,Array(12.4, 27.85))), (1,(11,Array(12.3, 28.4))), (1,(12,Array(12.2, 28.65))), (1,(13,Array(13.4, 25.1))), (1,(14,Array(12.95, 25.95))), (1,(15,Array(12.9, 26.5))), (1,(16,Array(11.85, 27.0))), (1,(17,Array(11.35, 28.0))), (1,(18,Array(11.15, 28.7))), (1,(19,Array(11.25, 27.4))), (1,(20,Array(10.75, 27.7))), (1,(21,..."
        },
        {
          "metadata" : { },
          "data" : {
            "text/html" : ""
          },
          "output_type" : "execute_result",
          "execution_count" : 6,
          "time" : "Took: 0.823s, at 2018-04-04 17:15"
        }
      ]
    },
    {
      "metadata" : {
        "id" : "AC0E30557C3B40758B75BEC5F1BE16BC"
      },
      "cell_type" : "markdown",
      "source" : "## Plot clustering results"
    },
    {
      "metadata" : {
        "trusted" : true,
        "input_collapsed" : false,
        "collapsed" : false,
        "id" : "83EA14D2AE0A4F07907172EB18BD25B7"
      },
      "cell_type" : "code",
      "source" : [
        "val rawData = clusterized.map{ case (clusterID, (id, vector)) => vector }\n",
        "val labels = clusterized.map{ case (clusterID, (id, vector)) => clusterID }\n",
        "\n",
        "plot(rawData, labels, '*', Palette.COLORS)"
      ],
      "outputs" : [
        {
          "name" : "stdout",
          "output_type" : "stream",
          "text" : "rawData: Array[Array[Double]] = Array(Array(15.55, 28.65), Array(14.9, 27.55), Array(14.45, 28.35), Array(14.15, 28.8), Array(13.75, 28.05), Array(13.35, 28.45), Array(13.0, 29.15), Array(13.45, 27.5), Array(13.6, 26.5), Array(12.8, 27.35), Array(12.4, 27.85), Array(12.3, 28.4), Array(12.2, 28.65), Array(13.4, 25.1), Array(12.95, 25.95), Array(12.9, 26.5), Array(11.85, 27.0), Array(11.35, 28.0), Array(11.15, 28.7), Array(11.25, 27.4), Array(10.75, 27.7), Array(10.5, 28.35), Array(9.65, 28.45), Array(10.25, 27.25), Array(10.75, 26.55), Array(11.7, 26.35), Array(11.6, 25.9), Array(11.9, 25.05), Array(12.6, 24.05), Array(11.9, 24.5), Array(11.1, 25.2), Array(10.55, 25.15), Array(10.05, 25.95), Array(9.35, 26.6), Array(9.3, 27.25), Array(9.2, 27.8), Array(7.5, 28.25), Array(8.55, 27.45), Ar..."
        },
        {
          "metadata" : { },
          "data" : {
            "text/html" : "Window(javax.swing.JFrame[frame0,460,53,1000x1000,layout=java.awt.BorderLayout,title=Smile Plot 1,resizable,normal,defaultCloseOperation=DISPOSE_ON_CLOSE,rootPane=javax.swing.JRootPane[,0,34,1000x966,layout=javax.swing.JRootPane$RootLayout,alignmentX=0.0,alignmentY=0.0,border=,flags=16777675,maximumSize=,minimumSize=,preferredSize=],rootPaneCheckingEnabled=true],smile.plot.PlotCanvas[,0,0,1000x966,layout=java.awt.BorderLayout,alignmentX=0.0,alignmentY=0.0,border=,flags=11,maximumSize=,minimumSize=,preferredSize=])"
          },
          "output_type" : "execute_result",
          "execution_count" : 7,
          "time" : "Took: 1.387s, at 2018-04-04 17:15"
        }
      ]
    },
    {
      "metadata" : {
        "id" : "9EE3B763C0FF4A8F8FF0DF73013CD883"
      },
      "cell_type" : "markdown",
      "source" : "## Inspect performance metrics"
    },
    {
      "metadata" : {
        "trusted" : true,
        "input_collapsed" : false,
        "collapsed" : false,
        "id" : "5D532CFB855D4B94BDF51A5D80A719A1"
      },
      "cell_type" : "code",
      "source" : [
        "val trueLabels = Source.fromFile(\"/home/KyBe/tmpDS/labels\").getLines.map(_.toInt).toArray\n",
        "\n",
        "val (_, trueLabelsFrom0) = ExternalIndexes.prepareList(trueLabels)\n",
        "\n",
        "val predicts = clusterized.map(_._1)\n",
        "\n",
        "val trueAndPredictRDD2 = sc.parallelize(trueLabelsFrom0.zip(predicts))\n",
        "\n",
        "val nmi = ExternalIndexes.nmi(trueLabelsFrom0, predicts, \"sqrt\")\n",
        "val nmi2 = SparkExternalsIndexes.nmi(sc, trueAndPredictRDD2, \"sqrt\")\n",
        "\n",
        "(nmi, nmi2)"
      ],
      "outputs" : [
        {
          "name" : "stdout",
          "output_type" : "stream",
          "text" : "trueLabels: Array[Int] = Array(2, 2, 2, 2, 2, 2, 2, 2, 2, 2, 2, 2, 2, 2, 2, 2, 2, 2, 2, 2, 2, 2, 2, 2, 2, 2, 2, 2, 2, 2, 2, 2, 2, 2, 2, 2, 2, 2, 2, 2, 2, 2, 2, 2, 2, 2, 2, 2, 2, 2, 2, 2, 2, 2, 2, 2, 2, 2, 2, 2, 2, 2, 2, 2, 2, 2, 2, 2, 2, 2, 2, 2, 2, 2, 2, 2, 2, 2, 2, 2, 2, 2, 2, 2, 2, 2, 2, 2, 2, 2, 2, 2, 2, 2, 2, 2, 2, 2, 2, 2, 2, 2, 2, 2, 2, 2, 2, 2, 2, 2, 2, 2, 2, 2, 2, 2, 2, 2, 2, 2, 2, 2, 2, 2, 2, 2, 2, 2, 2, 2, 2, 2, 2, 2, 2, 2, 2, 2, 2, 2, 2, 2, 2, 2, 2, 2, 2, 2, 2, 2, 2, 2, 2, 2, 2, 2, 2, 2, 2, 2, 2, 2, 2, 2, 2, 2, 2, 2, 2, 2, 7, 7, 7, 7, 7, 7, 7, 7, 7, 7, 7, 7, 7, 7, 7, 7, 7, 7, 7, 7, 7, 7, 7, 7, 7, 7, 7, 7, 7, 7, 7, 7, 7, 7, 4, 4, 4, 4, 4, 4, 4, 4, 4, 4, 4, 4, 4, 4, 4, 4, 4, 4, 4, 4, 4, 4, 4, 4, 4, 4, 4, 4, 4, 4, 4, 4, 4, 4, 4, 4, 4, 4, 4, 4, 4, 4, 4, 4, 4, 4, 4, 4, 4, 4, 4, 4..."
        },
        {
          "metadata" : { },
          "data" : {
            "text/html" : "(0.8717730364616668,0.8717730364616668)"
          },
          "output_type" : "execute_result",
          "execution_count" : 15,
          "time" : "Took: 1.369s, at 2018-04-04 06:54"
        }
      ]
    }
  ],
  "nbformat" : 4
}