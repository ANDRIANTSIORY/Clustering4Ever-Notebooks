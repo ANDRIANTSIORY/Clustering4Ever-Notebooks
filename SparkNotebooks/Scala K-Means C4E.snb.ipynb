{
  "metadata" : {
    "id" : "e6ec2d81-a699-4d70-b8a4-31dcf5e5c8f6",
    "name" : "Scala K-Means C4E.snb.ipynb",
    "user_save_timestamp" : "2018-04-04T17:17:57.904Z",
    "auto_save_timestamp" : "1970-01-01T01:00:00.000Z",
    "language_info" : {
      "name" : "scala",
      "file_extension" : "scala",
      "codemirror_mode" : "text/x-scala"
    },
    "trusted" : true,
    "sparkNotebook" : null,
    "customLocalRepo" : "${HOME}/.ivy2",
    "customRepos" : [
      "clustering4ever % default % http://dl.bintray.com/clustering4ever/Clustering4Ever % maven"
    ],
    "customDeps" : [
      "com.github.haifengl:smile-scala_2.11:1.5.0",
      "org.apache.sanselan % sanselan % 0.97-incubator",
      "clustering4ever % clustering4ever_2.11 % 0.3.6"
    ],
    "customImports" : null,
    "customArgs" : null,
    "customSparkConf" : null,
    "customVars" : null
  },
  "cells" : [
    {
      "metadata" : {
        "id" : "56E473B68DE547C884E92C173F0C2CC7"
      },
      "cell_type" : "markdown",
      "source" : "# [Clustering4Ever](https://github.com/Clustering4Ever/Clustering4Ever) on [SparkNotebook](http://spark-notebook.io/) by [LIPN](https://lipn.univ-paris13.fr/) [A3](https://lipn.univ-paris13.fr/accueil/equipe/a3/) team"
    },
    {
      "metadata" : {
        "id" : "9BE3CBFDDB324D29914085C97E53D087"
      },
      "cell_type" : "markdown",
      "source" : "# Scala _K_-Means"
    },
    {
      "metadata" : {
        "trusted" : true,
        "input_collapsed" : false,
        "collapsed" : false,
        "id" : "2723CA508CC84A868DB0D63A7DB41C03"
      },
      "cell_type" : "code",
      "source" : [
        "import _root_.smile.plot._\n",
        "import _root_.clustering4ever.scala.clustering.kmeans.KMeans\n",
        "import _root_.clustering4ever.math.distances.scalar.{Euclidean, Cosine, Minkowski}\n",
        "import _root_.scala.io.Source\n",
        "import _root_.clustering4ever.spark.indexes.ExternalIndexes\n",
        "import _root_.clustering4ever.scala.indexes.{ExternalIndexes => ScalaExternalIndexes}\n",
        "import _root_.clustering4ever.scala.indexes.NmiNormalizationNature._"
      ],
      "outputs" : [
        {
          "name" : "stdout",
          "output_type" : "stream",
          "text" : "import _root_.smile.plot._\nimport _root_.clustering4ever.scala.clustering.kmeans.KMeans\nimport _root_.clustering4ever.math.distances.scalar.{Euclidean, Cosine, Minkowski}\nimport _root_.scala.io.Source\nimport _root_.clustering4ever.spark.indexes.ExternalIndexes\nimport _root_.clustering4ever.scala.indexes.{ExternalIndexes=>ScalaExternalIndexes}\nimport _root_.clustering4ever.scala.indexes.NmiNormalizationNature._\n"
        },
        {
          "metadata" : { },
          "data" : {
            "text/html" : ""
          },
          "output_type" : "execute_result",
          "execution_count" : 18,
          "time" : "Took: 0.461s, at 2018-04-08 16:49"
        }
      ]
    },
    {
      "metadata" : {
        "id" : "C001456FD09A4F8697712D9D1DF3EB17"
      },
      "cell_type" : "markdown",
      "source" : "## Download dataset Aggregation"
    },
    {
      "metadata" : {
        "trusted" : true,
        "input_collapsed" : false,
        "collapsed" : false,
        "id" : "ADF3A07D58F74656A91E11A1FF13920B"
      },
      "cell_type" : "code",
      "source" : [
        ":sh wget -P /tmp/ http://www.clustering4ever.org/Datasets/Aggregation/aggregation.csv\n",
        ":sh wget -P /tmp/ http://www.clustering4ever.org/Datasets/Aggregation/labels"
      ],
      "outputs" : [
        {
          "name" : "stdout",
          "output_type" : "stream",
          "text" : "--2018-04-08 16:46:50--  http://www.clustering4ever.org/Datasets/Aggregation/aggregation.csv\nResolving www.clustering4ever.org (www.clustering4ever.org)... 62.210.16.62\nConnecting to www.clustering4ever.org (www.clustering4ever.org)|62.210.16.62|:80... connected.\nHTTP request sent, awaiting response... 200 OK\nLength: 8063 (7.9K) [text/csv]\nSaving to: ‘/tmp/aggregation.csv.1’\n\n     0K .......                                               100% 1.52G=0s\n\n2018-04-08 16:46:50 (1.52 GB/s) - ‘/tmp/aggregation.csv.1’ saved [8063/8063]\n\n:sh: Scheme missing.\n--2018-04-08 16:46:50--  http://wget/\nResolving wget (wget)... failed: Name or service not known.\nwget: unable to resolve host address ‘wget’\n--2018-04-08 16:46:50--  http://www.clustering4ever.org/Datasets/Aggregation/labels\nReusing existing connection to www.clustering4ever.org:80.\nHTTP request sent, awaiting response... 200 OK\nLength: 1576 (1.5K)\nSaving to: ‘/tmp/labels’\n\n     0K .                                                     100%  404M=0s\n\n2018-04-08 16:46:50 (404 MB/s) - ‘/tmp/labels’ saved [1576/1576]\n\nFINISHED --2018-04-08 16:46:50--\nTotal wall clock time: 0.09s\nDownloaded: 2 files, 9.4K in 0s (1.04 GB/s)\njava.lang.RuntimeException: Nonzero exit value: 4\n  at scala.sys.package$.error(package.scala:27)\n  at scala.sys.process.ProcessBuilderImpl$AbstractBuilder.slurp(ProcessBuilderImpl.scala:132)\n  at scala.sys.process.ProcessBuilderImpl$AbstractBuilder.$bang$bang(ProcessBuilderImpl.scala:103)\n  ... 67 elided\n"
        }
      ]
    },
    {
      "metadata" : {
        "id" : "4BEB170294834C8B92F180754CF0F42F"
      },
      "cell_type" : "markdown",
      "source" : "## Import data as Array[Array[Double]]"
    },
    {
      "metadata" : {
        "trusted" : true,
        "input_collapsed" : false,
        "collapsed" : false,
        "id" : "063B66723A63401CBC2F0A23BE2C2E18"
      },
      "cell_type" : "code",
      "source" : [
        "val path = \"/tmp/aggregation.csv\"\n",
        "val data = Source.fromFile(path).getLines.map(_.split(\",\").map(_.toDouble)).toArray\n",
        "val labelsPath = \"/tmp/labels\""
      ],
      "outputs" : [
        {
          "name" : "stdout",
          "output_type" : "stream",
          "text" : "path: String = /tmp/aggregation.csv\ndata: Array[Array[Double]] = Array(Array(15.55, 28.65), Array(14.9, 27.55), Array(14.45, 28.35), Array(14.15, 28.8), Array(13.75, 28.05), Array(13.35, 28.45), Array(13.0, 29.15), Array(13.45, 27.5), Array(13.6, 26.5), Array(12.8, 27.35), Array(12.4, 27.85), Array(12.3, 28.4), Array(12.2, 28.65), Array(13.4, 25.1), Array(12.95, 25.95), Array(12.9, 26.5), Array(11.85, 27.0), Array(11.35, 28.0), Array(11.15, 28.7), Array(11.25, 27.4), Array(10.75, 27.7), Array(10.5, 28.35), Array(9.65, 28.45), Array(10.25, 27.25), Array(10.75, 26.55), Array(11.7, 26.35), Array(11.6, 25.9), Array(11.9, 25.05), Array(12.6, 24.05), Array(11.9, 24.5), Array(11.1, 25.2), Array(10.55, 25.15), Array(10.05, 25.95), Array(9.35, 26.6), Array(9.3, 27.25), Array(9.2, 27.8), Array(7...."
        },
        {
          "metadata" : { },
          "data" : {
            "text/html" : ""
          },
          "output_type" : "execute_result",
          "execution_count" : 14,
          "time" : "Took: 0.497s, at 2018-04-08 16:47"
        }
      ]
    },
    {
      "metadata" : {
        "id" : "DB906BE4458347E98566175F44A41B25"
      },
      "cell_type" : "markdown",
      "source" : "## Parameters "
    },
    {
      "metadata" : {
        "trusted" : true,
        "input_collapsed" : false,
        "collapsed" : false,
        "id" : "7B7F65B92A1849639D25B8260E8FC13D"
      },
      "cell_type" : "code",
      "source" : [
        "val k = 6\n",
        "val iterMax = 100\n",
        "val epsilon = 0.001\n",
        "// True defines the true Euclidean with square root, set it to false to avoid the square\n",
        "val metric1 = new Euclidean(true)\n",
        "// Minkowski(p) where p is the Minkowski parameter\n",
        "val metric3 = new Minkowski(4)"
      ],
      "outputs" : [
        {
          "name" : "stdout",
          "output_type" : "stream",
          "text" : "k: Int = 6\niterMax: Int = 100\nepsilon: Double = 0.001\nmetric1: clustering4ever.math.distances.scalar.Euclidean = Euclidean with root applied\nmetric3: clustering4ever.math.distances.scalar.Minkowski = clustering4ever.math.distances.scalar.Minkowski@1e0610d\n"
        },
        {
          "metadata" : { },
          "data" : {
            "text/html" : ""
          },
          "output_type" : "execute_result",
          "execution_count" : 21,
          "time" : "Took: 0.485s, at 2018-04-08 16:52"
        }
      ]
    },
    {
      "metadata" : {
        "id" : "351DECE0EB4B4DAE8395D89284DABB26"
      },
      "cell_type" : "markdown",
      "source" : "## Run the algorithm"
    },
    {
      "metadata" : {
        "trusted" : true,
        "input_collapsed" : false,
        "collapsed" : false,
        "id" : "294D274BC10945F999626F121BA54C2F"
      },
      "cell_type" : "code",
      "source" : [
        "val model = KMeans.run(data, k, epsilon, iterMax, metric1)\n",
        "val clusterized = data.map( v => (model.predict(v), v) )"
      ],
      "outputs" : [
        {
          "name" : "stdout",
          "output_type" : "stream",
          "text" : "model: clustering4ever.scala.clustering.kmeans.KMeansModel = clustering4ever.scala.clustering.kmeans.KMeansModel@7ba94bcd\nclusterized: Array[(model.ClusterID, Array[Double])] = Array((1,Array(15.55, 28.65)), (5,Array(14.9, 27.55)), (5,Array(14.45, 28.35)), (5,Array(14.15, 28.8)), (5,Array(13.75, 28.05)), (5,Array(13.35, 28.45)), (5,Array(13.0, 29.15)), (5,Array(13.45, 27.5)), (5,Array(13.6, 26.5)), (5,Array(12.8, 27.35)), (5,Array(12.4, 27.85)), (5,Array(12.3, 28.4)), (5,Array(12.2, 28.65)), (5,Array(13.4, 25.1)), (5,Array(12.95, 25.95)), (5,Array(12.9, 26.5)), (5,Array(11.85, 27.0)), (5,Array(11.35, 28.0)), (5,Array(11.15, 28.7)), (5,Array(11.25, 27.4)), (5,Array(10.75, 27.7)), (5,Array(10.5, 28.35)), (5,Array(9.65, 28.45)), (5,Array(10.25, 27.25)), (5,Array(10.75, 26.55)), (5,Array(11..."
        },
        {
          "metadata" : { },
          "data" : {
            "text/html" : ""
          },
          "output_type" : "execute_result",
          "execution_count" : 11,
          "time" : "Took: 0.657s, at 2018-04-08 16:46"
        }
      ]
    },
    {
      "metadata" : {
        "id" : "AC0E30557C3B40758B75BEC5F1BE16BC"
      },
      "cell_type" : "markdown",
      "source" : "## Plot clustering results"
    },
    {
      "metadata" : {
        "trusted" : true,
        "input_collapsed" : false,
        "collapsed" : false,
        "id" : "83EA14D2AE0A4F07907172EB18BD25B7"
      },
      "cell_type" : "code",
      "source" : [
        "val rawData = clusterized.map{ case (clusterID, (id, vector)) => vector }\n",
        "val labels = clusterized.map{ case (clusterID, (id, vector)) => clusterID }\n",
        "\n",
        "plot(rawData, labels, '*', Palette.COLORS)"
      ],
      "outputs" : [
        {
          "name" : "stdout",
          "output_type" : "stream",
          "text" : "rawData: Array[Array[Double]] = Array(Array(15.55, 28.65), Array(14.9, 27.55), Array(14.45, 28.35), Array(14.15, 28.8), Array(13.75, 28.05), Array(13.35, 28.45), Array(13.0, 29.15), Array(13.45, 27.5), Array(13.6, 26.5), Array(12.8, 27.35), Array(12.4, 27.85), Array(12.3, 28.4), Array(12.2, 28.65), Array(13.4, 25.1), Array(12.95, 25.95), Array(12.9, 26.5), Array(11.85, 27.0), Array(11.35, 28.0), Array(11.15, 28.7), Array(11.25, 27.4), Array(10.75, 27.7), Array(10.5, 28.35), Array(9.65, 28.45), Array(10.25, 27.25), Array(10.75, 26.55), Array(11.7, 26.35), Array(11.6, 25.9), Array(11.9, 25.05), Array(12.6, 24.05), Array(11.9, 24.5), Array(11.1, 25.2), Array(10.55, 25.15), Array(10.05, 25.95), Array(9.35, 26.6), Array(9.3, 27.25), Array(9.2, 27.8), Array(7.5, 28.25), Array(8.55, 27.45), Ar..."
        },
        {
          "metadata" : { },
          "data" : {
            "text/html" : "Window(javax.swing.JFrame[frame0,460,53,1000x1000,layout=java.awt.BorderLayout,title=Smile Plot 1,resizable,normal,defaultCloseOperation=DISPOSE_ON_CLOSE,rootPane=javax.swing.JRootPane[,0,34,1000x966,layout=javax.swing.JRootPane$RootLayout,alignmentX=0.0,alignmentY=0.0,border=,flags=16777675,maximumSize=,minimumSize=,preferredSize=],rootPaneCheckingEnabled=true],smile.plot.PlotCanvas[,0,0,1000x966,layout=java.awt.BorderLayout,alignmentX=0.0,alignmentY=0.0,border=,flags=11,maximumSize=,minimumSize=,preferredSize=])"
          },
          "output_type" : "execute_result",
          "execution_count" : 7,
          "time" : "Took: 1.387s, at 2018-04-04 17:15"
        }
      ]
    },
    {
      "metadata" : {
        "id" : "9EE3B763C0FF4A8F8FF0DF73013CD883"
      },
      "cell_type" : "markdown",
      "source" : "## Inspect performance metrics"
    },
    {
      "metadata" : {
        "trusted" : true,
        "input_collapsed" : false,
        "collapsed" : false,
        "id" : "5D532CFB855D4B94BDF51A5D80A719A1"
      },
      "cell_type" : "code",
      "source" : [
        "val trueLabels = Source.fromFile(labelsPath).getLines.map(_.toInt).toArray\n",
        "\n",
        "val (_, trueLabelsFrom0) = ScalaExternalIndexes.prepareList(trueLabels)\n",
        "\n",
        "val predicts = clusterized.map(_._1)\n",
        "\n",
        "val trueAndPredictRDD2 = sc.parallelize(trueLabelsFrom0.zip(predicts))\n",
        "\n",
        "val nmi = ScalaExternalIndexes.nmi(trueLabelsFrom0, predicts, SQRT)\n",
        "val nmi2 = ExternalIndexes.nmi(sc, trueAndPredictRDD2, SQRT)\n",
        "\n",
        "(nmi, nmi2)"
      ],
      "outputs" : [
        {
          "name" : "stdout",
          "output_type" : "stream",
          "text" : "trueLabels: Array[Int] = Array(2, 2, 2, 2, 2, 2, 2, 2, 2, 2, 2, 2, 2, 2, 2, 2, 2, 2, 2, 2, 2, 2, 2, 2, 2, 2, 2, 2, 2, 2, 2, 2, 2, 2, 2, 2, 2, 2, 2, 2, 2, 2, 2, 2, 2, 2, 2, 2, 2, 2, 2, 2, 2, 2, 2, 2, 2, 2, 2, 2, 2, 2, 2, 2, 2, 2, 2, 2, 2, 2, 2, 2, 2, 2, 2, 2, 2, 2, 2, 2, 2, 2, 2, 2, 2, 2, 2, 2, 2, 2, 2, 2, 2, 2, 2, 2, 2, 2, 2, 2, 2, 2, 2, 2, 2, 2, 2, 2, 2, 2, 2, 2, 2, 2, 2, 2, 2, 2, 2, 2, 2, 2, 2, 2, 2, 2, 2, 2, 2, 2, 2, 2, 2, 2, 2, 2, 2, 2, 2, 2, 2, 2, 2, 2, 2, 2, 2, 2, 2, 2, 2, 2, 2, 2, 2, 2, 2, 2, 2, 2, 2, 2, 2, 2, 2, 2, 2, 2, 2, 2, 7, 7, 7, 7, 7, 7, 7, 7, 7, 7, 7, 7, 7, 7, 7, 7, 7, 7, 7, 7, 7, 7, 7, 7, 7, 7, 7, 7, 7, 7, 7, 7, 7, 7, 4, 4, 4, 4, 4, 4, 4, 4, 4, 4, 4, 4, 4, 4, 4, 4, 4, 4, 4, 4, 4, 4, 4, 4, 4, 4, 4, 4, 4, 4, 4, 4, 4, 4, 4, 4, 4, 4, 4, 4, 4, 4, 4, 4, 4, 4, 4, 4, 4, 4, 4, 4..."
        },
        {
          "metadata" : { },
          "data" : {
            "text/html" : "(0.874376467544816,0.874376467544816)"
          },
          "output_type" : "execute_result",
          "execution_count" : 20,
          "time" : "Took: 1.409s, at 2018-04-08 16:49"
        }
      ]
    }
  ],
  "nbformat" : 4
}