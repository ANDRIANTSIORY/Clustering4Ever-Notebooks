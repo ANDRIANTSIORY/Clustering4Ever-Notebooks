{
  "metadata" : {
    "id" : "5d7fa9b0-e124-41c8-8975-468b29309cca",
    "name" : "Scala K-Means C4E",
    "user_save_timestamp" : "2018-04-04T17:17:57.904Z",
    "auto_save_timestamp" : "1970-01-01T01:00:00.000Z",
    "language_info" : {
      "name" : "scala",
      "file_extension" : "scala",
      "codemirror_mode" : "text/x-scala"
    },
    "trusted" : true,
    "sparkNotebook" : null,
    "customLocalRepo" : "${HOME}/.ivy2",
    "customRepos" : [
      "clustering4ever % default % http://dl.bintray.com/clustering4ever/Clustering4Ever % maven"
    ],
    "customDeps" : [
      "clustering4ever % clustering4ever_2.11 % 0.6.3",
      "com.github.haifengl:smile-scala_2.11:1.5.0"
    ],
    "customImports" : null,
    "customArgs" : null,
    "customSparkConf" : {
      "spark.app.name" : "Notebook",
      "spark.master" : "local[*]",
      "spark.driver.memory" : "4G"
    },
    "customVars" : null
  },
  "cells" : [
    {
      "metadata" : {
        "id" : "56E473B68DE547C884E92C173F0C2CC7"
      },
      "cell_type" : "markdown",
      "source" : "# [Clustering4Ever](https://github.com/Clustering4Ever/Clustering4Ever) on [SparkNotebook](http://spark-notebook.io/) by [LIPN](https://lipn.univ-paris13.fr/) [A3](https://lipn.univ-paris13.fr/accueil/equipe/a3/) team"
    },
    {
      "metadata" : {
        "id" : "9BE3CBFDDB324D29914085C97E53D087"
      },
      "cell_type" : "markdown",
      "source" : "# Scala _K_-Means"
    },
    {
      "metadata" : {
        "trusted" : true,
        "input_collapsed" : false,
        "collapsed" : false,
        "id" : "2723CA508CC84A868DB0D63A7DB41C03"
      },
      "cell_type" : "code",
      "source" : [
        "import smile.plot._\n",
        "import scala.io.Source\n",
        "import scala.collection.{immutable, mutable, parallel}\n",
        "import clustering4ever.scala.clustering.kmeans.{KMeans, KMeansModel}\n",
        "import clustering4ever.math.distances.scalar.{Euclidean, Cosine, Minkowski}\n",
        "import clustering4ever.scala.indexes.ExternalIndexes\n",
        "import clustering4ever.scala.indexes.NmiNormalizationNature._\n",
        "import clustering4ever.util.ScalaImplicits._\n",
        "import clustering4ever.scala.clusterizables.RealClusterizable\n",
        "import clustering4ever.scala.vectorizables.RealVector"
      ],
      "outputs" : [
        {
          "metadata" : { },
          "data" : {
            "text/html" : ""
          },
          "output_type" : "execute_result",
          "execution_count" : 13,
          "time" : "Took: 0.593s, at 2018-09-06 08:50"
        },
        {
          "name" : "stdout",
          "output_type" : "stream",
          "text" : "import smile.plot._\nimport scala.io.Source\nimport scala.collection.{immutable, mutable, parallel}\nimport clustering4ever.scala.clustering.kmeans.{KMeans, KMeansModel}\nimport clustering4ever.math.distances.scalar.{Euclidean, Cosine, Minkowski}\nimport clustering4ever.scala.indexes.ExternalIndexes\nimport clustering4ever.scala.indexes.NmiNormalizationNature._\nimport clustering4ever.util.ScalaImplicits._\nimport clustering4ever.scala.clusterizables.RealClusterizable\nimport clustering4ever.scala.vectorizables.RealVector\n"
        },
        {
          "metadata" : { },
          "data" : {
            "text/html" : ""
          },
          "output_type" : "execute_result",
          "execution_count" : 14,
          "time" : "Took: 0.610s, at 2018-09-06 08:50"
        }
      ]
    },
    {
      "metadata" : {
        "id" : "C001456FD09A4F8697712D9D1DF3EB17"
      },
      "cell_type" : "markdown",
      "source" : "## Download dataset Aggregation"
    },
    {
      "metadata" : {
        "trusted" : true,
        "input_collapsed" : false,
        "collapsed" : false,
        "id" : "ADF3A07D58F74656A91E11A1FF13920B"
      },
      "cell_type" : "code",
      "source" : [
        ":sh wget -P /tmp/ http://www.clustering4ever.org/Datasets/Aggregation/aggregation.csv\n",
        ":sh wget -P /tmp/ http://www.clustering4ever.org/Datasets/Aggregation/labels"
      ],
      "outputs" : [
        {
          "name" : "stdout",
          "output_type" : "stream",
          "text" : "--2018-09-06 08:43:05--  http://www.clustering4ever.org/Datasets/Aggregation/aggregation.csv\nResolving www.clustering4ever.org (www.clustering4ever.org)... 62.210.16.62\nConnecting to www.clustering4ever.org (www.clustering4ever.org)|62.210.16.62|:80... connected.\nHTTP request sent, awaiting response... 200 OK\nLength: 8063 (7.9K) [text/csv]\nSaving to: ‘/tmp/aggregation.csv.8’\n\n     0K .......                                               100%  271K=0.03s\n\n2018-09-06 08:43:05 (271 KB/s) - ‘/tmp/aggregation.csv.8’ saved [8063/8063]\n\n:sh: Scheme missing.\n--2018-09-06 08:43:05--  http://wget/\nResolving wget (wget)... failed: Name or service not known.\nwget: unable to resolve host address ‘wget’\n--2018-09-06 08:43:05--  http://www.clustering4ever.org/Datasets/Aggregation/labels\nReusing existing connection to www.clustering4ever.org:80.\nHTTP request sent, awaiting response... 200 OK\nLength: 1576 (1.5K)\nSaving to: ‘/tmp/labels.10’\n\n     0K .                                                     100%  234M=0s\n\n2018-09-06 08:43:05 (234 MB/s) - ‘/tmp/labels.10’ saved [1576/1576]\n\nFINISHED --2018-09-06 08:43:05--\nTotal wall clock time: 0.1s\nDownloaded: 2 files, 9.4K in 0.03s (324 KB/s)\njava.lang.RuntimeException: Nonzero exit value: 4\n  at scala.sys.package$.error(package.scala:27)\n  at scala.sys.process.ProcessBuilderImpl$AbstractBuilder.slurp(ProcessBuilderImpl.scala:132)\n  at scala.sys.process.ProcessBuilderImpl$AbstractBuilder.$bang$bang(ProcessBuilderImpl.scala:103)\n  ... 69 elided\n"
        }
      ]
    },
    {
      "metadata" : {
        "id" : "4BEB170294834C8B92F180754CF0F42F"
      },
      "cell_type" : "markdown",
      "source" : "## Import data as ParArray[ArrayBuffer[Double]]"
    },
    {
      "metadata" : {
        "trusted" : true,
        "input_collapsed" : false,
        "collapsed" : false,
        "id" : "063B66723A63401CBC2F0A23BE2C2E18"
      },
      "cell_type" : "code",
      "source" : [
        "val datasetSize = 5000000\n",
        "val dim = 4\n",
        "val path = \"/tmp/aggregation.csv\"\n",
        "val useAggregationDS = false\n",
        "\n",
        "val rawData = if( useAggregationDS ) Source.fromFile(path).getLines.map( x => mutable.ArrayBuffer(x.split(\",\").map(_.toDouble):_*) ).toBuffer\n",
        "  else mutable.ArrayBuffer.fill(datasetSize)(mutable.ArrayBuffer.fill(dim)(scala.util.Random.nextDouble))\n",
        "\n",
        "val parData = rawData.zipWithIndex.par.map{ case (v, id) => new RealClusterizable(id.toLong, new RealVector(v)) }\n",
        "\n",
        "val groundTruePath = \"/tmp/labels\""
      ],
      "outputs" : [
        {
          "name" : "stdout",
          "output_type" : "stream",
          "text" : "datasetSize: Int = 5000000\ndim: Int = 4\npath: String = /tmp/aggregation.csv\nuseAggregationDS: Boolean = false\nrawData: scala.collection.mutable.Buffer[scala.collection.mutable.ArrayBuffer[Double]] = ArrayBuffer(ArrayBuffer(0.799261280981757, 0.11461410852882559, 0.11619430893055882, 0.6050202850876077), ArrayBuffer(0.11316109199320834, 0.6656835266429698, 0.8132485862122387, 0.5423850232962416), ArrayBuffer(0.6477991663570888, 0.7082094774261337, 0.2756313931649007, 0.7408394532978514), ArrayBuffer(0.27379711608599866, 0.8135529987470147, 0.06613321423926044, 0.3772438097670565), ArrayBuffer(0.145765044537018, 0.1928032496736065, 0.7305018921812846, 0.48921968688201867), ArrayBuffer(0.6737383275912018, 0.01358402095554323, 0.02417297781629335, 0.6487858176005108), ArrayBuffer(0.69963645..."
        },
        {
          "metadata" : { },
          "data" : {
            "text/html" : ""
          },
          "output_type" : "execute_result",
          "execution_count" : 20,
          "time" : "Took: 1m10.494s, at 2018-09-06 08:54"
        }
      ]
    },
    {
      "metadata" : {
        "id" : "DB906BE4458347E98566175F44A41B25"
      },
      "cell_type" : "markdown",
      "source" : "## Parameters "
    },
    {
      "metadata" : {
        "trusted" : true,
        "input_collapsed" : false,
        "collapsed" : false,
        "id" : "7B7F65B92A1849639D25B8260E8FC13D"
      },
      "cell_type" : "code",
      "source" : [
        "val k = 7\n",
        "val iterMax = 40\n",
        "val epsilon = 0.5\n",
        "// True defines the true Euclidean with square root, set it to false to avoid the square\n",
        "// val metric0 = new Euclidean[Array[Double]](true)\n",
        "val metric1 = new Euclidean[mutable.ArrayBuffer[Double]](true)\n",
        "\n",
        "// Minkowski(p) where p is the Minkowski parameter\n",
        "val metric2 = new Minkowski[mutable.ArrayBuffer[Double]](2)"
      ],
      "outputs" : [
        {
          "name" : "stdout",
          "output_type" : "stream",
          "text" : "k: Int = 7\niterMax: Int = 40\nepsilon: Double = 0.5\nmetric1: clustering4ever.math.distances.scalar.Euclidean[scala.collection.mutable.ArrayBuffer[Double]] = Euclidean distance with root applied\nmetric2: clustering4ever.math.distances.scalar.Minkowski[scala.collection.mutable.ArrayBuffer[Double]] = clustering4ever.math.distances.scalar.Minkowski@5a6693b6\n"
        },
        {
          "metadata" : { },
          "data" : {
            "text/html" : ""
          },
          "output_type" : "execute_result",
          "execution_count" : 4,
          "time" : "Took: 1.165s, at 2018-09-06 08:43"
        }
      ]
    },
    {
      "metadata" : {
        "id" : "351DECE0EB4B4DAE8395D89284DABB26"
      },
      "cell_type" : "markdown",
      "source" : "## Run and measure the algorithm time"
    },
    {
      "metadata" : {
        "trusted" : true,
        "input_collapsed" : false,
        "collapsed" : false,
        "id" : "321E55E849D3414483ED121C542305CE"
      },
      "cell_type" : "code",
      "source" : [
        "val t1 = System.nanoTime\n",
        "\n",
        "val model = KMeans.run[\n",
        "              Long,\n",
        "              mutable.ArrayBuffer[Double],\n",
        "              mutable.ArrayBuffer[Double],\n",
        "              RealClusterizable[Long, mutable.ArrayBuffer[Double], mutable.ArrayBuffer[Double]],\n",
        "              Euclidean[mutable.ArrayBuffer[Double]]\n",
        "              ](\n",
        "                parData,\n",
        "                k,\n",
        "                epsilon,\n",
        "                iterMax,\n",
        "                metric1\n",
        "              )\n",
        "\n",
        "val t2 = System.nanoTime\n",
        "\n",
        "(t2 - t1) / 1000000000D"
      ],
      "outputs" : [
        {
          "name" : "stdout",
          "output_type" : "stream",
          "text" : "t1: Long = 8169145799157\nmodel: clustering4ever.scala.clustering.kmeans.KMeansModel[Long,scala.collection.mutable.ArrayBuffer[Double],scala.collection.mutable.ArrayBuffer[Double],clustering4ever.scala.clusterizables.RealClusterizable[Long,scala.collection.mutable.ArrayBuffer[Double],scala.collection.mutable.ArrayBuffer[Double]],clustering4ever.math.distances.scalar.Euclidean[scala.collection.mutable.ArrayBuffer[Double]]] = clustering4ever.scala.clustering.kmeans.KMeansModel@3459e482\nt2: Long = 8172995715005\nres31: Double = 3.849915848\n"
        },
        {
          "metadata" : { },
          "data" : {
            "text/html" : "3.849915848"
          },
          "output_type" : "execute_result",
          "execution_count" : 21,
          "time" : "Took: 4.862s, at 2018-09-06 08:54"
        }
      ]
    },
    {
      "metadata" : {
        "id" : "635179D825AE49408D5C33D371E21028"
      },
      "cell_type" : "markdown",
      "source" : "# Compare algorithm between ParArray and ArraySeq container"
    },
    {
      "metadata" : {
        "trusted" : true,
        "input_collapsed" : false,
        "collapsed" : false,
        "id" : "FE8508FDB1A64C8A9422836DDBF1EC3B"
      },
      "cell_type" : "code",
      "source" : [
        "val t1 = System.nanoTime\n",
        "\n",
        "KMeans.run[Long,\n",
        "    mutable.ArrayBuffer[Double],\n",
        "    mutable.ArrayBuffer[Double],\n",
        "    RealClusterizable[Long, mutable.ArrayBuffer[Double], mutable.ArrayBuffer[Double]],\n",
        "    Euclidean[mutable.ArrayBuffer[Double]]\n",
        "    ](parData, k, epsilon, iterMax, metric1)\n",
        "\n",
        "val t2 = System.nanoTime\n",
        "val seqData = parData.seq\n",
        "val t3 = System.nanoTime\n",
        "\n",
        "KMeans.run[Long,\n",
        "    mutable.ArrayBuffer[Double],\n",
        "    mutable.ArrayBuffer[Double],\n",
        "    RealClusterizable[Long, mutable.ArrayBuffer[Double], mutable.ArrayBuffer[Double]],\n",
        "    Euclidean[mutable.ArrayBuffer[Double]]\n",
        "    ](seqData, k, epsilon, iterMax, metric1)\n",
        "\n",
        "val t4 = System.nanoTime\n",
        "\n",
        "\n",
        "\n",
        "(t4 - t3).toDouble / (t2 - t1)"
      ],
      "outputs" : [
        {
          "name" : "stdout",
          "output_type" : "stream",
          "text" : "t1: Long = 7480515356629\nt2: Long = 7480547486179\nseqData: scala.collection.mutable.Seq[clustering4ever.scala.clusterizables.RealClusterizable[Long,scala.collection.mutable.ArrayBuffer[Double],scala.collection.mutable.ArrayBuffer[Double]]] = ArraySeq(RealClusterizable(0,clustering4ever.scala.vectorizables.RealVector@92eeef7,List(),2147483647), RealClusterizable(1,clustering4ever.scala.vectorizables.RealVector@688598ef,List(),2147483647), RealClusterizable(2,clustering4ever.scala.vectorizables.RealVector@33c52a2,List(),2147483647), RealClusterizable(3,clustering4ever.scala.vectorizables.RealVector@5cd9e0a3,List(),2147483647), RealClusterizable(4,clustering4ever.scala.vectorizables.RealVector@227ee499,List(),2147483647), RealClusterizable(5,clustering4ever.scala.vectorizables.RealVector@6..."
        },
        {
          "metadata" : { },
          "data" : {
            "text/html" : "0.5037806007242553"
          },
          "output_type" : "execute_result",
          "execution_count" : 6,
          "time" : "Took: 1.656s, at 2018-09-06 08:43"
        }
      ]
    },
    {
      "metadata" : {
        "id" : "6A954C0583E94F068A5132A6C0F21E7B"
      },
      "cell_type" : "markdown",
      "source" : "## Different ways to apply model to datasets"
    },
    {
      "metadata" : {
        "trusted" : true,
        "input_collapsed" : false,
        "collapsed" : false,
        "id" : "0D623084528448368CE5DD7203E951C7"
      },
      "cell_type" : "code",
      "source" : [
        "val clusterized11 = rawData.map( v => (model.centerPredict(v), v) )\n",
        "val clusterized12 = model.centerPredict(rawData)\n",
        "\n",
        "val clusterized21 = parData.map( clustbl => (model.centerPredict(clustbl.vector), clustbl) )\n",
        "val clusterized22 = model.centerPredict(parData)"
      ],
      "outputs" : [
        {
          "name" : "stdout",
          "output_type" : "stream",
          "text" : "clusterized11: scala.collection.mutable.Buffer[(model.ClusterID, scala.collection.mutable.ArrayBuffer[Double])] = ArrayBuffer((2,ArrayBuffer(15.55, 28.65)), (1,ArrayBuffer(14.9, 27.55)), (1,ArrayBuffer(14.45, 28.35)), (1,ArrayBuffer(14.15, 28.8)), (1,ArrayBuffer(13.75, 28.05)), (1,ArrayBuffer(13.35, 28.45)), (1,ArrayBuffer(13.0, 29.15)), (1,ArrayBuffer(13.45, 27.5)), (1,ArrayBuffer(13.6, 26.5)), (1,ArrayBuffer(12.8, 27.35)), (1,ArrayBuffer(12.4, 27.85)), (1,ArrayBuffer(12.3, 28.4)), (1,ArrayBuffer(12.2, 28.65)), (1,ArrayBuffer(13.4, 25.1)), (1,ArrayBuffer(12.95, 25.95)), (1,ArrayBuffer(12.9, 26.5)), (1,ArrayBuffer(11.85, 27.0)), (1,ArrayBuffer(11.35, 28.0)), (1,ArrayBuffer(11.15, 28.7)), (1,ArrayBuffer(11.25, 27.4)), (1,ArrayBuffer(10.75, 27.7)), (1,ArrayBuffer(10.5, 28.35)), (1,ArrayBu..."
        },
        {
          "metadata" : { },
          "data" : {
            "text/html" : ""
          },
          "output_type" : "execute_result",
          "execution_count" : 7,
          "time" : "Took: 1.349s, at 2018-09-06 08:43"
        }
      ]
    },
    {
      "metadata" : {
        "id" : "AC0E30557C3B40758B75BEC5F1BE16BC"
      },
      "cell_type" : "markdown",
      "source" : "## Plot clustering results"
    },
    {
      "metadata" : {
        "trusted" : true,
        "input_collapsed" : false,
        "collapsed" : false,
        "id" : "91CDE8F5A41D411883B74E3086181EDE"
      },
      "cell_type" : "code",
      "source" : [
        "val rawData = clusterized22.map( rc => rc.vector.toArray ).toArray\n",
        "val labels = clusterized22.map( rc => rc.clusterID ).toArray\n",
        "plot(rawData, labels, '*', Palette.COLORS)"
      ],
      "outputs" : [
        {
          "name" : "stdout",
          "output_type" : "stream",
          "text" : "rawData: Array[Array[Double]] = Array(Array(15.55, 28.65), Array(14.9, 27.55), Array(14.45, 28.35), Array(14.15, 28.8), Array(13.75, 28.05), Array(13.35, 28.45), Array(13.0, 29.15), Array(13.45, 27.5), Array(13.6, 26.5), Array(12.8, 27.35), Array(12.4, 27.85), Array(12.3, 28.4), Array(12.2, 28.65), Array(13.4, 25.1), Array(12.95, 25.95), Array(12.9, 26.5), Array(11.85, 27.0), Array(11.35, 28.0), Array(11.15, 28.7), Array(11.25, 27.4), Array(10.75, 27.7), Array(10.5, 28.35), Array(9.65, 28.45), Array(10.25, 27.25), Array(10.75, 26.55), Array(11.7, 26.35), Array(11.6, 25.9), Array(11.9, 25.05), Array(12.6, 24.05), Array(11.9, 24.5), Array(11.1, 25.2), Array(10.55, 25.15), Array(10.05, 25.95), Array(9.35, 26.6), Array(9.3, 27.25), Array(9.2, 27.8), Array(7.5, 28.25), Array(8.55, 27.45), Ar..."
        },
        {
          "metadata" : { },
          "data" : {
            "text/html" : "Window(javax.swing.JFrame[frame0,460,37,1000x1000,layout=java.awt.BorderLayout,title=Smile Plot 1,resizable,normal,defaultCloseOperation=DISPOSE_ON_CLOSE,rootPane=javax.swing.JRootPane[,0,34,1000x966,layout=javax.swing.JRootPane$RootLayout,alignmentX=0.0,alignmentY=0.0,border=,flags=16777675,maximumSize=,minimumSize=,preferredSize=],rootPaneCheckingEnabled=true],smile.plot.PlotCanvas[,0,0,1000x966,layout=java.awt.BorderLayout,alignmentX=0.0,alignmentY=0.0,border=,flags=11,maximumSize=,minimumSize=,preferredSize=])"
          },
          "output_type" : "execute_result",
          "execution_count" : 8,
          "time" : "Took: 1.654s, at 2018-09-06 08:43"
        }
      ]
    },
    {
      "metadata" : {
        "id" : "9EE3B763C0FF4A8F8FF0DF73013CD883"
      },
      "cell_type" : "markdown",
      "source" : "## Inspect performance metrics"
    },
    {
      "metadata" : {
        "trusted" : true,
        "input_collapsed" : false,
        "collapsed" : false,
        "id" : "5D532CFB855D4B94BDF51A5D80A719A1"
      },
      "cell_type" : "code",
      "source" : [
        "val trueLabels = Source.fromFile(groundTruePath).getLines.map(_.toInt).toBuffer\n",
        "\n",
        "val (_, trueLabelsFrom0) = ExternalIndexes.prepareLabels(trueLabels)\n",
        "\n",
        "val predicts = clusterized22.map(_.clusterID).seq\n",
        "\n",
        "val nmi = ExternalIndexes.nmi(trueLabelsFrom0, predicts, SQRT)\n",
        "\n",
        "nmi"
      ],
      "outputs" : [
        {
          "name" : "stdout",
          "output_type" : "stream",
          "text" : "trueLabels: scala.collection.mutable.Buffer[Int] = ArrayBuffer(2, 2, 2, 2, 2, 2, 2, 2, 2, 2, 2, 2, 2, 2, 2, 2, 2, 2, 2, 2, 2, 2, 2, 2, 2, 2, 2, 2, 2, 2, 2, 2, 2, 2, 2, 2, 2, 2, 2, 2, 2, 2, 2, 2, 2, 2, 2, 2, 2, 2, 2, 2, 2, 2, 2, 2, 2, 2, 2, 2, 2, 2, 2, 2, 2, 2, 2, 2, 2, 2, 2, 2, 2, 2, 2, 2, 2, 2, 2, 2, 2, 2, 2, 2, 2, 2, 2, 2, 2, 2, 2, 2, 2, 2, 2, 2, 2, 2, 2, 2, 2, 2, 2, 2, 2, 2, 2, 2, 2, 2, 2, 2, 2, 2, 2, 2, 2, 2, 2, 2, 2, 2, 2, 2, 2, 2, 2, 2, 2, 2, 2, 2, 2, 2, 2, 2, 2, 2, 2, 2, 2, 2, 2, 2, 2, 2, 2, 2, 2, 2, 2, 2, 2, 2, 2, 2, 2, 2, 2, 2, 2, 2, 2, 2, 2, 2, 2, 2, 2, 2, 7, 7, 7, 7, 7, 7, 7, 7, 7, 7, 7, 7, 7, 7, 7, 7, 7, 7, 7, 7, 7, 7, 7, 7, 7, 7, 7, 7, 7, 7, 7, 7, 7, 7, 4, 4, 4, 4, 4, 4, 4, 4, 4, 4, 4, 4, 4, 4, 4, 4, 4, 4, 4, 4, 4, 4, 4, 4, 4, 4, 4, 4, 4, 4, 4, 4, 4, 4, 4, 4, 4, 4, 4, 4, 4,..."
        },
        {
          "metadata" : { },
          "data" : {
            "text/html" : "0.8451873667264422"
          },
          "output_type" : "execute_result",
          "execution_count" : 9,
          "time" : "Took: 1.309s, at 2018-09-06 08:43"
        }
      ]
    }
  ],
  "nbformat" : 4
}