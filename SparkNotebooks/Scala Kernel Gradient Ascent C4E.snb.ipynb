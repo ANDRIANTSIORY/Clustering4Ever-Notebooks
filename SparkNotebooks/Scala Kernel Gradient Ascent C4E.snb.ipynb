{
  "metadata" : {
    "id" : "05d3ded9-7e96-41d8-9c4a-627470d126ff",
    "name" : "Scala Kernel Gradient Ascent C4E.snb.ipynb",
    "user_save_timestamp" : "2018-04-08T21:20:20.573Z",
    "auto_save_timestamp" : "1970-01-01T01:00:00.000Z",
    "language_info" : {
      "name" : "scala",
      "file_extension" : "scala",
      "codemirror_mode" : "text/x-scala"
    },
    "trusted" : true,
    "sparkNotebook" : null,
    "customLocalRepo" : null,
    "customRepos" : [
      "clustering4ever % default % http://dl.bintray.com/clustering4ever/Clustering4Ever % maven"
    ],
    "customDeps" : [
      "com.github.haifengl:smile-scala_2.11:1.5.0",
      "org.apache.sanselan % sanselan % 0.97-incubator",
      "clustering4ever % clustering4ever_2.11 % 0.3.7"
    ],
    "customImports" : null,
    "customArgs" : null,
    "customSparkConf" : null,
    "customVars" : null
  },
  "cells" : [
    {
      "metadata" : {
        "id" : "56E473B68DE547C884E92C173F0C2CC7"
      },
      "cell_type" : "markdown",
      "source" : "# [Clustering4Ever](https://github.com/Clustering4Ever/Clustering4Ever) on [SparkNotebook](http://spark-notebook.io/) by [LIPN](https://lipn.univ-paris13.fr/) [A3](https://lipn.univ-paris13.fr/accueil/equipe/a3/) team"
    },
    {
      "metadata" : {
        "id" : "9BE3CBFDDB324D29914085C97E53D087"
      },
      "cell_type" : "markdown",
      "source" : "# Scala Kernel Gradient Ascent"
    },
    {
      "metadata" : {
        "trusted" : true,
        "input_collapsed" : false,
        "collapsed" : false,
        "id" : "2723CA508CC84A868DB0D63A7DB41C03"
      },
      "cell_type" : "code",
      "source" : [
        "import smile.plot._\n",
        "import clustering4ever.scala.clustering.meanshift.GradientAscent\n",
        "import clustering4ever.math.distances.scalar.{Euclidean, Cosine, Minkowski}\n",
        "import scala.io.Source\n",
        "import clustering4ever.spark.indexes.ExternalIndexes\n",
        "import clustering4ever.scala.indexes.ExternalIndexes\n",
        "import clustering4ever.scala.kernels.KernelNature._"
      ],
      "outputs" : [
        {
          "name" : "stdout",
          "output_type" : "stream",
          "text" : "import smile.plot._\nimport clustering4ever.scala.clustering.meanshift.GradientAscent\nimport clustering4ever.math.distances.scalar.{Euclidean, Cosine, Minkowski}\nimport scala.io.Source\nimport clustering4ever.spark.indexes.ExternalIndexes\nimport clustering4ever.scala.indexes.ExternalIndexes\nimport clustering4ever.scala.kernels.KernelNature._\n"
        },
        {
          "metadata" : { },
          "data" : {
            "text/html" : ""
          },
          "output_type" : "execute_result",
          "execution_count" : 1,
          "time" : "Took: 0.880s, at 2018-04-08 21:15"
        }
      ]
    },
    {
      "metadata" : {
        "id" : "F70A353BE2EC4286882475B29051171F"
      },
      "cell_type" : "markdown",
      "source" : "## Download dataset Aggregation"
    },
    {
      "metadata" : {
        "trusted" : true,
        "input_collapsed" : false,
        "collapsed" : false,
        "id" : "E0A4021111C44CD69F543AEDDF069F69"
      },
      "cell_type" : "code",
      "source" : [
        ":sh wget -P /tmp/ http://www.clustering4ever.org/Datasets/Digits/digits.csv\n",
        ":sh wget -P /tmp/ http://www.clustering4ever.org/Datasets/Digits/labels"
      ],
      "outputs" : [
        {
          "name" : "stdout",
          "output_type" : "stream",
          "text" : "--2018-04-08 21:15:44--  http://www.clustering4ever.org/Datasets/Digits/digits.csv\nResolving www.clustering4ever.org (www.clustering4ever.org)... 62.210.16.62\nConnecting to www.clustering4ever.org (www.clustering4ever.org)|62.210.16.62|:80... connected.\nHTTP request sent, awaiting response... 200 OK\nLength: 959999 (937K) [text/csv]\nSaving to: ‘/tmp/digits.csv.4’\n\n     0K .......... .......... .......... .......... ..........  5% 2.78M 0s\n    50K .......... .......... .......... .......... .......... 10% 4.46M 0s\n   100K .......... .......... .......... .......... .......... 16% 4.25M 0s\n   150K .......... .......... .......... .......... .......... 21% 4.25M 0s\n   200K .......... .......... .......... .......... .......... 26% 4.33M 0s\n   250K .......... .......... .......... .......... .......... 32% 4.42M 0s\n   300K .......... .......... .......... .......... .......... 37% 4.26M 0s\n   350K .......... .......... .......... .......... .......... 42% 4.26M 0s\n   400K .......... .......... .......... .......... .......... 48% 4.35M 0s\n   450K .......... .......... .......... .......... .......... 53% 4.57M 0s\n   500K .......... .......... .......... .......... .......... 58% 4.12M 0s\n   550K .......... .......... .......... .......... .......... 64% 4.46M 0s\n   600K .......... .......... .......... .......... .......... 69% 4.53M 0s\n   650K .......... .......... .......... .......... .......... 74% 2.42M 0s\n   700K .......... .......... .......... .......... .......... 80% 5.85M 0s\n   750K .......... .......... .......... .......... .......... 85% 9.20M 0s\n   800K .......... .......... .......... .......... .......... 90% 4.36M 0s\n   850K .......... .......... .......... .......... .......... 96% 4.16M 0s\n   900K .......... .......... .......... .......              100% 4.71M=0.2s\n\n2018-04-08 21:15:44 (4.22 MB/s) - ‘/tmp/digits.csv.4’ saved [959999/959999]\n\n:sh: Scheme missing.\n--2018-04-08 21:15:44--  http://wget/\nResolving wget (wget)... failed: Name or service not known.\nwget: unable to resolve host address ‘wget’\n--2018-04-08 21:15:44--  http://www.clustering4ever.org/Datasets/Digits/labels\nReusing existing connection to www.clustering4ever.org:80.\nHTTP request sent, awaiting response... 404 Not Found\n2018-04-08 21:15:44 ERROR 404: Not Found.\n\nFINISHED --2018-04-08 21:15:44--\nTotal wall clock time: 0.3s\nDownloaded: 1 files, 937K in 0.2s (4.22 MB/s)\njava.lang.RuntimeException: Nonzero exit value: 4\n  at scala.sys.package$.error(package.scala:27)\n  at scala.sys.process.ProcessBuilderImpl$AbstractBuilder.slurp(ProcessBuilderImpl.scala:132)\n  at scala.sys.process.ProcessBuilderImpl$AbstractBuilder.$bang$bang(ProcessBuilderImpl.scala:103)\n  ... 67 elided\n"
        }
      ]
    },
    {
      "metadata" : {
        "id" : "4BEB170294834C8B92F180754CF0F42F"
      },
      "cell_type" : "markdown",
      "source" : "## Import data as Array[(Int, Array[Double])]"
    },
    {
      "metadata" : {
        "trusted" : true,
        "input_collapsed" : false,
        "collapsed" : false,
        "id" : "063B66723A63401CBC2F0A23BE2C2E18"
      },
      "cell_type" : "code",
      "source" : [
        "val path = \"/tmp/aggregation.csv\"\n",
        "val labelsPath = \"/tmp/labels\"\n",
        "val data = Source.fromFile(path).getLines.map(_.split(\",\").map(_.toDouble)).zipWithIndex.map(_.swap).toArray\n",
        "val labels = Source.fromFile(labelsPath).getLines.map(_.toInt).toArray"
      ],
      "outputs" : [
        {
          "name" : "stdout",
          "output_type" : "stream",
          "text" : "path: String = /tmp/aggregation.csv\nlabelsPath: String = /tmp/labels\ndata: Array[(Int, Array[Double])] = Array((0,Array(15.55, 28.65)), (1,Array(14.9, 27.55)), (2,Array(14.45, 28.35)), (3,Array(14.15, 28.8)), (4,Array(13.75, 28.05)), (5,Array(13.35, 28.45)), (6,Array(13.0, 29.15)), (7,Array(13.45, 27.5)), (8,Array(13.6, 26.5)), (9,Array(12.8, 27.35)), (10,Array(12.4, 27.85)), (11,Array(12.3, 28.4)), (12,Array(12.2, 28.65)), (13,Array(13.4, 25.1)), (14,Array(12.95, 25.95)), (15,Array(12.9, 26.5)), (16,Array(11.85, 27.0)), (17,Array(11.35, 28.0)), (18,Array(11.15, 28.7)), (19,Array(11.25, 27.4)), (20,Array(10.75, 27.7)), (21,Array(10.5, 28.35)), (22,Array(9.65, 28.45)), (23,Array(10.25, 27.25)), (24,Array(10.75, 26.55)), (25,Array(11.7, 26.35)), (26,Array(11.6, 25.9)), (27,Array(11.9, 25...."
        },
        {
          "metadata" : { },
          "data" : {
            "text/html" : ""
          },
          "output_type" : "execute_result",
          "execution_count" : 3,
          "time" : "Took: 1.032s, at 2018-04-08 21:15"
        }
      ]
    },
    {
      "metadata" : {
        "id" : "DB906BE4458347E98566175F44A41B25"
      },
      "cell_type" : "markdown",
      "source" : "## Parameters "
    },
    {
      "metadata" : {
        "trusted" : true,
        "input_collapsed" : false,
        "collapsed" : false,
        "id" : "7B7F65B92A1849639D25B8260E8FC13D"
      },
      "cell_type" : "code",
      "source" : [
        "val iterMax = 25\n",
        "val epsilon = 0.00001\n",
        "// True defines the true Euclidean with square root, set it to false to avoid the square\n",
        "val metric1 = new Euclidean(true)\n",
        "val kernel1 = Gaussian\n",
        "val kernel2 = Flat\n",
        "val kernel3 = KNN\n",
        "val kernel4 = Sigmoid\n",
        "val bandwitch = Array(\"1\")\n",
        "val knnArg = Array(\"40\")\n",
        "val sigmoidArgs = Array(\"1\",\"0\")"
      ],
      "outputs" : [
        {
          "name" : "stdout",
          "output_type" : "stream",
          "text" : "iterMax: Int = 25\nepsilon: Double = 1.0E-5\nmetric1: clustering4ever.math.distances.scalar.Euclidean = Euclidean with root applied\nkernel1: clustering4ever.scala.kernels.KernelNature.Value = Gaussian\nkernel2: clustering4ever.scala.kernels.KernelNature.Value = Flat\nkernel3: clustering4ever.scala.kernels.KernelNature.Value = KNN\nkernel4: clustering4ever.scala.kernels.KernelNature.Value = Sigmoid\nbandwitch: Array[String] = Array(1)\nknnArg: Array[String] = Array(40)\nsigmoidArgs: Array[String] = Array(1, 0)\n"
        },
        {
          "metadata" : { },
          "data" : {
            "text/html" : ""
          },
          "output_type" : "execute_result",
          "execution_count" : 4,
          "time" : "Took: 0.736s, at 2018-04-08 21:15"
        }
      ]
    },
    {
      "metadata" : {
        "id" : "351DECE0EB4B4DAE8395D89284DABB26"
      },
      "cell_type" : "markdown",
      "source" : "## Run the algorithm"
    },
    {
      "metadata" : {
        "trusted" : true,
        "input_collapsed" : false,
        "collapsed" : false,
        "id" : "9A6D87F369D14BB7BD59256FD5E2E310"
      },
      "cell_type" : "code",
      "source" : [
        "val gradientAscentDataFlat = GradientAscent.run(data, metric1, epsilon, iterMax, kernel2, bandwitch)\n",
        "val gradientAscentDataGaussian = GradientAscent.run(data, metric1, epsilon, iterMax, kernel1, bandwitch)\n",
        "val gradientAscentDataKNN = GradientAscent.run(data, metric1, epsilon, 100, kernel3, knnArg)\n",
        "val gradientAscentDataSigmoid = GradientAscent.run(data, metric1, epsilon, iterMax, kernel4, sigmoidArgs)"
      ],
      "outputs" : [
        {
          "name" : "stdout",
          "output_type" : "stream",
          "text" : "gradientAscentDataFlat: scala.collection.parallel.mutable.ParArray[(Int, Array[Double], Array[Double], Boolean)] = ParArray((0,[D@4bf5fbf0,[D@757ef1b2,true), (1,[D@14d28db0,[D@ab245e9,true), (2,[D@6e7c1534,[D@6c0d9a28,true), (3,[D@6cb22514,[D@74b7b866,true), (4,[D@7a6cc671,[D@7ab0dfce,true), (5,[D@7d7df09,[D@4eea231d,true), (6,[D@52293bff,[D@2e1bc0db,true), (7,[D@178d6d86,[D@86056a1,true), (8,[D@130d6291,[D@63607533,true), (9,[D@1ffdd584,[D@15224d84,true), (10,[D@6dc3ac5b,[D@dea853d,true), (11,[D@7cca30f1,[D@7b030c81,true), (12,[D@bd2d6ce,[D@52c879e4,true), (13,[D@7f2896f4,[D@1c2cfa94,true), (14,[D@1d53b79,[D@104375fe,true), (15,[D@2be7de34,[D@50647986,true), (16,[D@78428e00,[D@73a5e873,true), (17,[D@66a68e4d,[D@157d6356,true), (18,[D@7923dd77,[D@25994450,true), (19,[D@771f7248,[D@986c8..."
        },
        {
          "metadata" : { },
          "data" : {
            "text/html" : ""
          },
          "output_type" : "execute_result",
          "execution_count" : 5,
          "time" : "Took: 3.278s, at 2018-04-08 21:15"
        }
      ]
    },
    {
      "metadata" : {
        "id" : "030F244A243C4E4E95D2FFC1F47E401B"
      },
      "cell_type" : "markdown",
      "source" : "# Plot results"
    },
    {
      "metadata" : {
        "trusted" : true,
        "input_collapsed" : false,
        "collapsed" : false,
        "id" : "912B4DEBDCB34A83AB29BD29C10EC063"
      },
      "cell_type" : "code",
      "source" : [
        "val toPlotFlat = gradientAscentDataFlat.map(_._3).toArray\n",
        "val toPlotGaussian = gradientAscentDataGaussian.map(_._3).toArray\n",
        "val toPlotKNN = gradientAscentDataKNN.map(_._3).toArray\n",
        "val toPlotSigmoid = gradientAscentDataSigmoid.map(_._3).toArray\n",
        "plot(toPlotFlat, labels, '.', Palette.COLORS)\n",
        "plot(toPlotGaussian, labels, '.', Palette.COLORS)\n",
        "plot(toPlotKNN, labels, '.', Palette.COLORS)\n",
        "plot(toPlotSigmoid, labels, '.', Palette.COLORS)"
      ],
      "outputs" : [
        {
          "name" : "stdout",
          "output_type" : "stream",
          "text" : "toPlotFlat: Array[Array[Double]] = Array(Array(15.55, 28.65), Array(13.830000000000002, 28.23), Array(13.830000000000002, 28.23), Array(13.925, 28.4125), Array(13.830000000000002, 28.23), Array(13.830000000000002, 28.23), Array(12.65, 28.5), Array(13.15, 27.839999999999996), Array(13.149999999999999, 26.316666666666666), Array(12.8875, 27.3), Array(12.425, 28.0625), Array(12.062500000000002, 28.225), Array(12.65, 28.5), Array(13.175, 25.525), Array(13.2125, 26.0125), Array(13.062499999999998, 26.575), Array(11.43, 26.640000000000004), Array(11.0, 28.03), Array(11.0, 28.03), Array(11.033333333333333, 27.316666666666674), Array(10.82, 27.74), Array(11.0, 28.03), Array(9.783333333333333, 28.2), Array(10.2625, 27.1875), Array(11.033333333333333, 27.316666666666674), Array(11.43, 26.64000000..."
        },
        {
          "metadata" : { },
          "data" : {
            "text/html" : "Window(javax.swing.JFrame[frame0,460,53,1000x1000,layout=java.awt.BorderLayout,title=Smile Plot 4,resizable,normal,defaultCloseOperation=DISPOSE_ON_CLOSE,rootPane=javax.swing.JRootPane[,0,34,1000x966,layout=javax.swing.JRootPane$RootLayout,alignmentX=0.0,alignmentY=0.0,border=,flags=16777673,maximumSize=,minimumSize=,preferredSize=],rootPaneCheckingEnabled=true],smile.plot.PlotCanvas[,0,0,1000x966,layout=java.awt.BorderLayout,alignmentX=0.0,alignmentY=0.0,border=,flags=9,maximumSize=,minimumSize=,preferredSize=])"
          },
          "output_type" : "execute_result",
          "execution_count" : 6,
          "time" : "Took: 1.996s, at 2018-04-08 21:15"
        }
      ]
    }
  ],
  "nbformat" : 4
}